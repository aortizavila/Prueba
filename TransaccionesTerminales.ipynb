{
 "cells": [
  {
   "cell_type": "markdown",
   "metadata": {},
   "source": [
    "<h1><center>Predicción volumen transaccional Entidad Bancaría.</center></h1>\n",
    "\n",
    "<p style=\"text-align: justify;\">Una entidad bancaria desea anticipar el volumen de transacciones por operación que ocurrirán en\n",
    "una ventana de tiempo de 15 días. Para llevar esta tarea a cabo se cuenta con la información de las\n",
    "operaciones realizadas en las diferentes terminales por un periodo de 4 meses.  \n",
    "El objetivo es utilizar estos datos para proporcionar a la entidad un entendimiento del\n",
    "comportamiento del volumen de transacciones por operación y por terminal, y generar\n",
    "recomendaciones que permitan soportar decisiones que optimicen la utilización de los terminales.</p>\n",
    "\n",
    "## Se realizaran los siguientes pasos:\n",
    "\n",
    "1. Exploración de datos.\n",
    "    \n",
    "    \n",
    "2. Selección de las 5 terminales y los 5 tipos de opearación.\n",
    "    \n",
    "\n",
    "3. Análisis de series temporales.\n",
    "    - Tendendia.\n",
    "    - Estacionalidad.\n",
    "    - Anomalías en la serie. \n",
    "\n",
    "\n",
    "4. Construcción de modelos de series temporales.\n",
    "    - Modelos Clásicos.\n",
    "    - Modelos supervisados:  \n",
    "        -Red Neuronal Monocapa.  \n",
    "        -XGBoots.  \n",
    "        -Series de tiempo multivariadas con Redes Neuronales.\n",
    "\n",
    "## Objetivo:\n",
    "\n",
    "<p style=\"text-align: justify;\">Construir un modelo predictivo que pueda ser utilizado para estimar la demanda diaria por\n",
    "operación en cada terminal para una ventana de tiempo de 15 días siguientes a la última\n",
    "fecha reportada en la base de información.</p>"
   ]
  },
  {
   "cell_type": "markdown",
   "metadata": {},
   "source": [
    "# Importando datos y librerias."
   ]
  },
  {
   "cell_type": "code",
   "execution_count": 1,
   "metadata": {},
   "outputs": [],
   "source": [
    "import pandas as pd\n",
    "import seaborn as sns\n",
    "import ipywidgets as widgets\n",
    "import numpy as np\n",
    "from ipywidgets import interact, interact_manual\n",
    "import matplotlib.pyplot as plt\n",
    "from matplotlib.ticker import PercentFormatter\n",
    "from sklearn.metrics import mean_absolute_error\n",
    "from sklearn.metrics import mean_squared_error\n",
    "from sklearn.preprocessing import StandardScaler\n",
    "import statsmodels.formula.api as smf  \n",
    "import statsmodels.tsa.api as smt\n",
    "import statsmodels.api as sm\n",
    "import scipy.stats as scs\n",
    "from itertools import product  \n",
    "from tqdm import tqdm_notebook\n",
    "import warnings\n",
    "warnings.filterwarnings(\"ignore\")\n",
    "import sys  \n",
    "sys.path.insert(0, '/home/anaconda/venv/lib/python3.7/site-packages')\n",
    "from tensorflow.keras.models import Sequential\n",
    "from tensorflow.keras.layers import Dense, LSTM, Dropout, RepeatVector, TimeDistributed \n",
    "import tensorflow as tf\n",
    "from sklearn.preprocessing import MinMaxScaler\n",
    "import math\n",
    "import xgboost as xg\n",
    "import json"
   ]
  },
  {
   "cell_type": "code",
   "execution_count": 2,
   "metadata": {},
   "outputs": [],
   "source": [
    "data=pd.read_csv('data_01.txt',sep='\\t')"
   ]
  },
  {
   "cell_type": "code",
   "execution_count": 3,
   "metadata": {},
   "outputs": [
    {
     "data": {
      "text/html": [
       "<div>\n",
       "<style scoped>\n",
       "    .dataframe tbody tr th:only-of-type {\n",
       "        vertical-align: middle;\n",
       "    }\n",
       "\n",
       "    .dataframe tbody tr th {\n",
       "        vertical-align: top;\n",
       "    }\n",
       "\n",
       "    .dataframe thead th {\n",
       "        text-align: right;\n",
       "    }\n",
       "</style>\n",
       "<table border=\"1\" class=\"dataframe\">\n",
       "  <thead>\n",
       "    <tr style=\"text-align: right;\">\n",
       "      <th></th>\n",
       "      <th>fecha</th>\n",
       "      <th>idTerminal</th>\n",
       "      <th>oper</th>\n",
       "    </tr>\n",
       "  </thead>\n",
       "  <tbody>\n",
       "    <tr>\n",
       "      <th>0</th>\n",
       "      <td>2017-01-31 08:19:33.000</td>\n",
       "      <td>1828</td>\n",
       "      <td>0</td>\n",
       "    </tr>\n",
       "    <tr>\n",
       "      <th>1</th>\n",
       "      <td>2017-01-31 08:47:16.000</td>\n",
       "      <td>1828</td>\n",
       "      <td>1</td>\n",
       "    </tr>\n",
       "    <tr>\n",
       "      <th>2</th>\n",
       "      <td>2017-01-31 08:48:07.000</td>\n",
       "      <td>1828</td>\n",
       "      <td>1</td>\n",
       "    </tr>\n",
       "    <tr>\n",
       "      <th>3</th>\n",
       "      <td>2017-01-31 08:48:58.000</td>\n",
       "      <td>1828</td>\n",
       "      <td>1</td>\n",
       "    </tr>\n",
       "    <tr>\n",
       "      <th>4</th>\n",
       "      <td>2017-01-31 08:49:53.000</td>\n",
       "      <td>1828</td>\n",
       "      <td>1</td>\n",
       "    </tr>\n",
       "  </tbody>\n",
       "</table>\n",
       "</div>"
      ],
      "text/plain": [
       "                     fecha  idTerminal  oper\n",
       "0  2017-01-31 08:19:33.000        1828     0\n",
       "1  2017-01-31 08:47:16.000        1828     1\n",
       "2  2017-01-31 08:48:07.000        1828     1\n",
       "3  2017-01-31 08:48:58.000        1828     1\n",
       "4  2017-01-31 08:49:53.000        1828     1"
      ]
     },
     "execution_count": 3,
     "metadata": {},
     "output_type": "execute_result"
    }
   ],
   "source": [
    "data.head()"
   ]
  },
  {
   "cell_type": "code",
   "execution_count": 4,
   "metadata": {},
   "outputs": [
    {
     "data": {
      "text/plain": [
       "fecha         object\n",
       "idTerminal     int64\n",
       "oper           int64\n",
       "dtype: object"
      ]
     },
     "execution_count": 4,
     "metadata": {},
     "output_type": "execute_result"
    }
   ],
   "source": [
    "data.dtypes"
   ]
  },
  {
   "cell_type": "markdown",
   "metadata": {},
   "source": [
    "#### Se procede a hacer un ajuste en los tipos de datos y a crear variables de interes para realizar los respectivos análisis."
   ]
  },
  {
   "cell_type": "code",
   "execution_count": 5,
   "metadata": {},
   "outputs": [],
   "source": [
    "data['fecha']= pd.to_datetime(data['fecha'])\n",
    "data['idTerminal']=data['idTerminal'].astype('str')\n",
    "data['oper']=data['oper'].astype('str')\n",
    "data['YYMMDD']=pd.to_datetime(data['fecha'].dt.strftime('%Y-%m-%d'))\n",
    "data['dia_semana']=data['fecha'].dt.day_name()"
   ]
  },
  {
   "cell_type": "code",
   "execution_count": 6,
   "metadata": {},
   "outputs": [
    {
     "data": {
      "text/plain": [
       "fecha         datetime64[ns]\n",
       "idTerminal            object\n",
       "oper                  object\n",
       "YYMMDD        datetime64[ns]\n",
       "dia_semana            object\n",
       "dtype: object"
      ]
     },
     "execution_count": 6,
     "metadata": {},
     "output_type": "execute_result"
    }
   ],
   "source": [
    "data.dtypes"
   ]
  },
  {
   "cell_type": "code",
   "execution_count": 7,
   "metadata": {},
   "outputs": [
    {
     "data": {
      "text/html": [
       "<div>\n",
       "<style scoped>\n",
       "    .dataframe tbody tr th:only-of-type {\n",
       "        vertical-align: middle;\n",
       "    }\n",
       "\n",
       "    .dataframe tbody tr th {\n",
       "        vertical-align: top;\n",
       "    }\n",
       "\n",
       "    .dataframe thead th {\n",
       "        text-align: right;\n",
       "    }\n",
       "</style>\n",
       "<table border=\"1\" class=\"dataframe\">\n",
       "  <thead>\n",
       "    <tr style=\"text-align: right;\">\n",
       "      <th></th>\n",
       "      <th>fecha</th>\n",
       "      <th>idTerminal</th>\n",
       "      <th>oper</th>\n",
       "      <th>YYMMDD</th>\n",
       "      <th>dia_semana</th>\n",
       "    </tr>\n",
       "  </thead>\n",
       "  <tbody>\n",
       "    <tr>\n",
       "      <th>0</th>\n",
       "      <td>2017-01-31 08:19:33</td>\n",
       "      <td>1828</td>\n",
       "      <td>0</td>\n",
       "      <td>2017-01-31</td>\n",
       "      <td>Tuesday</td>\n",
       "    </tr>\n",
       "    <tr>\n",
       "      <th>1</th>\n",
       "      <td>2017-01-31 08:47:16</td>\n",
       "      <td>1828</td>\n",
       "      <td>1</td>\n",
       "      <td>2017-01-31</td>\n",
       "      <td>Tuesday</td>\n",
       "    </tr>\n",
       "    <tr>\n",
       "      <th>2</th>\n",
       "      <td>2017-01-31 08:48:07</td>\n",
       "      <td>1828</td>\n",
       "      <td>1</td>\n",
       "      <td>2017-01-31</td>\n",
       "      <td>Tuesday</td>\n",
       "    </tr>\n",
       "    <tr>\n",
       "      <th>3</th>\n",
       "      <td>2017-01-31 08:48:58</td>\n",
       "      <td>1828</td>\n",
       "      <td>1</td>\n",
       "      <td>2017-01-31</td>\n",
       "      <td>Tuesday</td>\n",
       "    </tr>\n",
       "    <tr>\n",
       "      <th>4</th>\n",
       "      <td>2017-01-31 08:49:53</td>\n",
       "      <td>1828</td>\n",
       "      <td>1</td>\n",
       "      <td>2017-01-31</td>\n",
       "      <td>Tuesday</td>\n",
       "    </tr>\n",
       "  </tbody>\n",
       "</table>\n",
       "</div>"
      ],
      "text/plain": [
       "                fecha idTerminal oper     YYMMDD dia_semana\n",
       "0 2017-01-31 08:19:33       1828    0 2017-01-31    Tuesday\n",
       "1 2017-01-31 08:47:16       1828    1 2017-01-31    Tuesday\n",
       "2 2017-01-31 08:48:07       1828    1 2017-01-31    Tuesday\n",
       "3 2017-01-31 08:48:58       1828    1 2017-01-31    Tuesday\n",
       "4 2017-01-31 08:49:53       1828    1 2017-01-31    Tuesday"
      ]
     },
     "execution_count": 7,
     "metadata": {},
     "output_type": "execute_result"
    }
   ],
   "source": [
    "data.head()"
   ]
  },
  {
   "cell_type": "markdown",
   "metadata": {},
   "source": [
    "# Supuestos:\n",
    "\n",
    "- El volumen de transacciones por día: Corresponde al conteo de registros agrupados por día.\n",
    "- El volumen de transacciones por día y por terminal: Corresponde al conteo de registros agrupados por día y por terminal.\n",
    "- El volumen de transacciones por día y por tipo de operación: Corresponde al conteo de registros agrupados por día y por tipo de operación.\n",
    "- El volumen de transacciones por día, por terminal y por tipo de operación: Corresponde al conteo de registros agrupados por día, por terminal y por tipo de operación.\n",
    "- Missing value: Día en que no se realizó ningún tipo de transacción. El valor de volumen de transacciones para días perdidos es 0."
   ]
  },
  {
   "cell_type": "markdown",
   "metadata": {},
   "source": [
    "# 1. Exploración de datos."
   ]
  },
  {
   "cell_type": "markdown",
   "metadata": {},
   "source": [
    "En este paso se va a vericar los valores que se tienen en los datos y si por diferentes agrupaciones de interes se tienen missing values."
   ]
  },
  {
   "cell_type": "markdown",
   "metadata": {},
   "source": [
    "## Missing values de forma general "
   ]
  },
  {
   "cell_type": "code",
   "execution_count": 8,
   "metadata": {},
   "outputs": [
    {
     "name": "stdout",
     "output_type": "stream",
     "text": [
      "<class 'pandas.core.frame.DataFrame'>\n",
      "RangeIndex: 775466 entries, 0 to 775465\n",
      "Data columns (total 5 columns):\n",
      " #   Column      Non-Null Count   Dtype         \n",
      "---  ------      --------------   -----         \n",
      " 0   fecha       775466 non-null  datetime64[ns]\n",
      " 1   idTerminal  775466 non-null  object        \n",
      " 2   oper        775466 non-null  object        \n",
      " 3   YYMMDD      775466 non-null  datetime64[ns]\n",
      " 4   dia_semana  775466 non-null  object        \n",
      "dtypes: datetime64[ns](2), object(3)\n",
      "memory usage: 29.6+ MB\n"
     ]
    }
   ],
   "source": [
    "data.info()"
   ]
  },
  {
   "cell_type": "markdown",
   "metadata": {},
   "source": [
    "#### La información de manera general no tiene valores null en ninguno de sus campos. Se debe verificar para diferentes agrupaciónes de la información."
   ]
  },
  {
   "cell_type": "markdown",
   "metadata": {},
   "source": [
    "## Missing values agrupados por día y por tipo de operación."
   ]
  },
  {
   "cell_type": "code",
   "execution_count": 9,
   "metadata": {},
   "outputs": [
    {
     "name": "stdout",
     "output_type": "stream",
     "text": [
      "<class 'pandas.core.frame.DataFrame'>\n",
      "Int64Index: 121 entries, 0 to 120\n",
      "Data columns (total 47 columns):\n",
      " #   Column  Non-Null Count  Dtype         \n",
      "---  ------  --------------  -----         \n",
      " 0   YYMMDD  121 non-null    datetime64[ns]\n",
      " 1   0       121 non-null    float64       \n",
      " 2   1       121 non-null    float64       \n",
      " 3   10      121 non-null    float64       \n",
      " 4   11      82 non-null     float64       \n",
      " 5   12      121 non-null    float64       \n",
      " 6   13      116 non-null    float64       \n",
      " 7   14      121 non-null    float64       \n",
      " 8   15      92 non-null     float64       \n",
      " 9   16      92 non-null     float64       \n",
      " 10  17      21 non-null     float64       \n",
      " 11  18      84 non-null     float64       \n",
      " 12  19      116 non-null    float64       \n",
      " 13  2       121 non-null    float64       \n",
      " 14  20      59 non-null     float64       \n",
      " 15  21      117 non-null    float64       \n",
      " 16  22      25 non-null     float64       \n",
      " 17  23      99 non-null     float64       \n",
      " 18  24      53 non-null     float64       \n",
      " 19  25      95 non-null     float64       \n",
      " 20  26      109 non-null    float64       \n",
      " 21  27      11 non-null     float64       \n",
      " 22  28      65 non-null     float64       \n",
      " 23  29      20 non-null     float64       \n",
      " 24  3       121 non-null    float64       \n",
      " 25  30      3 non-null      float64       \n",
      " 26  31      43 non-null     float64       \n",
      " 27  32      18 non-null     float64       \n",
      " 28  33      1 non-null      float64       \n",
      " 29  34      21 non-null     float64       \n",
      " 30  35      15 non-null     float64       \n",
      " 31  36      22 non-null     float64       \n",
      " 32  37      5 non-null      float64       \n",
      " 33  38      13 non-null     float64       \n",
      " 34  39      18 non-null     float64       \n",
      " 35  4       121 non-null    float64       \n",
      " 36  40      5 non-null      float64       \n",
      " 37  41      14 non-null     float64       \n",
      " 38  42      5 non-null      float64       \n",
      " 39  43      2 non-null      float64       \n",
      " 40  44      3 non-null      float64       \n",
      " 41  45      1 non-null      float64       \n",
      " 42  5       121 non-null    float64       \n",
      " 43  6       121 non-null    float64       \n",
      " 44  7       121 non-null    float64       \n",
      " 45  8       121 non-null    float64       \n",
      " 46  9       121 non-null    float64       \n",
      "dtypes: datetime64[ns](1), float64(46)\n",
      "memory usage: 45.4 KB\n"
     ]
    }
   ],
   "source": [
    "pivot_table = pd.pivot_table(data,values='idTerminal',index='YYMMDD',columns='oper', aggfunc='count')\n",
    "pivot_table.reset_index(inplace=True)\n",
    "pivot_table=pivot_table.sort_values(by='YYMMDD', ascending=True)\n",
    "pivot_table.info()"
   ]
  },
  {
   "cell_type": "markdown",
   "metadata": {},
   "source": [
    "#### En este caso se puede observar que hay tipos de operación que no se realizan todos los días. Podemos generar una lista dinámica que permita filtrar por terminal aquellos tipos de operaciones que no realizan transacciones todos los días."
   ]
  },
  {
   "cell_type": "code",
   "execution_count": 40,
   "metadata": {},
   "outputs": [
    {
     "data": {
      "application/vnd.jupyter.widget-view+json": {
       "model_id": "6d0dce15be0941eb951c0d6e0f39c055",
       "version_major": 2,
       "version_minor": 0
      },
      "text/plain": [
       "interactive(children=(Dropdown(description='idTerminal', options=('1828', '1593', '1746', '1759', '1882', '191…"
      ]
     },
     "metadata": {},
     "output_type": "display_data"
    }
   ],
   "source": [
    "@interact\n",
    "def missin_values(idTerminal=data['idTerminal'].unique()):\n",
    "    info = data[data['idTerminal']==idTerminal]\n",
    "    pivot_table = pd.pivot_table(info,values='idTerminal',index='YYMMDD',columns='oper', aggfunc='count')\n",
    "    pivot_table.reset_index(inplace=True)\n",
    "    pivot_table=pivot_table.sort_values(by='YYMMDD', ascending=True)\n",
    "    return 'El tipo de operación ' + pivot_table.columns[pivot_table.isnull().any()]+' tienen missing values'\n",
    "\n"
   ]
  },
  {
   "cell_type": "markdown",
   "metadata": {},
   "source": [
    "## Missing values agrupados por día y por terminal."
   ]
  },
  {
   "cell_type": "code",
   "execution_count": 11,
   "metadata": {},
   "outputs": [
    {
     "name": "stdout",
     "output_type": "stream",
     "text": [
      "<class 'pandas.core.frame.DataFrame'>\n",
      "Int64Index: 121 entries, 0 to 120\n",
      "Data columns (total 48 columns):\n",
      " #   Column  Non-Null Count  Dtype         \n",
      "---  ------  --------------  -----         \n",
      " 0   YYMMDD  121 non-null    datetime64[ns]\n",
      " 1   1507    121 non-null    float64       \n",
      " 2   1515    46 non-null     float64       \n",
      " 3   1537    120 non-null    float64       \n",
      " 4   1574    121 non-null    float64       \n",
      " 5   1575    121 non-null    float64       \n",
      " 6   1577    120 non-null    float64       \n",
      " 7   1582    121 non-null    float64       \n",
      " 8   1593    121 non-null    float64       \n",
      " 9   1594    119 non-null    float64       \n",
      " 10  1597    104 non-null    float64       \n",
      " 11  1741    121 non-null    float64       \n",
      " 12  1746    121 non-null    float64       \n",
      " 13  1759    120 non-null    float64       \n",
      " 14  1772    121 non-null    float64       \n",
      " 15  1774    121 non-null    float64       \n",
      " 16  1805    121 non-null    float64       \n",
      " 17  1816    120 non-null    float64       \n",
      " 18  1824    121 non-null    float64       \n",
      " 19  1827    121 non-null    float64       \n",
      " 20  1828    109 non-null    float64       \n",
      " 21  1864    120 non-null    float64       \n",
      " 22  1875    120 non-null    float64       \n",
      " 23  1882    121 non-null    float64       \n",
      " 24  1896    116 non-null    float64       \n",
      " 25  1908    121 non-null    float64       \n",
      " 26  1910    121 non-null    float64       \n",
      " 27  1919    121 non-null    float64       \n",
      " 28  1922    120 non-null    float64       \n",
      " 29  1928    121 non-null    float64       \n",
      " 30  1929    120 non-null    float64       \n",
      " 31  1944    121 non-null    float64       \n",
      " 32  1946    121 non-null    float64       \n",
      " 33  1953    119 non-null    float64       \n",
      " 34  1963    67 non-null     float64       \n",
      " 35  1964    120 non-null    float64       \n",
      " 36  1971    120 non-null    float64       \n",
      " 37  1973    120 non-null    float64       \n",
      " 38  1980    121 non-null    float64       \n",
      " 39  1981    121 non-null    float64       \n",
      " 40  1986    117 non-null    float64       \n",
      " 41  1987    121 non-null    float64       \n",
      " 42  1991    119 non-null    float64       \n",
      " 43  1993    121 non-null    float64       \n",
      " 44  1994    116 non-null    float64       \n",
      " 45  1995    121 non-null    float64       \n",
      " 46  1996    121 non-null    float64       \n",
      " 47  1997    121 non-null    float64       \n",
      "dtypes: datetime64[ns](1), float64(47)\n",
      "memory usage: 46.3 KB\n"
     ]
    }
   ],
   "source": [
    "pivot_table = pd.pivot_table(data,values='oper',index='YYMMDD',columns='idTerminal', aggfunc='count')\n",
    "pivot_table.reset_index(inplace=True)\n",
    "pivot_table=pivot_table.sort_values(by='YYMMDD', ascending=True)\n",
    "pivot_table.info()"
   ]
  },
  {
   "cell_type": "markdown",
   "metadata": {},
   "source": [
    "#### En este caso se puede observar que hay terminales que no realizan transacciones todos los días. Podemos generar una lista dinámica que permita filtrar por tipo de operación aquellas terminales que no realizan transacciones todos los días."
   ]
  },
  {
   "cell_type": "code",
   "execution_count": 41,
   "metadata": {},
   "outputs": [
    {
     "data": {
      "application/vnd.jupyter.widget-view+json": {
       "model_id": "b5e0000cb9b345659b4e21ef274f4377",
       "version_major": 2,
       "version_minor": 0
      },
      "text/plain": [
       "interactive(children=(Dropdown(description='Tipo_Operacion', options=('0', '1', '2', '3', '4', '5', '6', '7', …"
      ]
     },
     "metadata": {},
     "output_type": "display_data"
    }
   ],
   "source": [
    "@interact\n",
    "def missing_values_(Tipo_Operacion=data['oper'].unique()):\n",
    "    info = data[data['oper']==Tipo_Operacion]\n",
    "    pivot_table = pd.pivot_table(info,values='oper',index='YYMMDD',columns='idTerminal', aggfunc='count')\n",
    "    pivot_table.reset_index(inplace=True)\n",
    "    pivot_table=pivot_table.sort_values(by='YYMMDD', ascending=True)\n",
    "    return 'La terminal ' + pivot_table.columns[pivot_table.isnull().any()]+' tienen missing values'\n"
   ]
  },
  {
   "cell_type": "markdown",
   "metadata": {},
   "source": [
    "#### De acuerdo a la información anterior concluimos que no todas las terminales hacen transacciones todos los días y que no todos los tipos de operación se realican todos los días. Esto sugiere que podemos realizar una matriz de terminales vs tipos de operación, para identificar el comportamiento díario de los tipos de operación por terminal y mirar cuales son las que más días tiene faltantes o que las transacciones son 0."
   ]
  },
  {
   "cell_type": "markdown",
   "metadata": {},
   "source": [
    "# 2. Selección de las 5 terminales y los 5 tipos de opearación."
   ]
  },
  {
   "cell_type": "markdown",
   "metadata": {},
   "source": [
    "## Construcción matriz de terminales versus tipos de operación, contando días faltantes (días en que el volumen de transacciones es 0)."
   ]
  },
  {
   "cell_type": "code",
   "execution_count": 13,
   "metadata": {},
   "outputs": [
    {
     "data": {
      "image/png": "[encoded data removed]",
      "text/plain": [
       "<Figure size 1296x1080 with 2 Axes>"
      ]
     },
     "metadata": {},
     "output_type": "display_data"
    }
   ],
   "source": [
    "sns.set(rc={'figure.figsize':(18,15)})\n",
    "pivot_table_ = pd.pivot_table(data,values='dia_semana',index=['YYMMDD','idTerminal'],columns='oper', aggfunc='count')\n",
    "pivot_table_[pivot_table_>0]=0\n",
    "pivot_table_.fillna(1,inplace=True)\n",
    "pivot_table_.reset_index(inplace=True)\n",
    "pivot_table_.drop(columns=['YYMMDD'],inplace=True)\n",
    "dicts = {}\n",
    "keys = pivot_table_.columns[1:]\n",
    "values=['sum' for a in range(1,len(pivot_table_.columns[1:]))]\n",
    "for i in keys:\n",
    "    for x in values:\n",
    "        dicts[i] = x\n",
    "pivot_table_=pivot_table_.groupby('idTerminal').agg(dicts)\n",
    "ax = sns.heatmap(pivot_table_, annot=False,cbar_kws={'label': 'Días Faltantes'})\n",
    "plt.title('Días Faltantes por Terminal y por Tipo de Operación', fontsize = 20)\n",
    "plt.xlabel('Tipo de Operación', fontsize = 15)\n",
    "plt.ylabel('idTerminal', fontsize = 15)\n",
    "plt.show()\n"
   ]
  },
  {
   "cell_type": "markdown",
   "metadata": {},
   "source": [
    "#### La matriz indica que son pocos los tipos de operación que realmente se realizan casi de manera diaria. Al contrarío de las terminales que realizan transacciones de manera similar todos los días por tipo de operación, aunque hay 4 terminales (1515, 1597, 1828, 1963) que tienen menos días faltantes (días en que la cantidad de transacciones es 0 por tipo de operación). Esta matríz se puede reforzar con unos gráficos de pareto para verificar si hay tipos de transacción que concentren mas cantidad de transacciones al igual que si hay terminales que concentren más transacciones que otras. Antes de realizar los gráficos se mirará la relación del tipo de operación por cantidad de transacciones."
   ]
  },
  {
   "cell_type": "markdown",
   "metadata": {},
   "source": [
    "## Relación de la cantidad de transacciones con el tipo de operación. Validación de la distribución de los datos por tipo de operación y si cada una tiene outliers"
   ]
  },
  {
   "cell_type": "code",
   "execution_count": 14,
   "metadata": {},
   "outputs": [
    {
     "data": {
      "text/html": [
       "<div>\n",
       "<style scoped>\n",
       "    .dataframe tbody tr th:only-of-type {\n",
       "        vertical-align: middle;\n",
       "    }\n",
       "\n",
       "    .dataframe tbody tr th {\n",
       "        vertical-align: top;\n",
       "    }\n",
       "\n",
       "    .dataframe thead th {\n",
       "        text-align: right;\n",
       "    }\n",
       "</style>\n",
       "<table border=\"1\" class=\"dataframe\">\n",
       "  <thead>\n",
       "    <tr style=\"text-align: right;\">\n",
       "      <th></th>\n",
       "      <th>YYMMDD</th>\n",
       "      <th>oper</th>\n",
       "      <th>Cantidad Transacciones</th>\n",
       "    </tr>\n",
       "  </thead>\n",
       "  <tbody>\n",
       "    <tr>\n",
       "      <th>0</th>\n",
       "      <td>2017-01-31</td>\n",
       "      <td>0</td>\n",
       "      <td>3329</td>\n",
       "    </tr>\n",
       "    <tr>\n",
       "      <th>1</th>\n",
       "      <td>2017-01-31</td>\n",
       "      <td>1</td>\n",
       "      <td>700</td>\n",
       "    </tr>\n",
       "    <tr>\n",
       "      <th>2</th>\n",
       "      <td>2017-01-31</td>\n",
       "      <td>10</td>\n",
       "      <td>46</td>\n",
       "    </tr>\n",
       "    <tr>\n",
       "      <th>3</th>\n",
       "      <td>2017-01-31</td>\n",
       "      <td>11</td>\n",
       "      <td>1</td>\n",
       "    </tr>\n",
       "    <tr>\n",
       "      <th>4</th>\n",
       "      <td>2017-01-31</td>\n",
       "      <td>12</td>\n",
       "      <td>8</td>\n",
       "    </tr>\n",
       "  </tbody>\n",
       "</table>\n",
       "</div>"
      ],
      "text/plain": [
       "      YYMMDD oper  Cantidad Transacciones\n",
       "0 2017-01-31    0                    3329\n",
       "1 2017-01-31    1                     700\n",
       "2 2017-01-31   10                      46\n",
       "3 2017-01-31   11                       1\n",
       "4 2017-01-31   12                       8"
      ]
     },
     "execution_count": 14,
     "metadata": {},
     "output_type": "execute_result"
    }
   ],
   "source": [
    "tabla = data.groupby(['YYMMDD','oper']).agg({'idTerminal':'count'})\n",
    "tabla.rename(columns={'idTerminal':'Cantidad Transacciones'},inplace=True)\n",
    "tabla.reset_index(inplace=True)\n",
    "tabla.head()"
   ]
  },
  {
   "cell_type": "code",
   "execution_count": 15,
   "metadata": {},
   "outputs": [
    {
     "data": {
      "text/plain": [
       "Text(0.5, 1.0, 'Boxplot Cantidad de transacciones Tipo de Operación')"
      ]
     },
     "execution_count": 15,
     "metadata": {},
     "output_type": "execute_result"
    },
    {
     "data": {
      "image/png": "[encoded data removed]",
      "text/plain": [
       "<Figure size 1296x1080 with 1 Axes>"
      ]
     },
     "metadata": {},
     "output_type": "display_data"
    }
   ],
   "source": [
    "sns.boxplot(x='oper', y='Cantidad Transacciones',data=tabla)\n",
    "plt.xlabel('Tipo de Operación', fontsize = 15)\n",
    "plt.ylabel('Cantidad de Transacciones', fontsize = 15)\n",
    "plt.title('Boxplot Cantidad de transacciones Tipo de Operación', fontsize = 20)"
   ]
  },
  {
   "cell_type": "markdown",
   "metadata": {},
   "source": [
    "#### Se identifica una concentración de valumen de transacciones en 6 o 7 tipos de operación. También se identifican que son pocos los valores atípicos por tipo de operación, es decir son pocos los días que salen del comportamiento normal de la serie de tiempo."
   ]
  },
  {
   "cell_type": "markdown",
   "metadata": {},
   "source": [
    "# Construcción de gráficas de pareto para terminales y tipo de operaciones."
   ]
  },
  {
   "cell_type": "code",
   "execution_count": 16,
   "metadata": {},
   "outputs": [],
   "source": [
    "data1 = data.groupby('oper').agg({'idTerminal':'count'})\n",
    "data2 = data.groupby('idTerminal').agg({'oper':'count'})\n",
    "data1.rename(columns={'idTerminal':'Cantidad de Transacciones'},inplace=True)\n",
    "data2.rename(columns={'oper':'Cantidad de Transacciones'},inplace=True)"
   ]
  },
  {
   "cell_type": "code",
   "execution_count": 17,
   "metadata": {},
   "outputs": [
    {
     "data": {
      "image/png": "[encoded data removed]",
      "text/plain": [
       "<Figure size 1296x1080 with 2 Axes>"
      ]
     },
     "metadata": {},
     "output_type": "display_data"
    }
   ],
   "source": [
    "data1 = data1.sort_values(by='Cantidad de Transacciones',ascending=False)\n",
    "data1[\"Porcentaje\"] = data1[\"Cantidad de Transacciones\"].cumsum()/data1[\"Cantidad de Transacciones\"].sum()*100\n",
    "\n",
    "fig, ax = plt.subplots()\n",
    "ax.bar(data1.index, data1[\"Cantidad de Transacciones\"], color=\"C0\")\n",
    "ax2 = ax.twinx()\n",
    "ax2.plot(data1.index, data1[\"Porcentaje\"], color=\"C1\", marker=\"D\", ms=7)\n",
    "ax2.yaxis.set_major_formatter(PercentFormatter())\n",
    "\n",
    "ax.tick_params(axis=\"y\", colors=\"C0\")\n",
    "ax2.tick_params(axis=\"y\", colors=\"C1\")\n",
    "plt.title('Pareto de Cantidad de Transacciones por Tipo de Operación',fontsize = 20)\n",
    "plt.show()"
   ]
  },
  {
   "cell_type": "code",
   "execution_count": 18,
   "metadata": {},
   "outputs": [
    {
     "data": {
      "image/png": "[encoded data removed]",
      "text/plain": [
       "<Figure size 1296x1080 with 2 Axes>"
      ]
     },
     "metadata": {},
     "output_type": "display_data"
    }
   ],
   "source": [
    "data2 = data2.sort_values(by='Cantidad de Transacciones',ascending=False)\n",
    "data2[\"Porcentaje\"] = data2[\"Cantidad de Transacciones\"].cumsum()/data2[\"Cantidad de Transacciones\"].sum()*100\n",
    "\n",
    "fig, ax = plt.subplots()\n",
    "ax.bar(data2.index, data2[\"Cantidad de Transacciones\"], color=\"C0\")\n",
    "plt.xticks(rotation='vertical')\n",
    "ax2 = ax.twinx()\n",
    "ax2.plot(data2.index, data2[\"Porcentaje\"], color=\"C1\", marker=\"D\", ms=7)\n",
    "ax2.yaxis.set_major_formatter(PercentFormatter())\n",
    "\n",
    "ax.tick_params(axis=\"y\", colors=\"C0\")\n",
    "ax2.tick_params(axis=\"y\", colors=\"C1\")\n",
    "plt.title('Pareto de Cantidad de Transacciones por Terminal',fontsize = 20)\n",
    "plt.ylabel('Cantidad de Transacciones', fontsize = 15)\n",
    "plt.show()"
   ]
  },
  {
   "cell_type": "markdown",
   "metadata": {},
   "source": [
    "#### Selección de terminales y tipos de operación.\n",
    "\n",
    "La selección de los tipos de operación se hace basado en que solo son 6 las terminales con las que se logra el 90% del volumen transaccional de la entidad bancaria. Por lo tanto al elegir los 5 primeros tipos de operación de la gráfica de pareto 1, estamos asegurando trabajar o predecir el 90% del volumen transaccional. \n",
    "\n",
    "La selección de las terminales no es tan diciente como en el gráfico de pareto por tipo de operación, pero al igual que este, se van a tomas los 5 más representativos en volumen transacional."
   ]
  },
  {
   "cell_type": "markdown",
   "metadata": {},
   "source": [
    "# 3. Analisis de series de tiempo elegidas"
   ]
  },
  {
   "cell_type": "markdown",
   "metadata": {},
   "source": [
    "En este paso se analizaran las 10 series de tiempo elegidas, para identificar sus caracteríscticas y que sirvan como insumo para la constraucción de diferentes modelos."
   ]
  },
  {
   "cell_type": "code",
   "execution_count": 19,
   "metadata": {},
   "outputs": [],
   "source": [
    "data_series = data.copy()"
   ]
  },
  {
   "cell_type": "markdown",
   "metadata": {},
   "source": [
    "Filtrando por las 5 terminales elegidas y los 5 tipos de operación elegidos."
   ]
  },
  {
   "cell_type": "code",
   "execution_count": 20,
   "metadata": {},
   "outputs": [],
   "source": [
    "operaciones=[a for a in data1.index[0:5].values]\n",
    "terminales=[a for a in data2.index[0:5].values]"
   ]
  },
  {
   "cell_type": "code",
   "execution_count": 21,
   "metadata": {},
   "outputs": [],
   "source": [
    "data_series = data_series[(data_series['oper'].isin(operaciones))&(data_series['idTerminal'].isin(terminales))]\n",
    "data_series.reset_index(inplace=True,drop=True)"
   ]
  },
  {
   "cell_type": "markdown",
   "metadata": {},
   "source": [
    "Se construyen 4 funciones con el siguiente objetivo:\n",
    "\n",
    "- Gráfica de promedios móviles: Permitirá identificar tendencia de la seríe. También se incluye una variación de la ventada temporal que ayudará a identificar posibles comportamientos estacioneales.\n",
    "- Gráficas de auto correlación y autocorrelación parcial: Permitiran ver la relación de la serie temporal con diferentes corrimientos en el tiempo, o desfases temporales e identificar valores pico de autocorrelación.\n",
    "- Grafica de descomposición: Permitirá descomponer o caractarizar la serie de tiempo, como herramienta visual para ver tendencia, estacionalidad, ruido.\n",
    "- Se realiza una prueba de Dickey-Fuller para con un grado de certeza del 95% decir si la serie tiene raiz unitaria y definir si tiene o no estacionalidad y de esta forma usar un modelo ARIMA o SARIMA."
   ]
  },
  {
   "cell_type": "code",
   "execution_count": 22,
   "metadata": {},
   "outputs": [],
   "source": [
    "def plotPromedioMovil(series, window, plot_intervals=False, scale=1.96, \n",
    "                      plot_anomalies=False):\n",
    "\n",
    "    rolling_mean = series.rolling(window=window).mean()\n",
    "\n",
    "    plt.figure(figsize=(15,5))\n",
    "    plt.title(\"Media Movil\\n Tamaño de la ventana = {}\".format(window))\n",
    "    plt.plot(rolling_mean, \"g\", label=\"Tendencia Media Móvil\")\n",
    "\n",
    "    if plot_intervals:\n",
    "        mae = mean_absolute_error(series[window:], rolling_mean[window:])\n",
    "        deviation = np.std(series[window:] - rolling_mean[window:])\n",
    "        lower_bond = rolling_mean - (mae + scale * deviation)\n",
    "        upper_bond = rolling_mean + (mae + scale * deviation)\n",
    "        plt.plot(upper_bond, \"r--\", label=\"Límite Superior / Límite Inferior\")\n",
    "        plt.plot(lower_bond, \"r--\")\n",
    "        \n",
    "        if plot_anomalies:\n",
    "            anomalies = pd.DataFrame(index=series.index, columns=series.columns)\n",
    "            anomalies[series<lower_bond] = series[series<lower_bond]\n",
    "            anomalies[series>upper_bond] = series[series>upper_bond]\n",
    "            plt.plot(anomalies, \"ro\", markersize=10)\n",
    "        \n",
    "    plt.plot(series[window:], label=\"Valores Actuales\")\n",
    "    plt.legend(loc=\"upper left\")\n",
    "    plt.grid(True)"
   ]
  },
  {
   "cell_type": "code",
   "execution_count": 23,
   "metadata": {},
   "outputs": [],
   "source": [
    "def tsplot(y, lags=None, figsize=(13, 5), style='bmh'):\n",
    "    if not isinstance(y, pd.Series):\n",
    "        y = pd.Series(y)\n",
    "        \n",
    "    with plt.style.context(style):    \n",
    "        fig = plt.figure(figsize=figsize)\n",
    "        layout = (2, 2)\n",
    "        acf_ax = plt.subplot2grid(layout, (1, 0))\n",
    "        pacf_ax = plt.subplot2grid(layout, (1, 1))\n",
    "        smt.graphics.plot_acf(y, lags=lags, ax=acf_ax)\n",
    "        smt.graphics.plot_pacf(y, lags=lags, ax=pacf_ax)\n",
    "        plt.tight_layout()"
   ]
  },
  {
   "cell_type": "code",
   "execution_count": 24,
   "metadata": {},
   "outputs": [],
   "source": [
    "def tsplot_(y, lags=None, figsize=(13, 5), style='bmh'):\n",
    "    if not isinstance(y, pd.Series):\n",
    "        y = pd.Series(y)\n",
    "        \n",
    "    with plt.style.context(style):    \n",
    "        fig = plt.figure(figsize=figsize)\n",
    "        layout = (2, 2)\n",
    "        ts_ax = plt.subplot2grid(layout, (0, 0), colspan=2)\n",
    "        acf_ax = plt.subplot2grid(layout, (1, 0))\n",
    "        pacf_ax = plt.subplot2grid(layout, (1, 1))\n",
    "        \n",
    "        y.plot(ax=ts_ax)\n",
    "        p_value = sm.tsa.stattools.adfuller(y)[1]\n",
    "        ts_ax.set_title('Tunning Serie de Tiempo\\n Dickey-Fuller: p={0:.5f}'.format(p_value))\n",
    "        smt.graphics.plot_acf(y, lags=lags, ax=acf_ax)\n",
    "        smt.graphics.plot_pacf(y, lags=lags, ax=pacf_ax)\n",
    "        plt.tight_layout()"
   ]
  },
  {
   "cell_type": "code",
   "execution_count": 25,
   "metadata": {},
   "outputs": [
    {
     "data": {
      "application/vnd.jupyter.widget-view+json": {
       "model_id": "d2f95b6e983a4831895661c5d61c81cf",
       "version_major": 2,
       "version_minor": 0
      },
      "text/plain": [
       "interactive(children=(Dropdown(description='Terminal', options=('1964', '1908', '1980', '1910', '1774'), value…"
      ]
     },
     "metadata": {},
     "output_type": "display_data"
    }
   ],
   "source": [
    "@interact\n",
    "def series_analisis(Terminal=data_series['idTerminal'].unique(),Operacion=data_series['oper'].unique(),window=(1, 30, 1)):\n",
    "    info = data_series[(data_series['idTerminal']==Terminal)&(data_series['oper']==Operacion)]\n",
    "    tabla = info.groupby(['YYMMDD','idTerminal','oper']).agg({'dia_semana':'count'}).reset_index()\n",
    "    tabla.rename(columns={'dia_semana':'Cantidad Transacciones'},inplace=True)\n",
    "    pivot_table = pd.pivot_table(tabla,values='Cantidad Transacciones',index='YYMMDD',columns='oper', aggfunc=np.sum)\n",
    "    pivot_table.rename(columns={Operacion:'Cantidad Transacciones'},inplace=True)\n",
    "    idx = pd.date_range(pivot_table.index.min(), pivot_table.index.max())\n",
    "    pivot_table=pivot_table.reindex(idx, fill_value=0)\n",
    "    X = pivot_table['Cantidad Transacciones'].values\n",
    "    result = sm.tsa.stattools.adfuller(X)\n",
    "    if result[1]<0.05: \n",
    "        rta='Rechazo H0. La serie de tiempo No tiene una raíz unitaria, entonces es estacionaria'\n",
    "    else:\n",
    "        rta='No Rechazo Ho. La serie de tiempo tiene una raíz unitaria, entonces no es estacionaria'\n",
    "    print('')\n",
    "    print('Prueba de Dickey-Fuller test')\n",
    "    print('ADF Statistic: %f' % result[0])\n",
    "    print('p-value: %f' % result[1])\n",
    "    print(rta)\n",
    "    descomposicion = sm.tsa.seasonal_decompose(pivot_table['Cantidad Transacciones'],model='additive', period=50)  \n",
    " \n",
    "    return plotPromedioMovil(pivot_table,window,plot_intervals=True, plot_anomalies=True),tsplot(pivot_table['Cantidad Transacciones'], lags=59),descomposicion.plot()\n"
   ]
  },
  {
   "cell_type": "markdown",
   "metadata": {},
   "source": [
    "Analisis (Terminal, Tipo Operacion):\n",
    "\n",
    "\n",
    "1964-3 : No se identifica una tendencia marcada, tal vez algo decreciente en los últimos dos meses de la serie. La prueba de hipotesis indica que la serie tiene un componente estacional. Visualmente se identifica estacionalidad quincenal que en los dos últimos meses se va perdiendo. Se identifica un valor atípico el 2017-03-01. Existe una correlación significativa en el desfase 1 seguida de correlaciones que no son significativas hasta el desfase 14 y 28. Este patrón indica un término autorregresivo de orden 1.\n",
    "\n",
    "\n",
    "1964-0 : No se identifica una tendencia marcada, tal vez algo decreciente en los últimos dos meses de la serie. La prueba de hipotesis indica que la serie tiene un componente estacional. Visualmente se identifica estacionalidad quincenal que en los dos últimos meses se va perdiendo. Se identifica un valor atípico a finales de marzo. Existe una correlación significativa en el desfase 1 seguida de correlaciones que no son significativas hasta el desfase 14 y 28. Este patrón indica un término autorregresivo de orden 1.\n",
    "\n",
    "\n",
    "1964-4 : No se identifica una tendencia marcada, tal vez algo decreciente en los últimos dos meses de la serie. La prueba de hipotesis indica que la serie tiene un componente estacional. Visualmente se identifica estacionalidad quincenal que apartir de inicios de abril se va perdiendo. Existe una correlación significativa en el desfase 1 seguida de correlaciones que no son significativas hasta el desfase 14 y 28. Este patrón indica un término autorregresivo de orden 1.\n",
    "\n",
    "1964-1 : Se comporta parecido a la serie anterior.\n",
    "\n",
    "1964-7 : No se identifica una tendencia marcada, tal vez algo decreciente en los últimos dos meses de la serie. La prueba de hipotesis indica que la serie tiene un componente estacional. Visualmente se identifica no se identifica estacionalidad. Existe una correlación algo significativa en el desfase 5 seguida de correlaciones que no son significativas. Este patrón indica un término autorregresivo de orden 5."
   ]
  },
  {
   "cell_type": "markdown",
   "metadata": {},
   "source": [
    "## Se genera una función de tunning que permita eliminar los diferentes componentes a través de diferencia de desfases."
   ]
  },
  {
   "cell_type": "code",
   "execution_count": 26,
   "metadata": {},
   "outputs": [
    {
     "data": {
      "application/vnd.jupyter.widget-view+json": {
       "model_id": "da7e0f6ec30647b5b55b6529d6f62a48",
       "version_major": 2,
       "version_minor": 0
      },
      "text/plain": [
       "interactive(children=(Dropdown(description='Terminal', options=('1964', '1908', '1980', '1910', '1774'), value…"
      ]
     },
     "metadata": {},
     "output_type": "display_data"
    }
   ],
   "source": [
    "@interact\n",
    "def series_tunning(Terminal=data_series['idTerminal'].unique(),Operacion=data_series['oper'].unique(),PeriodoEstacional=(1, 30, 1)):\n",
    "    info = data_series[(data_series['idTerminal']==Terminal)&(data_series['oper']==Operacion)]\n",
    "    tabla = info.groupby(['YYMMDD','idTerminal','oper']).agg({'dia_semana':'count'}).reset_index()\n",
    "    tabla.rename(columns={'dia_semana':'Cantidad Transacciones'},inplace=True)\n",
    "    pivot_table = pd.pivot_table(tabla,values='Cantidad Transacciones',index='YYMMDD',columns='oper', aggfunc=np.sum)\n",
    "    pivot_table.rename(columns={Operacion:'Cantidad Transacciones'},inplace=True)\n",
    "    idx = pd.date_range(pivot_table.index.min(), pivot_table.index.max())\n",
    "    pivot_table=pivot_table.reindex(idx, fill_value=0)\n",
    "    serie_diff = pivot_table['Cantidad Transacciones'] - pivot_table['Cantidad Transacciones'].shift(PeriodoEstacional)\n",
    "    return tsplot_(serie_diff[PeriodoEstacional:], lags=50)\n"
   ]
  },
  {
   "cell_type": "markdown",
   "metadata": {},
   "source": [
    "#### Se debe generar un proceso iterativo para elegir de manera automatica los mejores modelos ya que elegir los componentes manualmente toma bastante tiempo. Para elegir entre un modelo ARIMA o SARIMA, se tomará como referencia la prueba de Dickey-Fuller."
   ]
  },
  {
   "cell_type": "markdown",
   "metadata": {},
   "source": [
    "# 4. Construcción de Modelos."
   ]
  },
  {
   "cell_type": "markdown",
   "metadata": {},
   "source": [
    "En la construcción de los modelos se realiza una partición de 80 % de datos para training y 20 % para test, con el fín del validar la precisión del modelo."
   ]
  },
  {
   "cell_type": "markdown",
   "metadata": {},
   "source": [
    "# Construcción de modelos con series clasicas ARIMA y SARIMA"
   ]
  },
  {
   "cell_type": "markdown",
   "metadata": {},
   "source": [
    "En este paso se construiran modelos clasicos de series temporales. "
   ]
  },
  {
   "cell_type": "code",
   "execution_count": 27,
   "metadata": {},
   "outputs": [],
   "source": [
    "def percentage_error(actual, predicted):\n",
    "    res = np.empty(actual.shape)\n",
    "    for j in range(actual.shape[0]):\n",
    "        if actual[j] != 0:\n",
    "            res[j] = (actual[j] - predicted[j]) / actual[j]\n",
    "        else:\n",
    "            res[j] = predicted[j] / np.mean(actual)\n",
    "    return res\n",
    "\n",
    "def mean_absolute_percentage_error(y_true, y_pred):\n",
    "    return np.mean(np.abs(percentage_error(np.asarray(y_true), np.asarray(y_pred)))) * 100"
   ]
  },
  {
   "cell_type": "code",
   "execution_count": 28,
   "metadata": {},
   "outputs": [],
   "source": [
    "def optimizeSARIMA(serie,parameters_list, d, D, s):\n",
    "    \n",
    "    results = []\n",
    "    best_error = float(\"inf\")\n",
    "\n",
    "    for param in tqdm_notebook(parameters_list):\n",
    "        try:\n",
    "            model=sm.tsa.statespace.SARIMAX(serie, order=(param[0], d, param[1]), \n",
    "                                            seasonal_order=(param[2], D, param[3], s)).fit(disp=-1)\n",
    "            \n",
    "        except:\n",
    "            continue\n",
    "        data = serie.copy()\n",
    "        data.columns = ['actual']\n",
    "        data['sarima_model'] = model.fittedvalues\n",
    "        data['sarima_model'][:s+d] = np.NaN\n",
    "        forecast = model.predict(start = data.shape[0], end = data.shape[0]+15)\n",
    "        forecast = data.sarima_model.append(forecast)\n",
    "        error = mean_absolute_percentage_error(data['actual'][s+d:], data['sarima_model'][s+d:])\n",
    "        if error < best_error:\n",
    "            best_model = model\n",
    "            best_error = error\n",
    "            best_param = param\n",
    "        results.append([param, error])\n",
    "\n",
    "    result_table = pd.DataFrame(results)\n",
    "    result_table.columns = ['parameters', 'error']\n",
    "    result_table = result_table.sort_values(by='error', ascending=True).reset_index(drop=True)\n",
    "    \n",
    "    return result_table"
   ]
  },
  {
   "cell_type": "code",
   "execution_count": 29,
   "metadata": {},
   "outputs": [],
   "source": [
    "def plotSARIMA(series, model, n_steps,s,d):\n",
    "    # adding model values\n",
    "    data = series.copy()\n",
    "    data.columns = ['actual']\n",
    "    data['sarima_model'] = model.fittedvalues\n",
    "    data['sarima_model'][:s+d] = np.NaN\n",
    "    \n",
    "    # Pronostico de n periodos de tiempo\n",
    "    forecast = model.predict(start = data.shape[0], end = data.shape[0]+n_steps)\n",
    "    forecast = data.sarima_model.append(forecast)\n",
    "    # Calculando error.\n",
    "    error = mean_absolute_percentage_error(data['actual'][s+d:], data['sarima_model'][s+d:])\n",
    "    plt.figure(figsize=(15, 7))\n",
    "    plt.title(\"Mean Absolute Percentage Error: {0:.2f}%\".format(error))\n",
    "    plt.plot(forecast, color='r', label=\"model\")\n",
    "    plt.axvspan(data.index[-1], forecast.index[-1], alpha=0.5, color='lightgrey')\n",
    "    plt.plot(data.actual, label=\"actual\")\n",
    "    plt.legend()\n",
    "    plt.grid(True);"
   ]
  },
  {
   "cell_type": "code",
   "execution_count": 43,
   "metadata": {},
   "outputs": [
    {
     "data": {
      "application/vnd.jupyter.widget-view+json": {
       "model_id": "9c705fb7e9204ccd83d0f4bd56e9fcd6",
       "version_major": 2,
       "version_minor": 0
      },
      "text/plain": [
       "interactive(children=(Checkbox(value=False, description='Arima'), Checkbox(value=True, description='Sarima'), …"
      ]
     },
     "metadata": {},
     "output_type": "display_data"
    }
   ],
   "source": [
    "@interact_manual\n",
    "def training_model(Arima=False,Sarima=True,Archivo=True,Terminal=data_series['idTerminal'].unique(),Operacion=data_series['oper'].unique(),ps=(1,15,1),d=(0,2,1),qs=(1,15,1),Ps=(1,15,1) ,D=(0,2,1),Qs=(1,15,1),s=(1,30,1),dias_predecir=(1,30,1),gap_range=2):\n",
    "\n",
    "    ps_ = range(1 if ps-3<1 else ps-3, ps) #Ultimo valor significativo PAFC\n",
    "    d_=abs(d) \n",
    "    qs_ = range(1 if qs-3<1 else qs-3, qs) #Ultimo valor significativo AFC\n",
    "    Ps_ = range(1 if Ps-3<1 else Ps-3, Ps) #Periodos estacionales significativos\n",
    "    D_=D\n",
    "    Qs_ = range(1 if Qs-3<1 else Qs-3, Qs)\n",
    "    s_ = s # estacionalidad\n",
    "\n",
    "    #creando lista con las combinación de parametros\n",
    "    parameters = product(ps_, qs_, Ps_, Qs_)\n",
    "    parameters_list = list(parameters)\n",
    "    serie=data_series[(data_series['idTerminal']==Terminal)&(data_series['oper']==Operacion)].groupby('YYMMDD').agg({'dia_semana':'count'})\n",
    "    serie.rename(columns={'dia_semana':'Cantidad TRX'},inplace=True)\n",
    "    idx = pd.date_range(serie.index.min(), serie.index.max())\n",
    "    serie=serie.reindex(idx, fill_value=0)\n",
    "    serie=serie.reset_index()\n",
    "    serie=serie.set_index('index').asfreq('d')\n",
    "    serie['Cantidad TRX']=serie['Cantidad TRX'].astype('int')\n",
    "    result_table = optimizeSARIMA(serie,parameters_list, d_, D, s_)\n",
    "    p, q, P, Q = result_table.parameters[0]\n",
    "\n",
    "    best_model=sm.tsa.statespace.SARIMAX(serie['Cantidad TRX'], order=(p, d_, q), \n",
    "                                            seasonal_order=(P, D, Q, s_)).fit(disp=-1)\n",
    "    \n",
    "#    dict_resul={'Serie':str(Terminal)+'-'+str(Operacion),'Modelo':'Sarima','MAPE':result_table['error']}\n",
    "#    with open('resultados.json', 'w') as file:\n",
    "#        file.write(json.dumps(mydict, ensure_ascii=False))\n",
    "    return best_model.summary(),tsplot_(best_model.resid[dias_predecir+1:], lags=50),plotSARIMA(serie, best_model, dias_predecir,s_,d_)"
   ]
  },
  {
   "cell_type": "markdown",
   "metadata": {},
   "source": [
    "# Entrenando una red neuronal monocapa"
   ]
  },
  {
   "cell_type": "markdown",
   "metadata": {},
   "source": [
    "Se construye una red nueronal monocapa con conexión densa y se entrenan con los hiperparametros por defecto para ver el comportamiento. La construcción de esta red se hace como si fuera un modelo supervisado, donde la y esta determinada por y-t periodos anteriores. Por ejemplo se puede crear un modelo supervisado donde el valor de dia 7 esta determinado por los 6 días anteriores, o el día 15 esta determinado por los 14 días anteriores. Esta ventana de tiempo es movil.\n",
    "\n",
    "El número de neuronas asignadas esta en función de las variables. Se agrega un call de parada temprana, donde se monitorea la función de perdida del conjunto de validación, con el fin de evitar overfitting en el entrenamiento. Como valor de selección del mejor modelo se utilizará el MAPE."
   ]
  },
  {
   "cell_type": "code",
   "execution_count": 31,
   "metadata": {},
   "outputs": [],
   "source": [
    "#Función para construir la matriz del modelo supervisado\n",
    "def serie_supervisada(data, n_in=1, n_out=1, dropnan=True):\n",
    "    n_vars = 1 if type(data) is list else data.shape[1]\n",
    "    df = pd.DataFrame(data)\n",
    "    cols, names = list(), list()\n",
    "    for i in range(n_in, 0, -1):\n",
    "        cols.append(df.shift(i))\n",
    "        names += [('y%d(t-%d)' % (j+1, i)) for j in range(n_vars)]\n",
    "    for i in range(0, n_out):\n",
    "        cols.append(df.shift(-i))\n",
    "        if i == 0:\n",
    "            names += [('y%d(t)' % (j+1)) for j in range(n_vars)]\n",
    "        else:\n",
    "            names += [('y%d(t+%d)' % (j+1, i)) for j in range(n_vars)]\n",
    "    agg = pd.concat(cols, axis=1)\n",
    "    agg.columns = names\n",
    "    if dropnan:\n",
    "        agg.dropna(inplace=True)\n",
    "    return agg"
   ]
  },
  {
   "cell_type": "code",
   "execution_count": 32,
   "metadata": {},
   "outputs": [],
   "source": [
    "# Función de predicción\n",
    "def agregarNuevoValor(x_test,newVal):\n",
    "    arr=[]\n",
    "    for i in x_test[0][0][1:x_test.shape[2]]:\n",
    "        arr.append(i)\n",
    "    arr.append(newVal[0][0])\n",
    "    arr=pd.DataFrame(arr).values\n",
    "    arr=np.array([arr])\n",
    "    arr=arr.reshape((arr.shape[0], 1, arr.shape[1]))\n",
    "    x_test=arr\n",
    "    return x_test"
   ]
  },
  {
   "cell_type": "code",
   "execution_count": 34,
   "metadata": {},
   "outputs": [
    {
     "data": {
      "application/vnd.jupyter.widget-view+json": {
       "model_id": "3a3b46f4a95b4071a350b13ff2bb92c6",
       "version_major": 2,
       "version_minor": 0
      },
      "text/plain": [
       "interactive(children=(Checkbox(value=True, description='Archivo'), Dropdown(description='Terminal', options=('…"
      ]
     },
     "metadata": {},
     "output_type": "display_data"
    }
   ],
   "source": [
    "@interact_manual\n",
    "def construccion_RN(Archivo=True,Terminal=data_series['idTerminal'].unique(),Operacion=data_series['oper'].unique(),Input_features=(1,30,1),batch_size=(1,20,1),dias_predecir=(1,30,1)):\n",
    "    serie=data_series[(data_series['idTerminal']==Terminal)&(data_series['oper']==Operacion)].groupby('YYMMDD').agg({'dia_semana':'count'})\n",
    "    serie.rename(columns={'dia_semana':'Cantidad TRX'},inplace=True)\n",
    "    idx = pd.date_range(serie.index.min(), serie.index.max())\n",
    "    idx_ = pd.date_range(data_series['YYMMDD'].min(), data_series['YYMMDD'].max()+np.timedelta64(dias_predecir,'D'))\n",
    "    serie=serie.reindex(idx, fill_value=0)\n",
    "    serie=serie.reset_index()\n",
    "    serie=serie.set_index('index').asfreq('d')\n",
    "    serie['Cantidad TRX']=serie['Cantidad TRX'].astype('float32')\n",
    "    values = serie['Cantidad TRX'].values\n",
    "    values = values.astype('float32')\n",
    "    scaler = MinMaxScaler(feature_range=(-1, 1))\n",
    "    values=values.reshape(-1, 1) \n",
    "    scaled = scaler.fit_transform(values)\n",
    "    reframed = serie_supervisada(scaled, Input_features, 1)  \n",
    "    train_size=len(reframed)*0.8\n",
    "    values = reframed.values\n",
    "    train,test  = values[:int(train_size), :],values[int(train_size):, :]\n",
    "    x_train, y_train = train[:, :-1], train[:, -1]\n",
    "    x_test, y_test = test[:, :-1], test[:, -1]\n",
    "    x_train = x_train.reshape((x_train.shape[0], 1, x_train.shape[1]))\n",
    "    x_test = x_test.reshape((x_test.shape[0], 1, x_test.shape[1]))\n",
    "    tf.keras.optimizers.Adam(\n",
    "    learning_rate=0.01, beta_1=0.9, beta_2=0.999, epsilon=1e-07, amsgrad=False,\n",
    "    name='Adam'\n",
    ")\n",
    "    \n",
    "    model=Sequential()\n",
    "    model.add(Dense(Input_features,input_shape=(1,Input_features), activation='linear'))\n",
    "    model.add(Dense(1, activation='linear'))\n",
    "    model.compile(loss='mae',optimizer='adam',metrics=['mse'])\n",
    "    \n",
    "    es = tf.keras.callbacks.EarlyStopping(monitor='val_loss',patience=3,mode='min')\n",
    "\n",
    "\n",
    "    history=model.fit(x_train,y_train,\n",
    "                     epochs=100,\n",
    "                     batch_size=batch_size,\n",
    "                     validation_split=0.1,\n",
    "                     callbacks=[es],\n",
    "                     shuffle=False, verbose=0)\n",
    "    plt.plot(history.history['loss'],label='Training Loss')\n",
    "    plt.plot(history.history['val_loss'],label='Validation Loss')\n",
    "    plt.title('Validación Función de Perdida', fontsize=20)\n",
    "    plt.xlabel('Epochs', fontsize=20)\n",
    "    plt.ylabel('Loss Value', fontsize=20)\n",
    "    plt.legend(fontsize=10)\n",
    "    plt.show()\n",
    "    testPredict = model.predict(x_test)\n",
    "    testPredict=[a[0][0] for a in testPredict]\n",
    "    testPredict = scaler.inverse_transform(np.array(testPredict).reshape(1, -1))\n",
    "    trainPredict = model.predict(x_train)\n",
    "    trainPredict=[a[0][0] for a in trainPredict]\n",
    "    trainPredict = scaler.inverse_transform(np.array(trainPredict).reshape(1, -1))\n",
    "    y_train = scaler.inverse_transform([y_train])\n",
    "    y_test = scaler.inverse_transform([y_test])\n",
    "    serie.reset_index(inplace=True)\n",
    "    \n",
    "    predicciones_train=pd.DataFrame(trainPredict[0])\n",
    "    valores_train=pd.DataFrame(y_train[0])\n",
    "    predicciones_train.set_index(serie['index'].iloc[:x_train.shape[0]],inplace=True)\n",
    "    valores_train.set_index(serie['index'].iloc[:x_train.shape[0]],inplace=True)\n",
    "    \n",
    "    predicciones_test=pd.DataFrame(testPredict[0])\n",
    "    valores_test=pd.DataFrame(y_test[0])\n",
    "    predicciones_test.set_index(serie['index'].iloc[x_train.shape[0]+Input_features:],inplace=True)\n",
    "    valores_test.set_index(serie['index'].iloc[x_train.shape[0]+Input_features:],inplace=True)\n",
    "    error = mean_absolute_percentage_error(valores_test, predicciones_test)\n",
    "    \n",
    "    results=[]\n",
    "    incio=x_test[-1:]\n",
    "    for i in range(dias_predecir):\n",
    "        parcial=model.predict(incio)\n",
    "        parcial_=scaler.inverse_transform(parcial[0])\n",
    "        results.append(parcial_[0][0])\n",
    "        incio=agregarNuevoValor(incio,parcial[0])\n",
    "    result=pd.DataFrame(results)[0]\n",
    "\n",
    "    \n",
    "    plt.plot(idx.values,serie['Cantidad TRX'],c='b', label='Serie Original')\n",
    "    plt.plot(idx_[len(x_train)+Input_features:len(serie)].values,testPredict[0],c='r', label='Predicción Test')\n",
    "    plt.plot(idx_[:len(x_train)].values,trainPredict[0],c='y', label='Predicción Train')\n",
    "    plt.plot(idx_[len(serie):len(idx_)].values,result,c='m', label='Predicción 15 Dias')\n",
    "    plt.xticks(rotation=90)\n",
    "    plt.legend(fontsize=10)\n",
    "    plt.title('Resultados del Modelo', fontsize=20)\n",
    "    plt.title(\"Mean Absolute Percentage Error: {0:.2f}%\".format(error), fontsize=20)\n",
    "    plt.xlabel('Días', fontsize=20)\n",
    "    plt.ylabel('Cantidad de Transacciones', fontsize=20)\n",
    "    plt.show()"
   ]
  },
  {
   "cell_type": "markdown",
   "metadata": {},
   "source": [
    "# Entrenando un modelo de regresión con XGBoots"
   ]
  },
  {
   "cell_type": "code",
   "execution_count": 35,
   "metadata": {},
   "outputs": [
    {
     "data": {
      "application/vnd.jupyter.widget-view+json": {
       "model_id": "03b763df27ea4564b0158300e1512f70",
       "version_major": 2,
       "version_minor": 0
      },
      "text/plain": [
       "interactive(children=(Checkbox(value=True, description='Archivo'), Dropdown(description='Terminal', options=('…"
      ]
     },
     "metadata": {},
     "output_type": "display_data"
    }
   ],
   "source": [
    "@interact_manual\n",
    "def construccion_XGBoots(Archivo=True,Terminal=data_series['idTerminal'].unique(),Operacion=data_series['oper'].unique(),Input_features=(1,30,1),dias_predecir=(1,30,1)):\n",
    "    serie=data_series[(data_series['idTerminal']==Terminal)&(data_series['oper']==Operacion)].groupby('YYMMDD').agg({'dia_semana':'count'})\n",
    "    serie.rename(columns={'dia_semana':'Cantidad TRX'},inplace=True)\n",
    "    idx = pd.date_range(serie.index.min(), serie.index.max())\n",
    "    idx_ = pd.date_range(data_series['YYMMDD'].min(), data_series['YYMMDD'].max()+np.timedelta64(dias_predecir,'D'))\n",
    "    serie=serie.reindex(idx, fill_value=0)\n",
    "    serie=serie.reset_index()\n",
    "    serie=serie.set_index('index').asfreq('d')\n",
    "    serie['Cantidad TRX']=serie['Cantidad TRX'].astype('float32')\n",
    "    values = serie['Cantidad TRX'].values\n",
    "    values = values.astype('float32')\n",
    "    scaler = MinMaxScaler(feature_range=(-1, 1))\n",
    "    values=values.reshape(-1, 1) \n",
    "    scaled = scaler.fit_transform(values)\n",
    "    reframed = serie_supervisada(scaled, Input_features, 1)  \n",
    "    train_size=len(reframed)*0.8\n",
    "    values = reframed.values\n",
    "    train,test  = values[:int(train_size), :],values[int(train_size):, :]\n",
    "    x_train, y_train = train[:, :-1], train[:, -1]\n",
    "    x_test, y_test = test[:, :-1], test[:, -1]\n",
    "    x_train = x_train.reshape((x_train.shape[0], x_train.shape[1]))\n",
    "    x_test = x_test.reshape((x_test.shape[0], x_test.shape[1]))\n",
    "    model = xg.XGBRegressor(objective='reg:squarederror', learning_rate=0.002, max_depth=10, n_estimators=1000)\n",
    "    model.fit(x_train, y_train)\n",
    "    testPredict=model.predict(x_test)           \n",
    "    trainPredict = model.predict(x_train)\n",
    "    testPredict=[a for a in testPredict]\n",
    "    testPredict = scaler.inverse_transform(np.array(testPredict).reshape(1, -1))\n",
    "    trainPredict=[a for a in trainPredict]\n",
    "    trainPredict = scaler.inverse_transform(np.array(trainPredict).reshape(1, -1))\n",
    "    y_train = scaler.inverse_transform([y_train])\n",
    "    y_test = scaler.inverse_transform([y_test])\n",
    "\n",
    "    error = mean_absolute_percentage_error(y_test[0], testPredict[0])\n",
    "    \n",
    "    results=[]\n",
    "    incio=x_test[-1:].reshape(1, 1, x_test.shape[1])\n",
    "    for i in range(dias_predecir):\n",
    "        parcial=model.predict(incio[0])\n",
    "        parcial_=scaler.inverse_transform(parcial.reshape(-1, 1))\n",
    "        results.append(parcial_[0][0])\n",
    "        incio=agregarNuevoValor(incio,parcial.reshape(-1, 1))\n",
    "    result=pd.DataFrame(results)[0]\n",
    "\n",
    "    plt.plot(idx.values,serie['Cantidad TRX'],c='b', label='Serie Original')\n",
    "    plt.plot(idx_[len(x_train)+Input_features:len(serie)].values,testPredict[0],c='r', label='Predicción Test')\n",
    "    plt.plot(idx_[:len(x_train)].values,trainPredict[0],c='y', label='Predicción Train')\n",
    "    plt.plot(idx_[len(serie):len(idx_)].values,result,c='m', label='Predicción 15 Dias')\n",
    "    plt.xticks(rotation=90)\n",
    "    plt.legend(fontsize=10)\n",
    "    plt.title('Resultados del Modelo', fontsize=20)\n",
    "    plt.title(\"Mean Absolute Percentage Error: {0:.2f}%\".format(error), fontsize=20)\n",
    "    plt.xlabel('Días', fontsize=20)\n",
    "    plt.ylabel('Cantidad de Transacciones', fontsize=20)\n",
    "    plt.show()\n",
    "     \n",
    "    \n",
    "    return reframed.head()"
   ]
  },
  {
   "cell_type": "markdown",
   "metadata": {},
   "source": [
    "# Series multivariadas con redes neuronales"
   ]
  },
  {
   "cell_type": "markdown",
   "metadata": {},
   "source": [
    "Es este caso se construirá un modelo de predicción que tendrá como inputs las series temporales de las terminales y tipos de operación elegidos. Estos nos ayudaran para predecir el total de transacciones (suma de estas series temporales), para los próximos 15 días."
   ]
  },
  {
   "cell_type": "code",
   "execution_count": 36,
   "metadata": {},
   "outputs": [],
   "source": [
    "def series_seq(x,y, n_steps):\n",
    "    X_, y_ = list(), list()\n",
    "    for i in range(len(x)):\n",
    "        end_ix = i + n_steps\n",
    "        if end_ix > len(x):\n",
    "             break\n",
    "        seq_x, seq_y = x[i:end_ix], y[end_ix-1]\n",
    "        X_.append(seq_x)\n",
    "        y_.append(seq_y)\n",
    "    return np.array(X_), np.array(y_)"
   ]
  },
  {
   "cell_type": "code",
   "execution_count": 37,
   "metadata": {},
   "outputs": [
    {
     "data": {
      "text/html": [
       "<div>\n",
       "<style scoped>\n",
       "    .dataframe tbody tr th:only-of-type {\n",
       "        vertical-align: middle;\n",
       "    }\n",
       "\n",
       "    .dataframe tbody tr th {\n",
       "        vertical-align: top;\n",
       "    }\n",
       "\n",
       "    .dataframe thead th {\n",
       "        text-align: right;\n",
       "    }\n",
       "</style>\n",
       "<table border=\"1\" class=\"dataframe\">\n",
       "  <thead>\n",
       "    <tr style=\"text-align: right;\">\n",
       "      <th></th>\n",
       "      <th></th>\n",
       "      <th></th>\n",
       "      <th>dia_semana</th>\n",
       "    </tr>\n",
       "    <tr>\n",
       "      <th>YYMMDD</th>\n",
       "      <th>idTerminal</th>\n",
       "      <th>oper</th>\n",
       "      <th></th>\n",
       "    </tr>\n",
       "  </thead>\n",
       "  <tbody>\n",
       "    <tr>\n",
       "      <th rowspan=\"5\" valign=\"top\">2017-01-31</th>\n",
       "      <th rowspan=\"5\" valign=\"top\">1774</th>\n",
       "      <th>0</th>\n",
       "      <td>6.0</td>\n",
       "    </tr>\n",
       "    <tr>\n",
       "      <th>1</th>\n",
       "      <td>5.0</td>\n",
       "    </tr>\n",
       "    <tr>\n",
       "      <th>3</th>\n",
       "      <td>5.0</td>\n",
       "    </tr>\n",
       "    <tr>\n",
       "      <th>4</th>\n",
       "      <td>0.0</td>\n",
       "    </tr>\n",
       "    <tr>\n",
       "      <th>7</th>\n",
       "      <td>0.0</td>\n",
       "    </tr>\n",
       "    <tr>\n",
       "      <th>...</th>\n",
       "      <th>...</th>\n",
       "      <th>...</th>\n",
       "      <td>...</td>\n",
       "    </tr>\n",
       "    <tr>\n",
       "      <th rowspan=\"5\" valign=\"top\">2017-05-31</th>\n",
       "      <th rowspan=\"5\" valign=\"top\">1980</th>\n",
       "      <th>0</th>\n",
       "      <td>248.0</td>\n",
       "    </tr>\n",
       "    <tr>\n",
       "      <th>1</th>\n",
       "      <td>69.0</td>\n",
       "    </tr>\n",
       "    <tr>\n",
       "      <th>3</th>\n",
       "      <td>85.0</td>\n",
       "    </tr>\n",
       "    <tr>\n",
       "      <th>4</th>\n",
       "      <td>17.0</td>\n",
       "    </tr>\n",
       "    <tr>\n",
       "      <th>7</th>\n",
       "      <td>26.0</td>\n",
       "    </tr>\n",
       "  </tbody>\n",
       "</table>\n",
       "<p>3025 rows × 1 columns</p>\n",
       "</div>"
      ],
      "text/plain": [
       "                            dia_semana\n",
       "YYMMDD     idTerminal oper            \n",
       "2017-01-31 1774       0            6.0\n",
       "                      1            5.0\n",
       "                      3            5.0\n",
       "                      4            0.0\n",
       "                      7            0.0\n",
       "...                                ...\n",
       "2017-05-31 1980       0          248.0\n",
       "                      1           69.0\n",
       "                      3           85.0\n",
       "                      4           17.0\n",
       "                      7           26.0\n",
       "\n",
       "[3025 rows x 1 columns]"
      ]
     },
     "execution_count": 37,
     "metadata": {},
     "output_type": "execute_result"
    }
   ],
   "source": [
    "tabla_multi=data_series.groupby(['YYMMDD','idTerminal','oper']).agg({'dia_semana':'count'})\n",
    "tabla_multi=tabla_multi.unstack().fillna(0)\n",
    "tabla_multi=tabla_multi.unstack(1).fillna(0)\n",
    "tabla_multi=tabla_multi.stack()\n",
    "tabla_multi=tabla_multi.stack()\n",
    "tabla_multi"
   ]
  },
  {
   "cell_type": "code",
   "execution_count": 38,
   "metadata": {},
   "outputs": [
    {
     "data": {
      "application/vnd.jupyter.widget-view+json": {
       "model_id": "2d08412700074bcf97cfec2da815bf2f",
       "version_major": 2,
       "version_minor": 0
      },
      "text/plain": [
       "interactive(children=(Checkbox(value=True, description='Archivo'), IntSlider(value=15, description='Input_feat…"
      ]
     },
     "metadata": {},
     "output_type": "display_data"
    }
   ],
   "source": [
    "@interact_manual\n",
    "def construccion_RN_Multi(Archivo=True,Input_features=(1,30,1),dias_predecir=(1,30,1)):\n",
    "    idx = pd.date_range(data_series['YYMMDD'].min(), data_series['YYMMDD'].max())\n",
    "    idx_ = pd.date_range(data_series['YYMMDD'].min(), data_series['YYMMDD'].max()+np.timedelta64(dias_predecir,'D'))\n",
    "\n",
    "    data=[]\n",
    "    for a in idx:\n",
    "        data.append(np.array([a[0] for a in tabla_multi[tabla_multi.index.get_level_values(0)==str(a)[0:10]].values]).reshape(1,25)[0])\n",
    "    suma=[[a.sum()] for a in data]\n",
    "    scaler = MinMaxScaler(feature_range=(-1, 1))\n",
    "    data_scaled = scaler.fit_transform(data)\n",
    "    suma_scaled = scaler.fit_transform(suma)\n",
    "    X, y =series_seq(data_scaled,suma_scaled,Input_features)\n",
    "    train_size=len(X)*0.8\n",
    "    x_train,x_test  = X[:int(train_size), :],X[int(train_size):, :]\n",
    "    y_train,y_test  = y[:int(train_size), :],y[int(train_size):, :]\n",
    "    n_input_tra = x_train.shape[1] * x_train.shape[2]\n",
    "    x_train = x_train.reshape((x_train.shape[0], n_input_tra))\n",
    "    n_input_tes = x_test.shape[1] * x_test.shape[2]\n",
    "    x_test = x_test.reshape((x_test.shape[0], n_input_tes))\n",
    "    es = tf.keras.callbacks.EarlyStopping(monitor='val_loss',patience=3,mode='min')\n",
    "    model = Sequential()\n",
    "    model.add(Dense(100, activation='relu', input_dim=n_input_tra))\n",
    "    model.add(Dense(1))\n",
    "    model.compile(optimizer='adam', loss='mse')\n",
    "    history=model.fit(x_train, y_train, epochs=100, verbose=0,validation_split=0.1,callbacks=[es])\n",
    "    plt.plot(history.history['loss'],label='Training Loss')\n",
    "    plt.plot(history.history['val_loss'],label='Validation Loss')\n",
    "    plt.title('Validación Función de Perdida', fontsize=20)\n",
    "    plt.xlabel('Epochs', fontsize=20)\n",
    "    plt.ylabel('Loss Value', fontsize=20)\n",
    "    plt.legend(fontsize=10)\n",
    "    plt.show()\n",
    "\n",
    "    y_pred=model.predict(x_test)\n",
    "    y_pred_train=model.predict(x_train)\n",
    "    error = mean_absolute_percentage_error(scaler.inverse_transform(y_test), scaler.inverse_transform(y_pred))\n",
    "    results=[]\n",
    "    incio=x_test[-1:].reshape(1, 1, x_test.shape[1])\n",
    "    for i in range(dias_predecir):\n",
    "        parcial=model.predict(incio[0])\n",
    "        parcial_=scaler.inverse_transform(parcial.reshape(-1, 1))\n",
    "        results.append(parcial_[0][0])\n",
    "        incio=agregarNuevoValor(incio,parcial.reshape(-1, 1))\n",
    "    result=pd.DataFrame(results)[0]\n",
    "    for a in tabla_multi.index.get_level_values(1).unique():\n",
    "        for b in tabla_multi.index.get_level_values(2).unique():\n",
    "            plt.plot(idx.values,tabla_multi[(tabla_multi.index.get_level_values(1)==a)&(tabla_multi.index.get_level_values(2)==b)].values,c='k')\n",
    "    plt.plot(idx_[:len(X)+Input_features-1].values,suma,c='b', label='Suma de las series de tiempo escogidas')\n",
    "    plt.plot(idx_[len(x_train)+Input_features-1:len(X)+Input_features-1].values,scaler.inverse_transform(y_pred),c='r', label='Predicción Test')\n",
    "    plt.plot(idx_[:len(x_train)].values,scaler.inverse_transform(y_pred_train),c='y', label='Predicción Train')\n",
    "    plt.plot(idx_[len(X)+Input_features-1:len(idx_)].values,result,c='m', label='Predicción 15 Dias')\n",
    "    plt.xticks(rotation=90)\n",
    "    plt.legend(fontsize=10)\n",
    "    plt.title('Resultados del Modelo', fontsize=20)\n",
    "    plt.title(\"Mean Absolute Percentage Error: {0:.2f}%\".format(error), fontsize=20)\n",
    "    plt.xlabel('Días', fontsize=20)\n",
    "    plt.ylabel('Cantidad de Transacciones', fontsize=20)\n",
    "    plt.show()\n",
    "    "
   ]
  },
  {
   "cell_type": "code",
   "execution_count": null,
   "metadata": {},
   "outputs": [],
   "source": []
  }
 ],
 "metadata": {
  "kernelspec": {
   "display_name": "Python 3",
   "language": "python",
   "name": "python3"
  },
  "language_info": {
   "codemirror_mode": {
    "name": "ipython",
    "version": 3
   },
   "file_extension": ".py",
   "mimetype": "text/x-python",
   "name": "python",
   "nbconvert_exporter": "python",
   "pygments_lexer": "ipython3",
   "version": "3.7.1"
  }
 },
 "nbformat": 4,
 "nbformat_minor": 2
}
