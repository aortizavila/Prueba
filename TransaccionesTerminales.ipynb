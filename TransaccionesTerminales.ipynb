{
  "nbformat": 4,
  "nbformat_minor": 0,
  "metadata": {
    "kernelspec": {
      "display_name": "Python 3",
      "language": "python",
      "name": "python3"
    },
    "language_info": {
      "codemirror_mode": {
        "name": "ipython",
        "version": 3
      },
      "file_extension": ".py",
      "mimetype": "text/x-python",
      "name": "python",
      "nbconvert_exporter": "python",
      "pygments_lexer": "ipython3",
      "version": "3.7.1"
    },
    "colab": {
      "name": "TransaccionesTerminales.ipynb",
      "provenance": [],
      "toc_visible": true,
      "include_colab_link": true
    },
    "widgets": {
      "application/vnd.jupyter.widget-state+json": {
        "554143c817b44b29b8718ea111e08094": {
          "model_module": "@jupyter-widgets/controls",
          "model_name": "VBoxModel",
          "state": {
            "_view_name": "VBoxView",
            "_dom_classes": [
              "widget-interact"
            ],
            "_model_name": "VBoxModel",
            "_view_module": "@jupyter-widgets/controls",
            "_model_module_version": "1.5.0",
            "_view_count": null,
            "_view_module_version": "1.5.0",
            "box_style": "",
            "layout": "IPY_MODEL_9252015ea0264a77bd91ec5034fae3fd",
            "_model_module": "@jupyter-widgets/controls",
            "children": [
              "IPY_MODEL_5ad13f754ca4466aa19e00e4747a65e9",
              "IPY_MODEL_8e09d5b829e64196becc1330f02f1f54"
            ]
          }
        },
        "9252015ea0264a77bd91ec5034fae3fd": {
          "model_module": "@jupyter-widgets/base",
          "model_name": "LayoutModel",
          "state": {
            "_view_name": "LayoutView",
            "grid_template_rows": null,
            "right": null,
            "justify_content": null,
            "_view_module": "@jupyter-widgets/base",
            "overflow": null,
            "_model_module_version": "1.2.0",
            "_view_count": null,
            "flex_flow": null,
            "width": null,
            "min_width": null,
            "border": null,
            "align_items": null,
            "bottom": null,
            "_model_module": "@jupyter-widgets/base",
            "top": null,
            "grid_column": null,
            "overflow_y": null,
            "overflow_x": null,
            "grid_auto_flow": null,
            "grid_area": null,
            "grid_template_columns": null,
            "flex": null,
            "_model_name": "LayoutModel",
            "justify_items": null,
            "grid_row": null,
            "max_height": null,
            "align_content": null,
            "visibility": null,
            "align_self": null,
            "height": null,
            "min_height": null,
            "padding": null,
            "grid_auto_rows": null,
            "grid_gap": null,
            "max_width": null,
            "order": null,
            "_view_module_version": "1.2.0",
            "grid_template_areas": null,
            "object_position": null,
            "object_fit": null,
            "grid_auto_columns": null,
            "margin": null,
            "display": null,
            "left": null
          }
        },
        "5ad13f754ca4466aa19e00e4747a65e9": {
          "model_module": "@jupyter-widgets/controls",
          "model_name": "DropdownModel",
          "state": {
            "_options_labels": [
              "1828",
              "1593",
              "1746",
              "1759",
              "1882",
              "1919",
              "1574",
              "1973",
              "1994",
              "1986",
              "1996",
              "1944",
              "1816",
              "1597",
              "1582",
              "1875",
              "1577",
              "1964",
              "1896",
              "1507",
              "1908",
              "1997",
              "1772",
              "1741",
              "1827",
              "1928",
              "1993",
              "1594",
              "1981",
              "1575",
              "1537",
              "1991",
              "1805",
              "1980",
              "1987",
              "1963",
              "1971",
              "1910",
              "1824",
              "1774",
              "1995",
              "1946",
              "1864",
              "1922",
              "1929",
              "1953",
              "1515"
            ],
            "_view_name": "DropdownView",
            "style": "IPY_MODEL_8ff06f7cea0d4484bcee6cc0941976e7",
            "_dom_classes": [],
            "description": "idTerminal",
            "_model_name": "DropdownModel",
            "index": 5,
            "_view_module": "@jupyter-widgets/controls",
            "_model_module_version": "1.5.0",
            "_view_count": null,
            "disabled": false,
            "_view_module_version": "1.5.0",
            "description_tooltip": null,
            "_model_module": "@jupyter-widgets/controls",
            "layout": "IPY_MODEL_66c78ab4ce08415f85f5b129af99eb74"
          }
        },
        "8e09d5b829e64196becc1330f02f1f54": {
          "model_module": "@jupyter-widgets/output",
          "model_name": "OutputModel",
          "state": {
            "_view_name": "OutputView",
            "msg_id": "",
            "_dom_classes": [],
            "_model_name": "OutputModel",
            "outputs": [
              {
                "output_type": "display_data",
                "metadata": {
                  "tags": []
                },
                "text/plain": "Index(['El tipo de operación 1 tienen missing values',\n       'El tipo de operación 10 tienen missing values',\n       'El tipo de operación 11 tienen missing values',\n       'El tipo de operación 12 tienen missing values',\n       'El tipo de operación 13 tienen missing values',\n       'El tipo de operación 14 tienen missing values',\n       'El tipo de operación 15 tienen missing values',\n       'El tipo de operación 18 tienen missing values',\n       'El tipo de operación 19 tienen missing values',\n       'El tipo de operación 2 tienen missing values',\n       'El tipo de operación 20 tienen missing values',\n       'El tipo de operación 21 tienen missing values',\n       'El tipo de operación 23 tienen missing values',\n       'El tipo de operación 24 tienen missing values',\n       'El tipo de operación 25 tienen missing values',\n       'El tipo de operación 26 tienen missing values',\n       'El tipo de operación 3 tienen missing values',\n       'El tipo de operación 31 tienen missing values',\n       'El tipo de operación 32 tienen missing values',\n       'El tipo de operación 34 tienen missing values',\n       'El tipo de operación 39 tienen missing values',\n       'El tipo de operación 4 tienen missing values',\n       'El tipo de operación 40 tienen missing values',\n       'El tipo de operación 41 tienen missing values',\n       'El tipo de operación 5 tienen missing values',\n       'El tipo de operación 6 tienen missing values',\n       'El tipo de operación 7 tienen missing values',\n       'El tipo de operación 8 tienen missing values',\n       'El tipo de operación 9 tienen missing values'],\n      dtype='object', name='oper')"
              }
            ],
            "_view_module": "@jupyter-widgets/output",
            "_model_module_version": "1.0.0",
            "_view_count": null,
            "_view_module_version": "1.0.0",
            "layout": "IPY_MODEL_f82cdf772a864ff4a0a55265f1f2f1df",
            "_model_module": "@jupyter-widgets/output"
          }
        },
        "8ff06f7cea0d4484bcee6cc0941976e7": {
          "model_module": "@jupyter-widgets/controls",
          "model_name": "DescriptionStyleModel",
          "state": {
            "_view_name": "StyleView",
            "_model_name": "DescriptionStyleModel",
            "description_width": "",
            "_view_module": "@jupyter-widgets/base",
            "_model_module_version": "1.5.0",
            "_view_count": null,
            "_view_module_version": "1.2.0",
            "_model_module": "@jupyter-widgets/controls"
          }
        },
        "66c78ab4ce08415f85f5b129af99eb74": {
          "model_module": "@jupyter-widgets/base",
          "model_name": "LayoutModel",
          "state": {
            "_view_name": "LayoutView",
            "grid_template_rows": null,
            "right": null,
            "justify_content": null,
            "_view_module": "@jupyter-widgets/base",
            "overflow": null,
            "_model_module_version": "1.2.0",
            "_view_count": null,
            "flex_flow": null,
            "width": null,
            "min_width": null,
            "border": null,
            "align_items": null,
            "bottom": null,
            "_model_module": "@jupyter-widgets/base",
            "top": null,
            "grid_column": null,
            "overflow_y": null,
            "overflow_x": null,
            "grid_auto_flow": null,
            "grid_area": null,
            "grid_template_columns": null,
            "flex": null,
            "_model_name": "LayoutModel",
            "justify_items": null,
            "grid_row": null,
            "max_height": null,
            "align_content": null,
            "visibility": null,
            "align_self": null,
            "height": null,
            "min_height": null,
            "padding": null,
            "grid_auto_rows": null,
            "grid_gap": null,
            "max_width": null,
            "order": null,
            "_view_module_version": "1.2.0",
            "grid_template_areas": null,
            "object_position": null,
            "object_fit": null,
            "grid_auto_columns": null,
            "margin": null,
            "display": null,
            "left": null
          }
        },
        "f82cdf772a864ff4a0a55265f1f2f1df": {
          "model_module": "@jupyter-widgets/base",
          "model_name": "LayoutModel",
          "state": {
            "_view_name": "LayoutView",
            "grid_template_rows": null,
            "right": null,
            "justify_content": null,
            "_view_module": "@jupyter-widgets/base",
            "overflow": null,
            "_model_module_version": "1.2.0",
            "_view_count": null,
            "flex_flow": null,
            "width": null,
            "min_width": null,
            "border": null,
            "align_items": null,
            "bottom": null,
            "_model_module": "@jupyter-widgets/base",
            "top": null,
            "grid_column": null,
            "overflow_y": null,
            "overflow_x": null,
            "grid_auto_flow": null,
            "grid_area": null,
            "grid_template_columns": null,
            "flex": null,
            "_model_name": "LayoutModel",
            "justify_items": null,
            "grid_row": null,
            "max_height": null,
            "align_content": null,
            "visibility": null,
            "align_self": null,
            "height": null,
            "min_height": null,
            "padding": null,
            "grid_auto_rows": null,
            "grid_gap": null,
            "max_width": null,
            "order": null,
            "_view_module_version": "1.2.0",
            "grid_template_areas": null,
            "object_position": null,
            "object_fit": null,
            "grid_auto_columns": null,
            "margin": null,
            "display": null,
            "left": null
          }
        },
        "281ca707eeba4ad1894a2f6f74a5daeb": {
          "model_module": "@jupyter-widgets/controls",
          "model_name": "VBoxModel",
          "state": {
            "_view_name": "VBoxView",
            "_dom_classes": [
              "widget-interact"
            ],
            "_model_name": "VBoxModel",
            "_view_module": "@jupyter-widgets/controls",
            "_model_module_version": "1.5.0",
            "_view_count": null,
            "_view_module_version": "1.5.0",
            "box_style": "",
            "layout": "IPY_MODEL_665778dff7724c049fd3135a4ed82d28",
            "_model_module": "@jupyter-widgets/controls",
            "children": [
              "IPY_MODEL_0b1daa927c0d4859a8e35dabb36048e2",
              "IPY_MODEL_a413e9e7f69b46b3b3c9f3c83b270e59"
            ]
          }
        },
        "665778dff7724c049fd3135a4ed82d28": {
          "model_module": "@jupyter-widgets/base",
          "model_name": "LayoutModel",
          "state": {
            "_view_name": "LayoutView",
            "grid_template_rows": null,
            "right": null,
            "justify_content": null,
            "_view_module": "@jupyter-widgets/base",
            "overflow": null,
            "_model_module_version": "1.2.0",
            "_view_count": null,
            "flex_flow": null,
            "width": null,
            "min_width": null,
            "border": null,
            "align_items": null,
            "bottom": null,
            "_model_module": "@jupyter-widgets/base",
            "top": null,
            "grid_column": null,
            "overflow_y": null,
            "overflow_x": null,
            "grid_auto_flow": null,
            "grid_area": null,
            "grid_template_columns": null,
            "flex": null,
            "_model_name": "LayoutModel",
            "justify_items": null,
            "grid_row": null,
            "max_height": null,
            "align_content": null,
            "visibility": null,
            "align_self": null,
            "height": null,
            "min_height": null,
            "padding": null,
            "grid_auto_rows": null,
            "grid_gap": null,
            "max_width": null,
            "order": null,
            "_view_module_version": "1.2.0",
            "grid_template_areas": null,
            "object_position": null,
            "object_fit": null,
            "grid_auto_columns": null,
            "margin": null,
            "display": null,
            "left": null
          }
        },
        "0b1daa927c0d4859a8e35dabb36048e2": {
          "model_module": "@jupyter-widgets/controls",
          "model_name": "DropdownModel",
          "state": {
            "_options_labels": [
              "0",
              "1",
              "2",
              "3",
              "4",
              "5",
              "6",
              "7",
              "8",
              "9",
              "10",
              "11",
              "12",
              "13",
              "14",
              "15",
              "16",
              "17",
              "18",
              "19",
              "20",
              "21",
              "22",
              "23",
              "24",
              "25",
              "26",
              "27",
              "28",
              "29",
              "30",
              "31",
              "32",
              "33",
              "34",
              "35",
              "36",
              "37",
              "38",
              "39",
              "40",
              "41",
              "42",
              "43",
              "44",
              "45"
            ],
            "_view_name": "DropdownView",
            "style": "IPY_MODEL_74d5f7d92be94f7c89b9f21a11c8b2b2",
            "_dom_classes": [],
            "description": "Tipo_Operacion",
            "_model_name": "DropdownModel",
            "index": 31,
            "_view_module": "@jupyter-widgets/controls",
            "_model_module_version": "1.5.0",
            "_view_count": null,
            "disabled": false,
            "_view_module_version": "1.5.0",
            "description_tooltip": null,
            "_model_module": "@jupyter-widgets/controls",
            "layout": "IPY_MODEL_ca08cefdac2249f184c82c1c75288374"
          }
        },
        "a413e9e7f69b46b3b3c9f3c83b270e59": {
          "model_module": "@jupyter-widgets/output",
          "model_name": "OutputModel",
          "state": {
            "_view_name": "OutputView",
            "msg_id": "",
            "_dom_classes": [],
            "_model_name": "OutputModel",
            "outputs": [
              {
                "output_type": "display_data",
                "metadata": {
                  "tags": []
                },
                "text/plain": "Index(['La terminal 1507 tienen missing values',\n       'La terminal 1574 tienen missing values',\n       'La terminal 1593 tienen missing values',\n       'La terminal 1594 tienen missing values',\n       'La terminal 1746 tienen missing values',\n       'La terminal 1772 tienen missing values',\n       'La terminal 1805 tienen missing values',\n       'La terminal 1824 tienen missing values',\n       'La terminal 1828 tienen missing values',\n       'La terminal 1864 tienen missing values',\n       'La terminal 1875 tienen missing values',\n       'La terminal 1882 tienen missing values',\n       'La terminal 1908 tienen missing values',\n       'La terminal 1919 tienen missing values',\n       'La terminal 1929 tienen missing values',\n       'La terminal 1944 tienen missing values',\n       'La terminal 1946 tienen missing values',\n       'La terminal 1971 tienen missing values',\n       'La terminal 1973 tienen missing values',\n       'La terminal 1981 tienen missing values',\n       'La terminal 1987 tienen missing values',\n       'La terminal 1993 tienen missing values',\n       'La terminal 1994 tienen missing values',\n       'La terminal 1995 tienen missing values'],\n      dtype='object', name='idTerminal')"
              }
            ],
            "_view_module": "@jupyter-widgets/output",
            "_model_module_version": "1.0.0",
            "_view_count": null,
            "_view_module_version": "1.0.0",
            "layout": "IPY_MODEL_f72f426572414323b612a30e4e9ac323",
            "_model_module": "@jupyter-widgets/output"
          }
        },
        "74d5f7d92be94f7c89b9f21a11c8b2b2": {
          "model_module": "@jupyter-widgets/controls",
          "model_name": "DescriptionStyleModel",
          "state": {
            "_view_name": "StyleView",
            "_model_name": "DescriptionStyleModel",
            "description_width": "",
            "_view_module": "@jupyter-widgets/base",
            "_model_module_version": "1.5.0",
            "_view_count": null,
            "_view_module_version": "1.2.0",
            "_model_module": "@jupyter-widgets/controls"
          }
        },
        "ca08cefdac2249f184c82c1c75288374": {
          "model_module": "@jupyter-widgets/base",
          "model_name": "LayoutModel",
          "state": {
            "_view_name": "LayoutView",
            "grid_template_rows": null,
            "right": null,
            "justify_content": null,
            "_view_module": "@jupyter-widgets/base",
            "overflow": null,
            "_model_module_version": "1.2.0",
            "_view_count": null,
            "flex_flow": null,
            "width": null,
            "min_width": null,
            "border": null,
            "align_items": null,
            "bottom": null,
            "_model_module": "@jupyter-widgets/base",
            "top": null,
            "grid_column": null,
            "overflow_y": null,
            "overflow_x": null,
            "grid_auto_flow": null,
            "grid_area": null,
            "grid_template_columns": null,
            "flex": null,
            "_model_name": "LayoutModel",
            "justify_items": null,
            "grid_row": null,
            "max_height": null,
            "align_content": null,
            "visibility": null,
            "align_self": null,
            "height": null,
            "min_height": null,
            "padding": null,
            "grid_auto_rows": null,
            "grid_gap": null,
            "max_width": null,
            "order": null,
            "_view_module_version": "1.2.0",
            "grid_template_areas": null,
            "object_position": null,
            "object_fit": null,
            "grid_auto_columns": null,
            "margin": null,
            "display": null,
            "left": null
          }
        },
        "f72f426572414323b612a30e4e9ac323": {
          "model_module": "@jupyter-widgets/base",
          "model_name": "LayoutModel",
          "state": {
            "_view_name": "LayoutView",
            "grid_template_rows": null,
            "right": null,
            "justify_content": null,
            "_view_module": "@jupyter-widgets/base",
            "overflow": null,
            "_model_module_version": "1.2.0",
            "_view_count": null,
            "flex_flow": null,
            "width": null,
            "min_width": null,
            "border": null,
            "align_items": null,
            "bottom": null,
            "_model_module": "@jupyter-widgets/base",
            "top": null,
            "grid_column": null,
            "overflow_y": null,
            "overflow_x": null,
            "grid_auto_flow": null,
            "grid_area": null,
            "grid_template_columns": null,
            "flex": null,
            "_model_name": "LayoutModel",
            "justify_items": null,
            "grid_row": null,
            "max_height": null,
            "align_content": null,
            "visibility": null,
            "align_self": null,
            "height": null,
            "min_height": null,
            "padding": null,
            "grid_auto_rows": null,
            "grid_gap": null,
            "max_width": null,
            "order": null,
            "_view_module_version": "1.2.0",
            "grid_template_areas": null,
            "object_position": null,
            "object_fit": null,
            "grid_auto_columns": null,
            "margin": null,
            "display": null,
            "left": null
          }
        },
        "1836801afa6a40c9b74a37a09eadff1d": {
          "model_module": "@jupyter-widgets/controls",
          "model_name": "VBoxModel",
          "state": {
            "_view_name": "VBoxView",
            "_dom_classes": [
              "widget-interact"
            ],
            "_model_name": "VBoxModel",
            "_view_module": "@jupyter-widgets/controls",
            "_model_module_version": "1.5.0",
            "_view_count": null,
            "_view_module_version": "1.5.0",
            "box_style": "",
            "layout": "IPY_MODEL_512c4ab3024d46ce93c901b8f19740a8",
            "_model_module": "@jupyter-widgets/controls",
            "children": [
              "IPY_MODEL_470ac7c80a8346ae917dc5ecbc4be957",
              "IPY_MODEL_2655cb255f504914aa64b84ae3f31c4d",
              "IPY_MODEL_8cccc6ebddba4bd79a1bac039168d1b3",
              "IPY_MODEL_45b12c1fed474a19aee0dd0aa360e2fa"
            ]
          }
        },
        "512c4ab3024d46ce93c901b8f19740a8": {
          "model_module": "@jupyter-widgets/base",
          "model_name": "LayoutModel",
          "state": {
            "_view_name": "LayoutView",
            "grid_template_rows": null,
            "right": null,
            "justify_content": null,
            "_view_module": "@jupyter-widgets/base",
            "overflow": null,
            "_model_module_version": "1.2.0",
            "_view_count": null,
            "flex_flow": null,
            "width": null,
            "min_width": null,
            "border": null,
            "align_items": null,
            "bottom": null,
            "_model_module": "@jupyter-widgets/base",
            "top": null,
            "grid_column": null,
            "overflow_y": null,
            "overflow_x": null,
            "grid_auto_flow": null,
            "grid_area": null,
            "grid_template_columns": null,
            "flex": null,
            "_model_name": "LayoutModel",
            "justify_items": null,
            "grid_row": null,
            "max_height": null,
            "align_content": null,
            "visibility": null,
            "align_self": null,
            "height": null,
            "min_height": null,
            "padding": null,
            "grid_auto_rows": null,
            "grid_gap": null,
            "max_width": null,
            "order": null,
            "_view_module_version": "1.2.0",
            "grid_template_areas": null,
            "object_position": null,
            "object_fit": null,
            "grid_auto_columns": null,
            "margin": null,
            "display": null,
            "left": null
          }
        },
        "470ac7c80a8346ae917dc5ecbc4be957": {
          "model_module": "@jupyter-widgets/controls",
          "model_name": "DropdownModel",
          "state": {
            "_options_labels": [
              "1964",
              "1908",
              "1980",
              "1910",
              "1774"
            ],
            "_view_name": "DropdownView",
            "style": "IPY_MODEL_bef38d345f2a4e689973be110b474070",
            "_dom_classes": [],
            "description": "Terminal",
            "_model_name": "DropdownModel",
            "index": 0,
            "_view_module": "@jupyter-widgets/controls",
            "_model_module_version": "1.5.0",
            "_view_count": null,
            "disabled": false,
            "_view_module_version": "1.5.0",
            "description_tooltip": null,
            "_model_module": "@jupyter-widgets/controls",
            "layout": "IPY_MODEL_34266b5b33bc4eb19e75ca1a0f80ada1"
          }
        },
        "2655cb255f504914aa64b84ae3f31c4d": {
          "model_module": "@jupyter-widgets/controls",
          "model_name": "DropdownModel",
          "state": {
            "_options_labels": [
              "3",
              "0",
              "4",
              "1",
              "7"
            ],
            "_view_name": "DropdownView",
            "style": "IPY_MODEL_d611ddbf5f0245cb94f8b071a16a413d",
            "_dom_classes": [],
            "description": "Operacion",
            "_model_name": "DropdownModel",
            "index": 0,
            "_view_module": "@jupyter-widgets/controls",
            "_model_module_version": "1.5.0",
            "_view_count": null,
            "disabled": false,
            "_view_module_version": "1.5.0",
            "description_tooltip": null,
            "_model_module": "@jupyter-widgets/controls",
            "layout": "IPY_MODEL_fec429bc974d44489c7b2126784a93ca"
          }
        },
        "8cccc6ebddba4bd79a1bac039168d1b3": {
          "model_module": "@jupyter-widgets/controls",
          "model_name": "IntSliderModel",
          "state": {
            "_view_name": "IntSliderView",
            "style": "IPY_MODEL_8d9cac37f898416a8bd880e0a3fe1a80",
            "_dom_classes": [],
            "description": "window",
            "step": 1,
            "_model_name": "IntSliderModel",
            "orientation": "horizontal",
            "max": 30,
            "_view_module": "@jupyter-widgets/controls",
            "_model_module_version": "1.5.0",
            "value": 15,
            "_view_count": null,
            "disabled": false,
            "_view_module_version": "1.5.0",
            "min": 1,
            "continuous_update": true,
            "readout_format": "d",
            "description_tooltip": null,
            "readout": true,
            "_model_module": "@jupyter-widgets/controls",
            "layout": "IPY_MODEL_d410d6c2b5914f0bb3b58c3a80c997b6"
          }
        },
        "45b12c1fed474a19aee0dd0aa360e2fa": {
          "model_module": "@jupyter-widgets/output",
          "model_name": "OutputModel",
          "state": {
            "_view_name": "OutputView",
            "msg_id": "",
            "_dom_classes": [],
            "_model_name": "OutputModel",
            "outputs": [
              {
                "output_type": "stream",
                "metadata": {
                  "tags": []
                },
                "text": "\nPrueba de Dickey-Fuller test\nADF Statistic: -6.663639\np-value: 0.000000\nRechazo H0. La serie de tiempo No tiene una raíz unitaria, entonces es estacionaria\n",
                "stream": "stdout"
              },
              {
                "output_type": "display_data",
                "metadata": {
                  "tags": []
                },
                "image/png": "iVBORw0KGgoAAAANSUhEUgAAA3UAAAFQCAYAAAAY8FeMAAAABHNCSVQICAgIfAhkiAAAAAlwSFlzAAALEgAACxIB0t1+/AAAADh0RVh0U29mdHdhcmUAbWF0cGxvdGxpYiB2ZXJzaW9uMy4yLjIsIGh0dHA6Ly9tYXRwbG90bGliLm9yZy+WH4yJAAAgAElEQVR4nOzdd3wU1drA8d/MbHazm2w6CSH0YlBagEBQQJpIL/aGgoiIVyxXsVxfBSmCKHaxFxS9eLGhdEREEBFBmvQukEACCembLTPz/rFhJSShlwDP9/MJZObMnDk7s7uZZ05TTNM0EUIIIYQQQghxQVLPdwGEEEIIIYQQQpw6CeqEEEIIIYQQ4gImQZ0QQgghhBBCXMAkqBNCCCGEEEKIC5gEdUIIIYQQQghxAZOgTgghhBBCCCEuYBLUCSGEuKQkJiby999/AzB8+HAmTpx4nktUthUrVtClS5fAcseOHfntt9/OY4mEEEJUVBLUCSGEqJA6duxIw4YNycrKKrG+b9++JCYmsnfv3tM+xqhRo3jggQcqZPmSk5OZO3fuaeUhhBDi0iBBnRBCiAorISGBmTNnBpY3b96My+U6jyUqqaKXTwghxKVBgjohhBAVVp8+fZg2bVpgedq0afTt27fENh6Ph/Hjx9O+fXuuuuoqhg8fTlFRUSD9ww8/pE2bNrRp04avv/66xL5PPfUUr776KgA5OTncd999tGrVihYtWnDfffexf//+0y5fXl4eTzzxBK1ataJDhw68/fbbGIaBx+MhOTmZLVu2BLbNysqicePGZGZmsmzZMq6++uoTPFNCCCEuZRLUCSGEqLCSkpLIz89n+/bt6LrOzJkz6d27d4ltJkyYwM6dO5k2bRrz5s0jIyMj0E9u0aJFfPzxx3z88cfMmzePpUuXlnsswzC4/vrr+fnnn/n555+x2WyMGjXqtMs3evRo8vLymD9/PpMnT+b777/nm2++wWq10rlz5xI1fbNnz6ZFixZER0ef7KkSQghxCZOgTgghRIV2uDZsyZIl1KlTh7i4uECaaZpMnTqVp59+moiICEJDQ7nvvvsCgdLs2bO5/vrrueyyy3A4HAwdOrTc40RGRtKlSxfsdjuhoaHcf//9LF++/LTKp+s6s2bN4rHHHiM0NJSqVaty991388MPPwDQq1evEkHd9OnT6dWr10mfIyGEEJc2y/kugBBCCHEsffr0oV+/fuzdu5c+ffqUSMvKysLlcnH99dcH1pmmiWEYAGRkZNCwYcNAWkJCQrnHcblcjBs3jsWLF5OTkwNAQUEBuq6jadople/QoUN4vV6qVKkSWFelShXS09MBSElJoaioiDVr1hAdHc2mTZu45pprjndKhBBCiBIkqBNCCFGhJSQkULVqVX755Reef/75EmmRkZEEBwczc+bMEjVkh8XGxrJv377AclpaWrnH+fjjj9m5cydTp06lUqVKbNy4kb59+2Ka5mmVLygoiLS0NOrWrQvAvn37AmXVNI2uXbsyY8YMYmJiaN++PaGhocc+IUIIIcRRpPmlEEKICu/555/n008/xeFwlFivqio33XQTY8eOJTMzE4D09HQWL14MQNeuXfnuu+/Ytm0bLpeLt956q9xjFBQUYLPZCAsLIzs7+5jbnmj5Dgdtr776Kvn5+aSmpvLJJ5+U6HfXq1cvZs+ezfTp0+nZs+cJH1MIIYQ4TII6IYQQFV716tVp1KhRmWmPP/44NWrU4Oabb6ZZs2YMGDCAnTt3AtCuXTv69+9P//796dy5M61atSr3GP3798ftdtOqVStuueUW2rZte0bK9+yzz2K327nmmmu4/fbb6dmzJzfccEMgvUmTJtjtdjIyMmS0SyGEEKdEMY/XrkQIIYQQQgghRIUlNXVCCCGEEEIIcQGToE4IIYQQQgghLmAS1AkhhBBCCCHEBUyCOiGEEEIIIYS4gElQJ4QQ4qwbNWoUPXr0YP/+/dx9991nLN+OHTvy22+/nfR+y5Ytk5EmhRBCXDQkqBNCiItUWloaTZs2DfwkJiaSlJQUWF6xYsU5K8vBgweZMGECjzzyiMzFVo5vv/2W22677XwX46R4PB4eeughOnbsSGJiIsuWLSuR/uabb9KgQYMS78M9e/acp9IKIcTFy3K+CyCEEOLsqFKlCqtWrQosJyYm8v3331OjRo1zXpY33ngDgC+//PKcH1ucXc2aNeOuu+7ikUceKTO9W7duTJgw4RyXSgghLi1SUyeEEJeghQsX0rdvX5o1a0a7du148803A2l79+4lMTGRb775hnbt2tGiRQumTJnC2rVr6dWrF8nJyYwaNSqw/e7du7nrrrtISUkhJSWFxx57jNzc3EB6x44d+eijj+jVqxfNmzfnkUcewe12B9KnTp1K586dadmyJUOGDCE9Pb3cck+bNo0OHTqQkpLCO++8UyLNMAzef/99rrnmGlJSUnj44YfJzs4+ofNxeL+mTZvSvXt3fvzxxzK3S09Pp3HjxiXy3bBhAykpKXi9XgC+/vprunXrRosWLbjnnntITU0NbJuYmMiUKVO49tprSU5OZuTIkZimyfbt2xkxYgSrV6+madOmJCcnAyd2nb777jvat29f6pysXbuWW265heTkZNq0acOoUaPweDwndD5OlNVqZcCAASQnJ6OqckshhBDni3wDCyHEJchutzN+/HhWrFjBe++9x5QpU5g/f36JbdasWcO8efN49dVXGTt2LO+++y6TJk1i5syZzJ49mz/++AMA0zS57777WLx4MbNnz2b//v0lgg+A2bNn8+GHH/LTTz+xefNmvv32WwCWLl3Kyy+/zGuvvcavv/5KQkICjz76aJll3rZtGyNHjuTFF19k8eLFZGdns3///kD65MmTmT9/Pp9//jmLFy8mPDy8RPB5LNWqVeOLL77gzz//ZOjQoTz++ONkZGSU2i4uLo6kpCTmzZsXWDd9+nS6dOlCUFAQ8+fP57333uOtt95i6dKlNG/enMcee6xEHgsXLuTrr7/mhx9+YPbs2SxevJg6deowcuRIkpKSWLVqVaBp7Ilcpz///JM5c+bw6aefMnHiRLZv3w6Aqqr85z//4ffff+fLL79k6dKl/Pe//y33HCQnJ5f78/7775/QeSzLzz//TMuWLenRo8cxjy+EEOLUSVAnhBCXoJSUFBITE1FVlfr169OjR49AkHbYAw88gM1mo02bNjgcDnr27El0dDRxcXEkJyezYcMGAGrUqEHr1q2xWq1ERUVx9913s3z58hJ53XnnncTFxREREUGHDh3YuHEj4A+IbrjhBho0aIDVauXRRx9l9erV7N27t1SZ58yZQ/v27WnRogVWq5WHH364RO3Ql19+yb///W8qV66M1Wpl6NChzJ07F5/Pd9zz0a1bN+Li4lBVle7du1OjRg3Wrl1b5ra9evVixowZgD+gnTVrFr169QqUYfDgwdSpUweLxcKQIUPYuHFjidq6e++9l7CwMKpUqUJKSgqbNm0qt1wncp2GDh1KcHAw9evXp379+oH8GjZsSFJSEhaLhapVq3LLLbeUui5HWrFiRbk/gwcPPu45LEu3bt2YNWsWS5cuZfTo0bz99tuBcyeEEOLMkT51QghxCVqzZg0TJkxg69ateL1ePB4PXbt2LbFNdHR04HebzVZqubCwEPAPgvL888+zYsUKCgoKME2TsLCwEnlVqlQp8Lvdbg/UgmVkZNCgQYNAWkhICBEREaSnp1O1atUSeWRkZFC5cuXAssPhICIiIrCclpbGAw88UCLQU1WVzMxM4uLijnk+pk2bxieffBIIvgoLCzl06FCZ21577bWMHj2ajIwMdu3ahaqqgeaSaWlpjB07lvHjxwe2N02T9PR0EhISyjwXBQUF5ZbrRK5TTExMifwOX5edO3fywgsvsG7dOlwuF7qulzjX50LdunUDvx/uezd37lwZLEcIIc4wCeqEEOIS9Nhjj9GvXz8+/PBDbDYbzz//fLlBzPG88sorKIrC9OnTiYiIYP78+Sfc7DE2NrZELVZhYSHZ2dllBmGxsbGBpoUALperRN+2ypUrM3bsWJo3b35S5U9NTeWZZ55h0qRJNG3aFE3T6NOnT7nbh4eH07p1a2bNmsWOHTvo3r07iqIAEB8fz5AhQ+jdu/dJlQEI5HGk07lOzz33HFdccQUvv/wyoaGhTJo0iblz55a7fdOmTctNu++++xgyZMgJHfd4TNM8I/kIIYT4hzS/FEKIS1BBQQHh4eHYbDbWrl17Wk3iCgoKcDgcOJ1O0tPT+fDDD0943549e/Ltt9+yceNGPB4Pr7zyCo0bNy5VSwfQpUsXFi5cyIoVK/B4PLzxxhsYhhFIv+2223jttdcCQWJWVlap/mdlcblcKIpCVFQUAN988w1bt2495j69evXi+++/Z+7cuYGmlwC33nor77//fmD/vLw8Zs+effwTgb9mND09vcRgJqdznQoKCggJCSEkJITt27czZcqUY26/atWqcn+OFdB5PJ7AwDderxe32x0I3ObPn09OTg6mabJ27VomT55Mp06dTvg1CCGEODES1AkhxCVoxIgRvPHGGzRt2pSJEyfSrVu3U85r6NChbNiwgeTkZAYPHsy11157wvteddVVPPzwwzz44IO0adOGPXv28Oqrr5a5bb169Rg+fDjDhg2jbdu2hIWFlWiOedddd9GxY0cGDhxI06ZNufnmm8vtF3ekunXrMnDgQG699VauuuoqtmzZQrNmzY65T8eOHdm1axcxMTHUr18/sL5z584MGjSIRx99lGbNmtGzZ08WLVp0QueiVatW1K1blzZt2pCSkgKc3nV68sknmTFjBs2aNePZZ5+le/fuJ7zvyejatSuNGzcmPT2de+65h8aNGwcC61mzZnHttdfSrFkznnjiCe69916uu+66s1IOIYS4lCmmtIMQQgghhBBCiAuW1NQJIYQQQgghxAVMgjohhBBCCCGEuIBJUCeEEEIIIYQQF7CTCurGjx9Px44dSUxMZMuWLaXS33rrrVJpq1evpnfv3nTp0oWBAweSmZl5+qUWQgghhBBCCAGcZFDXqVMnvvjii8AEqkdav349q1evLpFmGAaPP/44w4cPZ+7cuSQnJzNhwoTTL7UQQgghhBBCCOAkg7rk5GTi4+NLrfd4PIwaNYrnnnuuxPp169Zhs9lITk4G/PP3zJkz59RLK4QQQgghhBCihDPSp+7111+nd+/epSaL3bdvH1WqVAksR0VFYRgG2dnZZ+KwQgghhBBCCHHJs5xuBqtWrWLdunUMGzbsTJSnTJmZ+RjGhTOdXqVKTg4cyDvfxRBHkGtSscj1uDTIda545JpcHOQ6VjxyTS4N5+s6q6pCdHToMbc57aBu+fLlbN++nU6dOgGwf/9+7rnnHsaNG0d8fDxpaWmBbbOyslBVlYiIiNM9rBBCCCGEEEIIzkBQN3jwYAYPHhxY7tixI++++y6XXXYZhmFQVFTEihUrSE5O5ssvv6Rr166ne0ghhBBCCCGEEMVOKqgbM2YM8+bN4+DBg9x9991EREQwc+bMcrdXVZUXX3yRESNG4Ha7SUhI4KWXXjrtQpumSX5+Di5XPoahn3Z+Z1pGhophGOe7GOIIck3Kp6oadnsooaHhKIpyvosjhBBCCCFOkmKaZoXvrHZ0n7qsrAwURcHpjEDTLBXuRtRiUfH5JICoSOSalM00TXTdR15eNqZpEhUVe06OK30PLg1ynSseuSYXB7mOFY9ck0vDRd2n7nzweIqIi6uKopyRwTvFRcrwetFzc9ALCsAwQFXRQkLQwsJRg4LOd/EqBEVRsFiCiIiIJj197/kujhBCCCGEOAUXZFAHpgR04pj0wkK8BzL8C4crow0DPT8fPT+foEqxaA7H+StgBeP/PFX4SnshhBBCCFEGiYzERcfwev0BnWn+E9AdVrxu5jdT2fv3rvNSPiGEEEIIIc4kCerOgHvv7c+AAbfTr99NtGuXwp133sqAAbczduzI08575coV3HPPnWeglKVt2rSBkSOfOen9hg4dTIcOV5KbmxNYt3LlCtq0Seatt1476fw++ui9wH7Tpn3N//73xUnn0aZNMoMG3QWAXlyuT7+ZyjX9buL3VX+W2Pbzad/g9riJC3UeN99ff/2FiRNfB87utRBCCCGEEOJUXaDNLyuWDz74FIB9+9IYNOhOJk/+8oIYlKN+/SsYMWLMKe1bq1Yd5s+fx/XX3wTArFnTueyy+qddpr59bzzlfU3TZOfOHcRrGqZh8PPSX6lZtTq5Fge6oqGZ/pFS+/W9AQC9IJ+g6Ohj5tmmTTvatGl3ymUSQgghhBDibJOg7ixauvRXPvvsY9xuD0FBQTz44KM0bNiIlStX8MYbr3DFFQ1Yv/4vQGHkyLHUrFkLgPfff5uffpqH0xlG06bNS+Q5e/YMvv32K3RdJzQ0lGHDnqJ69ZrMmjWdH3+cg9MZxo4d23E6Qxkz5kWio2MAmDz5E378cQ6KomK323n77Q9ZvXolEye+zkcfTcbn8/HEE4+Qk5OD2+3miisa8PjjTxNUzoAi3br1ZM6cmVx//U0UFhaydu1qrrmmCx6PJ7DN559P4pdfFqDrOjExsTz55P8RHR1Dfn4+L7wwih07thMVFU1cXByRkf7g6qOP3sPlcjF06CNs376Nl19+gaIiFx6Ph969r+Pmm28v93x369aD2bOnM7B7b9ZsXE/NatXJzi9AVzQ8ioWi7Exe+/h90jLSMU2Tm3v0ofedA5g7dxYLFy5g3LgJAPh8Pm64oSfvvPMRq1ev5LffFjNmzIun/D4QQgghhBDibLoogrpl+/5k6b7lZyXvK+NbkBLf/PgbHiU1dS+TJn3EK6+8SUhIKDt2bGfYsIf49lv/vH47d27n6aeH88QT/8enn37Ep59+xIgRY/j110UsWbKITz75Lzabjf/8Z1ggzzVrVrFgwY9MnPgBVquVpUuXMG7cKN5552MANm7cwKefTiEurjLjx4/h66//x333PcDs2TP49ddFvPvuxzgcIeTkZKOqJVveaprGiBFjCA+PwDRNxowZwcyZ35dbc1alSgJWq5Vdu3ayfv1ftG3bHk3TAulz584iNTWV996bhKqqfPfd17z11muMGDGGTz75AIcjhP/+9xuys7MZOPAOOnbsXOoY8fHxvPba21itVgoLCxk8uD8tW14ZCH6P1qHDNTzwwGD6d+/F3EUL6dK2PV/OngWAoSi89dnH1KxanZH/foLMQ4f417NP0rB1G9q168gbb7xMdnY2ERER/P77b9SoUZMqVRJYvXrlSVx1IYQQQgghzr2LIqiriJYtW0pq6l4eeGBwYJ2u62RlZQJQvXqNQHPFBg0asWTJYgBWrVpBx46dcRSPzNizZx8+/fQjAJYsWcS2bVsZPHgA4G9umJeXG8i/ceMmxMVVLs6zIcuXLyvebzF9+96AwxECQHh4RKnyGobBlCmf8/vvv2EYOnl5eQQHBx/zNXbr1pPZs2ewfv1f/PvfT7Bw4U+BtF9/XcSmTRsZOLBf8Wv3ERoaGniNjzzyOAARERG0a9exzPyLiop4660X2LZtC4qicvDgAbZt21JuUGe3O2jYsBFL165h3ZZNDLv3fqbMme1/fYrKyvV/MeT2/gBER0WRkpzCypUrqF27Lm3btufHH+dw0023Mnv2dLp163nM1y6EEEIIIURFcVEEdSnxzU+pNu1sMk2TlJQrefbZUaXSdu3aidVqCyyrqoqu6yeQJ/To0ZtBg4aUmW61Wo/IUzuhPA/78cc5rF27mrff9teiffbZx+zZs/uY+3TocA133nkzkZFR1KlTt0RQZ5om/fsPpGfPPidchqO9995EoqKi+fjjL7BYLPz73w+UaN5Zlu7de/HsM0/SufXVqJqGiX9ieoPSE9Qr1n+alnbr1ovXX5/Atdd2ZfXqlTz77OhTLrcQQgghhBDnkox+eZa0bNmKZcuWsmPH9sC6jRvXH3e/Zs1asGDBfFwuF7quM2vWD4G01q3bMmfOTDIy0gF/zd+mTRuPm2fr1m2ZNu0bCgsLAMjJyS61TX5+HuHhETgcIeTn5/Pjj3OOm6/D4eBf/3qIBx54uFRamzZX8913X5Ob669J9Hg8bN26JfAaZ82aHijLokU/l5l/fn4esbFxWCwWduzYxpo1q49bpqZNm9Pvzru58dY70FVLYOY1Q1Fp1qARsxb+BIpCrqbx+7KlNGvWAoAmTZIoLCzg3Xcn0rZt++PWUgohhBBCCFFRXBQ1dRVRtWrVGT58NC+8MBq3243P56VRoyZcfnmDY+7XunVb1q1by4ABtwUGSjlw4AAASUnNGDz4Xzz11KPouoHP56VDh2uoX//yY+bZtWsPDhzIYPDgu7FYLNjtdiZO/OCobXqyePEibr/9BiIjo2jSpClut/u4r7NTp2vLPWZOTjYPPuhvfmoYBtdddxP16l3GgAGDGDduJLfffgNRUdEkJTUtM4/+/e9h9OjhzJz5PdWqVS93uyMpisJtt/mbfOblF/nXYWKgMnTAIF6b9CGDn30SgCFDhlK7dp0SZf7ww3eZOPHD4x5HCCGEEEKIikIxzaNnZ654MjPzMYx/irl//99UrlzjPJbo2CwW9YKY0uBil5lbRH6hF7tNw+szSKgUer6LVKGdy89VpUpODhzIOyfHEuePXOeKR67JxUGuY8Uj1+TScL6us6oqREcf+z5WaurERcvj1bEGqWiqSpFx4v0LLyamaWL6fJheL6buw9R1LM4wFE3Dl5eHL/sQmKCFhGD6Ls1zJIQQQghxoZOgTlyUTNPE4zUIdQShKQqGYWKaJopSesCUis40DEyPB8PrRVEUFKsV9YhBcUpsW1zxrigKusuF7+BBTN1XYhvN7kDRNBSLBc3uwDQN9Pw8fPnZ7PliLFUfewLFIl8NQpwPnn1pZE7/Hu+BA9hq1CSu310AGEVFKDbbBfkdJoQQ4uyTOzdxUfL6DEzTxBakYRQHOrphYtHO7w2R7nJhFBYSFO2fbF0vyMc0TH+QpWmgqmCaqFarPzBNS8P0lhzxUwsLQ42KxjQMPPvSUCwWFIsFUzcw3EUERUahhYb68wy2odnCUW02KD7G4ZtCzW5Hs9sBMHUddXcRlqrVAgFd9sIFBNeoCYqKnpeLnpeHNSGB4Bo18WUfIv3zzwhp2Iiw1m1Ry5mkXghxYrxZmWT+MI3cJb+iWG0E16yJNz09kJ76xqu4U/diq5KA/bJEorr39H+uhRBCCCSoO22mYWDquv+muPjm+vB6RZXBRc8Xt9fflNAapOL1+vs3+oO681MeU9fxZmViFBSgHjGypi8nB/OoaRrUYDvWypVRFAU1OBglxIFitaIEWQETDj+pN02UICumz4vhdqOoKmqwPfAeVK1WrJViT6h8iqah2e3E3XEnAHphAQemflmqbFE9exFcoyaKJQhPaioFq1eRNWsGUd17SnAnxGlw79lD3u9LiejUmagePbE4w0qkh13VhqKd23Hv3UvWrBnk/bGMyoMGY69T9zyVWAghREUiQd0pMLxevBnpmLoOxj8DoliiY7A4neiFLtz709FCQ9GcTrnRPQ88XgNFUQjSVAzdX1N35GA754ppmuj5+fgOZYFpokVEYAkLD6RbK8cH3keH/z+y6ePhGr2yKJqGNfbEgraTpTlCqD3+ZQo2rEO12tDCwtCcYVjC/WXXQkOpOXY8hRvWk/n9d2R8/hlZs2ZQ/f+GYyljcnshREl6YSHZ8+eBphHdoxchjZtQ64WXsERElrl9eJu2hLdpC0Dhls3s//gD//eKEEIIgQR1p0RRVZQgK2qwhmLRUDQLaNo/wZumogYHo+fmoufmoNrtaM4wVLtd+kOcI26vji1I9dd2FTe59LmKMK0h5/QamD4fvqxMVJsNS1R0qb5wiqpW2BpdzekkLOXKctMVRSGkQUMcVzSgcMN6CtasQisOWF3btmKrUVMeaIhLlp6fT/7KP9Hz84jq3hOAA19P9a/Ly8VwuQBwXnlVoL9veQHd0RyXJVJz1NjA90nusqXYqiRgq1b97LwYIYQQFZ4EdafgeDUkms2GNTYWw+dDz89jxg/fkdSgETWbJQPSNPNsM00Tj8/AGayxZ8d2Vm9YR6PmHfDk5eHJP4QW6vT3OTvDg4GYpumvcTMMTI8bLSQUNSgIa+V4f/PJizSgPxzchTRoCIAvN5e9L7+IYrXibNmK8KtaY6tZ66J9/UIcZvp8FPy1ltzflpC/djXoOorFQmS3HiiKguZ0ElyzFlqYEy3USUiDhgTXqn1Kxzoc0BleLwe/+wbfoUPE9LmOyK7d5e+LEEJcgrTnnnvuufNdiONxuTwcOZtefn4OoaEVq4nXjTf2Ijm5JZGRUaiqf7RFRVX5adFCNmzbSvc+16NaLP6AIzUVw1WIaeIf5KKMP8ADBtxOt249sFgsTJ36X6pUScBePKjFyfjmm6m88MIopk37lq++msK+ffto2bLVmXjJJ+SFF0bjdIZRuXL8aeeVkZHOww//i969ryuxftas6Xz66Ud07NgZAI/PIL/Qg5qfyfPjnqPv9TeiWEMItgdjM3X0/Dz0PP8cI2pwMKauY7jdmG43hsvFd9/8j1XLl9GwQSO27dzOqhXLqOoMQy8oQC8sRC8sxHC5UIKCUDQNvaAAb3o6vuxD6Dk5/qfwhYVMmjqF35YuIeWqNscNaMaOHcl7773N6tUr6dDhmpM6L8OGPUSDBo0ICws7/sbHcKY+V4rVSnDtOpiuQvKW/U7OLz+T/+dyrAlVCYqOASAkxEZhoec4OYkL3YVwnfWCAvTcHDRHCACH5s2haPt2inbtxP33Lop278bwuAPvXW9mpv97W/N30DVN09+/VVHIXriA9I8/QC8sIKJtO+Lu7E+l2+4IfMfb69bD2TyZkIaNcVyWiCXyxGrmjkXRNMJSrsSbkU72gvkUbliPo0EDNLujzO0vhGsijk+uY8Uj1+TScL6us6IoOBxlj3x+mNTUnUW6rpOfn89jjz2FWnwDgGmiOZ3oBfn4Mg/iy1JQ7XYs4RElRjKbNOm/gd+nTp0SCBhPxsaN6/nqqyl88MFnOJ1OdF1n584dZ+S1nQhd13nqqWdPej+fz4eljFq0xYsX0qbN1RiZS1YAACAASURBVMfd31M8SMru7VsYMuRBateuy56MfAxNw1q5MobXg56Xh1LcNND0evGm7w/s36NNexSLhmkYbN26hSWLf6Ft46ZQfPOGaWKYJmpICBQHdqo9GFQtMIrl4YDvRGRlZbJw4QLmzPkZ9SSesBuGv9/ghAlvnPA+h5V3js8ERVEIuaIBIVc0QC8sIG/5cnJ/+xVLcdDp2rGdg5sLMOtcIVMniFJMw6Box3YAFEsQSpAFxRJEUEwMiqZheL1w1DQdAIot+IRqg03TxL1nNwVr11Cw7i+KdmwntFlzqgx5APA3kTyyrzRAROcuOC5LxHC72fnkY4D/gZDmDANFIap7T8LbtCWsRQpBMTGENGh0wp//M0FzOokf8gB5f/xOxuRP2T1mJDXHjAsEqkIIIS5+ckd1Fmmaxn//+xlJSU2pXbsuQ4cOJjHxcjZuXM/+/WnccN1NRIc6+faH78jKzeFfDzxCh6vbYwJXt2/FvHmL+OqrKRw8eIBnnnkSq9XGiBFjqFq1Gu+//zarV/+Jx+Olbt26PPbYf3A4Sj6ZzcjIICQkNFDDp2kadevWA2DlyhVMnPg6H300udTyypUreP31l6lbtx6bN2/Cbg/m6aefo1ZxM6HZs2fw7bdfoes6oaGhDBv2FNWr12TWrOnMnTsbh8PB3r27GT58NK+//jK33XYnrVu3JSsrk5deGkda2l5M0+S22+6kWzd/X5Mbb+xFp07XsnLlcmrXrst//jO81PlcvPgXHnzw0eOe96J8FwqQnnOIZQt/pHHzZDatX82kj96kcaNGrF//FxaLhWeeGcUnn3zAjh3biY2JYczo8ThCQ/n4kw9wuVzceecAPvzwXQoLC7jvP8NISmrKI488zvr163j33TcpKCgAYNCgIVx1VZtjlmnWrOn8+OMcnM4wduzYjtMZypgxL2K323nooSG43UUMHNiPbt16cMstd/D555P45ZcF6LpOTEwsTz75f0RHx/DRR++xc+cOCgrySU/fz7vvfsLAgXfw4ouvUrt2Xfbu3cNLL40lO/sQmqYxePADtGp1FQBt2iRz9933snTpElJSruTee+8/7rk8XZojhIh27Ylo1z6wLnfJYvb8stDfZ691W8LbtsMaF3fWyyIuDFkzfiDzh2ml1td+5Q0sYWFkzfyBrBnTS6XXfft9FKuVA19PJXfJr8WD+zixFA/yU+mW21BUlb0vv4hr00YAbDVqEtW9ByGNm/6TzxtvYxpGoCk1ho5iLX7gpijE3XU3vuIpPvS8XAy3Gy00FPAHV6GNk87CWTk+RVEIS7kSW7UauDZvlIBOCCEuMScV1I0fP565c+eSmprK9OnTueyyyzh06BBPPPEEu3fvxmq1UqNGDUaNGkVUlL9WafXq1QwfPhy3201CQgIvvfQS0ccY0e9U7XlxXKl1zhYtiejQCcPtJvX1V0qlh7VuQ3jrtuh5eaS981ap9Ij2HXG2TDmj5TxwIIO33nqfrKxMbrmlLzfffDvvffw5Gzas55lnnqBtUtNA00DD46Z//3uYPn0aY8aMp3Zt/9DVkyZ9SEhICB988BkAb7/9BpMnf8J99z1Q4lgtW7biiy8+5cYbe5GU1IymTZvTpUt3go8YUr8827dv5ZFHhvHss6OYPXsGY8aM4KOPJrNmzSoWLPiRiRM/wGq1snTpEsaNG8U773wMwIYNfzFp0hQSEqqWyvO11yZQu3Ydxo2bwMGDB7nnnn4kJtYPvK6CgoLAazpaXl4e6en7qXOc4bv1oiLcPh2rqpaYOkBVFfbu2cVzI0bx5JPP8PLL43nssQd5771PiI2NY9iwh1jwywJ69eob2Cc8PIJBg4bw22+LGTPmxUA5JkwYy0svvUFMTAwHDx7k3nvv4rPP/ofT6Txm2TZu3MCnn04hLq4y48eP4euv/8d99z3ASy+9zqBBdwZqZ+fOnUVqairvvTcJVVX57ruveeut1xgxYkzxOV7Hxx9/QURE6aaSI0c+Q58+19GzZ1927tzB0KH38vnnXxNZ3MzLZrPx4Ydln+NzJfaOu0ho34bdP8zm0Lw5HJozC2erK4kfdN95LZc4f4yiIvT8PIJiKhHRoROW6GgsEZGYXi+mz4vp9aEWP5xyXNEQtYymhYebOAbXqoVRWOgPvHJzKdq1C9PnJfa2OwAIb9uOsCtbE9KwUWA01yOpx/h+VK1Wwq9udyZe8lljq1IFW5UqABRu2kjusqXE3t4PNejYzXaEEEJc2E4qqOvUqRN33XUXd9xxR2CdoigMGjSIlBR/8DN+/HgmTJjA2LFjMQyDxx9/nHHjxpGcnMzbb7/NhAkTGDeudAB2qejQoROqqhITU4nw8AjateuAoijUr385Bw5k4LPZAhfFu38fHlcRJToUAkuWLKKgoICFCxf4t/N6AjVwR7Lb7bz33ids2rSBNWtWMWPGNL799qsTuqmvWrUaTZs2B6BLl+68+OLzFBTks2TJIrZt28rgwQMAf1OmvLzcwH6NGiWVGdABrFjxB0OHPgJATEwMV17ZmpUrVwSCuq5de5RbnqVLl3Dlla2PW27FasOneHA4Sg5MoqoK8VWqUa9eIgCJiYmkp+8jNjauePly9u7dc9z8161bw759aQwb9tA/x1QUUlP3UL/+Fcfct3HjJsTFVQagQYOGLF++rMztfv11EZs2bWTgwH4A6LqP0OKaAIArr2xdZkBXWFjAtm1b6N69NwC1atWmbt1E1q//K9Bs9XDN6PmkqCqRzZriq1YXX3Y2Ob8uQiuuZTZ9Pg5+9w22hKrYqlXHGh8vTTQvcvlrV5Px+WS0sDCq/99wNKeT8NZty93ecVkijssSy013Nm+Bs3mLctPDUs5dn+LzrejvXeQuXoR7zx6q/OtBgqJOrgm/OLu8mQdRrNZScxIKIcSpOKm7peTk5FLrIiIiAgEdQFJSElOmTAFg3bp12Gy2wH633nornTp1OitBXbUn/lNummqzHTNdczqPmX4mWa3/9JtTVRVr8Qhm2uFO94pKUJS/JlOLjPI/qT6if4dpmpgmPPbYUzQ/xo3LYYqicPnlDbj88gbccMMt9OrVmR07tqNpFkzzn3w9nhPr9Gma0KNHbwYNGlJmusNx8oO5nMi+ixcv5LrrbjxGuUwMnw+v4Q/kbEEl+7NoqkLQEdMJqKoWOPf+ZRVd149bRtOEOnXqMXHiB8fd9mjWo45f3vFM06R//4H07NmnzHR7OQMgnIjT2fdssEREEN2zd2C56O9dZP/0I6avuM+UpmGrkkDMjTcT0qAhhtcDhlmi/6moeAy3m30fvMvOv3diiYvHllAVa0IC9rr1sFVJAMCXnU3Gl1+Qv2I51ipViL3ldhkh9QyL6tKNoEqx7P/oA3aPfo74+x+ASqX/jotzz7V1K6lvvkbNMf77obwVf+DZv5+QBg2x1agpI5gKIU7aGX0EbhgGU6ZMoWPHjgDs27ePKsXNQACioqIwDIPs7OwyaxrKEx0dWmI5I0PFYql4X3ia9k+5jizf4fWKoqBpSplph1ks/ywHR0bgsDsIDQvD5SpE1X0UZWTQptVVTJ36BU2aNCE4OJiCggIyMtIDfd4O27VrJ7quB5os7tq1G6/XR3x8ZXRdJy0tlcLCfJxOJwsWzENR/MfXNJXU1L2sW7eapKRmzJ49mzp16hIeHsbVV1/NyJHDuf76G4iNjUPXdbZu3Uz9+legqop/rqUjXs+Rr7lFi5bMnDmNe++9n8zMg/z++xJuv71fYPujz8VhXq+XjRvXM3r02DLTVRVMtxvv/n34ov01YQ57UInyqKoCpv8YikKpsqqqgqr+s+3h353OUAoKCgLbJSUlMX78GNas+TMQVG/YsJ7LL7+i1A3p0XkefbzDy5qmAv+ktWvXjv/9bwodO3YiLCwMj8fD33/vol69y0rkefR7LyzMSb16icybN5OePfuwc+cOtm/fQpMmTUq8L8v77KiqSqVKx25CeiaVeaxKTak29b+4UtMo2LmLgl27KNixk+j4aJyVnGQuXcamFycQWrsWzvqJhF1eH2f9+thiznyTbnHqTDOUnHAn9kYNKdqfTu6SxRhFRSRc35eqTeqjFxXxx7+ewDRNqt9xGwnX9ZE5Dc+SSl3aU/nyOmwcN57Ul18kKnYsleoduxm7OLuyV69h22sTsMVEExUejC3GSe7fO8icPYfMad9iCQ0lvEkjIps3I65Tx3LzOZff1+LEyDW5NFTU63xGg7rRo0fjcDjo16/fmcyWzMx8DOOfJoiGYeDzGcfY4/x48MH7AzVuAJ9++iUAuu4vr2ma6LpZouyH0w7z+f5Z9vkMfLrBjTfeyujRzxFss/Kf+x/mxvadmJybw90D7igeVVNh4MB7qVatZonyFBS4eOONlzl0KAur1YaqqgwfPoqwMH9Afeut/ejf/w6ioqJISmqGaW7H5zPQdYPatesybdp3jB8/luDgYP7v/0bi8xk0atSUwYP/xbBhjxSX3UuHDtdQt259DMPENEu+viNf88MPD+Oll8Zyxx03Y5om9903lOrVawW2P/pcHPb777/TpElTQC2Vbuo6nkM5LFu5gluH3othKpimSa9evUlIqBYoj1occLk9PiyaWqqshmFiGP7lI39v2rQFX3wxmTvuuIWmTZvxyCOP88ILLzNx4uu88soEfD4vVaokMH78q6VGrjw6z6OPd3hZ1w3gn7TOnbuTlXWI++8fVLytwXXX3UStWnVL5Hmkw+du+PDRvPTSWKZM+QJN03jmmVE4neEl31PlfHYMw+DAgbwy0860SpWcxz6WPQKuSCLkiiRCgCKg6EAebkc4Ud164Nq2lf3z5rNvxiwAaj4/HmtcXGASZ3HumaZJzqKFOC5vgDU2loh+dxMbG8aBA3mYhoEvKxNUjQMH8vAePEBIUjOi+/TFGleZzOwi/FdZnBX2CBKeeoacX34htE7tc/Y5F6Xlr/qTfe+9Q1DleOL/PYxc0woH8gi74VYcnbtTuHEDhevXkb1+HYUZmaiN/Q8PD/xvCmpICPa69QiuVZu4qjFyHSuY4/5dExeF83WdVVUpVcl1NMU0j+qwdQI6duzIu+++y2WXXRZYN378eDZv3sy7774baGa2du1ann76aWbMmAFAVlYWnTp1YtWqVSd1vKODuv37/6Zy5RonW+xzxmIpHXycKaZpoufl4cvOBkNHCw0lKKbSGT3G0SNjnm8vvTSWFi1SaN++U4n1hteLNyMd0+fDEhWNxekk7WABqqpQOapkM8Mij87+zALiY0JKNc0Ufufyc3UmvhRNnw/33j0U7dhOeIdOKIrC/k8+QrXbiel7HWrwqTcFFifHcLtJnzyJvN+XEtG5C7G33Mb8FXtA07imaZXjZyDOmUqVnKRt2EHG1CnE3TkgMNWIOPuKdu5g97gxBNesRcLDj6KFlD9CqWmaGIWFaCEhmIbB7jEjce/+25+oqjiqVSUkpTWR13bBcLv5e9Rw/4itugGqQmjjJCI6X4u1Uuw5enVCgrpLQ0UO6s5ITd0rr7zCunXreP/990v0G2rYsCFFRUWsWLGC5ORkvvzyS7p27XomDnnJUhTFP0R3aCi+nJxArYTh8+Hdtw8TE0yg+H9LZCSWsDBMXUcvLEC1BfvnULuAajMef/zpMtf7sg9h6gZBcZXRgoMxDBOPTyc8pPQob5pWfJ6Mk36GISooxWIhuGYtgmvWAvzzmylBQWT/9CN5K/4g9tY7CG2eXKHe64bHg2vrFlxbN2OrVj0woEfeij9Qg4NRg+2odgdBlSqhWk9stELTNPGkpZG/6k88qXtBVdHCwom95TYADi2Yj3f/fpSgILSwMCwRkQTFxGA/zkiyJ8qzfz9pb7+JZ18a0X2vJ6p7T3buy2XKT1upFOmQoK4Ccu9LpXDdX+weM5IqQx8iuHr5D3O8mZkABEVHB2pcLVHR0ufrFNhq1KTSjTcTfnX7Y46yCsVdF4qDPkVVqTF8JHpBAa7t2yjavg0zYx9KcHHfYlUluEZNUFUUVcNwucj+5WesCVWxtov198tXlAr1XSiEOPNOqqZuzJgxzJs3j4MHDxIZGUlERASvvfYaPXv2pGbNmoGh8qtWrcrEiRMBWLlyJSNGjCgxpUFMTMxJFVJq6o7P1HV8hw75F5TifxRQHSFowcHorkK86en+dFVFtdlQbcFoTieKpmH6fP7BKRQl8KMoCmhahftDYBoGiqpi6jqmYQT64hR5fOzPLKRSpJ2Q4JL9cwwTdu/PJSbCTqhd+u6U5UKrqSuPa8d2MiZ/invPbhwNGxF314DA4EPny6F5cyj46y9cWzf7P2eqSkSHTsTedgeG18u2++8tsb1isRDd5zqiuvXANAxMj7tEzeORzUzTJ08i55eFAARVqgQoWCIiqPak/2FI2ttvUrhpE6bXg+n1AmCrVp0aI0YBsPflF/EeyiIoJhZrbCxBcXEEV6+Bvd4/LTEOH9MoKkLPzUUJshAUFY1rxw5SX3kRLBbi7x1CSIOGeH06IyetIO1gAXabxsR/V+wpAC41hz97Rbt2kTbxDfSCfCoPuKfE9D2+nGzyViwn749lFG3fRniHTsTdcSfeAwfY+Z/HUWw2bFUSsCYkYKuSQEiTpjLX5DEcWjCf0EZNij+fZ8bxvkN92YdQHSGoViuHFswn97clRHa+FmfzFhfEiMKG14MnLQ1rXOXjBsAVhdTUXRoumpq6Z555hmeeeabU+s2bN5e7T7NmzZg+vfREseLMUjSNoGMEy2qwHWtCVUy3G8NdhFHkxuc6hGq3o2gauqsQX/ET2SNZqySgWK3o+fn48vJQNBVF00DVUCwaWkioP8A6B08CTdPEl5WJ4fZgrVwZRdP8ZSnm8foD6bKaV0pN3aXDXrsO1Z8ZQfbPP3Fo7uxAjULhxg14szLxZWej52Tjy84muGYtorr7p3nIWfQLwbVqY61a9ZjvY72wgMIN63Hv3UNM3xsAyJw5HdeWzSgWi/8nKIigSrHE9LkOgLw/V2AUFRHRoROOBg2w10sMjOCpaBo1Rj2P4XJhuFzohQW4//4bW7XqAHj2pfH3yOHYqtfAcVkiRlER+WtWUf3/hhMUFU1os2Rs1aoTmtQMSxkDUFX514NAcVDmcuHLzsb0ef85X5clou7dg/fAAXK2bsF0FxHSJImE4qBuz/ixeDMPoufmBkYlDW/Xnrg7B2BLSCC0WTLRfa4jqHj+0R+W7CLtYAGJ1SLYvCcbr08nyCJNniua4Jo1qf7MCNLeeYt977+DiUlYy1akvfMW+Sv/BNPEWrUa0dfdEAj4VLud2LsG4ElNxZ26l4K1a8j9dTGWqCiscXG4tm8j44vJWOPjsVaOxxofT1BsHNbK8Sdc83yxOfj9d2RN/x5fl4NUuunWc3ZcS0TkP787wzCKXOz/4D0Ofj2VqO69CG/X/rzWthpeLwWrV5H35wp8h7LQC/IxCgqI6taTyGu74Ms6xO7Rz6E5w4i+7nrC21wttcNCHEfFf1wjzghFUVCCgiAoCK14zjNT1/21cuBv8hUX5B+zv/jHNI0ST/QUBUyvD8PthuLh+LUQf16+7Gz03Bx/zZ6m+WsC7f6mZGci0DN1He+BDIyiIrSw8EC5j+T26qiqgqaWTjs8UIpuVLwBdsSZp2gakddcS0T7joH3cPpnk/AeyABAdTiwREQQVDxvoJ6XR/rkSWCaWKKiCWnShNAmSdgTL0cNCsKTnk7+n8sp+Gstru3bwDBQHSFEXtsNzeHA9PkwXK7iybJ9mF4v7r//JrpnbxRNo+qwJ8qd/FlR1cAw/wEt/5lLTQ22E9W9B64tW8heMB80jZCGjTCLpyEJadDwxM6JoqA5HIE5AQ+L7vXP1BmmaaLn5mB6/EGfaRhYIqMIqlQJzRnmb77pDMOa4C+varNReeCgwP479+Uy6/e/adM4ntpVwti8J5u8Qi9RYRLUVUSW8HCqPvYEh+bMIrRxEgC2qtWwVknA2aJlqfelFhpKxNXtS6zz5eWWeG9rYWG4tm0lb9nvgXXVnh6OvXZt8v5czqG5c7CER6BFRGAJD8cSFk5oi5ZodjtGkQsAxRZc4VqInIq85X+QNf17wlq3JeaGm89bOZwtWhLaPJmCdWs5NHsWGV98hmvbFuLvLXtqopNhmiaefWl40lKxxlUmqHJ8uSPZmoaBLzvbP1+i7mP/Jx+i2h3YqiRgiYxCCwkJfLdYIiOJH3w/2T//RMZnk8he8BOxt96Oo/7lp11mIS5WpzRQyrkmzS8rHtM0QdcDN8y6y4XhLgKf7r/BdbtBVbBVrYaiKOiFhSiqimKzndQf68N/BPS8PMAkKDomEJQeLfVAPhZNJS6q9FxsFovKjtQcHMEWYsJlAI2yXCzNL8vj3rMHJdiGJTyizFoDX3Y2BWvXkL92NYUb1mN6PMTe2Z+Idh3IWfQL6Z99gq16DUIaNSakYWOCa9cuUVN8Lhher/8BTQVsPuX1GYyctByX28foe1qy8e9DTPxuHc/d3YLqcRVz+OdL0bn67BluN570/XgzMnBc0QDN4SB/9Sqyf5qPr7im3CgsAKDWS68SFBlJ5vTvyfz+u0D/z+BatXEkXk5Y6zYXXE2fOy2V3c+Pwla1GtUef+qMf2ZP9Tqapkn+n8uxRERir1sPvbAAo6jolJqoF6xbS8YXk/EeOPDPSlWl5vMvYK0US9HOHXizMtGcYRSsWknuH8uwRERQ49nnAHCnpmKNjz9mDZxpmuSvWM6Br/+H6fZQa/yECjtPqTS/vDRcNM0vhThM8U9qF1jW7HY0e8k+P2bxDSiALyvL3+RLVf0DQtgd/pq8cv7QHe43h6JgFLlQHfZyb8bB36zS6zNwBJffX05TFXRpfnnJslWrdsx0S0QE4Ve3I/zqdhgeD4WbNgYGYQlt0ZKQJk2whJ/4/JpnQ0Wey+2HJTtJO1jAIzc1wREchNPh/6zmubzH2VNcjFSbjeDqNUoMwhKa1JTQpKaBZcPrQc/LwxIeDoCjQUOUoCD0vFx8hw7h2rqVgr/+Irzt1QDk/v4bpk/HcfnlBEWfXN/8cy1r+veoVhvxQx6oUA9hFEXBmdwysJw5/QdyfvmZqO49iezStVSLAn+z7UJ82Tm4/95J/prVhLdtR0iDhmjOMKyV44ns0o3gmrXxHsjAnbo3ECDmLPmVnIUL/BlpGiGNmxCWcmWgT7At4agWCuWVt0VLQpok4UlLQ7XZMA2DQz/OJbzN1cccQVSIS03F+aYRFxVFUVCOCMCs8fEYRUX+fkNFLnyFhWihoagxlfwBoNuNYrNh+nzouTnohYXYEqqiqCrWysd+kgfg8fmbg9qCyt9OUxXpUydOiGq1Etq4SWBZs9vBLjW85Qk0u2wUT+M6/hu6wwMS5RdKUCfKpgZZUY+oIbLXroO9dp3Asmma6Dk5gaAoZ/EiXJs3Af6HNGFXtsHZ6soKOS1D3N2D8B7IICgy8vgbn0eRna7Bl3mQzGnfkrtkMSGNk7DXqYuzZQp6YSE7hj0SaOoNoIWHE9rE31Q3uEZNEh5+NJAWXLMmzhb/BIyVbrqF8LZX48vKxF4vsdxWNidCtVoJrlkTANeWzRz86n8c/Op/BFWKxVa9Oraq1Qhr3ea8D4olxPmkPffcc8+d70Icj8vl4chGovn5OYSGnt8n5kd67LGHcLkKqF//CsBfRarrBjff3Jd69S4jPr7sIb2ff/45DhxI54orTqxPzJm2dOkSbrvteurUqUfN4hqJY5k69b9UqZKA/RRubhVVRbVa0RwObh3Yj5btOhBdOd4/8qbXi2dfGnpern8wBq8HLSQENTjY32TzBJprFhb5cLl9RIYFo5bVp05VyHf58OkGYWVMeSDO7ecqJMRGYaHn+BuKCs/rM3jtqzVomspDNzQKDIpiAnOW7aZ+9UhqV6l4N92Xqgvps6coSomRD8Ouao0zuQXWuDjcaWnkLlmM9+CBQCBh+nznfTCN/DWr0cLD0YKDz2qweaauo+YIwdkiheC69SjcvInCTRuxREURckUDFIsFw1VIaLPmhLVuS1T3nlS66ZZjToFxJMViwRIRgTW+yhltPhsUU4mQpKZYIqNA8Tetz1+5grArW2MJjyBv+R+kT55Ewdo1FG7aRNGunf4+f/HxKJaz19rhQvpsiVN3vq6zoig4HMf+HElN3RnQo0dvvvzyc/r2vTGwbtWqP1FVhaSkZmf0WD6fD8sZasoxc+YPNG/egpkzf6Bduw7H3X7q1CkkJ7ckMjLqtI+tBgUFvuQVi4WgSrEYLlfxHFth5TbLLI/bq6NpChZNauqEOJd+WLKT1COaXR4WGhyEokCe3OSIM8TfZK8qtoSqRHbugjsttXheVv98ibvHjcbZMgVn8xYE16p9zvteFW7ZTNrEN4jo2InYW+8AYPW2g0SG2qhRuWL3Kw25ogEhz40usU5RlHM6YufJOLppr1HkQrH+c70VTcOzfz/61i3o+flgmjiLB6A6tGA++HxEdO5yUQzII8RhF0VQt+Svffy6dt9ZybtN43haN4o/5jZt27bj5ZfHsWvXzkCN18yZP9C9ey927NjOyy+/QFGRC4/HQ+/e13HzzbeXyqOwsJDXXnuJjRvXA9C1aw/uuKM/AEOHDqZevUTWr/+LsLAwJkx4g88/n8QvvyxA13ViYmJ58sn/Izo6hsWLF/LBB++gqhq67uPf/36CZs2SSx0vJyebP/9czhdffEW/fjeTmXmQ6OI+CuvWrWXixNcpLCz8f/bePEyuukzfv0/te1dXd/XeSSedhCyEhCSEPSA7EkFHHRQdcRy3UUd0xlFGGcCBcQR/P8dxwcFx0EFwQ5AlgCDIvoRsJJC1k+6k96WWrq1rP+f7Ry3dnd6rqruq05/7unIl6TpVdbpOnarzft7nfR4AvvjFmzh4cD8u1wC33PINdDo9t912J7/+9f2sXLmKD37weiDVecz8/9ln/8RDD/2GRNo6/Ytf/Aqbl43LtwAAIABJREFURuj4M7hcLn7wg7vp6+slGo1y2WVX8olPfApZlvn+9+9m9+4daLU6TCYjP/3pfRMeg1g8iW4K2/RMUTcy40sgEOROW4+fp99sHyW7zKBSSViMOjFTJ5g1RrtzKpjXrMX/6iv4XvgLqNXoGxdR86lPo6+rH57TngI5EiHu8ZDwepAjEawbU9+frkf+gMpsxrph07h5c4nBQXruvQet00nFtR/I/vzBZw9TVW7inz965pj7CArHyBxP61mbR8lAFVkmGQyiMptRFIXwkSMEd75F3DWA8yMfK3p3VyAoFKdEUVdstFotl19+NU899Thf+MJNhEIhXnnlJR544PdYLBZ+8IN70Ol0DA0N8dnP3sjmzeeOkTv+8pc/R5Zl7r//dwwNhfjc5z7F0qXLOPfc8wHo7u7knnt+jkaj4ZlnnqKrq4t77/0lKpWKP/7xD/z4xz/gttvu5Oc/v5evf/1bnH76GSSTSSJpi+iTeeaZpznvvAtwOCq46KL38PTT2/j4xz+J3+/jm9/8Z/793+9m7dp1JJNJQqEQmzefwxNPPMqdd97F0qXLpnxNzj77HC5Pr4K1tx/nppu+wB//+NSY7e6881Y++clPs379BuLxODfd9PesWrWasjI7e/bs5IEHHkKlUuH3+yd8roxJysmB4yeTkWUmZQWNWhR1AkG+/Oa5FmxmLR+5dPzPBJtZJ2bqBHOCrqaW2s9+nmQ4TLjlCJFjRwkfbUFjS5mweJ7ahu/ll9DV1qIkkyjxOCgyi755KwD9v/sN/tdeQU4vZgKoTOZsUZcMD+F5ahuuh36HvmkJ1o2bsGw8C11VFUoiQc+99yCHwzT84z+Pig0JhhMEw36SsoxaFA9FQVKpRklhaz/7eVzl5Xj//Axxj4faz3y+ZB01BYKZcEoUdeevnbqbNttcc821fO1r/8DnPvclnnvuWdauXUdVVTUej5sf//i7HD16BElS4XINcPTokTFF3c6db3HTTV9DkiTMZguXXXYFO3e+lS3qLr/8qqzs8tVXX+bQoYN86lMfByCZTGBJDyBv3LiJH/7w+1x88SWcc855ExZgTz31BP/wD18F4Oqrt/Ld797Bxz/+Sd599x2ampawdm3KJEKtVmPLYS6gq6uT22//FgMDA2g0Gjwe96huIEA4HGbPnl0MDg5mfzY0FOL48eNcffVWEokE3/3uHWzYsInzzrtwwueKxVMmKbpJTFKAbH5dqqib8a8kEAhGoCgK7f0BLlpXP6HrrM2sIyg6dYI5RG00Yjlj3SijI0jl7xmWLiXucqXl/3okrSar3DA0LkI5+1y05eVoKipS+YyO4VGD6o99gvIrriK4ayfBXTtxPfwQ0a5Oaj/9OdzbHiPccoSaz3wOfX1D9j6JpEw0/f3U0R+kqUbMlpYCkkqF8/qPoqmsZOC3v6bz/7+Lxq9/s6RcSgWCXBDv4AKxfPkKKiqcvPnm62zb9jgf/vBHAbj33p/gcFRw330PotFo+OpXv0gsNvMZE6NxeOVPURRuvPFTbN163Zjtvvzlf+LYsaPs2rWDf/3Xm7n++o9x7QgpCMChQwdpazvGf/zHv2V/5nINsG/f2zPaJ7VaPWpGLRaLZv99++3f4ktf+ipbtlyMLMtcdtkFY35vRZGRJImf//z+cecEf/Wr37Nnzy527nyLn/70R9x33wOjisLs86YzAXXaqeWXgJirEwgKQGAoTiwuU2k3TLiNzayjq1/kNgmKz8lxCidjO+98bOedP+lj6JxVOK56L46r3kvc7UJJJAAo23IxaosV29nnjto+FElk/93S4RNFXYlRfunlaB0VxN0uUdAJTgmEFqCAXHPNtdx338/o6DjBhRdeBEAwGKCqqhqNRkNr61H27h2/cNq0aTNPPvkYiqIwNBTi+eef5ayzzh532wsu2MIf//iHrCQxFovR0nIEgPb24zQ3L+Ov//qjXHHF1Rw8eGDM/Z988nE+9rEb+cMfnsj++bu/+xxPPvk4p5++luPH23j33X0AJJPJ7POYzWaCwWD2cerrGzl0KDUD6HK52L17V/a2YDCYdf188snHxy1kTSYz69adyQMP/DL7s76+XtxuF16vl0gkwtlnn8vnP/8lLBYL3d1d474e8WSqOFSP43o5kpHyS4FAkB8uXwSAyrKJi7oyi17M1AlOSbQVleiqa1L/dlRQftkVY7YJjXjvt3QOjrldUHwsZ27IHruhgwcYOnK4yHskEOSOWJooIJdffhU/+cl/8f73/xXadEjwjTf+HXfccStPPvkYjY2LWD/BSuEnP/lp/vM/7+YTn0iZjlx55Xs555zzxt32qquuwecb5B/+4bMAyLLMBz7wYZYvX8FPf/pjOjvbUas1WCwW/uVfbh1132g0ynPPPcNPf/q/Y/b9xhs/wle+kpqn+9GP/pNIJIwkqfjiF2/irLPO5kMf+gjf+c6/YTAYuO22O7n22vdzyy3f4OMf/zCNjYtYvXpN9vG+/OV/5Jvf/BpWq5Wzzz6PsnS47Mnceusd/PCH38/+3iaTmX/5l1uJRCLcddedJJNJkskk55xzHmvWrB33MRIJGY1amtL8RHTqBILC4fKl5nUryyaOOMnM1AlzIsFCJBRJFXU2k5aWLp84D0oYRVFw/fEPRNvbqb/pHzGtWl3sXRIIZoykKErJX+G63cFRF+K9vSeoqZleTkox0GhUJNKSQMHs0zUQRKNRUV1umnAbjUZFPJ7kRG+AMouOcuvE3YWFylyeV06nlYEBIcubzzz95gkeevEYP/nqFoz68dcHX93fx31P7J90G8HcIs69uePtFhc/fHgfF5xRy6v7evju58+lyj7znNfxEMex8CSDQTq+910Sg14W33L7uC6nkyGOycKgWMdZpZKoqLBMvs0c7YtAMCsoikI8qaCdJJ8ugyRJqWB40akTCPJmwBfBbNBMWqzZzKksSiHBFCxEMp269ctSs+AtHUKCWcqoLRbqvvhlUKDrJz9EjkanvlORkCMRPH96irjHA6QK0rjXiyKLhsJCRiydFphkUgahrpgzkrICijJp6PhIRAC5QFAYXL7wpNJLGFHUDcUK1qEQCOYLGaOUFY12jHoNR7t8RXfqFkyOrqqK2s9+nq7/+j6DL/4Fx5VX5/2Ysd7e1GPX1OT9WACRtlZ6/ude4v19WNKRG75XX8b1h9+DWo2mzI62ooKyCy+a0vxHcGoxT4s6Ke2cWHqNRm8wSjwhU1thLvauLAgyMletZvpFnejUjUVRZMRqhGAmuH0R6qb4nCuzpLKfRFadYCESCseRJDAZNCyrL6Ol01fsXRJMA/Ppa2n8+jcxNDfndH9FUYh1dxPctYPArp3EujpBkmj8xjcxLlue834psoz3T0/heuyPaMrKaPj6v6CtTElEzWvXoTIaSbjdxL0eou3tDPz+t5jPWIfaMrlkr1SJuwYI7t4FKjVlF24RWYLTYF4WdTqdgcFBF1ZrOWq1pqQGj9UqiWA8KQai54h4MlXUTTdMXKVSEUskZ3OX5hWKopBMJggEvOh0xZ8zPHjcw56jLm64bEWxd0UwCYqi4PJFOKO5YtLtMp06kVUnWIiEInFMeg0qSWJ5QxnvvOwmGI5jMY6f6ygoHYzLU8VX3O0m7nZhWnHapNsrikIyLdeMdrTT/m+3gSRhXL4C50c/BkkZw9JUkRjr60NbVTXja8S+//sF/tdewbJpM9V/cyNq8/Cimr6+Hn19/fD+JJPEB/pRWywosowciaA2Tew7UCpkrp0H//Ic/b9+IPtzz5NP4LhmK/ZLLkNSlV5Dp1SYl0VdebmTYNCHx9OHLJfWBXo0liQYjtOV9Ey70BDkTiiSIBJN4MLAZJ+PKpUKWZYJhlPZWr1JseKTQaVSYzRasFjGdyidS17Y08XOwwN88KJm9FPkDgqKhz8UI56QZyC/FEWdYOERiiQwpwu45Q2pz9ejXb7sjJ2g9On7v/uIHG9j0bduzUZYjCQ5NIT/zdfxvfgX/GtPp+zDN6BvXET1jX+L+Yx1aMrso7ZP+P2033k7hqYlVH3sb9DVTC3HVWQZSaWi7KL3YFyxAtt5F0xZEEpqdfaxPU9tw//qK9R96cvoGxqn/8vPEbGBfoI73iKwcwcV7/8AljPWY1q1msoP/jWWjZtI+n24Hn2E4J7d2fiJyRon0Y4Ohg4eIO5xY7/0MnTOqrn8dYrKvCzqJEnCarVjtdqn3niO6XKF+P6vt/OZ963m3DWF0U8LJua/H3uX4z0Bvvv5cyfdLuNW9PirbTz6ajs/++eLpz2HJ5g7jnWnMhE9/oiQMJcwmYy6ikky6gCMeg1qlUQgPDanUiA41QmF45gNqaKuqdaGWiXR0jkoirp5RPUnPsmJO79N909+yKJv/isqQ2ohK9rZweALz+N/8w2UaBTDkqWUrUnFIEiSRFk6q/hk1BYLlX/1IVyP/IETt/8r5Ve9F8d7t6LSpRbAEoNeEoM+kqEgyVCQoXffQdIbqP7Y32BcuhTj0qUz/h1Mq1Yz+MLztP/HndR++rNYztyY46tROBRFIXzkMN4/P0No79ugKBiWNme7cLraOhzprGOqqmj82jeQI6kYnbjXS9d/fo/yK6/Gumkz0Y52IieOU37p5QC4n3yC4M63QK3G9/KLVL7/r7BfdsWC6PDNy6KulKlxGNGoVXT2B2HN1NsL8qPfG8ZZPn0DBqsp9QUbDMexW0S3rpTw+CN4Ayn5iicQFUVdCTOd4HFIL8CZtGKmTrAgCUXi2U6dXqumqcYq5urmGdpKJ3Wf+wKd3/8ePT/7b+q+dBOSSpUq6F5/Devmc7C/5xIMTUumZXUvqVTY33Mplg0bGfj97/Bsexz/a6+y9HvfB6DvgfsJvb1nxB0kHFdfk9dIj7F5GYtuuZ2ee35E909+RMV1H8BxzfuKW+Qkk/T+/GfI8RiOa7ZSduHFaCsml/NnCmo5GETS6uj7xf/S98v7IJ3MZt24CY29nMoPfBDn9R8FRaH/wfsZ+P1vkaNRKt533az/WsVGFHUFRq1SsajGSsdAsNi7siAYGAyzpNY27e2tpmE5mCjqSoujXcMXOx5/pIh7IpiK4eDxqecwLUadmKkTLEhCkcSo/NRlDWU8v6uTeCKJViPk5fMF06rVOD/8EQZ+/xuGDuzHfPpaKq59P5Uf+FDOJiSaMju1n/kcZRduSXWq0jiuvJqyC7agNptRmS1obLaCGJ1oy8tp+PrN9N3/S9zbHseyfgP6xkbibjdqmxWVVpf3c0xGMhjE9/KLBHbvYtHN30LSaKj/8lfRVldnu5TTRd/YyKJbbiP09m7Cx45hWNqMcflyNNbUtaCuujq7bd2XbiK4awemVakuy1z9vsViRkXdXXfdxTPPPENXVxdPPPEEK1akzAza2tq4+eabGRwcxG63c9ddd9HU1DTlbacqTbU2dh/qK/ZunPIEw3FCkQTOGVilZzp1/iEhBys1Wrv9aNQqEkkZr79084EEqU6dxajFoJv6K8Rq0oqcOsGCZKT8EmB5g51n3urgeG+A5Q2lNz4imBj75VegMhhQ21KFw8mzcrliWrkK08pV2f8bl8+eSZhKq6PmU5/BccVV6BtTs3W9//szIm2tGJctx5jeF0PTEiR1bosOSiIV4yFpNIRbj+F5+kli3V3E+/tBUTCtXkMiEEBbXp7dh1yQJAnLmRunlJJKkoR10+bUvsky3T/5IXIsSs2Nn5rV17pYzKj3eumll/Lggw9SP8JhB+C2227jhhtu4JlnnuGGG27g1ltvndZtpypL6mwMBmMEROEwqwwMproFVTOSXw7nZglKi2NdPppqrdjMOjwB0akrZVy+yLS6dAAWo5BfChYesqIwFElgMgwvfCzLmKUICea8Q5IkyrZchGHR4mLvSl5IkoS+cVH2/46rr6HsoveQCARw//FhOv7jTrr/+yfZ2wdfeJ7gvr3E3W4UZXQcVKr79hIDf/g93T/5Ecdv/RYtX/wcwb0p+aiSSBDv6UHf0EjF+65j8e130PCP/4y2vHxuftmTkFQqKj/4YZREgo67vkP3f99DtKurKPsyW8yoU7dp06YxP3O73Rw4cIBf/OIXAGzdupU77rgDj8eDoigT3uZwOAqw+6VJU1oO2DkQYtXiU7PFWwr0e9NFXQ6dOuHGV1rEEzIn+gJctrGRRELGIzp1JY3LF6HROb2ZR4tJKxZRBAuOcDSBAtmZOgCbSUe1w0RLp4/8I60Fgvwxrz0D89ozAEgE/IQPH0LSpUZT5GiU/gd/ld1WZTCgsZdjv+xy7BdfQnJoiL77f4Gk0aCtdKKtrsa8bj26qpRJoGnFaTTd+R9z/0tNgnnN6TR9+9/xPL0N75//THDXDuq/8k+Y15xe7F0rCHnP1PX09FBdXY063apVq9VUVVXR09ODoigT3nYqF3WLM0Vdf5BVi4uzIrEQ6E936mYivzQbtUiS6NSVGif6AiSSCs31NvoHw/S4Q8XeJcEEyIqC2xfhzOXTc/CzGrUMRRIkZRn1AnAfEwggJb0EMBtGX2Ytbyhjz5EBZEVBJbJsBSWExmrLShUBVHo9zT/8CbGubqLdncS6Okl4B1FbrQBoKytZ8t3voXFUzCtnSZVeT+X7P0j5ZVcy+NILmE5bCUBo/7to7OWj8v7mG/PCKKWiIv8h0bnGbtHjCkRxOq3F3pVTlkA4QblVT0P99LTtmWNRZtYTlxHHpsiMfP1fO5CaQd18Rj3triEOnvBQWWnJ2e1LMHu4fWESSZmmevu0zqHaKisKYDQbKBPmRCWB+OybfQYjqdmiuhrbqNd746pqXt3XQ0yRaKzK7ziI41h6nHrHxAqLa4AN499cXfx825xxWqlZcgOQiljoeOi3hLu6qDz/PJZ/9cuoNBOXSKV6nPMu6mpra+nr6yOZTKJWq0kmk/T391NbW4uiKBPeNhPc7iCyrEy9YYngdFqpqzTR0u6d0t5WkDvtvX4qywzTeo1HWg2bDRoGPEPi2BSRk62f9x4ZoMJmIBmNY9SoCEeTtHd6MY0wGRCUBpl5IIOaKc8hp9MKSRmA4x1e6ipFTEWxmY7tuiB/OntS50kymhj1elenZ1G37+vCsD73joA4jqWHOCbzm7qv3Yz32T8Rdbtxp8d7xqNYx1mlkqZscuXdL62oqGDVqlVs27YNgG3btrFq1SocDsekt53qNDgtdLlC86oYnW8MDIZnNE+XwWrSCvfLEuNYl4/m+pRs2WFLdXPEXF1pkokzqCib3rlnyc6xinNOsHAIhVOdOtNJ8svqciNWk1bk1QkEJUYmGL72M58r9q7kzIyKujvvvJMtW7bQ29vL3/7t33LNNdcAcPvtt/PAAw9w5ZVX8sADD/Dtb387e5/JbjuVaayyEE/I9HmHir0rpySxeBJvIDqj4PEMVpNOGKWUEJnQ8ea6lIzDYUutZAsHzNJkusHjGaxpowiRVSdYSIQi6Zk642i1gSRJLG+wCwdMgUBQcGYkv7zlllu45ZZbxvy8ubmZhx56aNz7THbbqUyDM9Ui7RwIUVshJEeFZiB9YZlrpy4ougYlw7FuPwDN9emizio6daWMyxfBZtKi104vxygbIyKKOsECYiKjFIBl9WXsPjLAYDCKXcyZCgSCAjF/7GrmGXWVJlSSRGd/sNi7ckoykNY759qpC0USJNKzPoLicqzLh1ajYlF1aiHEbtGjkiTRqStRXL7wtKWXABZj6qJWZNUJFhKhSAK9To1GPfYya3mjyKsTCASFRxR1s4RWo6amwkTngCjqZoP+tKw1l06dzSTkYKXEsS4fi2us2YsflUrCbtWJTl2JMpPgcUh9Fup1anG+CRYUoUgcyzhdOoDF1VZ0GpWYqxMIBAVFFHWzSIPTTIfo1M0K/YNhjHo1FuPM3RGzcjDROSg6mdDxZXWjbZEdVgMev+jUlRqZjLpK+/SLOkjN1QmjFMFCIhROTOjeq1GrWFJro6VzcI73SiAQnMqIom4WaXBacPkihKOJYu/KKUf/YBin3ZhTjplVuPGVDO0jQsdH4rDp8QREp67U8AVjJGWFyhnILyF1zomZOsFCIhSJjztPl2F5YxntfUEiMXF9IBAICoMo6maRhqrUjFDXQKjIe3LqMeDNLc4Ahjt1Itag+BzrSsmPlo7bqYuiKCISpJQYGEzNss5EfglgMerETJ1gQRGKJMY4X45keYMdWVFoSxtFCQQCQb6Iom4WaUw7YHaIubqCIssKLl+EqnJTTvcf7tSJi8xic7TbT4VNT7l1tANcuU1PIimLY1RiuGcYZ5DBYtSKmTrBgiLVqZu4qGuuK0MCMVcnEAgKhijqZhGHTY9RrxEOmAXG44+QlBWqcnC+hFRukCSJoq4USIWOl435ucMqsupKkWzwuG2GM3UmrTjfBAsGRVEIhROYjRPLL00GDfVOi5irEwgEBUMUdbOIJEk0Os2iU1dg+tMSMGeO8kuVJGERxg1F5+TQ8ZFUlImsulLE5YtQZtahm2ZGXQarSUs0niQWT87SngkEpUMsIZNIypN26gAaqsz0peN5BAKBIF9EUTfLNFRZ6OwPitmgApIp6nKdqQOwmXSic1BkWk8KHR9JtlMnHDBLipnGGWTIuNQKCaZgITBZ8PhIrEadMBASCAQFQxR1s0xDlYVILJmdRRHkz4A3jEYtjZnDmgkpOZjo1BWToyeFjo/EatKiUauEA2aJkQoez6WoS5kTiaJOsBAIRVKOllN16qwmLdGY6GALBILCIIq6WUaYpRSe/sEwlWVGVKqZxxlksJh0+EWnrqgc6x4dOj4SSZJwWPWiU1dCyLKCxx/NSfacNScSRZ1gAZDt1E2Ro2ozi8xUgUBQOERRN8vUVZoB6BSxBgWj3xvO2SQlg82kJSg6dUUjnkhyojdAc51twm1EVl1pMRiMkpSVnDp1IhtSsJAY7tRNJb/MLHaI80IgEOSPKOpmGaNeg9NuEA6YBUJRlGzweD5YTTpCkQSJpFygPRPMhNYuXyp0fByTlAzlVgNe0akrGXLNqIMRM3WiIyFYAIQiqfe5ZYpOXTYzNSTOC4FAkD+iqJsDGpwWOoX8siAEhuJEY8m8TFJguHMw2YyPMLeZPQ6d8ALjm6RkcNj0eAMxZFkch1LAlc2om/m5ZzZokRAzdYKFQaaoM03VqRMdbIFAUEBEUTcHNFZZ6PUMiWHoApB1vsxbfjn5LIOsKNx5/05++3xLXs8jGJ9Dxz3jho6PxGEzICsKg0EhwSwFMmZPM82oA1CpJMxGrZipEywIQuEEapWEforoD+sU30MCgUAwE0RRNwc0OC0oCnS7xVxdvgx4C1PUTbVCurfFRVtPgL1HXXk9j2B8Dp3wTtqlA3CkCz4xV1cauHwR7BYdWk1uXxupbEhx8So49QlF4piNWiRpcjMvo16NWiWJTp1AICgIoqibAxqr0g6YYq4ub/oHw0jkJgEbiSUzyzDOl6miKDy1/QQAfd6w+MItMN5AFNdgeNJ5Okh16kBk1ZUKLl84r/POKsyJBAuEUCQxpUkKpFx+U/E6YrFDIBDkjyjq5gCn3YhOq6KzX3Tq8qXfG6bcps+5W5DBlu3Ujf0yben0cazLz6aVVQAcS4dkCwrDsS4fAEvrJ3a+BKiwpTt1ftGpKwVyDR7PYDFqxUydYEEQCsenjDPIYDPpxMKhQCAoCKKomwNUKon6SmGWUggGBsN5m6QAaWnM+EXdU2+ewGLU8jdXrEAlSdkiRFAYjnWnQscXV1sn3c6o16DXqfEERKeu2CRlGY8/SqU996LOahIzdYKFQSgSx6yfulMHs3Ne7GkZIJ4QM/wCwUJDFHVzRIPTTEd/UDgq5kkh4gwAVJKU6hyctELa2R9k3zE3l21qwGrS0VhloVV06gpKe1+QplrbuKHjI8kEkHtFp67oeANRZEXJS35pMeoIDsXFZ6DglCcUTky7U2c16fCHCtep63aF+NHD77Dz8EDBHlMgEMwPRFE3RzRUWQiG4/gK+OG90IjEEvhDsbxNUjLYTDr8J3Xqnt5+Ar1WzSUbGgBorrfR2uMXtvoFxBuIUlVumta2DptBdOpKgKzzZR7yS6tJS1JWCEdFB2G+8eCfj/Cn7e3F3o15QygSx2yYflFXyE5dJk/SFxTXGgLBQkMUdXNEozNlliJCyHNnYDB1YVmITh2kZS8jOnUuX5jtB/q5aH1dNjS2ua6MaCwppLMFQlEUvIEoFdOU8TmsejFTVwJkzr18Z+oAgmFxsTmfSCRlXtnbzfYDfcXelXlBIikTiSUxG6cvv4zGkgWLPHKnjaXE/KpAsPAoWFH3wgsv8P73v5/rrruOa6+9lmeffRaAtrY2rr/+eq688kquv/56jh8/XqinnFc0ZBwwRXGQM/3eISD/OIMMFpNu1EzdM291IElwxVmN2Z81p808hFlKYQhHk0TjyWnL+Bw2A/5QjERSnuU9E0yGy5dync0loy5DNkZEXGzOK7oGQsQSMj3uELKQzk7JUDQBMINO3cSmXbkwXNSJxROBYKFRkKJOURS+/vWvc/fdd/PYY49x9913841vfANZlrntttu44YYbeOaZZ7jhhhu49dZbC/GU8w6LUUu5VS8cMPMgGzw+C526wFCMV/Z2c87q6qyVPqS6glaTVpilFAhvYGYyPodVj0JKsikoHm5fBLtVP+Uc5GRYjKkYkaCwb59XtPWkFrRiCRmXT0ihpyKUXrSYTqQBpMYAAAIFKsIyUmkRkyAQLDwK1qlTqVQEAgEAAoEAVVVVeL1eDhw4wNatWwHYunUrBw4cwOPxFOpp5xUNTuGAmQ8D3jAWoxbTNFdAp8Jm0hGKJEgkZZ7f1UksIXPVOYtHbSNJEs11ZaKoKxCZ4qxiBp06EFl1xSbfOAMofEdCMDe09gyrFLoHxKLkVIQi6U7dDIxSoHDnRUauLuSXAsHCY3pLSVMgSRI/+MEP+MIXvoDJZCIUCvGzn/2Mnp4eqqurUavVAKigVxSfAAAgAElEQVTVaqqqqujp6cHhcEz78SsqLIXYzTnF6Rxr175yiYNHXjiK3qTHZtYVYa/mN4OhOHVO87iv7XQ4+X61Ven/azS8sKeLs9fUsH5VzZj7nbHCydtPucRxKwDx1tSCTqXdiNMxtVlKc1p1GUfK+bgL8scTjLJmaUVOxyBzH7M1VRQqKpU4lkVmJq9/R3+QlYvLOXTCiy+SEMduCo6nC9+G2rJpvVZxpNQ/1DM/L8bb3htMFXXhWFIcqyIgXvOFQake54IUdYlEgnvvvZd77rmHjRs3smvXLr7yla9w9913F+LhcbuD88p90Om0MjAQGPPz0xeX85CssO2lo1w+Ym5LMD06+wM015eN+9pOxXjHRJJTFcOvntxPYCjOpWfWj/vYtWlTj7f2dbFuWWUOey7I0NGd6ng6bIZpHUcpnbV0omuQgUX2Wd03wfgkkjKuwTBWvWbG597I805RFDRqiV5XIKdzWFAYJvp+Go9wNEF7b4D3nd9En2eII8c94thNQXdfWq4aiU3rtYqnO3tdvTM7L8Y7jomkjCctvxwMRMWxmmNmcm4J5i/FOs4qlTRlk6sg8suDBw/S39/Pxo0bAdi4cSNGoxG9Xk9fXx/JZOrCLJlM0t/fT21tbSGedt7RWGWhqcbKK/u6RVbTDEkkU+HHhXK+BLCl5WCvvtPDioYyljWUjbtdU40tFULeLSSY+eIJRLGZtGg10/vo0evUmA0a4YBZRLyBKIqSn/MlpBQdqWxIIQubL5zoDaAAS+ts1FWa6XYL+eVUZOWX0xwTMOrVqFVSQWbqvIEoCmC36AhF4sLYRiBYYBSkqKupqaG3t5fW1lYAjh07htvtZvHixaxatYpt27YBsG3bNlatWjUj6eWpxpZ1dXQOhDjeK1ZzZoLbH0FWlIKZpEDK/RJAUeDqk2bpRqLXqWmoMnOsSzhg5os3EKXcOrPiwGEziJm6IpIxx8i3qIN0ALmY9Zk3ZExSltTaqKswCwfMaRAKpwSVJv30hFCSJKVNu/I/LzImKU01NhQFhtIFpkAgWBgURH7pdDq5/fbbuemmm5CklD78O9/5Dna7ndtvv52bb76Ze+65B5vNxl133VWIp5y3bF5VzW+fb+Hlvd0sqbUVe3fmDQPetPNlgeIMYNi4od5p5ozmikm3ba4v4/V3e5FlBZVKKtg+LDS8gci04wwyOKx6PML9smi40q6zlQVYUCnUxatgbmjt8eO0G7CadNQ7zcTiKQfMQi6unWqEIgmMes2MvidsJh2BUP6dukycwaJqC28fdREMx7P5kAKB4NSnIEUdwLXXXsu111475ufNzc089NBDhXqaeY/JoOGslVVsP9DHRy5Zjl6nLvYuzQsycQaFlF9ajFo2neZky/q67GLERCyrK+OF3V10DgRZVF2aA7LzAW8gyvLGmc3GOWwGjgr30aLh8kWQJCi36vN+LKtJy4k+4QA8X2jr8bOsPiVLr6swA9DtComibhJCkfi0g8czWE3aguQ3Zoq6xenvqOBQHBauMEowT0gkZSQJ1KqCGfIvWMQrWAQuXFdHJJZkx6H+Yu/KvGFgMIxWo8JuKZz7pEqS+MIH1nL6ksm7dDAcQt4qQshzJhpPEookKLfMrDhw2PSEIgmi8eQs7ZlgMly+CI48M+oypGbqRCjyfGAwGMXjj7I0rSipq0y51Xa7xFzdZITCiWnP02WwmnTZzNR8cPsi2Mw6ym2pz9hCZd8JBLPJXQ/u5td/bin2bpwSiKKuCCxvKKPaYeKVfd3F3pV5gy8Yo9yin7KjNluIEPL8GUxLKGfa8XFYRVZdMXH7wtPOFZwKi1HLUCRBMu08Kyhd2tILWEvrUp06k0FLuVVPl8iqm5ShSHzaGXUZLCYt/gLIkj3+CBU2Q1ZyKUyJBKWOoih09Ad580Av8YT4XsgXUdQVAUmS2HJGLS2dPnqEm9i08IVi2ArYpZspmRDyo6JTlzOZuTjHTIu69KqzmKsrDgO+CM4CmKRAqiOhkOpmCEqb1h4/KkliUfWwhXZdhUk4YE5BMJLAbJiZ/NJm0hGNJYkn8lMjuPxRKsoMWI2p70phSiQodcLRBLGETDiaZH+bp9i7M+8RRV2ROO/0GtQqiVf29RR7V+YFvlCMsiIHfzfX2+jzDIkvyhzJdupsMysQMttn8pcEc0ciKTMYSF0oFoKMOVEh5ocEs0tbj5+GKjM67fDcd12lRThgTkEoHM9Bfpk+L/LorCmKku7U6dFpVWjUqjk7z3YfGeBr97wmJPKCGeMdsVgrRpLyRxR1RaLMoueM5gpef6eHRFK0nKfCF4wWv6hLy5CEBDM3PIFUUTbTmbrM9qJTN/dkcq8qZliIT8SwLEzM+pQysqLQ1uPPSi8z1FWaiMXlrHW+YDSyouRolJL6bvPncV4EhuLEEzIVNkM2JmGu5Jf72zx4/FH60y7VAsF0GQym3vPVDhNvHx0QEsw8EUVdEdmyrg7/UJy9R93F3pWSJp6QCUUSRS/qltRmQsiFBDMXvIEoJr1mxo6vWo2KMrNOzNQVgcxr7ihQpy5b1IlOXUnT5xkiHE2ypHa00299ZUqK2SXMUsYlEk2iKNMPHs9gSxd1+XTqMs6XmQUYi1E7Z+dZx0DK0XZgUBR1gpmR6dRdtrEhJcE8LiSY+SCKuiJy+lIHdotOGKZMQcYVzFbkom44hFx06nLBG4hmXdlmisMmsuqKwckXivliLcDFq2D2ybj8Lj0pS1U4YE7OUCT1vs5dfpl7py7TPc1IpeeqqFMUhc5+UdQJcmMwmPpeP+/0Gkx6DTsOCglmPoiiroioVSrOX1vLO63uUbpiwWh86VDWMnP+OVn50lxfRmuPH1kWMyUzxRuI5px15rAaJu3UyYrC7iMDeRsNCEbj8edmbjMRmU6dmKkrbdp6/Oh1amrT2XQZTAYtdotOFHUTEIqkDIByyakD8IcK0KlLF3WFyr6b8nl9ESKx1OeuKOoEM8UbjGI2aDDqNWxY4RQSzDwRRV2RufCMWhQFXn1HGKZMhC+tuS4rovtlhuY6G9FYUsiPcsAbiOZcHJSnO3XKBAYNz+3o4MePvMOeFlc+uyg4CY8/gtWkHWWWkQ9ajQqDTi2s1kuc1m4/S2qsqFRjI2TqK83i828Cgjl26ox6DWqVlFeunNsXQa9TY9KnCsq5yoTMSC81aomBQSGRF8yMwUAUe/q6YNPKKiHBzBNR1BWZqnITKxfZeWVvt3AUm4DM8HixZ+og1akDYZYyUxJJGX8ohn2GJikZHFYD0ViScHSsFX6vZ4iHX24FEB3vAuP2R3EUSHqZISULE0YppUo8kaSjP8iSOtu4t9dWmoUD5gSEwpmibmaduoyxSb4zdZVpkxSYu0zIjPRy5aJy0akTzJjBYDRrhra6qVxIMPNEFHUlwJZ1dbh8EQ6f8BZ7V0oSX1pznZnHKSZVdiMWY+4h5LKicLRz4RWEvmAMBXIuELJZdf7RRZssK9z31EG0ahUatZTt6goKg8cfKZj0MsNcycJmgn8oJrpPadr7gyRlZcw8XYb6SrNwwJyAYfnlzDp1kPp+y6eD7fZHRn2+ZjMhI7ObCdk5EMJpN9BYZcHlC4tiXzAjvIFodrFXo1Zx5opKIcHMA1HUlQAbVjgx6TW8LDLrxsUXimE2aNBqiv92lSSJZfVlOTtg7jzUz3ce2EVbz8Jy0Mx00HKeqctk1QVGX0g+t6uTo50+PnrZcuwWPYMh0akrFIqi4PJHCmaSksFq0pWcUcr/PHGAux7cLS5Igbb0Z9uSCYs64YA5EcNGKTPr1AHYTNq8Ig08/tF5ksPxIbN7rnUOBGlwWnDajSSSSjaPVCCYCllW8IViWfklwFkrq4UEMw+Kf5UsQKdVc+6aGnYdHsh+KQiG8YVilOUo25sNmutt9OYYQn403eFbaEVdNqMuZ6OUsZ26Ps8Qj7x0jHXNFZx3eg1lFp3o1BWQcDRBNJacHfllCRV1J3oD7G/zEAzHS8YA5IXdnfxpe3tRnrutx4/dopvwuGccMHtK5LUqJULhBDqtCq1m5jOoqcWO3D6/orEkwXCcihHuwnMRHxKLJ+n1DNFYZcFZbgSEWcrJRGNJHnrxKI++0lrsXSk5fKEYigLlI/wSMhLMnSKIPCdEUVcirF9RSSIpc7w3UOxdKTl8oVhJzNNlyISQt3bPXEaZWQU/scCOc76dOrtFj0qSsg5vsqzwv08dRKNW8YmrViJJEnazPuuUKsgfd7qArihQRl2GqazWFUWZ0+LqqTdPoFGnvgpbSkAarSgKT755gpf2FifqprXbP2GXDoYdMEWnbizBSHzGJikZLHnM1LnGiR7JOs3O4gJKtzuEopDt1AH0i6Iuy7ttbv71f7fz9JvtPPNWh1ACnEQmzmBkpy4jwdzTIiSYuSCKuhKhwZmWtAyIL8qT8QdjRc+oG8mSWhuSBEe7ZtZtSyRlTvSlhsrb038vFLyBKDqtKuvMNlNUKolyqy7bqXt+hOwyUyimOnVC+lMossHjOWYLToTVpCUaTxKLjx8/8ecdHdzy8+1z0s3u9w6x83A/l29qoMys42jn4Kw/55T7NBjG449mL3jmkmA4Tp83zNIJTFIy1AkHzHEJheM5SS8hFUAeiSVzimXxnBRnAMMxCaFZVP90pE1SGqssOKyphTfhgJk6j36+7QDf/91eNGoVF6+vIxpP4hJzqKPISHVPNlA7S7hg5owo6koEm0mLxaily7WwLvanQ6l16vQ6NY1Oy4zNUjoHgiSSMk67IfvvhUIqo27YmS0Xym0GvIEIfZ4hHn7pGGekZZcZyix6QpGEyKorEJ4CB49nyBgejdet84ViPPZaGwA7D8++/OZPb3WgVklcflYjyxrKSqJTdzBtmDWR2+tscrx38nm6DHXCAXNcQpFEzp264QDymRdh2eDxEeeq2Zh/oPlUdPaH0GlVOO1GNGoVDpse1wLu1CmKwvYDfXzrf95k+4E+tp63mG9/6izOX1sLQNeAuL4bSWbh6mQFz+omh5Bg5ogo6koESZJocJpFp+4kIrEE0XiypIo6gGUNZbR2+2dUmGWklxetrycpKwvqWOeTUZfBYdXj8kW4Ly27vDEtu8yQeY/M1VydLCuzesFUbNz+KGqVVPAu+WSysIdfOkYsLlNfaebtWc4c9AWjvLqvh/PX1mK36FneYMflixQ9FuPg8WEX5Lnu1rV1+5GApprJizrhgDk+oUg8J+dLGF7syKmo80dQq6RRHQ+9Vo1Oq5rVmbrOgSD1lZZsnqHTblywM3Uef4Q77tvOvY/vp7LMwK2fPIu/2tKMVqOmrtIMCCXWyXiDUVSShO0kZ/NhCaZLSDBniCjqSoh6p4VOV2jCgOWFiD89I1VK8kuA0xaVE40nOdE3/dm41m4/VpOWDSucADO6b77IiowvGqA90Mm7roO81rWdJ9v+zG8OPcyDBx/ikKcFWZm9D09vIJJzRl0Gh82Ayxeh5STZZQZ7eth6cI7m6p7f3cnXf/rGrF40FROPP0J5WlJVSCYycGjr8fPavh4u39TIxWfW0+Meosc9exdBz+3qJJmUuWrzIgCWN6RmZVuKKMGUFYVD7d6s5HVwjo1/Wrv91FSYME0hIcxcpJaKsUypMBRJ5CW/BHJywHRnztWTwuKts2hKpCgKHf1BGpzm7M8WclH3s8f3s7fFxfWXLONbf7OJxipL9jajXkNlmUFIlk9iMBCjzKIb876FjAQzISSYMyS3Tx/BrFDvNBONJXH7IlSmh44XOhnjizJLaRV1KxrtABxpH8wap0xFa4+fpbU2qsqNGHRq2mdY1AViQbQqDQbN1HI4XzTAMV8bRwdbOTrYRk+ob9yizaI1k1SSvN6zA6exgvPrzuac2k1YdZZxHjU3ZEVhMBjLezYr0+k7WXaZocycun2u5ur2HBkgGk+yv83D2aur5+Q55xL3LMQZwAiZ2YgAckVR+PVzR7Cadbzv/CbC0QQP/vkIe1pc1FaYJ3qonAlHE/xldxcbT3NS7Ui5OTZWWdBpVbR0+ti8qjjHs3sgRGAozoa1BjzvwDvdx3BWLcFhKEclze4arKIotPX4Wbu0YsptRxZ165ZVzup+zSdC4Xw6dbnLJd2+yLhupRajbtYyIX2hGMFwnIYRxYvTbsA/FCcSS2DQLazLyz5vmIs3NHBlepHoZOorzXQK+eUovMFodjH2ZEZKMNeLz5hps7DOuhKnIZ3/0+kKiaIuTUZKl7lgLxXKzDpqHCYOdwxy9TmLp9x+KJKg1z3EhtMqeKt3F45yicNdLvpC5Vh1FowaY1ZKKCsy/UMDdAa66Qz20BnspjPYTSCW+kIwa01UGBxUGB1UGhxUGMupMDgIxkMcHWylZbCV/qGUdE2n1rHUtpg1i1ZSri/DprdRprNh19uw6ixoVBriyTh7Bt7h1a7tPHrsKZ5ofYZ1zjVcUHcOy8uXopJUKIpCJBkhEAsSiIUIxIMMxcOcVr6MCmP5pL97IBQjKSs5O19mWLm4nFWLy8fILjNkO3Vz0N2IxpLZ+at9x1ynZFHn8UdY0Tj5sc2F8fKz3tzfx7EuP3/73pUY9RqMeg2La6zsaRngvdM4v2bKi293EY4mRp27GrWK5rqyonXqFEXh+QMHAdivPAdcwHOtb/FS+PfoVFpqzTXUWqqpM9ewzL6ExbbGgj6/2x/BPxSf0iQFwGzQUiYcMEcRiyeJJeScO3X5zNRNdK5aTJM7zeZDZ8YkxTmyqEtdt7gGI6OKvVMdRVEIhuOTKorqnRbebfOQSMpZt92FzmAwStUE17oZCebuIykJZinkFM8HRFFXQGLJOP6YH2M0tzffsO46KFYm0mQ7dSUmvwQ4bZGdtw72IcvKuPKBkRzv9aMAr/n+RPRgBzFWkhxo5Ntv/n9IEqgkFVatBaPGgDviIS6nDBLUkppaczVrHCups9SQlJO4Ih7cYQ+dgS72DewnqQwbgxg1BprLlnBe7WaW2ZeyyFqPWjV5ZpJWrWVzzQY212ygN9THq93b2d6zi939+7DrU13IYCxIQhlrQKKW1Jxbu4krFl8yYXHnyTPOIEOD08I/f/TMCW+3mnRIEnMSa3Co3UtSVqgsM/BOq2da74H5hCwreAMxKsoKv5hiNmiRpOGL13A0we9fPMqSWmvWUADgzOWVPPZKG75gtKA5lfGEzLM7Oli1uHyMIciy+jK2vXGccDSBMUen1lxo8bbyeOvTHDxUgcZo41Ob3sf/HvZxZvnZnL5yIz3BPrpDvex3H+LNnp0AXFh/Lh9Ydg16dWE+G9t6UsqBJdMo6iDVeRDyy2FCkdRndq5GKUa9BrVKmrH8MinL6XN1vE6dlgHv7MghO9PzYaM7dcNZdQupqAtHkyRlZYqizkxSVujzDFHvXDivzWQMBqJZ1dN4nLWyitfe6eXAcY9QBEwTUdTlQIu3lf3uQ/hjAXxRP4MxP/6on6FE6sNTo9JwpnMtWxrOZYlt8bQd/0wGDQ6bXqx+jsAXiiFJw6v7pcRpjXZeerubjv4gi2usE27nDnv57e4XgHIqKiSuX/33HLJFeOS5Hq6r/2u05jCBWJBgLEgoEWZ1xWk0WOposNZRbXKiUU18mqZm5fy4wh4MGgP1lpq8ZFo15mo+tPxarlt6NXsG3mGf6wB6lQ6rzoJFZ8aqtWDVpf6oJTUvd73B691v8UbPTs6t3cSVTZfgMIwu7vLNqJsuqrSpx1zIL/e3edBpVFx7/hLue+ogbT1+muunJ8OdDwwGo8iKUvDgcUgdJ7NhuIPw5Bsn8AVjfOkDa0fN721Y7uTRV9p4+6iLi9bXF+z539jfiy8Y49PXrB5z2/LGMpTXU7Nla5Y4CvacE9ER6Obx1qc54D6MTWtDHVrFuatrOatmFY9Y3kCJ6zm/buOo+wRiQf7c/iJ/aX+Fg54j3Lj6epaWNeW9L23dfjRqVTZeZyrqKs28vLcbWVEKPnc5H8lEB+Qqv5QkCWsOWXWDgRiyoowKHs9gMWpnTX7Z0R+k3Kof9d08sqhbSATDU8/+12cW7V0hUdSR6myHIgnKJ1mwy0gwdxzqF0XdNClYUReNRvnOd77DG2+8gV6vZ/369dxxxx20tbVx8803Mzg4iN1u56677qKpqalQT1sUXuh4hXfdh7DprNj1NqpNTlbYmynTW7HpbHiSLl5ofYMdfXtosNSxpf5cNtWcOa0V1QanRTgkjcAfimIzjT9IOx0Goz4ebnmCDY2rWWVePa15tOly2qJU8XK43TtuUZeUk7zY+Rrb2p4lNLAWqxVuPufvUavUGBYFeYQebMkGzm0cOx82XVSSinKDnXLDxKtduTCyezcZHzntA1y5+D08c+KF4eKu7iyuXPyebHE3XNQVvkA4mbkKIN9/3MOKRXbWL69EkmDvMfcpVdRl8gBnY6YOUlKzQDhOn3eIZ3e0c+6amjGvX73TjNNuYE9L4Yo6WVZ4ens7i6utrG4a21luritDklJmKYUo6gKxIJ6INyVbjocIxoKpBZx4CE/ES8tgKyaNkfc3v5dFqrXc9dpeVjelntdu0WdznEZi1Vn4q2VbWVuxml8d/B3f3/VTLlt0EdcsvQLtJAtAU9Ha7WNxtWXa0rC6tAOmR8yAAymJPZCz/BJSaoOZGpu4x8moyz6eUUs4mpgVyV/nQHDMAoDZkJJOL7QA8kzhPFlRV1thRiVJdA6E2LxqrvasdMkGj09S1GnUKlY1lc84PmohU7Ci7nvf+x56vZ5nnnkGSZJwuVIzPbfddhs33HAD1113HY899hi33nor999/f6Getih8Zu0nUFAm7Ig4nVYuq72EnX17eLnrDX59+GEeOfok59Ru5ML6c6gxTzx/U19p5sBxobvO4AvmnlEXS8a5d9//0RHoYnf/PgxqPZtrUsegzpJ7IZWh3Kqnym7kcMcgV5w0HN3u7+TXhx+mI9DF6RWrOByrY3WTIyuFrK00odWoONEb4Nw1+e9LMSk32McWd9072FC1jnNqN+IJSKhVUnZmZDYps+hm3Qbe7YvQ4x7ionV1WIxamuvLeOeYm7/asnRWn3cuyVwo5htDMREWo5bgUIzfPX8UtVrFhy5uHrONJEmcudzJX3Z3FUwOufvIAH2eIT5/3ZpxFRRGvYZGpyWvvLpIIsregXd5s3cXLd5jKIx2M9aqNFh1VixaM1ctvoRLF12ESWvkyTeOA7AyvVhkt+qzMSjjsbx8Kd/c/FUebtnGn9tfZL/7EDeu/ggN1roZ77PHH+F4b4At66d/35GdB1HUpUxSIHf5JaQXO2Yovxwvoy6DJRtAnijoCEMiKdPtCnH60tELH5IkUWU3LrgA8kwhPllRp9WoqHYYRVZdmszs+1QKHofVwLttwgFzuhSkqAuFQjz66KO89NJL2S/KyspK3G43Bw4c4Be/+AUAW7du5Y477sDj8eBwzL60ZbaQJAmJyTtHBo2eC+rP4fy6s2nzn+Dlzjd4tetNXux8jUXWes6q2cDGqvWU6Ud3eOqdZhJJhX5vODtjt5DxD8Ww5eB8qSgKvz70MO2BTj679kaaqmt47N3neL3nLV7uep3l9qVcWH8u65xrsvLGSCKCLy2p9UX9+GJ+knISrUqD5qQ/WpWGpJykrCLG/hND/PbQowQTKQllIB6iL9SPTWfh707/OE2GFXzt6ddHze+oVSmZ00wdMEuZkcXdn9tf5K3e3ezo2w3HN6I3VDIQdlFtcs7qPpSZdZzond3XNGOxvCbtEriuuYKHX2plMBjNO7ahVMgEj8+G/BJSHYl3W93EEjIfurh5wi/2M5dX8uyODva3edi0siqv51QUhae3n6DKbmTTaaMfK5KI4IkMopIk6mv07DroZSDkQatRo5JUKddZtWFCKb2syBwdbOXNnl3sGXiHWDJGpcHB1Usuo9FSl5UsW7QW9GrduI9z8ISXBqc5e2FoTy9QKIoy4fMaNAY+tupDrHOu4YFDD3H3zh9xzZLLuXzxxdOWYSeSMj999F0klcQlGxqmdR8QDpgnE8zIL/Po1NlMOo4NzmxBwT3JuTpsSpT74uh49HqGSMrKKJOUDE67ITtvt1AIZjt1epgkGqjeaaF9lr+f5gsZBc9E7pcZ7BYd0Vhyzuec5ysFeYU6Ojqw2+38+Mc/Zvv27ZjNZm666SYMBgPV1dWo1anuhFqtpqqqip6enhkVdRUV809/7HQOF2tVVWs5e9lafBE/r57YwSsn3uLhlid45Og2zqheyYWLz+as+nUYtQZOX54EDhKIJUc9xkIlEE6wtME+49fiiUPPsaNvN9ef/j4uW30OAP900afxR4O82PY6zx59mfv2P0iZ3opJa8Qb8RFJzLzDk5DriMfO4K0TLVQ4VJQZrCy21HHe4jN532mXY9aZeOOdbgA2rK4Z9XusbHLw8p5OKist0567nA84sbKi8W/4TPIj7Ozay09ajxFUDfJvb36PFRVLuajpHM4r2zgr7++6KiuvvdODo8KCepaMS1q6/VSUGVi3shpJkrho0yIefqmV4/0hLl9yalzcDsVlzEYtixryd78c7zg7HSZiRwaorTRzw9Wr0GrGN/NxOMxYH93PgY5Brr5wbDdvJuw7OkBbT4AvfGgdVVVWOv097OnZz9s9+znoOkpSThkBJUI1xOPrufX5e1BZhjtlapWaMr01JbM3DP8NsL1jNwNDHoxaAxcsPouLm87htMrmaZ/X8USSo50+rjq3Kft6NdTYiCU6MFmNU84Uv8e5mY1LV/PzXb/h8dY/0Rnu5B/O+VvMOtO42488Jv/9yD6Odfu5+RNnsfa06bu4OgGHTY87GBPfVYCUvs5Z3FiOKcduXVWFmb3H3NN+PZ1OK6FYkjKLjoa6sRL8hnTHTK3XFvQY7e9IFZ5rT6se87iL68p4+6ibigrLKWUeNSnqPiDVqZtspnLFYge7DvdjtRkxLPACJUHqNVu2pHLSz7eG2pQsP/UeLp1aoFQ/87lgzWoAACAASURBVAryrkomk3R0dLB69Wq+8Y1vsHfvXj7/+c/zX//1X4V4eNzuILI8fwK5nU4rAwPjrcZIbHZsZrNjM72hfnb07WFH725+3PtLtCot65xrOK/mXCQJDh5zcdo0XchOVRRFweuPoFerJng9x+eA+zAP7H2EM51rudB5AQMDgVHH5NyKcznbcTYHPUfY3rMLBYWV5Sso09koS1v+l+ltlOmtaCQNCSVBXE6QkIf/TsgJVJKaeFjDnW3vck3lR7l04+hV7iFfkiEC7DnUh1olYdON/j2cZXpCkQQHjg5MaOs731luPA1j0kNzXS2rllXyZs9O/mfXr/m/tx/iTOcZXFB/DktsiwpW1GpVICvQesI9K10zWVZ4+3A/Zy534nKlIyY0EuVWPa+93cX6pfNXgTCSrr4A5Rb9jM678Zjos1CTPtwfvqiZQe9Q9udxOcGzJ17g5c7XU9upNCSty3h57xBdtqfRqjVoVGqkSbpQRrUeS7ozljL2MWPVWXj4aTcmo4pD0Rd59LHDeKOp6II6cw3vabiARdYGQMEXTPDAMT9nmt/D6tPUyIpMTI4Tig+lIz2CDA4F6BzswR8LkpATrHQs55qmK1nnXIMuPTudeX9Mh0MnvMQSMk1VluzrlflyPnrcnZU6TsXHl13PYuMiHmp5nG/86T/47Bk3UnuS3H/kMXljfy9PvtbGlZsbWVE30ffWxNQ4TLR2Dub9PikFDrd7+fm2A9RWmFlaZ2NpnY0ltTaspul1uPpcQVSSRNAfJhTITX6ollJusN09gxMudGTIHMeu/gD2Cc7VZCw159fZ7aMmz5zQkRw4NoBaJaGXlDHPa9apSSRlWtpcs9bpLzV6B4KoVRImg2bSc6HcpEFRYN/hvjHOuwuNjh4/Oo2KoUCYcHDi80Wd7ny2tXvQURp1wMTX+LOLSiVN2eQqSFFXW1uLRqNh69atAKxbt47y8nIMBgN9fX0kk0nUajXJZJL+/n5qa2uneMRTnxpzFe9beiVbl1xBq+8EO/r2sLPvbXb2vY3W+B7e7ezmffLiKe3oT2VCkQRJWZmRbKR/aID79v+aOksNH1/11xMWCypJxZqKlaypWDnlY2rRMmHJZYUKm57D7d4xRV2Gtm4/jVWWMV/Si6tTKz3tvYFTtqhTFAVvIMr65ZVctuhMLm3cQkegi13ePbxyfDvbe3dRZ67h/Lqz2VyzAZM2v9dhOIA8NitF3fHeAKFIYpSJhiRJnNFcwfYDfafMLKzHHxnXTa9QbFlXh9NuZN2y4aDrFm8rvzn8CH1D/aytXIVdbychJ+hpVHGwT4MqWIXeEUzFfSiJcR9XAQZiQVp9JwjGQ9l5NjlsJtp+IZr6Fna7OljpWMHVjktZXXHaWJOhanja9joJv5UL6tdO+bsk5WTen9MHT3iRJEbZew/nLkanXdRJksSWhvOos9Ty83d+xfd2/ogbV3+Edc7Tx2zb2R/k/54+xIpG+7gzjdOhrsLMy/tODQfMA8e9eAJRjHoNT7x+HCV9/VhlN7K0zsaKRXa2rKub8PcciiQwGzV5LVDZRmTVOWzTe0+5fRHqKsZ/f2TllwV2wOzsD1FbYR73s26kA+ZCKeoCQ6nQ+amOfcZYpmsgtOCLusFgFLtVP+Vrlomz8c6Bq/WpQEGKOofDwdlnn81rr73GBRdcQFtbG263m6amJlatWsW2bdu47rrr2LZtG6tWrZrX83SFRpIkmu1NNNubeH/ze9neu4vft3bT1pvgtjfu4uLG8zmvdnPeF7vzkWxG3TRn6sKJCPfu+z9UksRn196IQTM3800rGsvZ3+Yed/ZFlhWO9wY49/SxZigNTjNqlcSJvkDe80KlSiiSIJaQs86XkiSxyNbAxuZVXF1/Bbv63ubV7u081PIYjx57ig1VZ7C5ZgOLbQ0YNTN/z2cuhH2hKFB4ecT+NjcSjHFOPGNpBS+93U1LxyCrmub/55vbH6G5YfbcPJ12Y/biLxQf4tGjT/J6zw4qDA6+sO7vWFNxWnbb6LIkN739Cg3yRj525oppP4esyNnu2h9fbGePKsjfX3Ixa2ubJ40JgVS0wcHj3knn2TIUYuHtYLuXphobphHzWPb0nOF4DphTscy+hG+c9WX+551f8bN37ufqpkt575LLs3N2Q5EEP/7jOxgNGv7+ujWoVTlmqzpPHQfMPu8QzjIj//Z3ZxOJJTjRG6C1209rt5/DHYO8eaAPlSSxZd34ZjKhSDwnkxRZkbPHJdMVTBV1UxdEiqLg9kc4fUnFuLdnirpCxxp0DgRZuWh8x2WnPbXfA4MRTls07ianHMH/x957x7d13/fe74O9CIB7gHuIpKi9ZVlesrxkO7GzbKdxksZZt0nHTdrbp09v0+S213Wa3idpUie9aRJnO962POOtRe1BkaK4NwkuEACx13n+AAGRIgACICVRtt6vl16SyAPgYP3O77s+H7efjCSsLHKNauQyCYPXxFKwTic3gx69pjsuvar1B4Ela+r99re/zd/93d/x2GOPIZPJ+O53v4ter+cf//Ef+du//Vsef/xx9Ho9jz322FI95AcOlUzJjcXXYantYu/BPrIU2Tzf+Qqv9rzJ9sLN7C67KWoG/WHAPpOZ0SfR/hISQzzR8nvG3BN8fd0XyVFfvo11bamRxhYzI5OueeI2IxYXHl+QyhhZOblMSmG2lr4PkFjKxSTyqFPJlOwwbWWHaSv904McHDrCsdFTHDGfACBblUVxRhEmXWHYt09XSJYqM+Em2xCtblyaC0Bzj4Wygox5LVn15ZnIpAJnuiav+qDO4wvg9AQWpXwpiiKHR44z2mfGKMmiSJdPobaADIVuzjHHR0/zbMdenAEXu0tv4q6KW6PtixGUcikry7M41THOQ7fWJF0JkQgSMhQ6ZKKKlvY2ttbns95Uu/ANgRqTgcMto4zbPGlX0X3+ID94ponbt5Swpir+rKXHF6Bn2M4dW+fugI0zVed01VwzVUb+asNXeLLteV7rfZuB6WE+1/AAoqjjZ6+cY8Lq4W8eWr8oY/dIheiDoIBpnnSRnxWeQVQpZNSWZkZta0RR5O9+eoTDLeb4QZ3bn5JIisvv5v+e/SV99gGqMyupz1qBWghbdySrgOn0BPD5QzHtDCCsuKhUSFO2SUiEw+1natob11w8S69CED5cXnUOly8pL12JRKAoW3vNi5jwNboiiREjjVKGXCa5FtQlyZIFdSUlJfz617+e9/OqqiqefvrppXqYDwUlMwOYHyt5CEFr492BA+wbauTg8FFuKdnJ7rIb06piXG2kUql7pfuPNE+28skVH2VF5uIEFVKldqZlqm3AOi+oi0iSV8ZZvMoKdDR1xa7yfRBI1ni8NKOY0rpi7qveQ6e1hyHHCIOOYYYcIzSNt0Tb6DQyNeWGUqoM5VQayijTl87xf7zQfrn0rRpub4CuITt3bpufflYpZNSWGDnbPckDu2qW/LEvJ4v1qPMGffzu/DMcHz2NUqrAG7xwMdbJtRRpCyjUFTDmGqfV0k6ZvoSv1T6SUIp//YocTndO0D/qiOkJmYhDzWY8viC3xGmPjkVNcfg73TFgTTuoO905QWvfFIPjDv7XI1vjJqfaB2wEQyJ1ZXOrv0qFFLVStqgEhVwq50/qP0GpvphnOl7iu8d/yAbpfZzqmOCBW6rntHumQ1QBc/LqVsAURRHzlCsaxF2MIAhsb8jnhf09WOyemFU0Rwq2AdM+Bz88/VPMzjE25a+jx97Hsx17CXk0wA282rEft6aM2qxq9Ir4n/dEdgYRMtTyqDn2UhCR5I+lfAlhb7FsvYpx24cnqJt2+5NWKzflhm2rPsyIosiUw8v6JPZ2giBg0F56q6IPCh9u+Z1liik3vDgMjjvYUVDMZ1c+wJ6K3eztfoM3+t7hwPBh7iy/lZ2mbQu2EV3NRIO6BBdKURR5b/Agr/e9w3WFW7jBtP1ynV6UvEw1Bp2Ctv4pbl4/1yS5e8SOWimNZoAvpiw/g4NnzVgdvgUDn6uRqenU/M5UMhWrcupZlXPBndUb9DHsMDPoGGZgepBuWx97J98AwtWYYl0RlYYyqowVrM5ZiVYlw3oJDMjP900REkVWxTGlXlOVw+/f7mDM6r6qZyQXY2cw6hzjp82/xuwc457K2/n0pnvpHjIz4jQz7DQz4jAz7BylceQYEgQ+seIj3GDavqD8/trqsMn7qY7xlII6URR55+Qg5QUZMavl8SjK1aJWyugYtLFjdXoz4IdbRtGp5bg8AX73Zjtf+cj8uTYIf65kUoHqGOb1xiXwXRQEgRuLr6NIW8CPD+zl+ZZ+VlSo2b25ZFH3C+H2PoNWwfBVLmE/Ne3F5w9RkBX/e7utoYAX9vdw5Nwod24rm/d7p9tPUXbsdX7OY3ms/PD0T7F4rHxlzedYOdNqPOme4sxoG79pcjEwNc4T58JiQbnqbCpnkliVhnIKtHnR78sF4/H466tOLcfhjj2Dmg4DY+GgLl6lDsJthh+qSl2S7ZcQ3t8dajbjcPuTqu59EHF5A/gDITKT7BIwZiivBXVJ8sGNCK5i8jLVyKQShmZdKHPU2Xy+4SF2ldzAC12v8kzHS7w7cIB7q+5gQ96apD2JribsTh8yqSSuN0kwFOSp9hc4MHyE1Tkr+WTtR69ItUsQBGpLjLQPWOdV3HqG7ZQX6OMO10c2qH3m6Q9oUOdFEBKbsi6EUqqgwlBKheFChczld9Ft66PH1keXrZeDw0d5b/Ag+Zpc1Optl6RVo7nXglIupSrG5htgTXU2v3+7g6bOCW7dtPgN85UiulFMMag7OdbEb1qfQi6R87V1j1CXVYNEkERtAOqyLlQwQ2IIURSTnkfTaxTUmAyc6pjgozuTN3lv7ZtiZNLFF/bUp7Q2SIRwkNU5lJ4J+bTLx9nuSXZvLkGtkPL8/h421Y7FnJ0912eh2mRAKZ//Whh1S7eZMalL8HevR6F1MpD1Nm/2e9ldetOi18yiHC2DV3k72aglrMBaECf5BmHBlCqTnsYWc8ygzuUJLDhTN+aa4Ienf4rL7+Zr6x6h2lgR/V22OpOby7bye8l73FBwM1s23EH7VBfdtj5aJs9H29LVMjUVhlLq8itp7gkCEo5aDnLaIRIUg4TEUFi8KWclNcYqdJqlrdQNjjuiwXw8co0qTndMLNljLmdCohgO0DRJBnU54WB4eMK56Er51UrUoy7JPY9Rq/jQeR+my7WgbhkilUgoytYwGEMSu1RfzNfXfZFWSzsvdL3KL1p+x9v971NpKCckioRmFvWgGIr+36DUU2Uop8JQPs/sfDljc4YNU2NtOhx+J/919td0WLu5rexm7qm8/YoGtrWlmRxtHWPM6iY/M7wx8PmDDI475s3KzKYkT4cA9I9Os67m0rQveXwB3N7gFQkaLdNeDFrFkitCauSaORW9YCjIOUsbT7e/hCU4gnfchd1XnrB1KYLN6UMulcwRqYhFS7eFulJj3OeSn6khP1NNU/dkwqAuGAoy5BgBwpVJtUyFSqZCvoiquyiKjDhHGXaakQiS8B+EC/8WJMglcvSKcIB18dzabCz2cCBuzEguEA+GgrzQ9SrvDOynQl/KF1b9yXxFyYuQCBJIMZZYvyKXP7zTybjVHRVZWYi3TwyiU8vZUp+6EFFNsYGz+ybTyqgfOz9GMCSyvaGAwmwNJ9sn+PUf26gtNc6Zx3S4/QyMOvjIzoqY92PUKWkfsKZ87rHoHrbjdAf4+y/s4L1RCy92vcaQY4RP13084ecBYMJtIRDyk6vOmReI1xQb2HuoN7peX42YZ4K6eB0VEbY3FPCbP7YzMOagZFalKhQScXkDCT3Khh1mfnj6pwTFIH+x4UszFhpzEQSBDI0ch8tPmb6aMn14HRFFkXH3BN22PrptvXTb+nju3Gv4hutAUsJ+8z6kksj3XUogFODdgQOYdIXAJqZdS6eiPTDmDF+3EiQDco1q7C4/Hl8AleKDvc10eQKIIujUyX32i2c6sYbGHR/aoC6SqEpWodqgU9LyIW9ZTZYP9rftKsaUq+V8f+yLuSAIrMyupS6rhmPmU7ze+zZHzCeRCDOLOpJZmzmBqQkb7wzsByBHlUWFoZwqY7iVo1Cbv2yrfDanL+Y83YhzlJ+c+QVWr42H6z/F1sKNV+Ds5hJZnNv6rdGgrn/MQTAkJmz7Uilk5GdpLqlYytPvdtHYYuZ/fnYThXGkry8V1mnvZQkmpRIpq3NWUptZwz/3vc/giJfvHP4eH6m6kx1FWxJ+xv/9mTN4/SH+/uGNcTcgY1MuxqzuBVvW1lTl8O6pIby+IEpFeCMliiJj7gnOWzpotbTTMdWFJzi/+iKTyFBJlahlKgq0eVQbK6kxVlKsK4pZ0QqJIXrt/Zweb6ZpvIVx92TCc5uNWqbCoNCjn/FlNCr15KizyNPkMDLlIFOnXFARMSSGmHRP8avWP9Bt6+XG4h3cX73nkrWEr6/J4Q/vdHK6YyKp1sEJq5vTnRPcta1sQc+vWNTMqH92DtpSTrg0tpgpztVGN/5f2FPPt584xm8vasNs659CBOrLYs9yGTMU2JzeJZm5HZ4MBy61JTlU5DyESVfI3u43GHWN8+XVn50XiFs8U5wYPcPJsTP0Tw8BIBOk5GvzKNTmh2cjtflUlxsQD8LJtjFu3pD83OJywmxxo5BLFlyrNtfl8fu3OmhsMVOSVx39ucsbbm+MJ5TSZx/gP07/DJlExl9t+Oo878DZZGgUTF8kbCIIAnmaXPI0uWwr3ARAVraG//XTwwwHXPzzLY/OOd4f9HNs9BRvD+yn39lByFHMaz1vs9O0DZ0i/WtAKCQyNOGIKxYTIZJ0mbB6ErZpfhBwziiLJtt+mZmhRK2UfagrTylX6nQK3N7gnOvqNWJzLahbpphydTS2jOLy+NHEaemQCBK2Fm5cMKjxhwIMTA9FM3znLe0cGz0Z/b1UkCKTSJFL5MgksugfpUSBTqGdMfDVzfl3hkKHXqEnQ6G9ZEGhzeGLyiNHaJk8z8+bf4dcKuMvN3yFCsP8NpgrQVG2hgyNnLZ+a/SC1z0jkrKQwlNZQQYdg0uTjY9Fx6ANjy/I48838/cPb7qsi+LUtHfB7PdSopDKaSgoZ2RwAJO2kCfbnuPwyHEeqL2fYl0h7oAbm28am9eOzWvH6rXRNyoSCgn8eO9p/uK+DUhiBDMtvVMAUX86T8BL+1QnQ46R6PdHJpEjNUIgGOKVplOUFEvpsHbRaunA4gnfPluVxab8dazIrEYukeEOePAEveG/Ax7cQQ9uv5uB6SHOTrQC4fbTSkM51cYKqo2VeINezoy30DTRwrTPgVSQUptZza7SG6kylAPhgCskhggR/jsYCuEP+bFHnvus16Db1oPNaycgBgHwDm5GEKX805F/I0+dQ7Y6i6AYwjFjvD3tD//t9LsQEVFIFXy+4SE25a+7pO9tXqYGU66WUx3jSQV1754aQkCYN+eaLBWFeqQSgY4ha0pB3ZjVTdeQfY73W3Gejnt3lM9rw2ztm0Ipl8b1rDLqlASCIk5PYNHzNyOTTrQqGQadggmPj9vLb6FIV8ATLb/nseP/zhdXPUyOOptTY02cGDtNt60PgLKMEu6r3kOGXBetBndZezk+ehoAUQSJaifPHD1Jr3If+Zpc8jV5FGjzyFPnIJemft7+QIgn3+mgOFfHdQ0Fl3zNMltcFGRqFgycMzQKVleGPSk/fmMVEkn4+MjGPlb7ZcdUFz9u+gU6uY4/X/9FctSx7QcuPIY8KfVLqUTKpN0bs01aLpVzXdEWthdu5hfTJzgwamdv1xu80fc2Wwo2clvZzWkpRI9b3fj8obgiKRFme9UlCurcATctE+eZ8tpw+l04/S5cAdesf7upNlZwb+WdZKtjJz6uNBG7iGTbLwVBwJSrjQrOfBiJiD9lJmlXFanoWZ1e8hWXbz9xNXItqFumRMxmhyacUSW2dJFLZDND1uEASBRFJtwWum29TLgnCYhBAqEA/lCAwKw/3qCPad80ww4z034HgdD8YWuJICFDrsOg1IdnZxR6jEoD5fpSqowVKNK4oEewO71UmfTRc35nYD/Pd76CSVfIV9Z8bsEWr8uJIAisKDHSPjAV/VnPiJ3MDOWCLQal+TqOnBtl2uWbJ5W/WLz+IMMTTupKjbQNWHni9fN86Z6Vl2320DLtnafqd6kxahUEgiJfXPmnnLM181zHyzx27AfIJNKwcfUsQl41odCNCBobZzvgG8/+kuvWZrE6ZyXVxopo1amlZxJjhpzm6WM81ddGl7UnGgTNRgwJINnFa03NKOznUElV1GZVs7v0JuqzVpCrSbyhm43Na6fT2kOntZtOaw97u9+I/k4pVdCQXcfa3FU0ZNcuWg03JIawem2MuSb4cesgGUY/OepsRt0TnLO0IZPIyZhJ6uRrcqkyVpAh16KT61iZXUue5vIoH66vyeGVxr4FWyJ9/iD7zgyzfkVO2gbICrmU8oIMOgZTm6s73GIGYNvKudWYO7eVcbJ9gt/MasNs7ZtiRUn8lt6IkIB12rv4oG7CSWGOds53f3XOSv5609f4SdMTfP/UTxBFERERk66QeyvvYEPe2rifWXfAg9k5yrDDzPvTU3Sel9M53saJ0JmoWq2AQKbKiHGmImyY/bdSj16RgV6RgUaunpMcPNUxzrsnw9XBZ9/rYufaQm7ZUJx0222qjFpclBcmN5qwrSGf050TtA1YoxVWh2cmqFPP3VKNOsf4SdMTZCqNfH39F5OyJNJrFHRb7Umdy6TdQ2l+/PMWBIHK7EIOYOfPV32NE1NHOGI+wRHzCW4tvZHbym6eox68EIlEUgKhQHS9nB3UxTquZbKNY+aTnJ1sje4rpIIUrVyDRq5BK9OQo85GLpFxZryZM+PN7Cq9kd2lN102/9lkidhFpPL9LM7Rcuz82AdW9XohrNNetCpZ0h0UkT2UzeGLdkJdIzbXgrplygUFzMUHdRcjCAK5muyUNpiiKOIJepn2OXD4Hdh9DuwXZfwtHis9tn4c/nBbgUwio9pQQV1WDXVZKzDpCpKu6gVDIaZdfgxaBd22Pl7teZNWSzvrclfz8MpPpXQhulzUlhg50TbOhM1NjkFNz7A9rpXBbMpmLsr9o45oJWipGBhzEBJFdm8qYWV5Fs/t66aqSH9ZhDzCs3yL8ztLh4jvls3pZ0vBBlZl1/HOwH58QX90M2lQZGBQ6hkcDvKjM+f46p7NvNzYxUB3Ke+rjvPe4EFUUmXYO0qq4VRXBpKsEZ7vaqFQm8+NJTtoyKqj0lCGCHOSIr+wdDE0puIbm2+jUJuftjm1QalnY/5aNuavBcJzpF3WXmQSGSsyqxY1g3cxEkFClioTo9KI2zXI9Ssr+cSa25bs/peKDStyeflQH799s50/vaseuSz2enLk3ChOT4Bdi2wHrCk28taJAfyBYFIbEFEUaWwZpa7UOC+YlEkl/Omeer4z04b5qVtqGJl0sXNN/Fa2aIbaEd8XLFmGJ11sWDE/+C7Q5vM3m77OKz1vopap2Zi/NmF7YAS1TEWFoYwKQxllcgf/cP4ot+ofZMfaPMZcE5hdY4w6xxh3T2LzTTPsHKXV0oEn6Jl3XwICOrl2piNER9+JEtQaObffaKCvS8abxwb549EB1tXkcOvGYurKEvtVpoI/EGLc5mbryoWfM4SVWFUKKY0t5mhQ53RH2i8vbOy9QR8/bf41MomMr617JGmPWZ1Gjj2JSp3XH2Ta5Y/rURe9v5lgQyvJ5NP1H2dP5W6e73yF13vf5vDIce6v3sOGvLVJvZ6D4w4EISyOEwwF6bL1cHaileaJVsbcE2SrMinUFlCoLUAhV9IzPoE/WIhUIqXb1scx80lOjjXhCrjRybXsKNrK5vx1FOkKUUjkMc/B4pnixa7XeL33bRqHj3Jv1Z1sKdiwbMZGpmdEaFIJ6ky5Ot47PfyBVb1eCKsjtbGMC/6z1xQwF+JaULdMydarUCmkiy7RH20dRaOUsaoy+QAuFoIgoJ4RdcgjcVbeG/TRae3hvKWd85YOXuh6FbpeJUOuozarmpVZtazMrp1jRHwxdqcPEThhOcqbJ06ik2u5v/pubi65ftks5hcT8Thq67eiqpYxZnVz47rEswdANNPaNzodN6gTRZHXj/ZTX5ZJeUHy0uy9I+GMb3mhnrU1OXQP2/nDO52UF+ipLr60Rvap9s0vFRGxBpvDiylHi0au4e7K22Me22QdAKAmP5e/+XgB3/nlMby9O/jkvXp63O00T7TimFIhBjdyQ30VezbcS5ZqfuVxdkV684pCznW3gUePNGPp2sZ0ci1rcxuW7P5iMe30EQiKaVe3LjXlBXo+dmMlz77fzZTdw9c+tmbeZkoURd4+MYgpV0tt6eISYtXFBl4/2k+veTqp5FqveZpRi4s744gjleTpuGdHOS/s7yEUClez4s3TQXiWBGBqkZsZu8uHw+2PO1OrkWv4xIqPpH3/plwtBVkajp0Pz9UVZxTF9R30Bn3RRKDdZ2fa54y29Dr8TiZtXqwTSpTF3bwx2Q5GKNpqQjFVw/m+SU51TGDK0fLI3StT9iyMxbjVjShCQRJ2BABKuZSNtbmcaBvjT3avQCGX4opW6sKfRVEU+d35ZzA7x/jaukdS6irJ0Cjw+IL4A6G4SQuA8anwjGTOAt/VyPfDMRMoGpUGPt/wEDtN23m6/UV+3vI79g8d5hMrPjIjrBKf3lEbhgwJv217knOWdtwBNzJBSk1mFRvy1zLhnmTYYabV0o5fvoVj/WM073sKtUyF0+9CIZGzNncVmws2UJdZnVTCK0uVyecbHuLG4h080/4Sv259ivcHD/HxmnupMpYvePtU8PmDvNLYx+7NJUkHaQ53GpW6iFjKhONDGdRNTXuTFkmB2cmtawbkC3EtqFumXOi7Xtww7R/e6UQqEXjsK9svW5k/3BpWS8OM/47Va6PN0kmrpZ3WhzfcQAAAIABJREFUyQ6OmU8jCGHD6YbsWlZm11GuL0EiSBBFkXOWdp5vOgBU4BAnub/6bq43bVuW1bnZmHK1aFUy2gasUQn/eLMys9Gp5eQYVPSZ44ulvHF0gKff7WJLfV5cv6tY9JqnMWgVGHVhFdFH7q7nO08c5/EXzvKtz2+5pGp1kaDu8lfqIkHdwheAUYsbtVKKfkZl9c/uW80//+o4+w4E+OaD9/NgrcAL+7t5Wejj/g1bF5Qsh7BYCrTR1DVJcZzZE/eMT09MhPDQ/ZVoy5lcpPH45WDP9nJyjWr+6+VW/vlXx/nLT6ydM7fZOWSjf8zBw7fXLvo1jCQ+OgZtSQV1jc1mZFIJm2pz4x5z17YyTraPc7xtHK1KRkl+/OTWhQz14jYzIzOWA5dKKEkQBDbX5fFyYy92py+hhYlSqiBPkxO3ZfeF/d100st37nkIj2SKtqlO2qe66BQOIWYEUEwWMjKwkp+/c4Sv37d+wRm1hTAnYWdwMdsbCjh41syZrkk21+Xh9MwVSnl/8BDHR09zT+Udc6w8kiFjZjZr2uVLmFwZnwq3NmbpE6+vkVkvh2du63m1sYL/sfnPOTh8lL3dr/Po0e+z07Sd9XmrsHunL3Th+OzRv/sHViLR2mif6mJtbgOrc1ZSl1kzryUyGAry/YlTDE84ubksE4vHSl1WDWtyGtJun6w0lPHNTX/GMfMpXux6jf9z8nFqjJWUZhRj0hVSnFFEgSYv7c4ICFf49x7qJT9LzXWrkvOndLj8yKQCqhTmPiNG5YNjTlZVpP/5DYZCCwpaLUdS7TzQqmTIpAK2a5W6BbkW1C1jTDk6TraPp9137XD7oxvrzqHkNiWXAqPSwNbCjazPWcf//NkRttVoya2Y4JzlPK/3vsNrvW+jlWmoz17BmGuC/ulB1M7w/N+XNzxAXeniLtqXC4kgUFNspL3fSrZehQBJZ5JL8zPoj6OA2dY/xTPvdSEI4c1lKp+HPvM05QUZ0eM1Kjn/7b5V/O9fn+A/X2zmGw+su2QXhchn73JnImcPVS+E2eIkf5ZAQkmejs/eUcdPXz7Hs+9388mbqznXO0VloT6pgA7Cz7ckT0dT1yR3bSvDHwjRPzpN97Cd7hE7PcN2xhYw5r3nunLuuyF5P7al4oLx+PLOHm+pzycrQ8W/P9vEP/3qOF//2JqoAu3bJwZRK2Vsa0iunS4Reo2C/CwNHQNWiOFNNptgKMTR1lHWVmfHFbeCcBvmF/as5DtPHKOuLDOuhyWAXCZFq5Ituu1oZEb5Mhlz7HTZXJfH3kO9nGgfT1ucJhQS2d80QkNFFrkGDaChJMPEraU3EgwF6ZsepH2qk9fsLgYngnyr8TGqDBVsK9zI+rw1qGWpJyMiHnWpzOrUlWZi0ClobDaHg7qZao1GJaPb1suznXtZnVPPbWU3pXw++pm56mmXP2FQNzYT1C3UfplxUaVuNhJBwk7TNjbkreHl7j+yf6iRfUOHor+XS+TRdvVClYk+r4ada4v5k+sfTNgxI5VIKckx0tbr4K6K2xJ+xlMhIg63Lm81b/W/T/PEOd4fOhSdy5MJUgq1+ZhmAjy9IiMq7Jah0KGTaxOq8+5rGgaSSwhGmJ6Z701lj5ahUWDQKhiKYVuVLHaXj7/9SSMP317LtoaCtO/nchMMhbA5fSlV6gRBwKC9ZkCeDNeCumWMKVfLvjPD2J2+6JxQKgyOXVgwGltGr1hQF+HdU0OMWz0Mjyh5eNcu7qzYhdPv4rylnZbJNs5Z2lBJlTxU9zGC4yaeaGknW391DcXWlho53TnByfZxinK1cY3TL6YsPxzAu72BObeZmvby4xdbyMtUc92qAp7b182k3UOOYWHBAI8vwPCkc57hcWl+Bp+5vZafvdLKc+9384mbq+Pcw+K4UkGdSiFFIZckdWE2W9zUlMxtQ92+qoDOYRuvH+mnIEtD94ide64rT+kc1lRl89rhfv7XL4/RPxq2toDwa1FZqGfn2sK4n433Tg1xpmviigZ1C20UlwPVxQb+/uGNfP/pJr735Ck+f1c99WWZnGgbZ9fG4iXzx6opNnCqfXzBrPi53insLj/bk9hgleTp+B8PbUjqu2HMUGKdXtxmZnjSiUIuIesSvq/RFszW0bSDupZeC1PTXh7cNb+6JZVIo4JftqoO3j4xyN3ld3Bs7AS/Pf8MT7W/yNrcBrYVbKI2qzrpNv0Riwu9VrGgT+VsJBKBbSvzeev4IA63H4fHj1opxRlw8l9nf0OWKpOH6x9Ia1RgdqUuEeNTrrCf5AJ7g0hLaESlMeYxcg2fqv0oN5fswOKxYlTq0Sv0qGWqaLDSNWTjMCdYXWJK6nnlGtUEgiFsl2BuTClVsKdiN3sqdhMMBRl1jTPkGGHQMczg9DDNE60c9h+PeVu1TE2uOouH6j5ByawW4aEJJ11D4XGFVNqdHS5/0h51s1lsJ1bHQFjV+sWDvWypz48qsS537E4/opj6vsCoU1xrv0yCa0HdMqY454JYSjpB3cDMPF5dqZFjraM8dGvNkptAJ4vbG+CVxrBEdt+MeIdEENDKNWzMX8fGi+TQX+nrBUjYxrMciczwDIw5uH5Ncu0bcKGi1z86HZ3NCwRD/PjFZjy+AH/9wDoCQZHn9nXTOWhLKqjrH3UgirGrhTtWF9I1bOe1I/1UFhnYmKBdLF2mZhT70vEIWwyCIGBMIqvn8wex2D0UZM5/nx64pYY+8zRPvHYeIGUBm60r8znUbEYhk3Lb5hIqi/RUFhmSupDZnT72HuxNaGdyqZi0e1HKpWiSTEZcafIyNfy/D2/kP547y0/3nqMsP4NQSOTmDekFFbFYX5PDgaYRnnjtPJ+/qz5u1aGxxYxWJWN1kvPLyc60GnXKxbdfTroozNIuWcUkFoIgsKkuj1caF27BjMe+M8Po1PIFLSSKcrQEgiIbjNu4o+Jmeu39HDaf4MToGY6PnkYtU1NhKKVSH/ZkLdOXxm3fH7W4YrZeiqKI0+9iymtlymPF6XdRZayIto1ubyjgjaMDHDs/htMdQKOS8/Pm3+IKuPnm2j9FI09PqTNjVqUuEeNWN5kZygWv6TKpBLVSFlVpTETECy8Wkf3EQnYGESJ2RJHzvFRIJVKKdAUU6QrYzHogIuzmYdrnxDEzrxn+E57fPDPezP938nEeWfUZVs6Miew/M4xUIqBVy1P6vjk8/mggngqmHB3vnx6K7oVSpWs4rMo7anFxsn18XvJ2uXLBeDy19cGoUzI8+eH19kuWq+PK/SHFNNNzPDSeniri0LgDnVrO7VtK+cEzTZztnmR9zdJv3pPhreMDONx+blpXxHunhxmbciecYbA5fagUUpTyq8tosjQvA7VSitsbTGg6Pu92UbEURzSoe/rdLjoHbXz53gZMuTqCoRAqhZSOQVtS7Ra9MzN65XFaQB/cFQ5cfv7qORoqdixZZSPC1GUyHo+FQafA7kx8YR6bciMSWyBBLpPw3z66in/8xTGCoVBSs5GzKc7V8W9/tiOl20SoLc3kpYO9dAzaWFt9eawCIljsHrL0yqtKZlurkvPfP7WOX752noPNZtZUZS+p7PX6mlw+en0FLxzoQaOU88Cu6nmvj8cX4GT7ONc1FCQUt0gHo07B8MTiNjMjk85oe+qlZHNdHi+n2YJpd/o43THBro3FCwYqRbMsf/KzNFEVzo9X38PZyVbOW9rptvXx8mTYBkQiSCjWFVJpKCdfk0dwxsYnEArQNy6QXxjkqfYX8AZ84SDOa2XKY8Mfmh8ImXSFbMhbw7qcVZhytOFgXikjILjosHbzcP2n4orEJIN+JkBYSAFzbMqV9OxrhloeFfRIl6ExJyqFNOkqfsTWYGzKHfezZ3P6+KdfHueBXTVLmlgMC7upUcvUMYXdbiu7icfP/JwfN/2CB2vvZ0v+Jg41m1lXk4PT7U+pzc/h8lOShjJtca4WXyDEhNVNXhrrVdeQjYrCDJzuAK8d6WNjbe5VsW5b0+zgMejCFjDXSMy1oG4Zo9co0GvkDKZ5QR8Yc1KSp6OhIosMjZzGltErEtQ5PX5ePzrAuuocblpv4r3Tw/SPTicM6uxO3yUV8bhUSCThubqmrsmUAgGjTolBq4jO1R1tHeXN4wPcurE4KrUtlUioKtInbVTea07skyeXSbjnunL+/dkmBsecS66GaZn2XMGgTjmn/TgW5gVmabL0Kr75wDrsTt9lrXBXFemRSQXaBqyXPaibtHuWtUhKPCJ2AaursqkqWnpV13t2lOPw+Hnz+ABatYx7d1TM+f2p9gl8/tAlmW0x6pTYHL60M/oeXwCL3XvJRFJmUzzTgnn8/FjKQd2hZjPBkMjOtQsHREUzz2V4wsmGFReuaXKpnA15a9iQtwYAl99Fj72fbmsv3bY+Dg0fxTcrUBMDMnzeWxkP9XDMPIxCqiBTacCkK2JVdj1ZqkwylQYyVUaUUgXnLO2cGmtib/cb7O1+A7V+DUPdRWg04JFZ2GXaxtbCjSk974tRK2VIJcLClbopNxVJzmzrNPKE7ZfJYJn2kG1QJR04ZOtVCEJsr7oIrzT2Mmn3cPDsyCXpFomHUWngv2/4Kj9r/i2/Pf8MTR1TONxydq4p4nCLmc6h5L0pHW5/0sbjszHNVDwHx50pB3WBYIhe8zQ3rzeRn6Xh12+0cb7fmlBJd7kwFa3Updp+qcTlDeDzB1FcZcn+y8m1oG6ZY8rVpdV3HQqJDE04uHGtCZlUwpb6fN4/PYzLE0hpdmApeP1IPx5vgPtuqKQwW4NMKtBnnmZLfXwhA5vj6gzqADbW5jJqcUW9BpOlrCCDvtFphiac/OLV81SbDHzylrnzbjXFRl480JNUa17vyHTcKl2ESIZxYNyx5EGdddqbUrVyKTFqFbQsIJQSDeqy4rdJJTL2vVQo5FIqCvW09ScXvC8llgXMjJczgiAkXFMWe98P7KrB7Qnwwv4eNErZHK/HxhYz2XrVJbEJMeqUhEQx6tuZKpdDJCVCui2Yoiiyv2mYKpMeU87C66ZaKSNLr1ywgqmRa2jIrqMhuw4IqzJO+x3IJXJkEhn9I04ePXmKL26+P6mEZ4E2n1tKdmL12jg91swR5Tks3eByQUaenI/X3JPU802EIAjhICxBpS4UEpmwuhOqrM5Gp5anJP4RC6vDhzGFz59MKiErQ8W4LXZQZ7F7eO/UEDKphOYeCx5fYMm7RRKhkqn4yprP8WTb87z7nhWFKovaMj3n+6awOnxJCZKFQiJOtx9dGm3yRTnh7+PQuGNOYiIZBsYc+AMhqkwG1lVn8+KBHl493HdVBHVWhxeJIEQFgZIlqgTs9JFnTK+1+cPA1aeF+iHDlKNleMJJSBRTut241Y3PH6I4L3yB3NaQTyAY4kTb2KU4zbjYnT7eOj7I5vo8SvJ0yKQSTDk6+uIoPUawOX3o05gjXA7sXFPEo1/ennJ1pzQ/g+EJJ//x3FmUcglf/eiqefdRU2xABDpnBrrj4fYGMFtcCwZ1WXolaqVswapWqvgDIewu/2X3qItg0Clwe4N4/cG4x5gtLjIzlJd1I5EstaVG+szTuL2BhQ9eIvyBIHaXn+xlrnx5pZAIAp+7q471NTn87q0ODjWPAGE/xJZeC9sa8i/JzFpUzTVNsZThS2xncDGb6/IQRTjRPp70bbqG7QsasV9MUY6WoRS7WKQSKUalAa1cg1KqYNwaFgZKxc4AwpWem0p28D92fJEqU3iNXV1QjTyBsmIq6DWKhJU6q8NLMJS8n6ROLcfhXlxQZ3N6U57tz8tUx63U7T3UiyjCw7fXEgiGaOmxLOr80kEqkXJH0R5CtlxCWT38uOlnaDQCgWAoalORCKfHjwhpVepUChk5BlXKn2EgWkmsKtIjl0nZvamYlh5LQluk5cLUtBeDTpGysEtkHbxma5CYa0HdMseUq8XrDzJh86R0u4GZTXqkElNZqCcvU83hc6NLfo6JePVwH75AkI9cf6FdqaxANyPiET9QtV2l7ZeLoSxfhyiGZxC+8pFVMVsXK4sMSASBzqHEVZzI4l6+QKVMEASKc7XRIfilIjKTcMXaL7ULXwDiCSQsB1aUGAmJIl0ptAEtFkvEV/AqbL+8XEglEr7ykQbqyzL5+SvnOdUxztHWMUSRSyYrbsyIeNWlt5kZmXQhlQjkZV6e7HZxrpb8mRbMZNl3ZhilQsqW+uTFHkw5WkYmXVET93QwW1xIBCE6/5UO168OB6KZ2qVbSzIWqNRZUvSTDAd16SeIRFEMd8+kKG6Ra1RFA+fZjE25ONA0wo3riti+Kh+tSsapjom0z+9i7C5f0mMKB8+aEYBPbd9At62P/WPvAcl93yJzihkpGI/PpjjNTqzu4fBoRWStvnm9CZVCymtH+tI6j8uJ1ZGanUGEawbkyXEtqFvmRMyLh1LcdA+OOxCEC7MHgiCwvaGA831TUdnyS43F7uGdk0PsWFU4J0tclp+Bw+2PXpguxh8I4vYGPnRBXWWRAZlUwidurqIuThuFUiGlNF9Hx0DizX5EJCUZn7ziPB2DY4mD7FS5YDx+ZQIE4wKmzaIoYra45phWLyeqTeHgvW3g8rVgWmwRj7prQV0i5DIpX7t/NWUFGfz4hRb+eKyf0nxdUm2D6ZAZ3cykG9Q5yctUX7a50IgR+fn+qQXFiiDcVXCsdYwtdXkpVc2LsrUEgqGEM1sLYba4yTWqFvXabKrLQ6uSLWmCKGOBSt253nBVK5bIU+z7k+P1B/El6FxIhMPtJxgSMWpT24znGtXYnT68vrmP++KBXqQSgbuvK0cqkbCmKocznRMEQ6G0zu9iXj7Yy7/85iRnuycTHhcSw76I9eWZ7KrZxNfXPYJLCL+2k3bXgo8TeY/SqdRBOGlvtrgIBFN73l1DNqpMF1q9NSo5N603cez82IIeqFca67Q3ZeVLmNV+ea1Sl5BrQd0yJ6rylWI2Z2DMQUGWZs5A6baGfETgSOvlqda93NiHKIrcu6N8zs8vKD3GbhWwzWwEPmxBXWaGkh/95U5u31Ka8LiaYiPdI/aEF4Jes51svSqpvvWSXB0eX5DJFKvBibhSHnURIm1CtjibSofbj9MTWLaVOpVCRnlhRkpB3ZFzo/x077m0g/PJaPb/WvvlQqiVMv7qk2vJz1Qzafcm5U2XLpG5tHRnooYnXdHk3uUilRbMY+fH8PqDSQmkzKYo94JYSrqYJxef2NGq5Pyfr13PdauW7jOQoZEzHadd0uH288axfratKkh6tkgXMSBPUywl8tlLvVIXPr/Zc3VDE04Ot5i5ZWNxtPqyYUUOTk9gwWRlsvSPTiMC//elFiYSBDmtvVNM2j3cMPPZq8ms4mP1uwH4Y+fhBdfSC5W69PYqplwtwZCIeXLhADKCzeFlwuahqkjPqGucMdcE/qCf3ZtKkEoE3jjSn9a5XC6sjvRUsXVqOVKJsOjZ0A8614K6ZY5aKSNbn3rf9eC4I1rli5CfqaGqSE9j86UP6sasbvafGeaGdUXkXHThKc7TIQjE7f+OBnVpZHOudpJRdaopNuAPhBLOJfaapykvTE7woniWWMpSceWDusRZvYhISkECkZQrTW2JkZ5he8K5wAiiKLL3UC+NLWb6R9N7HyMV/MwrVF292tCpw1YKe7aXpTQLlioyqQS9Rp5WhjoQDDE+5aYw5/ImL1Jpwdx/ZpiiHC1VRamJKkUC1XRmkiBcpRmbWpoWbLlMsqRy8hma8EywPzA/cRcWHgvy6Tvqk76/iDl22kFdmonWaFA3K7B6YX83SoWUO7deSF42VGQhk0o42ZH8HGY8RFFkYNzJqoosQqLIf7zQjD8Qew3d3zSMViWbI5KzvWw1AB3jw+wfOpzwsSKvpy7d9sucGQXMieTX7Mg8fXfgJN85/K98+/B3+cv3/18eO/0Y2vxJ3jszyG+aXuKt/veZdF++OUVRFOketicMhH3+IE5PIK32S4kgYNAprlXqFuBaUHcVYMrVptR+6fYGGLd6opv12WxrKGBw3LHkwhgX89KBHiQSgbu3l8/7nVIupShbG5Xvvxj7TCbmajMev1xEFPbiZTWdHj9jU+4FRVIimGaZ3C8VlmkPKoUU9RUysY5k9eK1f10I6pZnpQ7CYinBkEh3EnN1A2OOaMWiscWc1uNN2j0YtIol91n7IJOZoeRjN1ZdckXhdA3IRy0uQqJ42URSIoRbMHMXbMEcGnfQNWxn55rClIOiZBUw4zFl9+ILhJblGhAxs754rs7m9PHWiQG2rMxfcF465v2lGdRZ05ShvxDUhRNGfeZpTrSNc9vmkqjJOoQ7ExrKMzndMbHoMQCL3YvbG2B9TQ6P7FlJn3ma377ZMe84h9vPyfZxtl/kLamUS9EoZWRJC3i640U6rT1xHysa1MVovxRFkcHpYfZ2v8F3Dn+Pfzryb7ROts85piBbg1QipNSJdbp3EIQQZ12N3FKyk8/Uf5K7K25jTe5KiquciCE4dGaC5ztf4V+O/YBWS/vCd7oEvHdqiH/61XGOJNBtSGfWfsI9GQ1ODVrlNaGUBbh29b4KMOWGB8KT7buOXOSKY0jqb67PQyIINJ5Lb+OX7OM3tpi5ZYMp7pe3ND++AuaFrOC1NrBYGHVK8ozquIPgUZGUguQu+mqljFyjakkD/StpPA7hrJ5eGz+rZ7aExSOSNdK9ElSbjAgCSbVgNraYkUoEakuMHDk3mpZ4RNh4fPm+Hh9mjBnKqL9TKlywM7i8QR3AptpwC+bJBC2Y+5tGkEoEtqfZulg0ow6dDuap5ZvYibTNXzxX90pjL4GAOEd4LBmi7ZcLeN/FI93uGa1KhlopjVbqnt/fjVYl47bN80cM1q/IZcLmiYq8pcvgTAK8OE/H+hW53LWtjH1nhtnfNDznuMZmM4FgbF9EY4aSIkU5Oeos/uvsr5nyxF6DHS4/CpkE5UyHjSiK9E8P8mLXa3z78Hd59Nj3eaP3HQxKPcFQkB+d+S9+3vxbrN5wok4mlZCfpUkqqAuJId7qf5/Gzm7kOid/vuERPlZzD9sKN3Fnxa08VPdxvrHjs2xckYdkopq/3fDfMSoN/Mfpn/FO/74lnZm/mHGrm6fe7QLCokfxiHTwLJQcGHWN83rvOzx69Pt8q/ExvtX4GE+0PIlafU0oZSGWPL34ox/9iB/+8Ifs3buXFStWcPr0af7hH/4Br9eLyWTiX//1X8nOzl7qh/1AU5yjIxgSZ7zP5lffLibSRlcS41i9RsGqyiwOt4zysRurLokE9wsHelDIpdy1rSzuMWX5GTS2jGJzzJdJjlxAMtIcPv4wUF1s4Gz3ZEwvnVREUiIU5+qiF8OlwDrtJesKBnUQFkuJ138/anGTl6lGKlm+eS2NSkZpXsaCfnWhkMjhc6Osqcpme0MBj7/QTGvfFA0VWSk9nmXae8nEPq6xOIw6xYI2MLGIBDxXInApydORn6XhULN53igAgIjIoWYz62tyUvasimDK0dLWbyUUElOWSI/MMS1HsaRYlbqIr9t1qwtSfj8XO1NndXhRKqQp278IgkCuIWxr0Dloo6lrko/dWBmzsr22OgcBON0xsSivzMh1zDTT2njfDRX0jNj5zR/bKcvPoDQ/A1EU2dc0TEVhRlQhfDZGnYJpZ4Avr/4s/3r8R/zfs7/irzZ8FYV07p5k2u1Dp5Ez6Z7i4PARTh05w5hzEokgYYWxit2lN7Emt4EMhQ5/0M+b/e/xRt+7tEye557KO7iheDumHC295sQWRTavnV+d+wOtk53g3M2O9UXUZdXEPPbObWWcaB+npc3HNzb+Gb9q/QPPdr7MoGOEB2vvRy5d2n1VSBT5xautCALctK6I904PMzrlIj+GoXokIItldWR2jnJyrIlTY2cZdoaLDhX6Mu6vvhu7b5r3Bw/hcnjBZsLimSJLFd+TTxRFJj1TWDxTVBsrkAjL9zq/1CxpUNfS0sLp06cxmUwAhEIh/vqv/5pHH32UTZs28fjjj/O9732PRx99dCkf9gNPpI2y1zydVFA3OOZApZDGrUJsbyigqauF9n5rXJXFdBBFkVca+zh+fox7riuf015xMZGAo2/UwZoYQZ1OLb9sam1XIzXFBg41mxmdcs+7wPeO2Mk1qlLq8y/J03G6cwKfP5jUXF8i3N4Aw5MuNtelZqi61Bi0yrhWIOZlbGcwm9pSI++cHMIfCMVti2ztn8Lm8LGtoYC11dmolTIaW8wpBXWiKDJp97C68lrCbTli1CmxO30EQ6GUEhHDk05yDCqUisV9p9NBEAS21ufx0sFe/vdvTsQ97oZ16c8jFmVr8QfCCpipBmejFhdKhTQtJb5LTUaMSl3E1+1i4bFk0KplM/eXXpXDlqLx+GxyjWqGJ508t68LvUbOrRtLYh5n0CqoMhk42THOvSlWImczMOYgx6CKBo5SiYQv39vAt584xo+eO8u3Pr+ZUYuboXEnD99RG/M+jDolbf1TFGjz+ezKB/jPs7/kybbn+Ez9J6NJ1JAYYsRmxcM032r8FwDWFtSzu+QW1uSuRCefmyCTS+XcVbGbTfnrear9BZ7ueJEj5uOYDDcxft6D1eGdV8HyB/2cs7Txu/PP4g36uC3vXl4Keakrjr9OVxbpqSs18ubxAW7dVMwjq/6E13rf5tWeNxl1jfPF1Z/BqDTEvX2qvH9qiPP9Vh6+o5a1VTm8f2aYA00jfOzGqnnHRmftZ75z/lCA4+ZTvDt4gCHHCAIClYZyPl5zL+tyV5GpMkZve0vJDTxuO0DHmIR/PPiv7Cjewu3lN2NUGhBFkVHXOJ3Wbjqs3XRae6LV0Ap9GZ+u/ziF2vwle87LmSUL6nw+H9/5znf4t3/7Nx5++GEAmpubUSqVbNq0CYAHHniAXbt2XQvqUsSUq0WvkdPcY2HH6sIFjx8cc8yIkcTOXK6ryUGpkHL4nDlmUOfxBTjUbMZscXHHltKkWrICwRC/fP08B8+a2bYyn7tvzi8VAAAgAElEQVSvK094fEleOKjrH51mTdXcBcruTN0P58NGTXF4sesYsM4P6szTVKQwbwHhSp0ohjeBybZtxuOt4wO4vQFuXGda1P0sFoNOQdfw/Hm0UCgskLC2avkHMLUlRv54bICeETsrSowxjzncYkatlLK2Khu5TMqm2lyOnh/jM/5gtC1oIZyeAD5/6Fr75TLFqFMiimB3+lNqax6ZdF32ebrZ7NleFvVcjIVKLqPKlP56M1sBM9WgzmxxUZCpWVKBk6VCf1GlLuLrdtM6EzmG1MWdpBIJWpVsEeqXqRuPR8g1qjnRPs7IpIsHd9UkTDCsX5HD0+92MWFzp/U8ITwbfnFlWK9V8NWPruKx357kp3vPYdQpUMglbK2PvdGPzLCGRJE1uQ3sqdjNKz1vUpJhYkvBBhpHjrF/6DCDkzXIZCJ3l93M9aZtrCgpYXw8cUU9T5PDn639AifHmni24yX6XC8AO/n+W69iLB3FFXDj9Ltw+l34Q+H3q0RXxOcaHqK51Qt0UG1KHJTdtb2M//OHMxxuGeX6NYXsqdiNSVvAL1v/wHeP/TtfXP1ZKgyJVbaTYWKm7XJleSY3ri1CEATWVGZz4OwIH91ZMS8BZXV4UcglBAQPr/a8x76hRqZ9Doq0BXxyxUdZl7sKgzL2emBQZrCjfC0dredZZ9zMgeHDNI4cpcZYRf/0IA5/uCtBr8ig2lhBtbESiSBhb9fr/MvR73N7+S3cVnYzMsmVmfO/XCzZs/vBD37AvffeS3FxcfRnIyMjFBVdyMJlZWURCoWwWq0YjbE3KLHIzl64OrXcyM1Nv30gFptWFnC0xUxWlhZpggqWKIoMTTi5YUNxwnPYsaaII80j/MWDG6OVmZEJJ68c7OGto304PQEkQtiY87N7VnLn9vK47S0Ol49Hf3mMps4JHrytlgdvq03qQlmYrcVsdc87T5c3QK5Rs+Sv4VLf35UkO1tHhkbO4KRrzvOKyB3fs7Mypee7BgFoxuYOLOp1crh8/PHYANtWFbBlTeKg7lK/H0V5Gbx/epjMLO2cqq950kkgKFJdlrXsPxPbtUp+9PxZBidd7NgwP8Pt8QU42T7B9WtNmIrCa+qdOyrZ3zRC96iDG9YXz7tNLOwz85kVxcZr37tlSJkp/N4KcmnSr2ekZX9jff6821zO96SoMPlrfapoZ5RarWmsW+M2D7Vlmcvy8ymKIjKpQACB3NwMfv1mO1KphIfvaZiTeEnl3A06JYFQeu/9tCdAdZprQ0WJEY72k2NQ8fHdtQk7QXZtLefpd7voHHFQX528EX0Enz+I2eJi5zpTzM/8Iw4f//n82fBjbS6htDh2p1JxgZ5gSESlUWLQKflMzkcZ843xXOfLvNj9Gv6gn/rcahyybBrK8/nTbZvnPE4y3JF3PTfUbuSps3vZ229npF9FdqWEQm0eOoWGDIUWnUJLltrIdaUbkUvlvH7gONkGFbVVibtgbsrR8Zs3O2gbtHHfrhUA7M69jlpTGd898GN+cOon3LfyTjYUrqLcWIwkjTGEUEjk+880IZEIfOPTm8ibSars2VnF/37iKP0TbrZcZPUy6XIiUwb4h8ZH8YcCrC9cxZ4Vt7A6vy6pPWNkHfxI3d18LudOnml5lY7JHjYUrWJlXg31uTUU6HLn3Neuuq08ceppXul5k6bJZr68+U9YkVOZ8vO9mOW4bsASBXWnTp2iubmZb37zm0txd/OYnHSkNfh/pcjNzVgwW5MqtcUG3jk+wJGmoWiVJhaTNg9OT4CcDGXCc1hflc07xwd4+3AvaqWMt44P0NQ1iUQisKkuj1s3FpOhVfCr18/zk+eaePtoH5+7s25e1nfM6uYHT59hbMrNF/bUs2N1IRNJyvOacrW0903NO88Jq5uaYsOSvoaX4j250lQVGWjqnJjzvJpnzFYXev8vRhYSUcgknOuaZG2Ks1izefb9LlyeAHdtKU34+Jfj/ZDPrOtdvZNzNkLnZl4jrVxyVXwmTDk6Tp4f5ZYYbWpHW0dxewOsq8qOPpc8vYLMDCVvNPZSX5xcm01XX1hdTIZ47Xu3DBFCYUn2noEpjEkqbY5Z3fgCIYwa+Zz34IP2nmTplXT0W1J6Tv5AkDGLi631ecv2tdCq5YxOODjdaua9E4PcvrWUoNfP+Hi4epPq+6hWSpmwutJ6vhabB1V5euulbqYyt2d7GTZrYj82BVCYrWH/qUG2pdG+32eeJhQSydIpYp7rlhU5nFmZz+Fzo2ypzY37fGSE95udvZPR+b4Hqj6G2+PDqDJwg2k7Jl0hX3trH0rphdclne/WnpI7MV4/ws9eaeU24yeoLZ0faFotHsDDue5JKgqSe4zyfB1tfXO/F2r0fGPD1/hly5M81byXp5r3opGpqcmsYkVmFbWZ1RRo8pIKsN49NURT5wQP31GLEAxGH6c8V4Neq+ClfR1IVVMMO80MO8302wdp7s9BEAR2FGzk5pLrKZhpiUx2zygEL6yD2do8Pll5P8yOzzww4bn4vgQeqv4kq42reLLtef7n29/jpuId3F15OypZmtXnK7SGSiTCgkWuJQnqjh07RldXF7t27QLAbDbzhS98gc985jMMD19QwrFYLEgkkpSqdNcI01CeiUQQaOqaTBjUJRJJmU19WSYGrYL/fKmFYEhEr5Fz93Xl3LR+rmLlNz61joNnzfzhnQ6+9fOj3LOjgju3liKTSugcsvHDZ5sIhUS++cC6mItRIsrydRw/P4bT40erCrebiKKI3em7ZmeQBDXFBk53Tsx5vXoiIikpDppLJAKmXO2ixFLsTh9vHg/Lbcey07jcRFp4bU7fnKAuIpBwNczUQbgFc//ZYQLB0Lw508ZmM5kZSmpLL6wJEkFgW0M+bxwZwO7yJSVCMTnjUZd9rf1yWRKZtUlF+W1kRiSlMPvq+JynS1GOluEU7VjGptyIhCXllysZagXTLj8vzvi6JRIeS/b+Il6UqeDxBfD6g2mPRNSVGvmbB9fPWaMSsb4ml9eP9M/ZFyRLVPkyhvI3hOc8/3RPPbdvKU0oJBYR8rA6fJTOdGiqZCq+uvbz0WMCwRAubyCmnUGqbKrN43dvtbPvzEjcfVSkC2fXxuS6L8oL9BxtHWPa5Zujb6CTa/mzdV/A5rXTPtVF+1QnbVNdnBlvBiBDoaPaUEGRroBCbQFF2nxy1NlIJRcqrOG2y05WlmWyoV5Pt62XcdckY65xRpyjiFkyznTm06Z7FkHhRSaRUaDJQx3KpK44hwfr1qb1OkVagG0JbFLisTpnJdXGSl7qeo13Bw9wZqKFeyvvYGP+2g+UkMqSBHVf+tKX+NKXvhT9/y233MJPfvITqqureeqppzh+/DibNm3iySef5I477liKh/zQoVHJqSk2cKZzMuYAaoSILL0pzqIWQSIRuGt7GSfOj3HDuiI21+XHFGIQBIHr1xSyuiqb373ZzvP7ujnWOsr2VQU8v6+HrAwlf/GJNWnNbUQCj/5RB/Uzs30eXxBfIHTNziAJIn51nUM2NqwIZzV7R+zkZ2nS8s0qztVxasYnKJ05k1ca+9KS275URDbCFytgmqdcaJSyq0ZdtbbUyNsnB+kzT1M1a5Zi2uWjucfC7s0l81Rst68s4LXD/RxrHUtqE2CZ9iKTSq6a1+TDhl6jQBDCqrLJErEzuJIzdZeDouzUFTCvBp9KvVZO97ANu8vPvTvK0za4jqBTy9NSUI2sn6kaj0cQBCElQbb1K3J49XAfTZ2TKVtdDIw5kMsk5GXGn8eTSSULKkNHxHMSGV07PQEgfePx2SgVUrbW53Oo2cynd6+Ief3uGg4rZFYtME8XISpGZ55mVQwBLINSz+aC9WwuWA/AhNsSDfJ67P2cHm9GnKlYRoKyQm0BBoWefe8J+IMyhrJf5f85eGFuXUAgT5NLdaWJUwMSNsju5p6tFeSos5EIEr6y731yDemvRxkaORJBSNuAXC1T8ana+9iYv44/tD3PE+d+z2u9b3NX+S42fECCu0s6MSiRSPjud7/Lt771rTmWBtdIjzVV2Tz9XldCP6nB8bDyUzKmz7s3lbB7U2wlqosxzAwab+v4/9m77zC3qjPx49971bumavqMex93MAaM6SUQQ0ICIY2UXwqbvgtJICF1lzQSsglJSCMLS2CTbLLBQDA1NBuDAXdjj8uMpzeNukbt3t8fGskee8bTNDPS6HyeZ58Nlka60pGu7nvOe963mwe3HOTPzx9hbpWDz75r2RmrXJ5JKq2hqcOfDupO9KgTK3UjqSuzo9XINLR40kFdU6ef+WdYyT2TqlIrL+1uHyhUM7ag2u3r5/lxltueLKnPkCc4+AegozeEqzA7CyQMJVUg5WCzZ9AP+utvd5FQVM5ZcvqFT1WplaoSK6/u6xhdUOfrp9BuyJn3JN/I8pn7Lg6lrSeI3aLPyEVnNqssHqiA6Q0PWUZ9KKmgbrT3nw42sx5fKDZsX7exspp1BMKxMU/ajbfx+HjNKrfjsOp5q6F7zEFda3eAimLLhFvVpCaVz/R9SxWdydRE2PnLk+0Ath/o5MKVp+9HP9LqRSNL1LpGlwWTmjQ/NkxQd6piUyHFpkLWVyT3B0YTUTqCXen0yfZAJw2eI/Q2O4j2LqZmSTeLahdTYi6m1FRMiamIIlNhuhDJ9468wZEjUUovTu5xC4RjxOLKhKrNypKEwzq28+BQ5jpn8dWzvsDO7r3849gz3L//YZ6YIcHdpAR1zz33XPp/r1q1is2bN0/G0+SdVFC3+2gvG4epLNjSHRyy70qmrJxXwoLqAnYf6WH1ghJ02vGXyrZbknt/jp80e+gd+LLaRfXLEem0MrPKbTS0JGfKvMEobl+EujH0pztZKmW3uTsw5qDusa2NqKo6rnLbkyWVknrqSl1nX4gF1Zlr5THZ7BY95UVmDh73DErB2ravg6oSy7Df93OWuvjz80eG7Rl0sl5fv0i9zHKpinyj1d4bpCKL0wszJV0Bszs4pqDOYdWPavJzutgGgvEr19WOK/NiqMeLxRWiMWVMLS7G23h8vGRJYuXcYrbt6yQWT4zpGqO5O0h9Btqy6LQyVpPujN+3wEBl0kxNmtSV2agqsfLirrZhg7raMtuo3w+zUYur0ExTx/j2fuk1emrsVdTYT0wK9njDfH37ayyus/OvV194xsmB85dX8LvHD3Co2cOCmoITkwMT7F/rsAzff3YsZElmVWk9K0qWDgru/tH4LFfOuoRVpfU5Gdzl3hHnsYpiC0V2I3uO9A55eyyeoKM3NGSj10wyG7WsW1I2oYAupdZlG5QSIlbqxmZulYOmDj+RWIKmgQamdWNsZ5CS2gfX0jXG/SmeMC/tbueCFRXjLkM9GbSa5A+z96RZvUg0gdsXoawwe45zNBbUFNDQ4iGhKECyxPmRVt+Qq3QpZy9yIQGv7usc8fHdvgiFdpHynM0KrIZRz1CrqkrbNLczmCoVA6+xtWf0561Od5iyLF6lg+S5vdZl4+JVo9tDNRLLQPDhD4/tgjjdMHqKVuoAVswrIRJLcKCpb9R/4w1G8QWjGdvP7bTqz5junFqpy1RQJ0kSG5aX09ThHzTRDcn9e40dfuZUjK2/3Kwy24iNzcfihZ1txGIKN18xcrXKNQtKMRk0vLirHTiROj7Rz9FYJ7dGkgruvnrWF/jY0g8gSRL37/sjr3W8mbHnmEoiqMshkiRRP6eI/Y19xOLKabe39YRQVDUrilSMVo3LSkdviEg0WdXIJ4K6MZlX5SShqDS2+2hs9yORfE/Hw2rSUWAz0Nw1tmIpj758DFmWRuxNOB2cVv2gH4DOvoG9NDl2sTu/2kF/NMHxzuTYvLqvEwk4e/HwDVUL7UYW1hawbV8H6jB9wiB5weDxR8RKXZZzjiHtyBuMEo7EZ3yRFACTQUuh3UBb7+iDug53KKuLpACctcjFNz6yNmON41Mrf2PtVecNRNBqJCwZWC0crUW1BRj0Gt481DPqv2lJF4nLzLndOcIkij/DQR3AuiVlaDUyLw0EQikt3QGicWXMPR3rymy4fZFxFRYZylsNPSyocVLsHHlSNLVP8I2DXYT6Y/QNvJdj6bM5lLGcB8ciFdzdftYX+cLKT7KseHHGn2MqiKAux9TPKSISS3Cw+fQZrJEqP2Wj2jIbKqQDCW8wikaW0rOKwpmlmpA2tHhp7PBTVmTGqB//j29ViXVMFTDbeoJs29fBxauqpnQmd7QcVgPek/bUndhLk2MrdQPpooeaPaiqyrb9nSyocY7YLHzdYhddfWGOtg8/W+v29aOCaDye5ZxWA/5QjHji9Am9U6UrXxbnzm/BRIylAmYgHCMQjmX1frrJkKrSONagzhOI4rDop3S/rU4rUz+7iJ2He4ZtXH+qdJG4jK3UnTmoC4QyH9RZTTpWzS9m274OorFE+t+PtCbP3yM1HT9VKmunKQOrdZ3uEG09QVbMKx7135y/vIJoXGH7/s6TVuomNmHvsBoIhEd3HhwPWZKZVzAHiy43zw8iqMsxC2sL0Glldg+Rgpmq/JRLP1apzbypFExvMJqucCSMzGrSUVFsoaHFy7EOH3Vl40u9TKkqsdDWExz1CfP/XjqKQafhynUT38g/GZyWU1bqUkFdlhRzGa0Cm4HSAhMHj3to7PDT6Q6x7gyplymrF5Si1cjDpmDuOdrLDx9+CwnGvRdTmBqpvSi+Ucy6tw1UvqzIsRXp8aoostDuDo2qn2268mWWr9RlWir4SAUjo+ULRrBPQzXqlfOK8QWjHG0bXUDS0hXAYdWPqoXLaDhterzB6LCfqUA4hkGnOWMz9fHYsLyCUCTOm4e60/92pNVLgc0w5om3GpcVCWhsn3hPtbcakqumK8cQ1KX3Ce5upy8QxWrSTXjbTioozMS+uplIBHU5xqDTsLCmYMigrqU7QGWxZdRlnbNBgc0wqNSyLxgV7QzGaF6VgwNNfXgDUerKJ3ZhXlVqJaGo6QufM2nq8LPjYDeXra0edwXUyeawGvAFo+nZ3g53iEK7AUOGf4inwoJqJw0tHrbu6UCrkVmzYOTmvGajlhXzinntQOegQN0fivKbzfv4yZ92oddp+OoHVqer0QrZKXUx0zeK1KP23iBGvWbCs+K54uQKmCPpzIF2BpMhdY72j3WlLhidls9R/ZwiNLI0KLg5k+buQEbrCTitBlQ1ea4cij8Um5TKsgtrCyh2GHlp94kUzMOtXmZXjH3C1qjXUl5soXGcxVJO9mZDNzWl1jHtmz95n+C+Y70Z+RyliridWtU6UxRV5T//snvIa+xcIIK6HFQ/p4iuvnD6xymlpSuQU/vpIPmlry2zcXzgpOMNRKesytZMMa/Kkb5gnzXBlbpUBczRpGD+7aWjGSu3PVkcVj0JRSU4cCHT4Q7n7MXcghonwf44L+xqY8XcIsyjbMx7zhIX/lCM/Y1uVFXl1X0d3PGb7bx2oItr1tfxzY+cle55KGSvdANy/yhW6nqCVBRb8qZFRUXxiQqYI+lwh9DIEsWO/Eo3Nhu0SNLYV+qSv8lTP9FqNupYWFvAGwe7zrgnGCChKLT1BNO/X5mQ/r4NsyIUCMcy0nj8VLIkcX59OQea+ujqC+ENRunx9o+5SEpKXZmNYxNMv/QFoxxp8bJy/sgTiadK7RPs9vRPuPIlTP5K3cHjHnYe7qE/Gp+Ux59sIqjLQfVzkiV7d500k+ANRvGFYhk9qU2VWpeN1p4gsbiCNxhJl6IXRmfuQF86SYLqcRZJSSkrMqORpRErYDZ2+Nh9pJcrzq7JSLntyXJyA3JVTa5A5lrqZUqqX108oZyx6uWpls0uwmLU8syOFn76l938evN+SpwmvnHzWq7bMBudVvwM5IITF5mjWakL5UWRlJR0UDeKYikd7hDFThNaTX597mVZwmLUjWlPXTyhEAjHcE7Tb/LahaV0e/pHbJre4Q4TT6hUlWYu3Tj1fRtuZTwQjqWLz2TaucvKkSR4eU87R1uTLYvGup8upbbMhjcQpe8MlTxHsvNwDypjS71MsZp0rB7IKsnEvvuxnAfHY9u+Dox6Dcvnjv21ZoP8OqvNECVOE+VFZnYfOVEZKrVJONdW6iCZ951QVFq6A/iCMVH5coxKHEYcVj2VxZYJpxVqNTLlRZYRV+qeePU4JoOWizJUbnuynNyA3B+KEY7Ec3alrthhoshuxGLUsmzO6HsxaTUyaxe52HvMzdvH+7jx4nnc8cHVOXmuyGdWsw6NLI14MRPqj+ENRvNmPx2cqIA5mrYGHe4Q5Tl6Dpgom1k3pvTL1GrIdGXPrJpfgixJvP521xnv15ouEpfJlbqB345hg7ropKzUQbJo1bLZRby8u52GloGm42Xje22p7J2JtDbY2dBDkd047h7I59eXA8m2LBNlN+uRpOFXUCciGkvwxsEuVi8oycktGjBJzceFyVc/p4hndrTQH41j1GvT1SNzqfJlSu1AgYb9jW4UVRVB3RhJksQNF87N2IpLdamFt497hr290x3ijYNdXHl2bVY374UTFyPeQJQObe7vpXnPhXNQFHXMqwxXnV2DVpa4dG01JaMoRy1kH1mScIyinHeqSEo+9Kg7WUXRyBUwFVWl0x1m6azCKTqq7GIx6dJNs0cjtW9pOtIvIbnKs6iugB1vd3H9BXOGTSdu7gqgkaWMfubtFj0SDNurLhCenD11KefXl3Pv33r5587WMTUdP1W1y4okJYulrJw39vTJSDTBvkY3F6yoGHc698LaAq5eX3fGFjyjJcsSdsvktDXYdaSXcCQxpkyYbCNW6nJU/ZxiEorK/sZka4PW7gBOqz5rC1acSYnThMmgSTdVn64fkFy2bkkZqxeUZuSxqkqt9Pkjw6bpPPnacTSyzKVrsnuVDsBpOZGq0TEDCiSctcg1qqqXpyp2mrjp0vkioMtxo2m8e6KdQe5+zsejonjkCphubz/xhJLT54CJsJnGln7pTTcen77rilQKZqpH51BaugKUFZkzmkqu1cjYTqmenBJPKIQjiUkN6pbPLcZu1tEfTYx7Px0ki+tVFltGTGEdzt5jbmJxZVwBYYosSbxrw+x0mvREOS2GSdlT9+q+DhxWPQtrCjL+2FNFBHU5al6VA6Nek67Q09yde0VSUmRJoqbUxuGBXixipW56pfZltg6RgukNRHhlTwfnLSvLieDboNdg1GuSK3XuEFqNJJpsCzlrpN5ZkNxPp9XIlIyhSt1MMJoKmB19uT+xMxHWMQd1Ayt101iROpWC+drbQ7dlgWRhr8moJzBco+vUezhZe+ogGVSuX5pMWxxr0/FT1ZXZaWz3jVhwZihvNXRjMWqZX509xbQcVn36s5kpgXCM3Ud6WbfYlVMV5E8lgrocpdXILJlVyJ6jvcQTma/8NNVqXLZ02XlRKGV6pSYHUim9J3t6RwsJReHys7O34uWpkg3Io3S6Q5QWmHP6hC3kN6dVP2w6WEpbb5CyQlPefc7TxVLOsK+uozfPgzpzMqgb7cW9NxhFAuyWyQteRnJyCuZQxx3qj9Hri0zKpPZwkyjpxuOTnBl1yZoq1i12sXTW6PdQD6Wu3IYvFBtzsZSEorDrcA/1c4rRyNkTLoxmcmusXn+7i4Si5nTqJYigLqfVzymizx9hx9tdycpPORzUnbwJWKzUTS+HRY/VpDutWEqoP87zb7WwZkFpTjW4d1qSs3od7lDeXswJM4PTaiDYHycWTwx7n1Q7g3wzUlAXiSbYtq8Ti1GbtxOHNpOeeEKlPzr85+dknkAUm1k37Rf0Z0rBbBnYRzkZ1z/DpTunis1MZvolJAumfOKdSyZcYbpuoFjKsTE2IW9o9hLsj7NqfnZVgnRa9fhDsUG9Vydq274OKost4y4Gky1EUJfD6mcnZ2+eeLUJyM3Klym1A42P9VoZoz43qw7NFJIkUVViofmUtgYv7GwlHElw1braaTqy8XFY9bj9Ebr6wrgK8yslTZhZRuqdFY0l6PX2512RFDhzBcxYXOHnf9tDY4ePD1+xMG/6950qFYSMNgXTG4hkRZr9ynnFw1bBnMwicU6rHn8welrwMBXpl5lUXWpBI0tjroD5ZkN3OissmzitBlSS/fMyodsT5nCLl3VLXDl/bhBBXQ5zWA3Ultlo6Q4OVH7K3VWI1CZnu0Wf81+qmaCq1EprTyCdEhuLJ3jq9WYW1xWkq5XmCqfVQI+3n4SiipU6Iac5bWcus97hDqFCTv8WTERFkeW0lTpFUfnNY/vZd8zNzVcsZM3CzBSUykWpEvyjDeo8wei0tTM4mc2sZ1FdAa+/3XlaCmZLdwCLUUtBBhpbn8ppGzp4SFUQnayWBpmm0yaLpTR2jH6lTlVVdjb0sKSuAKM+u6pcp6taZyioe3V/cr9mJqpzTjcR1OW45QP9qsqLzDndTFUjy9SW2UQRiyxRXWIlGlPo9iSLDmzd24E3GM25VToYnM4rgjohl51ppS6eUHjq9WYAKnM4FX8iKoottPeeqICpqioPbHmbHW93ccNFczl/ecU0H+H0Sq0s+UOjX6lzTmORlJMNl4LZ0h2gqsQ6KZPBJ6onnxLUTVH6ZSbVldvGVCyluStAj7eflfPHX/VysmSyAbmqqry6r4P51U6KZ0BxqdyNAgSAdBPiXE69TPl/Vy/mI+9YNN2HIXDi89TSFUBRVJ7cfpzaMhuLanOv1O/JM80iqBNyWfpi5pSCB6H+OD/98y627u3g6vW1VObhnjpIBnWpCpiqqvLnfx7hxV3tXL2+lsvPyp3iTpPlRPrlyCsciqLiC8ayYqUOhk7BVFSVlu7gpF3/DLcy7g/HMBk0OTWRXldmJ9gfp8fbP6r772zoQSLZWiHbjJSGPhZNnX7ae0OcsyT3V+lANB/PebPK7SydVcjqLJxNGSvRQyt7VBRbkKTkbJ2qQmdfmE9fuzQnU2NTe0IsRm1OzawKwqksRi1ajTzoIrPHE+aev+ym0x3iI1ct5Pz6/F2Nqo6w8/0AACAASURBVDypWMqOt7t4cvtxLlxVyXXnz57mI8sO6fTLUazU+cMxFFVNX0BPN5tZz6JaJzve7uLdF8xGkiR6vP1EoolJK24x3IrQZDcenwx15cltE40d/lFda73Z0M2cKkdWFq6zW3RIkJG2Btv2dqLVSDMmLTt3phmEIcmSxJduWJGxxtOCAMmGpa4CM81dAZ54tYnSAlPOThw4B36UygrNORmUCkKKJEkDvbOSM9RH23x898E36PNH+NJ7l+d1QAcnKmBufqWR/33hKOsWu3j/pfPF936AyaBFI0t4QyOvcJzoUZc9F/VrF7no8oTTKZgt6SIpkxPU2c16JGmIoC6Ue0FdZbEVrWZ0xVJ6vck015Xzsm+VDpLbdWxm3YTTLxOKwvYDndTPKcZizK3xHI4I6gRBGFJVqZU9R900dvi54uyanO17lVqpc4nUS2EGSPVo2vF2Fz/445votTJ3fHA1i+qyq0LddDAZkgUzGjv8LJ9TxEffsQhZBHRpsiRRVmimrXv4Xn4pqSIU2ZJ+CaenYLZ0BZBg0tKNZVnCYdHj8Q8Ogv3hGFZT9rwvo6HTylSVWGkcRVuDtxq6AVg1L3sncodrNzEWB5r68AWjMyb1EkRQJwjCMKpLLMQTCnaLnnOX5m5DTotRm05TFoRc57TqOdLq5Zf/t5fqUitf+9CavOxLN5zlc4pYOquQT1+7NKf2PE2VGpeNps6RL+xTqyDZ0NIg5eQUTFVVae4OUFpgwjCJbZCGanSdiyt1AHXldho7/CMWS3mroYfyInNWT4Q6rAa8Ewzqtu3txGzQUj9nYs3ds4k44wmCMKTU5vPL1laj0+Zu70BJkvj6h9ewbknuBqaCkOK0GYjGFVYvLOXW963M20baw/nQFQv50g0r0Oty95w1mWpdVjyB6Ij7kVIXzM4s+3ytWViaTsFs6QpMWuplylArQoFwDFuOtDM4WV2ZjXAkTtdAVeuhBPtjHDzuYVWWb7dIpqEP/xnec7SXf733FR566hDtvaevTEeiCd481M2ahaU5fX1zqowUSunr6+O2227j+PHj6PV6amtr+fa3v01hYSE7d+7kzjvvJBKJUFlZyQ9/+EOKimZOVCwIM9Wy2UXcdMm8vC8DLgjZ5OLVVVSVWDmvvlykFgpjluoz2tQZoP4Mq3DeQBSTQZt1wfGq+SU8uOUQr+xpp6svPOmTdU6bgcOt3vR/x+IJIrFEbq7UDYx9Y7sfV8HQq3C7D/eiqCorsnQ/XYrDasAXipJQFDTy4PWpYH+M3z9xAFVR+efOVp59s4Wlswu5ZHU1S2cXIksSbzV0E4klZlTqJWRopU6SJD7+8Y+zZcsWNm/eTHV1NT/60Y9QFIVbb72VO++8ky1btrBmzRp+9KMfZeIpBUGYZFqNzCVrqjFk2Y+6IOQzV4GZDcsrREAnjEt1afLC/vgIKZieYARnFu2nS0mlYL6wqw2VySuSkuK06gmEY8TiCgCBcBzIncbjJ6sotqDVyMMWSznQ6Oahpw9R6jQxq9w+xUc3Nk6rHlUFX/D0Sq6PPNOAPxjjC+9dzo9uWc+1582iuSvAPX/exR2/fpWndzTz0u52Cu0G5lU7p+HoJ09Ggjqn08nZZ5+d/u8VK1bQ1tbG3r17MRgMrFmzBoAbb7yRJ598MhNPKQiCIAiCIIyB2ailtMA04r46byCaVZUvT7ZmYWk6yKoundz9pKm2Bt5gMtXPP1A51JaDK3VajUyNa+hiKS/tbuPHf9qF02bg325ckfWTRqeOS8quwz28sreDq86ppa7MjsNq4J3nzeKHn17PJ965GKtJx8PPNHCgqY91i8uy/nWOVcb71CmKwsMPP8xFF11Ee3s7FRUnUrcKCwtRFAWPx4PTOfrouKgo9xprl5TYpvsQhFOIMckuYjzygxjn7CPGZGYY7zjOqyngcLPnjH/vD8dYUFuQlZ+VS8+ZxYNPHUKvlVk0t3RSKzPXViavVSWtlpISG219yebdVeWOId+bbHy/TrZoVhHP7ThOUZEVWZZQFJX/fvIAf362gRXzS/jKh9ZiyYGAtW6g16Kq0aTf80AoyoNPHaK2zMZHNy09ba/cNWUOrrlgHoeO97FtTzvv3DCbAptxXM+freOc8aDuO9/5DmazmQ984AM8/fTTGXnM3t4AinLmaj3ZpKTERnf3yNWlhKkjxiS7iPHID2Kcs48Yk5lhIuNY5jTyyq4Qjc3uIftzqapKn68fo1bO2s/K8jlFROMKvb2BSX0eKZEA4FhzH0UWHS0dyf118Wj8tPcmF75bLoeRcCTB3kOdFNmN/P6JA7x2oIsNy8v5wGULCAX6CQX6p/swRxZPjktTq4dZJcnV2t89vh+PP8Jn3rUUT19o2D8tMGm56qxq4v0xuvtPT98cyXSNsyxLIy5yZTSo+/73v09TUxO/+tWvkGWZ8vJy2tra0re73W5kWR7TKp0gCIIgCIKQGaliKcc7AyyqLTjt9nAkQTSupFPcstGnNi0FJn+y32lLvgepSov+gRWiXCyUAlBXnhz7PUd6ef1gF0dafbxn4xyuOLsGKYdSEVNVf1NVWncd7uGVPR1cvT6ZdpmvMtbS4Mc//jF79+7l3nvvRa9PvtlLly6lv7+fHTt2APDII49wxRVXZOopBUEQBEEQhDGocQ1UwOwYerUhtU8pmxqPn0qnlaekFL3VpEMjS+m2BoFwMqizGDOe6DYlyovM6HUyjzx3mOOdAW65dilXrqvNqYAOkvsDrSYdnkCEUH+M/3rybSpLLFyzftZ0H9q0ysinsqGhgfvuu4+6ujpuvPFGAKqqqrj33nv5wQ9+wDe+8Y1BLQ0EQRAEQRCEqWc36ymwGYatgOnJ0h5100GWpEE90QKhGGaDNmcb22tkmflVTo53+vns9fXMqXBM9yGNm3OgAfnDzzbgC8b43PX16LS5OS6ZkpGgbt68eRw8eHDI21atWsXmzZsz8TSCIAiCIAjCBNW6bMNWwEw1JndkcfrlVEo2IB9IvwxHc7Kdwck+tWkpkgQmQ26uNqY4rXoONvcRjiTyPu0yJb9DWkEQBEEQhDxTW2ajozdEJJo47bb0Sl0Wp19OpWRQdyL9MhfbGZzMbNTmfEAHyfTgcCQh0i5PIoI6QRAEQRCEPFLrsqECzV2nV4/0BiNoNfKMuPDPBIdVj8c/kH4ZjuVskZSZpsRpQpYkPnrVorxPu0wR31hBEARBEIQ8UuNKlkZv6vQzt2rwvipvMIrTqs+54hmTxWk1EIrEicQSBMIxqktzr3fyTHTZ2mpWLyilsnhyG9DnEhHUCYIgCIIg5JECmwGbWTfkvjpvIJrVlS+nWqq1gzcQIRCKYTOJ9yYbGPVaKotFGHMysV4pCIIgCIKQRyRJotZl4/gQbQ08gQhOiyiSkuK0JYO4rr4w0biS84VShJlLBHWCIAiCIAh5psZlo7UnSCyuDPp3sVI3WGqlrrk7uf9Q7KkTspUI6gRBEARBEPJMbZmNhKLS2nOiWEo0liAUiYt2BidJBXUtXUFABHVC9hJBnSAIgiAIQp6pHSiWcrzzRFDnDYrG46eyGJPNxlvESp2Q5URQJwiCIAiCkGdKnCZMBi1NJ+2r8w70YxMrdSdIkoTTqqetJ7lSZxN76oQsJYI6QRAEQRCEPCNJEjWl1kEVMD2BZD82h1ipG8RpM5BQVECs1AnZSwR1giAIgiAIeai2zEZzV4CEkiyWkk6/FIVSBkntq5MAi1EEdUJ2EkGdIAiCIAhCHqp12YjFFTp6QwB4gxEkCWxmEdSdLBXkWkw6ZFk0ZReykwjqBEEQBEEQ8lBNmQ0gnYLpCUSxW/QicDlFwcBKnUi9FLKZCOoEQRAEQRDyUHmhGb1WpqkjWdnRG4iKxuNDSKVfisbjQjYTQZ0gCIIgCEIekmWJ6lIrxwdW6ryBiGg8PoRU+qVV7KcTspgI6gRBEARBEPJUTZmN411+FFXFE4yKIilDcNrESp2Q/URQJwiCIAiCkKdqXTbCkQSd7hD+YBS7SL88TSr90ib21AlZTDvdByAIgiAIgiBMj1pXsljK3qNuVEQ7g6EY9RquWV/Hqvkl030ogjAsEdQJgiAIgiDkqYpiCxpZYvfRXgAcYqXuNJIkcd2G2dN9GIJwRiL9UhAEQRAEIU/ptDKVJRYOHu8DxEqdIOQqEdQJgiAIgiDksRqXjXhCBRDVLwUhR01JUHfs2DFuuOEGLr/8cm644QYaGxun4mkFQTiDuKeP4N7dBHbtRInFpvtwBEEQhGmS2lcHIv1SEHLVlOyp+8Y3vsFNN93Epk2b+Pvf/86dd97JAw88MBVPLQh5S4lE6D96hNChg0RbWoh7+4h7PFR96Vb0ZeX4d7xO9yN/BEC2WnGccy6OCzaiLyuf5iMXhPyWCASI+3zoS0uRtGLruzD5asuSQZ3FqEWnFUlcgpCLJv3Xore3l/3793P//fcDcPXVV/Od73wHt9tNYWHhZD+9IGQdpT+MbDSNeD9VUeg/dpTI8eNEWo4TaWlB0umwn7UOx4YLUFWV/qNH0BUXo7E7UMJhwocbMFRWoSsqIrhnF+2/+gVIEvqycrQFBZgXloNGA4B11RqMdbNQ+sN4X3qRvueewbv1Zebc/VMkrRZVVZEkadhjU0IhZItl2PsIgjA2iVCQvi1P0vf0FtRoFI3DyZy77wEg8Nabye9yRSW64mIkWVx4C5lTXWJFksBhFat0gpCrJj2oa29vx+VyoRm4kNRoNJSWltLe3i6COiGvxL1euv/nYSItx6n79n8A0P7b+4i73WhsNjR2OxqTGW1BIc4LLwJJovWeu1HCYWSzGUNlFWo0SiIcAkAJBmm+67sASHo9aiwGqkrJe2+k4LIrMC9aQuUXvoRxzjw0ptODSF1hIbqB76BlaT1xr5dIa0s6oGv+3r9jqKlBkiTiPj8Jvw/7OefiOO98Yr09NH71NoyzZ1P0zmsxL1kmgjtBmIDgnt20/+Y+lFAQ29qzMC+tR41F07f3Pvo3Is3NAGgLCnF9+GYsS+un63CFGcag11BRbKHAJoI6QchVOZHXUVRkne5DGESJRgkeayTq7iPqdg/8Xx+ll1yIY8kS4qEQ0qG9FJ69FlmkzmSNkhLbyHeaBKqi0PnMczT94QGUSISam25MH4u/pIhgwEess4P+QweJB4MUrF5FyXs3AWD4+u0YSooxlJScFjQl7Hr0X7+dSGcn/Z1daEwm7EsWY1swH43BACU2qCsb/YGW2GBuFQDxQBC3qwT3Sy+iMRrR2u3onQ5sdiMlJTYSdj3K+99H59PP0HrPj7HOn0fN+27AuXLFqIO76RoPYWqJcR6eEo8TDwTQO53Yls4jtGQRNTfdgHX26aXTC37wH4SbWwg2NdG++XFa7/kxsz7+USqueceYn1eMycyQ6XG8/eaz0Gk1lBRbMvq4+UR8t/JDto6zpKqqOplP0Nvby+WXX8727dvRaDQkEgnOPvtsnnrqqVGv1PX2BlCUST3MMYl2dtJ4x5dP/IMso3U4KL7+vdjPPgdl53YO//yXaBxOHBsuwLFhI7qCguk7YIHiYis9PYEpf964x0P7fb8g3HAI0/wFuD74YfTlFcPe/0wpj9NhpONR43G8W1/G/fhmEl4vs75/N1qHY8THLSmx0d3tz+ShCllIjPNgMXcv8V43cb+PuLsXz3PPoispoeqL/zamx1FiUXof/TvODRvRlZSgKsqo0zHFmMwMYhyzjxiT/DBd4yzL0oiLXJO+jFRUVMSiRYt47LHH2LRpE4899hiLFi3K6dRLbWEhFZ/7IlqnE63DicZmG/SDWnrRhYRkA57nnsP92KO4H9+MdeUqyj7+CWSdKBU8HY797n58Le04N16EedHiKduPIlvMqIkErps/iv3c80cM2LIpoIORj0fSanFu2Ihj/Xn0Nx5LB3RdDz+Eaf58LPUrkHW6qThUQcgacb8P//bt+He8hhIKUfftfweg+0+PENjxevp++soqnBdePObJHFmnp+Td7wGSEy9tv/gZ+rJyijZdJ75vgiAIeWpKcgO/+c1v8pWvfIVf/OIX2O12vv/970/F004aWafDWr982NsljQZr/Qqs9SuIdnXhfeF5op0d6YDOv+M1DLV16EtKp+qQ85L35Rfpb2qi9Ib3obPb6W94kda33kTncuG84CLs556HxjJ0mokSiSBpNEhaLUo0ihIKIml1SFotkk6HNLBHFCDu8xFpaSbh95Hw+Uj4/fQ3NVJxy2eRDQaqv/q1rAvWMk3SajHNnQck34/AzjfxPPs0ssWC7ax1ONafi6Fu1ox/H4T8Fj56BPcTjxHcsxsSCQw1tRhnz04HbYWXX4nj/AuSe2htdrRO58S/E4kEWrudviefILhnN+Uf/wSG6prMvCBBEAQhZ0x6+mUmZFv65UjOtDSr9Pdz5IufRY3FMM6Zi33demxr1qKxZWd+bq4KH26g+Yffw7xgIZWf/xKlZU4629wE3ngdz/PP0X/kMI4NG3F96GaiHe30PvYocY+HhNdL3NOHEg5T8bkvYq1fTmDXTtp+ds/gJ5Akqr9yB6Y5c/FtfYWO3//mxG0aDXpXGeWfugVDReXUvvAsoSoKof378G19mcBbb6LGYpR/8hZsa88CRJpKvsj2cY52dhLcsxuN3Yb9rHUANH3r66gqydV8WUaSZayrVlN4xVWoqor7sUdPBGV2OwDaomJ0hYUEdu+k8w+/x37Oeuzrz8NQWTVlryWweyed/3U/iUCA0ps+iPOCjUPeL9vHRBgdMY7ZR4xJfsjm9EsR1E2CkQY81tuDf/ur+F7dRrStFTQaym7+GPZz1k/hUc5cMbeb49/9JrLBSM0dd6KxWk8bk/7jTchGE/rSUiLNzbTe+1O0Dmc6pVbrdGJdvQa9q4xYTzfBfXtRY3HUeAw1FkONx7GvOwd9eQVxr4doZyfagQs92WwW5cZPkgiF8O94DftZZyMbTfQ99wyxt/dhWnce1vrlog/XDDaeH7/+pka8LzyfXN3S6pAHVscLr3oHstFE+OgR+o8dPe3vnBsvQtJoiDQfJ+7xoLHZ0dhtaGy2QWnvwf37CO58i+DePcS6OgGwrjmLik/dAkDbr+5FTSQgkUBVVFASWFevxXnBRhKhIEc+9y+nPXfhVVdT/K7rURUFVHXQSv5USgQCtP/2PiLNx6n7zn+gMZ+eiSAuPGcGMY7ZR4xJfhBB3QTNtKAuRVVVoi3N+F7dhmPDBehdZYQOHaT/cAOODRvRWLOr6mcuUKJRmn9wF9H2dmpu/zqGyuRKmTjZZg/PC//E88SjRHvdyWJC552P4/wN6IpLpvvQhAwbz/fO+9ILdP/Pw0gG46BJlDl3/xSNzUbPX/+C+4nHTvu7ub/4NbJeT+dDD+B9/rlBt8lmC3Pu+RmSLNNyz92EDx3EvGAh5mX1WJbWoy8dfSq8Go+TCARI+H3EfT6USATzgoXDpnJPNVVRiPf2pguoJAKB9IoiiHPhTCHGMfuIMckPIqiboJka1A0ldcEi6fXYzz2PgosvQ182hrL0eS585DAtP/4R5R//BNaVq9L/Lk622aW40Ezjc6/gffGfBPfsxjRvPtW3fRXIvgqgwviN9nsX2LUTpT+M/exzko3t+/vRmM1D3leJRJI9GU8hWyzJnooeD7HeHhI+H/GBfa5qNErxu64HkhUoNVYbsn7mF63q+b//xfvSS1Tc8hlMc+YC4lw4U4hxzD5iTPKDCOomKJ+COoBIczN9zzyFf/s21EQCx/kX4PrQzZk7wBku4feftkdRnGyzy8njEevtRQkFMVTXEPd6afrm19FXVmKorsFQVY2xpgZ9eYVI08wxsd5eTKE+wpYCtAWFQwbqcU8fXQ8/ROCNHRjnzqP6y7eLgD6DIs3NtP3iP4m53bje/yEcGy4Q58IsoaoqnmeewrJ8JfrSUtR4fEznODGO2UeMSX7I5qBOXCVlIUN1NWUf+RjF73o3nn8+n06dURWFSEszxpraaT7C7BPct5dYTw/OCzaKojM5RldUBEVFACjhMNaVK4k0N+P953PpFZmyj38C+7r1xHp7CO7di2nuPPTl5WLvYpZSIhGOf/ebJPzJHz7ZZEJfUYnj/A04ztuAqih4nn2a3kf/DzUWo+i6d1N4+ZUioMswQ3U1NXd8g/bf/IrOB+6nv6mRos9+croPK++pikL3nx7G8+wzWFasBKDnf/9MYNdOzEuWYFm8BNOCRcOuVguCIAxFBHVZTOtwUrzpuvR/+7ZtpfP+32Jds5bi665H73JN49Flj0hrC+33/QJtYRH29eeKPk05TF9WhutDHwFATSSIdnYSaTmOef4CAEL799H14B8AkM1mjLPnYpo7F+fGi8Qe1CyQaoItGwy4bv4YziIbPYebiLS2Em1tQYlGAUj4fXT/z8OYFy2m9AMfFueySaSxWqn8/Jfo+etf8DzzFOHrrgZr0XQfVt5SFYXOB+7H9/JLOC+5FF1RMQCGWbOIdnbg2/pKck+oLGOpX07lZz4PJCdKZINhOg9dEIQsJ9IvJ8FkLc0q/WHcW56k76knUeNxHBs2UnTNpkGb4PNNYPdOOn79KySDgZqvfA1dydDFNkRaRHYZ73ioqkqsq4vw4Qb6jxwmfLiBaHsbc37yMzRWK9H2NrQFBchG0yQctXAmsb4+2n91L86NF2I/51xg+HFOBAL0NzViXrxErM5NoVhvLxUL6+ju9hP3eNA6ndN9SHlFjcdp/+19BHa8TuE1myh657Wnff7VeJzwkcOE9u8DoPi6dwNw7Ku3AhKmufMwzp1L2fLFBDCgdTpREwn6jx1NVl9VFJAkjLNnD6r6Kkw+cZ2RH0T6pZARstFE8abrcG68kN5H/473heeJNB6j5o47UaJRwg2HQFEGTuwJVEXBUFWN3jUzC630PbWF7j8/gqG6horPfA5doZh9nukkSULvcqF3uXCcex4AiXAYjcmEqii0/fLnKOF+Sm68Ceuq1XkVMKiqihqPIUkyaDRT+tpDB/bT/utfoUQjSKNYKddYrViWLJ2CIxNOphtIc/bveI2O3/8W180fTffnEyZfpK2V4O5dFL/nBgovv3LI+0habbIy64KF6X9TFQXHxosIH24guHc3vm2v0PUgFFx6OSU3vA81FqP5e/8+6HE0Nhul7/8gtjVnTeprEgQhe4igLgdpHU5cH/wwBZdeRiIYBJLpTK0/+dFp9y258Sb0rjKinZ10/O4+THOSs3ymufPQOnJ7llbS6bCuWk3ZR/+fSEvJYxpTclVOkmVcH/4oXf/9X7T/8udYltVTetMHh129nWoxt5vQ/n2E9u8l3HAI29qzKXnvjaiqSutPf4JsNKIxm5L7z8orMC9akr4IP5P+xmP4X99O4M03iXV3AaAtKmL29+8GoPU/f0Lo4EFknQ6N3Y7W6cRQXUPJe24ASE4GyTK64hI0dvuYgkFVUeh78gl6/va/6MvKqfr0VzBUVIzj3RGmkmneAoy1dXT8+ldEmpspvu7dQ+5PjXZ04H99O4aaWqzLV6BEo7j/8TiGykr0FVXoS0tFAaNRUBMJJI0GY00tdd/9HrrCwjH9vSTLySDw8ivT2QpGfw9hQ3L/uKTXU/mFf032R5RllHAY74v/ROsoAAaKUfWHMVRWZfy1CYKQPcTZOIfpy8rT/1tjd1D95dtBltMndkmW0TqTJ3UlHEbSaPE8/yzq01sA0BWXUPmFf0VfVkbo4Nv4tm1F0p1o9ivp9Tgu2IjWZk/2YwqH0djtyEbjtK2AxH0+om2tmBcuwnnhRTg2XphXqzHCmZnmzKXma9/E8+wz9Pz9bzTeeTvVX74dY92sQfdTVRWlvx81HkNrG1/6cmr/GCQrrqqJBFLquzOwWpW6/fhd36X/yGEANHY75oWLMdTVJR8nHiMR8BPr7kLpD6OEQqixGIVXX0Pxte9GiUTwbX0F0/wF6CsqkulZBw9gXrwUSZbxbX0FzwvPY160GPvA6uXJ6aeW5SvRu8pQolHiPi8Jrycd/AF0/vcDRFtbBv7OiK7UhaW+nuJrk2lf/cebUILBgfYAfhJ+H4aaGmyr1xJuOETPX/+C7ayzcX3oI8hG47jeS2FqaR0Oqv71Nrr++N/0/eNxoq0tlH38k2jMZmK9Pfhffw3/a9uJHG8CoOCKq7AuX0Gsuxv3Y4/CwK4NSatF5yqj5Pr3YllWTyIcJt7Tg67MJVL/BiQCAVp/+mMcF2zEcd6GMQd0p0plKxQtnZtOAZNkGcvSZYPuZx0owALgfvIJvM8/i3nxEgouvRzzkqVZU2QqEQ6T8HpJBAMkggH0pWXoy8qIe724H38U07wFWNesFb/zgjAKIqibIWSdDtO8+cPebqyro/rLt6PG4/Q3NSb3JB0+DAPnybi7l+Ce3clmv/E4ajwOiQT2c9YD4Hv5RXr++hcg+UOusdvROpxUfv5LaKxWwg2HiHZ2oHU60ToKkpUJMzyDG2lupvVn96DGosz63o+QDQZxohdOI2k0FFx2OdY1a/E89wyGgWqxnQ/+gWh7O3Gvh7jHgxqJYFt7FuWfvAVVUWj+wV0Y62ZhXb4C07z5Q35+o11dBPfuJrh7N9H2Vmbd9UMkWabrkYfwb3910H31ZeXUffcuACzL6rGuWo1lyVL0lVWDPreyTk/t176R/m9VVYm2tyEbkgFS/7GjdD30AAAaqw01HkPp76f6y3dgmjePwndcTdG17xq2Up7zgo1nfL/KP/EpYr09xLq6iXV1EO3qSlcdVVWVlh9+DyUcPvEHsoxz44XYVq/FvGAhVbd9Nfl+ie9iTpG0Wko/+GEM1TV0PfIQof37sK1ZS+vPfkq0pRnjrNmUvPd9WNesTQcihspK5t57H9GOdqKtLekCOKlgPnzoIG0/uwckCV1xMfqycnQuFwWXXIauuISE308i4EfjcCKbTDP+M6NEIrT8+IdE21rRjHPyKBOKN12HrqCAvueeofWnSJx1SwAAGf1JREFUP8Y4ezal7/sAxlmzp+2YEoEA7b/9NaH9e5P7AAcUXfsuiq5+J2oijveVl/E89yzGZ+ZSeuNN03q8gpALRKGUSTBTNssqsRiSRoMky0Ta2og0HSPuSzbzTfh8xL0eKj/3RSStls6HHkhW7BogG42YFi2m4pO3TDi4U2IxfK+8RPef/weN2UzFv3we48Aqx2jNlDGZKaZjPFr/8yco4TBapxONsyCdhmhZvCR9gRF+ez9qPI5sMmFZugznpZdjmj0H/xs76Pnrn4l1dgKgc7mwLK2n+Lp3IRtNhN4+QLSzAzUWQ43FUePJoKjwqquTK+cToKoqse5uwocOEj50EEmrxbJiJeZFiye90quqKIT270PS6dDY7GjtdmSzedSz/OJ7l32GGpNodxf6klIAwocb0Dgc6f8ei7jXQ/jgwWTQ196W/P9dXdR89WsYqqrxPP8sXQ89CCRTBrUOJxq7nfJP/Qu6ggLCRw7T33gMrc2Oxm7HUFObs2X9VVWl8/e/xffqVio++3ms9Ssy+vjj+W6p8Ti+V7fS87f/xbJsOWU3f3RCx6AmEoSPHCa4ayfRtlZ0LheGiiqsa9aeNm5qIkFo/z4Sfj/29eeiKgotP/o+xtlzMFRVobFYkS0WdMUlg9o4+ba+TM9f/0LC58N+zrmUfuBDWbvdQpzv8kM2F0oRQd0kyMcvthKLkvB6iXs8xHp7CR96m7jHQ+VnvwAkV0lQVcyLl2BetASNxTK6x41EaLzzduK9vZjmzaf8k7eMq2JbPo5JNsvW8VD6+wkd2Edg106Cu3bh+sjHsNYvJ3RgP+4tT2JZtgzL0npRgn+UsnWc89l0jImqqkiSRLS7i/6jR4h7kqvlCa+HuM9Hxac/g8Zioeevf8H9xGMn/lCSMNTWUf1vtyEbTenHyQWefz5H138/QNE7r6Xonddm/PEnMo6JcBgUBY3FQn/jMcKHDuG86OJRTcAmQiEkWUI2mvC+/BKdf/gdaDToy8qJdXehRqPMvvunaB0OPP98juDuXWisNoJ7dpHw+9G5yqj77l1jGsdEOIz7iceINDZS+aV/Q5KkrPwsiPNdfsjmoE6kXwoZIev0yMUl6IpLMM2dh/3swRXVlGiU4M638L74wkC55Tk4NmxMVzAcdN/+foL79mJbvQbZYMCxYSPGulmi/Lkw6WSjEevK1VhXrk5WkR1gXrQY86LF03hkgpC7UudtfUnpGVcAi659F85LLyPh9xPv60u3LEntEe34/W+I9/RgWrgI68pVGKprsvY3QYlEsNQvp/Dqd073oZwmVVwKwP/6a/Rt+Qfel16g5MabsCxZmt4vrMRiBHe+RdzTR9zrTQaADYcovfH9OC+8CMvy5ZR/6l8wL1markAc6+1Bc9JKW6y3l/DhhuSe33XrMS9dNuYx05hMlLz7PcnjkiTiHg8tP/4hjvM3YKybhb6qetBrEoR8JVbqJoGYrRlaqpdOcO8egnt2Y6lfTvGm61CiUbr++CCWxUuJdnXS9/QWlGCQuv/4AfrSsacADUWMSXYR45EfxDhnn1weE/cTj+F/8w0iTY2gqugrqyi49DIc522Y7kMb0snFlDItU+OoqirB3bvofuSPxLq7kI1G7OdfQOkN70OJRjl8yyeAE0VxLMvqsZ+zfloraUZaW+j43W/ShXwAdCUllH/i0xhnzSbu96GEQmgdDiTD1BV2y+XvljB6YqVOEEgWsDDNnYdp7jyKr30XqfmEaEc7gTffxPfySwDJ2c13XJOxgE4QBEHIfYVXXU3hVVeTCATwv74d39ZXiHZ0AMlJw8DOt7DU109b5U1VUej47X3Y15+LZWl91lSYPBNJkrAuX4F58RK8zz9HrKcL8/wFAMh6PbXf+ne0DgeyxZI1q6KGyipqvv5N4n19RFqOE2luJtJ8HM1AtW//tq10/+kR4ERhN43NTuXnvojW4SARDiPJctbuzROE8RJBnTBtUj8Qxppa5vzkP+lvPIZsNGGorJzmIxMEQRCylcZqxXnhxTgvvDidJh16+wDtv/w5stmMZfkKTHPnY5o7F315RUaCq0Q4PGKKX++jf8P/2nbMC3MvVVvW6Si47PLT/j1bf48lSUJXWIiusPC0IjSW+hXIFiuJgD9Z2M3vI+7zIxuNqKpK+6/uRQmFqPjsF9JFWQRhJhBBnZAVJI0G05y5030YgiAIQg5JBWzmRYup/OK/4dv6MqG9e/Bv2wpAzR13Ypw1m0hbKwmfD31ZGWoikaxSm4in0wgjra3EujqJ9bmJu93E3b2oikrFp24BoP2XPyfu8WBdvQbbmrXoKyoHrVwFdu3E/dhm7Oedj2PDBVP8Lggn05cle90Nx7nxQtp/cx/Nd32Hys9/aVDPX0HIZSKoEwRBEAQhp0myjGXJ0mShD1Ul1tVF+HADhuoaALwv/BPPs0+f8kcS839zPwB9Tz+Z3gIgabVoCwrQlZ6ocuu44EI8zz6N+7FHcW/+O7qyMgouugTnRZcQ7e6i43e/xlBTS+lNH5yaFyyMm3Xlaqr+7Su0/ewnHL/ru1R+5vNn7PMrCLlCBHWCIAiCIMwYkiShd7kGtR4p2nQtlqXLiPV0I+l0SFotklaXLo1feOXVODdejLagAI3NdlrKpm31Gmyr1xD3egi8+Sb+N14n7k8WS/C98jIgUfHpzyDrp2c/nzA2ptmzqb7967T+9Md0/P631H3nPybcU1cQppuofjkJRAWk7CPGJLuI8cgPYpyzjxiTzEkFhKqqEu/tQVdcMmXPLcYxMxKBAHGfD0NFRXJ/piSNuyCMGJP8IKpfCoIgCIIgzCCpi39JkqY0oBMyR2O1orEmL5S7/+dh1ESC0ve9H0mjmeYjE4Sxm3BQ961vfYtt27ah1+sxm83ccccdLFu2DICenh5uu+02WltbMRgMfOc732H58uUTPmhBEARBEARByARVVZF0OjzPPo2k01F6w/um+5AEYcwmXOd3w4YNbN68mUcffZRPfvKTfPGLX0zfdvfdd7NmzRq2bNnCnXfeya233koOZHsKgiAIgiAIeUKSJEqufy/Oiy/F8/QWfAPVUwUhl0w4qLvwwgvR6XQArFixgo6ODpSBvjFPPvkkN954IwBr1qxBr9ezZ8+eiT6lIAiCIAiCIGRUyXtuwDR/AZ0P3E9/Y+N0H86wgnt30/j124m0tgAQbmig97FH8b7yMqED+4l2dopFlDyU0T11Dz30EBs3bkSWZfr6+lBVlcLCwvTt5eXldHR0UF9fP6bHHWljYDYqKbFN9yEIpxBjkl3EeOQHMc7ZR4zJzCDGcXIUfO3L7LnjTixqP4VjfI9PHhNVVQkeOUrP1m1IskzldZvQWiwTOjYlGqXxvx6k/bEnMJaV4Zpdhc5uo+XFJnr/76+D7utYtpSFX71tws8pnC5bv3sjBnXXXXcdbW1tQ962detWNAObSR9//HE2b97MQw89lNkjRFS/FCZOjEl2EeORH8Q4Zx8xJjODGMfJJFP19W+TkOUxvcepMYl7PPQ9/ST+N3YQ7+kBWUaSZTRLV6ab3Y9HpLWF9l//imhrC86LL6X4+vfgiQDdfgwbLmHuug3E+9zE3W76mxoJH27A7Y8hhXLvcxLt6sL/6lb8b+xA0mgofMfVWFeuPq3VyHTI6eqXf/vb30Z8oqeffpqf/OQn/OEPf6C4uBiAgoICANxud3q1rr29nbKyshEfTxAEQRAEQRCmQyp48LzwPLGODkrOUDhFVVUijcfwu01QWJ78u2efwbxoMUVXb8K6YiVqPI7W6QTA/eQTWFeuQu8a2/Vw39NbSPh8VH7+S1iWnZ7xJuv16F1l6F1lmBctTrfciHs99B87hnXFyjE931RSVZVoS0uyT6TVSvjgAXo3/x3T3Hkk/H7af3kvxjlzqf7y7VkR2GWrCadfPv/889x1113cf//9VFUNnoG44ooreOSRR7jlllvYsWMH/f39LF26dKJPKQiCIAiCIAiTKtbRQd/TW9BXVuE47/xBtymRCP7Xt+N5/jkiTY3416ym5FOfRet0MueenyMbjac9Xtzrwf34Znr/768UXPkOCq96B7Ju+Ib1cZ8PJRxC7yqj5IabKL7uerQOx6iOPdVyo/exR/E+/xyF12yi6JpNWRUUxb0ePP98Hv9rrxLr7KT0pg/gvOgSbGvPwrJsOVqnE1VR8G/fRtznQ5JlVFWl/9hRjLNmD9lT0L3lH/i2bSXe20Phle+g4LIr8qax/ISbj69btw6dTjdo79wf/vAHCgoK6O7u5tZbb6WtrQ2DwcC3vvUtVq1aNebnEOmXwkSJMckuYjzygxjn7CPGZGYQ4zg11ESC1nvuJtxwiKrbbsc0ezaQDBzcj29GCYXQV1TivPAiZr3jUvpCyoiPGfd46P7TI/hfexVdqYuiTddhP3sdAN5XXqa/8RhKMEAiGCTS1IS2uJiaO+4cd1N0JRal68H/wrf1FawrV1P2sf83ZMA5ldR4nM4H/oD/tVdREwnMCxdhXbMW68rVaO32M/5t6MB+Wu7+Aab5C7CdvY5IUyP9jY3J90ijoft//0ykqRFkmdDePRiqa3Dd/FGMtXUZOfZsTr+ccFA3FURQJ0yUGJPsIsYjP4hxzj5iTGYGMY5TJxEI0PTdbxLv7WX2j36C1uHE8/yzhA8dxHHhxZjmzU+2RBjjmAT376ProQdI+APM/c97AWi/7xcE9+9DY7GisVrQOgoo2nQthqrqCb0GVVXxPPMU3X96BH1FJZWf+yK6oqIJPeaYj0FRiLQ0Y6ypBaD15z9FW1BIwSWXjikVVYlF8b74Au4nHiPh9SKbTJjmzcd188dOCwj9b+yg648PUvyu9+A497yMvA4R1E2QCOqEiRJjkl3EeOQHMc7ZR4zJzCDGcWpFmps5/r1/x/X+D2Jff+6Q9xnPmCixGNH2tnSgk9oHN1mC+/bS+/e/Uvn5f0VjseB95WUAzIsWoSvMfJCXCAWJtrbR33g0uT+xu5tZd/0QXWHhhF+rEo0S7+1B5yo7Y0ppIhxGNhqRJAnf9lfROhyYFy4a9/Nmc1CXH0mmgiAIgiAIgjAOhupqZv/wbmRDZtMWZZ0uHdABkxrQAViWLMW8eEn6ebwvPE//0SMA6EpdyTTIlauGLMRyJolwmFhnB5HWVswLFqArLsH/xuu0//Le9H0MdbMo++jH06tpE32tsl6PvrxixPtpTCYguVLYt+UfRI43YT9/Q3J/4gipnrlGBHWCIAiCIAiCcAYa88zo93ZyMFX9lTuItrYSens/obcP4H99O2oshmVZPaqqcvzfv42uqAh9RSWGqiq0zgK0Tie6omKiXV10/O7XxLo6SfhPrFy5PvQRHBsuwFhbR/G734O+shJDZRXawqJJD1rPRJJlqr98O72b/07fU0/i3/4qzosuoeDyK9DaZkZwJ4I6QRAEQRAEQcgzkixjqK7GUF1NwaWXoyYSKOEwAGo0iraggEhzM4E334CB3VpFm66j6JpNaEwmJK0Wy4qV6EvL0LlcGCoq0ZWUAKArLqHwyndM22sbimwwUHL9e3Gcex69j22mb8s/sK5aLYI6QRAEQRAEQRBmBkmjQWNN7tuSDQYq/+VzQLJ9Q7S9nbinD0N1smiLxmaj+tavTNuxToS+vILy//dJit99fXovYdcjf0TSanN65U4EdYIgCIIgCIIgDOn/t3f/IVXfexzHX57MzNZaVnaPNSY3UmItKmKMZKwsIrNNsvojaAwuuJC1RRSRGppGzNVdRCVBP6h/ohjLNhitoqIYda2Gq1aDocxt7RplWkndyvT7uX9E595+eM7xqPX5fH0+/srzPb6/n/N98fl8v28753sC/fopMS1NUtpLHkn3etzQGWPk/eeuWv51Wi3Vp/X3in86+d127o0YAAAAALpBXFyc/vaPfCVn5+hBw7+dbOgkmjoAAAAAvVxCMDWqO2raquMvdgAAAAAAWI+mDgAAAAAcRlMHAAAAAA6jqQMAAAAAh9HUAQAAAIDDaOoAAAAAwGE0dQAAAADgMJo6AAAAAHAYTR0AAAAAOCz+ZQ8gGoFA3MseQqe5OGa/IxO7kEfvQM72IRN/IEf7kEnv8DJyjmafccYY8wLGAgAAAADoAbz9EgAAAAAcRlMHAAAAAA6jqQMAAAAAh9HUAQAAAIDDaOoAAAAAwGE0dQAAAADgMJo6AAAAAHAYTR0AAAAAOIymDgAAAAAcRlMHAAAAAA6Lf9kD6Ck3b97UihUr9OeffyohIUFvvPGGysvLlZycrPPnz6ukpEQPHjzQiBEjtH79eg0ZMkSStGzZMp05c0aNjY2qqanRgAEDJEk1NTUqKysL1W9qatKwYcN04MCB5+6/o33U19erpKREjY2Nio+P11tvvaXS0lIlJiY+U6O1tVUFBQW6dOmSJOnMmTOhbX/99ZdmzJih0aNHhx7bvXu3Bg8e3PWD1wNszcPzPC1YsED37t2TJA0bNkxlZWUaOXJkp+qEG6ut/JJJuOOekZGh9PR0BQKP/n61bt06ZWRkdP3gOcTWnP9fYWGhqqqqws6b48ePa926dWpvb9ebb76pzz//XP379w+7TtrKD5n46fwUK5tz7Mzax9yyKxPmVmQ253zr1i2Vl5fr8uXLio+PV3Z2thYvXtzpOjFdUxqfunnzpqmurg79XFFRYQoLC017e7uZPn26OXfunDHGmMrKSrNy5crQ806fPm1u3Lhh0tPTzZ07dzqsX1BQYHbs2PHcbeH2ceXKFXP58uXQ85YsWWK2bNny3DoPHz40p06dMr/88ot5++23n9h25cqVZx6zma15GGNMS0tL6N+7d+82n3zySUx1oh2rLfyQSaTxuJJFT7I5Z2OMOXbsmCksLAy7nzt37pjJkyeb+vp6Y4wxRUVFZvPmzcaY8OukrfyQiZ/OT7GyOcdo1z7m1iM2ZcLciszmnBctWmR27doV+vn69esx1YnlmtK3Td3TDh06ZD766CNz4cIFk5OTE3q8qanJjB8//pnnhzuIN27cMOPGjTONjY3P3R7tPowxZufOnaaoqCjs2J83iV2f2LbmsWXLFvPpp592qY6rjYSLmUQaj6tZ9CSbcm5ubjZz5swxLS0tYfdz8OBB8/HHH4d+vnjxopk1a9YTz3F5TXQxk8f8eH6KlU05Rrv2MbeeZEMmjzG3omdLzvX19Wbq1KnG87yIY+6Ja8pe8Zk6z/O0d+9eZWVl6erVq0pNTQ1tS05Olud5unXrVtT1vvnmG2VmZmro0KHP3R7tPu7fv6/9+/crKyurk6/okbt37yovL095eXnasWOHjDEx1XnRbMwjPz9fmZmZ+v7771VcXBxzHVe5mkk0PvzwQ+Xm5urLL79Ua2trzHX8wLacy8vL9dlnn2ngwIFh9/N0ndTUVF29ejXqcdrM1UwicfX8FCvbcpSiW/uYW/ZlEklvm1uR2JRzXV2dhg8fruLiYs2ZM0f5+fmqra3tdJ1Y9Yqmbs2aNUpKStLChQu7pV5VVZXmzp3bpRptbW1aunSp3nnnHU2bNq3Tv5+SkqKTJ0+qqqpK27dv15EjR/T11193aUwvio15bN++XT/88INycnK0devWbhmXS/yayYkTJ1RVVaU9e/aorq5OlZWVXRqT62zK+eDBg+rbt6+mTJnSLWNxlR8zcfn8FCubcpRY+yR/ZtIb51YkNuXseZ4uXLigvLw8HThwQPPnz1dBQUG3jCsavm/qvvjiC/3xxx/auHGjAoGAgsGgGhoaQtubm5sVCAT02muvRVXv/Pnzun37tt57773QY1u3blVubq5yc3NVXV0dcR/t7e1avny5Bg0apFWrVoWeV1ZWFqrz22+/hR1HQkJC6MOUQ4YM0fvvv6+ampqoXsPLZGMejwUCAc2bN0/ffvttl+q4xuVMIgkGg5KkV155RfPnz3dijvQU23I+e/asqqurlZWVFXq3wuzZs1VXV/fMWvh0nYaGhlC2LnM5k3BcPT/FyrYcpY7XPubWIzZnEk5vm1uR2JZzMBhUMBjUpEmTJEkzZsxQY2OjmpubX8g1pW/vfilJGzZs0KVLl7Rt2zYlJCRIksaOHav79+/rxx9/1KRJk7Rv3z7NnDkz6pr79+/XBx98oPj4/x26goKCJzpxz/M63IfneVq5cqX69OmjtWvXKi4uLvR7paWlUY+jqalJr776qvr27at79+7p+PHj1v/F28Y8mpubJT36b29JOnToUOhuVJ2p4yrXMwnn9u3b6tevnxITE9XW1qbDhw9rzJgxUb8OP7Ex59WrV2v16tWh52ZkZOi7777TgAEDnlkLU1JStGbNGv3+++9KS0vTvn37lJ2dHcuhsIbrmYTj4vkpVjbmGG7tY27Zn0k4vWluRWJjzmPHjlVSUpJqa2s1evRonTt3ToMGDdLgwYNfyDVlnPHpm3Fra2s1e/ZspaWlhb4uYOTIkaqsrFRNTY1KS0ufuIXo4/fOLl68WBcvXtS1a9eUkpKi9PR07dy5U9Kjz8BlZmbqq6++0qhRo8Luv6N9nDhxQosWLXritrYTJ07scFLPnTtX165dC91e9d1339XatWt15MgRbdq0SYFAQG1tbZoyZYqWLVumPn36dNch7Fa25vHrr7+qsLBQDx8+lCSNGDFCxcXFev311ztVJ9JYbeSXTDoaz08//aSSkhLFxcWpra1NEyZMUFFRkfVfNdHdbM35aRkZGWFv23z06FGtX79enudpzJgxqqioUFJSkqSO10lb+SUTv5yfYmVrjp1d+5hb9mXS2+dWJLbmLEk///yzysrK1Nraqv79+6u4uFjjxo3rdJ1Yril929QBAAAAQG/g+8/UAQAAAICf0dQBAAAAgMNo6gAAAADAYTR1AAAAAOAwmjoAAAAAcBhNHQAAAAA4jKYOAAAAABz2X7PwSqH5wI8uAAAAAElFTkSuQmCC\n",
                "text/plain": "<Figure size 1080x360 with 1 Axes>"
              },
              {
                "output_type": "display_data",
                "metadata": {
                  "tags": []
                },
                "image/png": "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\n",
                "text/plain": "<Figure size 936x360 with 2 Axes>"
              },
              {
                "output_type": "display_data",
                "metadata": {
                  "tags": []
                },
                "image/png": "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\n",
                "text/plain": "<Figure size 1296x1080 with 4 Axes>"
              },
              {
                "output_type": "display_data",
                "metadata": {
                  "tags": []
                },
                "text/plain": "(None, None, <Figure size 1296x1080 with 4 Axes>)"
              }
            ],
            "_view_module": "@jupyter-widgets/output",
            "_model_module_version": "1.0.0",
            "_view_count": null,
            "_view_module_version": "1.0.0",
            "layout": "IPY_MODEL_73812c6467074c168f2ee7c052266b3c",
            "_model_module": "@jupyter-widgets/output"
          }
        },
        "bef38d345f2a4e689973be110b474070": {
          "model_module": "@jupyter-widgets/controls",
          "model_name": "DescriptionStyleModel",
          "state": {
            "_view_name": "StyleView",
            "_model_name": "DescriptionStyleModel",
            "description_width": "",
            "_view_module": "@jupyter-widgets/base",
            "_model_module_version": "1.5.0",
            "_view_count": null,
            "_view_module_version": "1.2.0",
            "_model_module": "@jupyter-widgets/controls"
          }
        },
        "34266b5b33bc4eb19e75ca1a0f80ada1": {
          "model_module": "@jupyter-widgets/base",
          "model_name": "LayoutModel",
          "state": {
            "_view_name": "LayoutView",
            "grid_template_rows": null,
            "right": null,
            "justify_content": null,
            "_view_module": "@jupyter-widgets/base",
            "overflow": null,
            "_model_module_version": "1.2.0",
            "_view_count": null,
            "flex_flow": null,
            "width": null,
            "min_width": null,
            "border": null,
            "align_items": null,
            "bottom": null,
            "_model_module": "@jupyter-widgets/base",
            "top": null,
            "grid_column": null,
            "overflow_y": null,
            "overflow_x": null,
            "grid_auto_flow": null,
            "grid_area": null,
            "grid_template_columns": null,
            "flex": null,
            "_model_name": "LayoutModel",
            "justify_items": null,
            "grid_row": null,
            "max_height": null,
            "align_content": null,
            "visibility": null,
            "align_self": null,
            "height": null,
            "min_height": null,
            "padding": null,
            "grid_auto_rows": null,
            "grid_gap": null,
            "max_width": null,
            "order": null,
            "_view_module_version": "1.2.0",
            "grid_template_areas": null,
            "object_position": null,
            "object_fit": null,
            "grid_auto_columns": null,
            "margin": null,
            "display": null,
            "left": null
          }
        },
        "d611ddbf5f0245cb94f8b071a16a413d": {
          "model_module": "@jupyter-widgets/controls",
          "model_name": "DescriptionStyleModel",
          "state": {
            "_view_name": "StyleView",
            "_model_name": "DescriptionStyleModel",
            "description_width": "",
            "_view_module": "@jupyter-widgets/base",
            "_model_module_version": "1.5.0",
            "_view_count": null,
            "_view_module_version": "1.2.0",
            "_model_module": "@jupyter-widgets/controls"
          }
        },
        "fec429bc974d44489c7b2126784a93ca": {
          "model_module": "@jupyter-widgets/base",
          "model_name": "LayoutModel",
          "state": {
            "_view_name": "LayoutView",
            "grid_template_rows": null,
            "right": null,
            "justify_content": null,
            "_view_module": "@jupyter-widgets/base",
            "overflow": null,
            "_model_module_version": "1.2.0",
            "_view_count": null,
            "flex_flow": null,
            "width": null,
            "min_width": null,
            "border": null,
            "align_items": null,
            "bottom": null,
            "_model_module": "@jupyter-widgets/base",
            "top": null,
            "grid_column": null,
            "overflow_y": null,
            "overflow_x": null,
            "grid_auto_flow": null,
            "grid_area": null,
            "grid_template_columns": null,
            "flex": null,
            "_model_name": "LayoutModel",
            "justify_items": null,
            "grid_row": null,
            "max_height": null,
            "align_content": null,
            "visibility": null,
            "align_self": null,
            "height": null,
            "min_height": null,
            "padding": null,
            "grid_auto_rows": null,
            "grid_gap": null,
            "max_width": null,
            "order": null,
            "_view_module_version": "1.2.0",
            "grid_template_areas": null,
            "object_position": null,
            "object_fit": null,
            "grid_auto_columns": null,
            "margin": null,
            "display": null,
            "left": null
          }
        },
        "8d9cac37f898416a8bd880e0a3fe1a80": {
          "model_module": "@jupyter-widgets/controls",
          "model_name": "SliderStyleModel",
          "state": {
            "_view_name": "StyleView",
            "handle_color": null,
            "_model_name": "SliderStyleModel",
            "description_width": "",
            "_view_module": "@jupyter-widgets/base",
            "_model_module_version": "1.5.0",
            "_view_count": null,
            "_view_module_version": "1.2.0",
            "_model_module": "@jupyter-widgets/controls"
          }
        },
        "d410d6c2b5914f0bb3b58c3a80c997b6": {
          "model_module": "@jupyter-widgets/base",
          "model_name": "LayoutModel",
          "state": {
            "_view_name": "LayoutView",
            "grid_template_rows": null,
            "right": null,
            "justify_content": null,
            "_view_module": "@jupyter-widgets/base",
            "overflow": null,
            "_model_module_version": "1.2.0",
            "_view_count": null,
            "flex_flow": null,
            "width": null,
            "min_width": null,
            "border": null,
            "align_items": null,
            "bottom": null,
            "_model_module": "@jupyter-widgets/base",
            "top": null,
            "grid_column": null,
            "overflow_y": null,
            "overflow_x": null,
            "grid_auto_flow": null,
            "grid_area": null,
            "grid_template_columns": null,
            "flex": null,
            "_model_name": "LayoutModel",
            "justify_items": null,
            "grid_row": null,
            "max_height": null,
            "align_content": null,
            "visibility": null,
            "align_self": null,
            "height": null,
            "min_height": null,
            "padding": null,
            "grid_auto_rows": null,
            "grid_gap": null,
            "max_width": null,
            "order": null,
            "_view_module_version": "1.2.0",
            "grid_template_areas": null,
            "object_position": null,
            "object_fit": null,
            "grid_auto_columns": null,
            "margin": null,
            "display": null,
            "left": null
          }
        },
        "73812c6467074c168f2ee7c052266b3c": {
          "model_module": "@jupyter-widgets/base",
          "model_name": "LayoutModel",
          "state": {
            "_view_name": "LayoutView",
            "grid_template_rows": null,
            "right": null,
            "justify_content": null,
            "_view_module": "@jupyter-widgets/base",
            "overflow": null,
            "_model_module_version": "1.2.0",
            "_view_count": null,
            "flex_flow": null,
            "width": null,
            "min_width": null,
            "border": null,
            "align_items": null,
            "bottom": null,
            "_model_module": "@jupyter-widgets/base",
            "top": null,
            "grid_column": null,
            "overflow_y": null,
            "overflow_x": null,
            "grid_auto_flow": null,
            "grid_area": null,
            "grid_template_columns": null,
            "flex": null,
            "_model_name": "LayoutModel",
            "justify_items": null,
            "grid_row": null,
            "max_height": null,
            "align_content": null,
            "visibility": null,
            "align_self": null,
            "height": null,
            "min_height": null,
            "padding": null,
            "grid_auto_rows": null,
            "grid_gap": null,
            "max_width": null,
            "order": null,
            "_view_module_version": "1.2.0",
            "grid_template_areas": null,
            "object_position": null,
            "object_fit": null,
            "grid_auto_columns": null,
            "margin": null,
            "display": null,
            "left": null
          }
        },
        "7a129e0f1a7a46759fda622aff08b9a0": {
          "model_module": "@jupyter-widgets/controls",
          "model_name": "VBoxModel",
          "state": {
            "_view_name": "VBoxView",
            "_dom_classes": [
              "widget-interact"
            ],
            "_model_name": "VBoxModel",
            "_view_module": "@jupyter-widgets/controls",
            "_model_module_version": "1.5.0",
            "_view_count": null,
            "_view_module_version": "1.5.0",
            "box_style": "",
            "layout": "IPY_MODEL_fe28650aa1694b609401586706ba7eaf",
            "_model_module": "@jupyter-widgets/controls",
            "children": [
              "IPY_MODEL_8f4b187ba2bc40eab57f45b91127a02e",
              "IPY_MODEL_a7f3414679d84daca30eff8a3594cdd1",
              "IPY_MODEL_5f7fb6a040a7405daebba0e010ea384d",
              "IPY_MODEL_57f3bffc86544956b0e07264f74a036d"
            ]
          }
        },
        "fe28650aa1694b609401586706ba7eaf": {
          "model_module": "@jupyter-widgets/base",
          "model_name": "LayoutModel",
          "state": {
            "_view_name": "LayoutView",
            "grid_template_rows": null,
            "right": null,
            "justify_content": null,
            "_view_module": "@jupyter-widgets/base",
            "overflow": null,
            "_model_module_version": "1.2.0",
            "_view_count": null,
            "flex_flow": null,
            "width": null,
            "min_width": null,
            "border": null,
            "align_items": null,
            "bottom": null,
            "_model_module": "@jupyter-widgets/base",
            "top": null,
            "grid_column": null,
            "overflow_y": null,
            "overflow_x": null,
            "grid_auto_flow": null,
            "grid_area": null,
            "grid_template_columns": null,
            "flex": null,
            "_model_name": "LayoutModel",
            "justify_items": null,
            "grid_row": null,
            "max_height": null,
            "align_content": null,
            "visibility": null,
            "align_self": null,
            "height": null,
            "min_height": null,
            "padding": null,
            "grid_auto_rows": null,
            "grid_gap": null,
            "max_width": null,
            "order": null,
            "_view_module_version": "1.2.0",
            "grid_template_areas": null,
            "object_position": null,
            "object_fit": null,
            "grid_auto_columns": null,
            "margin": null,
            "display": null,
            "left": null
          }
        },
        "8f4b187ba2bc40eab57f45b91127a02e": {
          "model_module": "@jupyter-widgets/controls",
          "model_name": "DropdownModel",
          "state": {
            "_options_labels": [
              "1964",
              "1908",
              "1980",
              "1910",
              "1774"
            ],
            "_view_name": "DropdownView",
            "style": "IPY_MODEL_47e1c5de3dd5468c8366c4d1008ddaad",
            "_dom_classes": [],
            "description": "Terminal",
            "_model_name": "DropdownModel",
            "index": 0,
            "_view_module": "@jupyter-widgets/controls",
            "_model_module_version": "1.5.0",
            "_view_count": null,
            "disabled": false,
            "_view_module_version": "1.5.0",
            "description_tooltip": null,
            "_model_module": "@jupyter-widgets/controls",
            "layout": "IPY_MODEL_58c751b605634b7da6b5a3ec67e1ebfc"
          }
        },
        "a7f3414679d84daca30eff8a3594cdd1": {
          "model_module": "@jupyter-widgets/controls",
          "model_name": "DropdownModel",
          "state": {
            "_options_labels": [
              "3",
              "0",
              "4",
              "1",
              "7"
            ],
            "_view_name": "DropdownView",
            "style": "IPY_MODEL_0b64186d2d2c4d72b57011f225b2eff7",
            "_dom_classes": [],
            "description": "Operacion",
            "_model_name": "DropdownModel",
            "index": 0,
            "_view_module": "@jupyter-widgets/controls",
            "_model_module_version": "1.5.0",
            "_view_count": null,
            "disabled": false,
            "_view_module_version": "1.5.0",
            "description_tooltip": null,
            "_model_module": "@jupyter-widgets/controls",
            "layout": "IPY_MODEL_b78266a8c609469f9de74806473bdbd0"
          }
        },
        "5f7fb6a040a7405daebba0e010ea384d": {
          "model_module": "@jupyter-widgets/controls",
          "model_name": "IntSliderModel",
          "state": {
            "_view_name": "IntSliderView",
            "style": "IPY_MODEL_c0ba564b6a454a4ebb86368f4329491d",
            "_dom_classes": [],
            "description": "PeriodoEstacional",
            "step": 1,
            "_model_name": "IntSliderModel",
            "orientation": "horizontal",
            "max": 30,
            "_view_module": "@jupyter-widgets/controls",
            "_model_module_version": "1.5.0",
            "value": 15,
            "_view_count": null,
            "disabled": false,
            "_view_module_version": "1.5.0",
            "min": 1,
            "continuous_update": true,
            "readout_format": "d",
            "description_tooltip": null,
            "readout": true,
            "_model_module": "@jupyter-widgets/controls",
            "layout": "IPY_MODEL_1a730b9b255e4c8ca8279e5874fa09bd"
          }
        },
        "57f3bffc86544956b0e07264f74a036d": {
          "model_module": "@jupyter-widgets/output",
          "model_name": "OutputModel",
          "state": {
            "_view_name": "OutputView",
            "msg_id": "",
            "_dom_classes": [],
            "_model_name": "OutputModel",
            "outputs": [
              {
                "output_type": "display_data",
                "metadata": {
                  "tags": []
                },
                "image/png": "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\n",
                "text/plain": "<Figure size 936x360 with 3 Axes>"
              }
            ],
            "_view_module": "@jupyter-widgets/output",
            "_model_module_version": "1.0.0",
            "_view_count": null,
            "_view_module_version": "1.0.0",
            "layout": "IPY_MODEL_09deec62ee414933a0653b6bbcf6e968",
            "_model_module": "@jupyter-widgets/output"
          }
        },
        "47e1c5de3dd5468c8366c4d1008ddaad": {
          "model_module": "@jupyter-widgets/controls",
          "model_name": "DescriptionStyleModel",
          "state": {
            "_view_name": "StyleView",
            "_model_name": "DescriptionStyleModel",
            "description_width": "",
            "_view_module": "@jupyter-widgets/base",
            "_model_module_version": "1.5.0",
            "_view_count": null,
            "_view_module_version": "1.2.0",
            "_model_module": "@jupyter-widgets/controls"
          }
        },
        "58c751b605634b7da6b5a3ec67e1ebfc": {
          "model_module": "@jupyter-widgets/base",
          "model_name": "LayoutModel",
          "state": {
            "_view_name": "LayoutView",
            "grid_template_rows": null,
            "right": null,
            "justify_content": null,
            "_view_module": "@jupyter-widgets/base",
            "overflow": null,
            "_model_module_version": "1.2.0",
            "_view_count": null,
            "flex_flow": null,
            "width": null,
            "min_width": null,
            "border": null,
            "align_items": null,
            "bottom": null,
            "_model_module": "@jupyter-widgets/base",
            "top": null,
            "grid_column": null,
            "overflow_y": null,
            "overflow_x": null,
            "grid_auto_flow": null,
            "grid_area": null,
            "grid_template_columns": null,
            "flex": null,
            "_model_name": "LayoutModel",
            "justify_items": null,
            "grid_row": null,
            "max_height": null,
            "align_content": null,
            "visibility": null,
            "align_self": null,
            "height": null,
            "min_height": null,
            "padding": null,
            "grid_auto_rows": null,
            "grid_gap": null,
            "max_width": null,
            "order": null,
            "_view_module_version": "1.2.0",
            "grid_template_areas": null,
            "object_position": null,
            "object_fit": null,
            "grid_auto_columns": null,
            "margin": null,
            "display": null,
            "left": null
          }
        },
        "0b64186d2d2c4d72b57011f225b2eff7": {
          "model_module": "@jupyter-widgets/controls",
          "model_name": "DescriptionStyleModel",
          "state": {
            "_view_name": "StyleView",
            "_model_name": "DescriptionStyleModel",
            "description_width": "",
            "_view_module": "@jupyter-widgets/base",
            "_model_module_version": "1.5.0",
            "_view_count": null,
            "_view_module_version": "1.2.0",
            "_model_module": "@jupyter-widgets/controls"
          }
        },
        "b78266a8c609469f9de74806473bdbd0": {
          "model_module": "@jupyter-widgets/base",
          "model_name": "LayoutModel",
          "state": {
            "_view_name": "LayoutView",
            "grid_template_rows": null,
            "right": null,
            "justify_content": null,
            "_view_module": "@jupyter-widgets/base",
            "overflow": null,
            "_model_module_version": "1.2.0",
            "_view_count": null,
            "flex_flow": null,
            "width": null,
            "min_width": null,
            "border": null,
            "align_items": null,
            "bottom": null,
            "_model_module": "@jupyter-widgets/base",
            "top": null,
            "grid_column": null,
            "overflow_y": null,
            "overflow_x": null,
            "grid_auto_flow": null,
            "grid_area": null,
            "grid_template_columns": null,
            "flex": null,
            "_model_name": "LayoutModel",
            "justify_items": null,
            "grid_row": null,
            "max_height": null,
            "align_content": null,
            "visibility": null,
            "align_self": null,
            "height": null,
            "min_height": null,
            "padding": null,
            "grid_auto_rows": null,
            "grid_gap": null,
            "max_width": null,
            "order": null,
            "_view_module_version": "1.2.0",
            "grid_template_areas": null,
            "object_position": null,
            "object_fit": null,
            "grid_auto_columns": null,
            "margin": null,
            "display": null,
            "left": null
          }
        },
        "c0ba564b6a454a4ebb86368f4329491d": {
          "model_module": "@jupyter-widgets/controls",
          "model_name": "SliderStyleModel",
          "state": {
            "_view_name": "StyleView",
            "handle_color": null,
            "_model_name": "SliderStyleModel",
            "description_width": "",
            "_view_module": "@jupyter-widgets/base",
            "_model_module_version": "1.5.0",
            "_view_count": null,
            "_view_module_version": "1.2.0",
            "_model_module": "@jupyter-widgets/controls"
          }
        },
        "1a730b9b255e4c8ca8279e5874fa09bd": {
          "model_module": "@jupyter-widgets/base",
          "model_name": "LayoutModel",
          "state": {
            "_view_name": "LayoutView",
            "grid_template_rows": null,
            "right": null,
            "justify_content": null,
            "_view_module": "@jupyter-widgets/base",
            "overflow": null,
            "_model_module_version": "1.2.0",
            "_view_count": null,
            "flex_flow": null,
            "width": null,
            "min_width": null,
            "border": null,
            "align_items": null,
            "bottom": null,
            "_model_module": "@jupyter-widgets/base",
            "top": null,
            "grid_column": null,
            "overflow_y": null,
            "overflow_x": null,
            "grid_auto_flow": null,
            "grid_area": null,
            "grid_template_columns": null,
            "flex": null,
            "_model_name": "LayoutModel",
            "justify_items": null,
            "grid_row": null,
            "max_height": null,
            "align_content": null,
            "visibility": null,
            "align_self": null,
            "height": null,
            "min_height": null,
            "padding": null,
            "grid_auto_rows": null,
            "grid_gap": null,
            "max_width": null,
            "order": null,
            "_view_module_version": "1.2.0",
            "grid_template_areas": null,
            "object_position": null,
            "object_fit": null,
            "grid_auto_columns": null,
            "margin": null,
            "display": null,
            "left": null
          }
        },
        "09deec62ee414933a0653b6bbcf6e968": {
          "model_module": "@jupyter-widgets/base",
          "model_name": "LayoutModel",
          "state": {
            "_view_name": "LayoutView",
            "grid_template_rows": null,
            "right": null,
            "justify_content": null,
            "_view_module": "@jupyter-widgets/base",
            "overflow": null,
            "_model_module_version": "1.2.0",
            "_view_count": null,
            "flex_flow": null,
            "width": null,
            "min_width": null,
            "border": null,
            "align_items": null,
            "bottom": null,
            "_model_module": "@jupyter-widgets/base",
            "top": null,
            "grid_column": null,
            "overflow_y": null,
            "overflow_x": null,
            "grid_auto_flow": null,
            "grid_area": null,
            "grid_template_columns": null,
            "flex": null,
            "_model_name": "LayoutModel",
            "justify_items": null,
            "grid_row": null,
            "max_height": null,
            "align_content": null,
            "visibility": null,
            "align_self": null,
            "height": null,
            "min_height": null,
            "padding": null,
            "grid_auto_rows": null,
            "grid_gap": null,
            "max_width": null,
            "order": null,
            "_view_module_version": "1.2.0",
            "grid_template_areas": null,
            "object_position": null,
            "object_fit": null,
            "grid_auto_columns": null,
            "margin": null,
            "display": null,
            "left": null
          }
        },
        "972a3627aa884894b14f22f97de05acc": {
          "model_module": "@jupyter-widgets/controls",
          "model_name": "VBoxModel",
          "state": {
            "_view_name": "VBoxView",
            "_dom_classes": [
              "widget-interact"
            ],
            "_model_name": "VBoxModel",
            "_view_module": "@jupyter-widgets/controls",
            "_model_module_version": "1.5.0",
            "_view_count": null,
            "_view_module_version": "1.5.0",
            "box_style": "",
            "layout": "IPY_MODEL_8e646cca553f42cc9819009cae813d48",
            "_model_module": "@jupyter-widgets/controls",
            "children": [
              "IPY_MODEL_2cb3659c86ca4d09a0a61c5d42922654",
              "IPY_MODEL_73f558c0e8f84aecba0f03b7557c6dc5",
              "IPY_MODEL_a4bf8c027aca4d1688750819c70f00f7",
              "IPY_MODEL_0e72d762b532455e8380f89e1614fe75",
              "IPY_MODEL_ede93bb355ce4ec4ad3512b47b801dc1",
              "IPY_MODEL_80f6093105d54e85b99ed0a24c177f22",
              "IPY_MODEL_43cbed141b7341c3adad260cc32b4cf4",
              "IPY_MODEL_9f8eda6392b5488bbca0d59839ce579f",
              "IPY_MODEL_e809aaaad2c3456480d16d8774d7e7a5",
              "IPY_MODEL_918b5251e6b948148a797d17718470ab",
              "IPY_MODEL_57ade56664f94db08f5ee8db89667fef",
              "IPY_MODEL_140b29e8036c47b9a0c6c4832a3ba76d",
              "IPY_MODEL_235862c643444fc2a2314f3537a2ca88",
              "IPY_MODEL_c79eb0824bb84996b29b5f55cc134ff8",
              "IPY_MODEL_38fd91b7989847ffb4c84f342e02efa9",
              "IPY_MODEL_5f539376b05c4c18835ce656c2303211"
            ]
          }
        },
        "8e646cca553f42cc9819009cae813d48": {
          "model_module": "@jupyter-widgets/base",
          "model_name": "LayoutModel",
          "state": {
            "_view_name": "LayoutView",
            "grid_template_rows": null,
            "right": null,
            "justify_content": null,
            "_view_module": "@jupyter-widgets/base",
            "overflow": null,
            "_model_module_version": "1.2.0",
            "_view_count": null,
            "flex_flow": null,
            "width": null,
            "min_width": null,
            "border": null,
            "align_items": null,
            "bottom": null,
            "_model_module": "@jupyter-widgets/base",
            "top": null,
            "grid_column": null,
            "overflow_y": null,
            "overflow_x": null,
            "grid_auto_flow": null,
            "grid_area": null,
            "grid_template_columns": null,
            "flex": null,
            "_model_name": "LayoutModel",
            "justify_items": null,
            "grid_row": null,
            "max_height": null,
            "align_content": null,
            "visibility": null,
            "align_self": null,
            "height": null,
            "min_height": null,
            "padding": null,
            "grid_auto_rows": null,
            "grid_gap": null,
            "max_width": null,
            "order": null,
            "_view_module_version": "1.2.0",
            "grid_template_areas": null,
            "object_position": null,
            "object_fit": null,
            "grid_auto_columns": null,
            "margin": null,
            "display": null,
            "left": null
          }
        },
        "2cb3659c86ca4d09a0a61c5d42922654": {
          "model_module": "@jupyter-widgets/controls",
          "model_name": "CheckboxModel",
          "state": {
            "_view_name": "CheckboxView",
            "style": "IPY_MODEL_73631965f673438aa2ef7d1b86e30047",
            "_dom_classes": [],
            "description": "Arima",
            "_model_name": "CheckboxModel",
            "_view_module": "@jupyter-widgets/controls",
            "_model_module_version": "1.5.0",
            "value": false,
            "_view_count": null,
            "disabled": false,
            "_view_module_version": "1.5.0",
            "indent": true,
            "description_tooltip": null,
            "_model_module": "@jupyter-widgets/controls",
            "layout": "IPY_MODEL_68b5df4fcaa64ec0ab523229235fe9c9"
          }
        },
        "73f558c0e8f84aecba0f03b7557c6dc5": {
          "model_module": "@jupyter-widgets/controls",
          "model_name": "CheckboxModel",
          "state": {
            "_view_name": "CheckboxView",
            "style": "IPY_MODEL_af0cf58e343f415bb0528aed08bb0a91",
            "_dom_classes": [],
            "description": "Sarima",
            "_model_name": "CheckboxModel",
            "_view_module": "@jupyter-widgets/controls",
            "_model_module_version": "1.5.0",
            "value": true,
            "_view_count": null,
            "disabled": false,
            "_view_module_version": "1.5.0",
            "indent": true,
            "description_tooltip": null,
            "_model_module": "@jupyter-widgets/controls",
            "layout": "IPY_MODEL_805a8c5000b04ff18736b9c71d51cc7a"
          }
        },
        "a4bf8c027aca4d1688750819c70f00f7": {
          "model_module": "@jupyter-widgets/controls",
          "model_name": "CheckboxModel",
          "state": {
            "_view_name": "CheckboxView",
            "style": "IPY_MODEL_a13b6581c61a401484f9432543c27c7e",
            "_dom_classes": [],
            "description": "Archivo",
            "_model_name": "CheckboxModel",
            "_view_module": "@jupyter-widgets/controls",
            "_model_module_version": "1.5.0",
            "value": true,
            "_view_count": null,
            "disabled": false,
            "_view_module_version": "1.5.0",
            "indent": true,
            "description_tooltip": null,
            "_model_module": "@jupyter-widgets/controls",
            "layout": "IPY_MODEL_66179b548aa6485386dd149c1c70271d"
          }
        },
        "0e72d762b532455e8380f89e1614fe75": {
          "model_module": "@jupyter-widgets/controls",
          "model_name": "DropdownModel",
          "state": {
            "_options_labels": [
              "1964",
              "1908",
              "1980",
              "1910",
              "1774"
            ],
            "_view_name": "DropdownView",
            "style": "IPY_MODEL_fb0398c6a9bc41cda804f9077af7fb9d",
            "_dom_classes": [],
            "description": "Terminal",
            "_model_name": "DropdownModel",
            "index": 2,
            "_view_module": "@jupyter-widgets/controls",
            "_model_module_version": "1.5.0",
            "_view_count": null,
            "disabled": false,
            "_view_module_version": "1.5.0",
            "description_tooltip": null,
            "_model_module": "@jupyter-widgets/controls",
            "layout": "IPY_MODEL_7d89e6e4decc41028adcf35142654938"
          }
        },
        "ede93bb355ce4ec4ad3512b47b801dc1": {
          "model_module": "@jupyter-widgets/controls",
          "model_name": "DropdownModel",
          "state": {
            "_options_labels": [
              "3",
              "0",
              "4",
              "1",
              "7"
            ],
            "_view_name": "DropdownView",
            "style": "IPY_MODEL_8de00d3d22354725b653009ac37cd249",
            "_dom_classes": [],
            "description": "Operacion",
            "_model_name": "DropdownModel",
            "index": 1,
            "_view_module": "@jupyter-widgets/controls",
            "_model_module_version": "1.5.0",
            "_view_count": null,
            "disabled": false,
            "_view_module_version": "1.5.0",
            "description_tooltip": null,
            "_model_module": "@jupyter-widgets/controls",
            "layout": "IPY_MODEL_81df32bc2eba46fe87345ecbc30832e9"
          }
        },
        "80f6093105d54e85b99ed0a24c177f22": {
          "model_module": "@jupyter-widgets/controls",
          "model_name": "IntSliderModel",
          "state": {
            "_view_name": "IntSliderView",
            "style": "IPY_MODEL_e37ed607ad9f4a8d9d40302f8261ec6f",
            "_dom_classes": [],
            "description": "ps",
            "step": 1,
            "_model_name": "IntSliderModel",
            "orientation": "horizontal",
            "max": 15,
            "_view_module": "@jupyter-widgets/controls",
            "_model_module_version": "1.5.0",
            "value": 3,
            "_view_count": null,
            "disabled": false,
            "_view_module_version": "1.5.0",
            "min": 1,
            "continuous_update": true,
            "readout_format": "d",
            "description_tooltip": null,
            "readout": true,
            "_model_module": "@jupyter-widgets/controls",
            "layout": "IPY_MODEL_c7d40703c184445687e84e005e97db54"
          }
        },
        "43cbed141b7341c3adad260cc32b4cf4": {
          "model_module": "@jupyter-widgets/controls",
          "model_name": "IntSliderModel",
          "state": {
            "_view_name": "IntSliderView",
            "style": "IPY_MODEL_3173f7edb87547318a51845259a21bcc",
            "_dom_classes": [],
            "description": "d",
            "step": 1,
            "_model_name": "IntSliderModel",
            "orientation": "horizontal",
            "max": 2,
            "_view_module": "@jupyter-widgets/controls",
            "_model_module_version": "1.5.0",
            "value": 1,
            "_view_count": null,
            "disabled": false,
            "_view_module_version": "1.5.0",
            "min": 0,
            "continuous_update": true,
            "readout_format": "d",
            "description_tooltip": null,
            "readout": true,
            "_model_module": "@jupyter-widgets/controls",
            "layout": "IPY_MODEL_b1c2579637e641f2a605ee29590bccce"
          }
        },
        "9f8eda6392b5488bbca0d59839ce579f": {
          "model_module": "@jupyter-widgets/controls",
          "model_name": "IntSliderModel",
          "state": {
            "_view_name": "IntSliderView",
            "style": "IPY_MODEL_557cd366e9ab456c977acba879ddbc3d",
            "_dom_classes": [],
            "description": "qs",
            "step": 1,
            "_model_name": "IntSliderModel",
            "orientation": "horizontal",
            "max": 15,
            "_view_module": "@jupyter-widgets/controls",
            "_model_module_version": "1.5.0",
            "value": 3,
            "_view_count": null,
            "disabled": false,
            "_view_module_version": "1.5.0",
            "min": 1,
            "continuous_update": true,
            "readout_format": "d",
            "description_tooltip": null,
            "readout": true,
            "_model_module": "@jupyter-widgets/controls",
            "layout": "IPY_MODEL_780addd4e6a0453b9b37e63f68c2a81c"
          }
        },
        "e809aaaad2c3456480d16d8774d7e7a5": {
          "model_module": "@jupyter-widgets/controls",
          "model_name": "IntSliderModel",
          "state": {
            "_view_name": "IntSliderView",
            "style": "IPY_MODEL_900d71d9b72d41289eb39b305f45f18b",
            "_dom_classes": [],
            "description": "Ps",
            "step": 1,
            "_model_name": "IntSliderModel",
            "orientation": "horizontal",
            "max": 15,
            "_view_module": "@jupyter-widgets/controls",
            "_model_module_version": "1.5.0",
            "value": 4,
            "_view_count": null,
            "disabled": false,
            "_view_module_version": "1.5.0",
            "min": 1,
            "continuous_update": true,
            "readout_format": "d",
            "description_tooltip": null,
            "readout": true,
            "_model_module": "@jupyter-widgets/controls",
            "layout": "IPY_MODEL_a40be90a608644828d939ce21ea31502"
          }
        },
        "918b5251e6b948148a797d17718470ab": {
          "model_module": "@jupyter-widgets/controls",
          "model_name": "IntSliderModel",
          "state": {
            "_view_name": "IntSliderView",
            "style": "IPY_MODEL_64855a59ecc74f46a67ae1b1945f76aa",
            "_dom_classes": [],
            "description": "D",
            "step": 1,
            "_model_name": "IntSliderModel",
            "orientation": "horizontal",
            "max": 2,
            "_view_module": "@jupyter-widgets/controls",
            "_model_module_version": "1.5.0",
            "value": 1,
            "_view_count": null,
            "disabled": false,
            "_view_module_version": "1.5.0",
            "min": 0,
            "continuous_update": true,
            "readout_format": "d",
            "description_tooltip": null,
            "readout": true,
            "_model_module": "@jupyter-widgets/controls",
            "layout": "IPY_MODEL_a61d0dfb59ef4acfbe66e59834b88fb1"
          }
        },
        "57ade56664f94db08f5ee8db89667fef": {
          "model_module": "@jupyter-widgets/controls",
          "model_name": "IntSliderModel",
          "state": {
            "_view_name": "IntSliderView",
            "style": "IPY_MODEL_23d439af721346f48dfd28d4155e0a39",
            "_dom_classes": [],
            "description": "Qs",
            "step": 1,
            "_model_name": "IntSliderModel",
            "orientation": "horizontal",
            "max": 15,
            "_view_module": "@jupyter-widgets/controls",
            "_model_module_version": "1.5.0",
            "value": 3,
            "_view_count": null,
            "disabled": false,
            "_view_module_version": "1.5.0",
            "min": 1,
            "continuous_update": true,
            "readout_format": "d",
            "description_tooltip": null,
            "readout": true,
            "_model_module": "@jupyter-widgets/controls",
            "layout": "IPY_MODEL_9ec78b83852a4043ba5034b3c78be42d"
          }
        },
        "140b29e8036c47b9a0c6c4832a3ba76d": {
          "model_module": "@jupyter-widgets/controls",
          "model_name": "IntSliderModel",
          "state": {
            "_view_name": "IntSliderView",
            "style": "IPY_MODEL_62da18ca215c43e79a1f9cd6aba04daf",
            "_dom_classes": [],
            "description": "s",
            "step": 1,
            "_model_name": "IntSliderModel",
            "orientation": "horizontal",
            "max": 30,
            "_view_module": "@jupyter-widgets/controls",
            "_model_module_version": "1.5.0",
            "value": 14,
            "_view_count": null,
            "disabled": false,
            "_view_module_version": "1.5.0",
            "min": 1,
            "continuous_update": true,
            "readout_format": "d",
            "description_tooltip": null,
            "readout": true,
            "_model_module": "@jupyter-widgets/controls",
            "layout": "IPY_MODEL_f280ea45067348fc985bd8bd23c8b5da"
          }
        },
        "235862c643444fc2a2314f3537a2ca88": {
          "model_module": "@jupyter-widgets/controls",
          "model_name": "IntSliderModel",
          "state": {
            "_view_name": "IntSliderView",
            "style": "IPY_MODEL_51d37200bf344339a22a39ba7dc1712c",
            "_dom_classes": [],
            "description": "dias_predecir",
            "step": 1,
            "_model_name": "IntSliderModel",
            "orientation": "horizontal",
            "max": 30,
            "_view_module": "@jupyter-widgets/controls",
            "_model_module_version": "1.5.0",
            "value": 15,
            "_view_count": null,
            "disabled": false,
            "_view_module_version": "1.5.0",
            "min": 1,
            "continuous_update": true,
            "readout_format": "d",
            "description_tooltip": null,
            "readout": true,
            "_model_module": "@jupyter-widgets/controls",
            "layout": "IPY_MODEL_99a932aad75f4e439f299ccd85c98de1"
          }
        },
        "c79eb0824bb84996b29b5f55cc134ff8": {
          "model_module": "@jupyter-widgets/controls",
          "model_name": "IntSliderModel",
          "state": {
            "_view_name": "IntSliderView",
            "style": "IPY_MODEL_386a516d8d1942cbb06cd1458471e1b6",
            "_dom_classes": [],
            "description": "gap_range",
            "step": 1,
            "_model_name": "IntSliderModel",
            "orientation": "horizontal",
            "max": 6,
            "_view_module": "@jupyter-widgets/controls",
            "_model_module_version": "1.5.0",
            "value": 2,
            "_view_count": null,
            "disabled": false,
            "_view_module_version": "1.5.0",
            "min": -2,
            "continuous_update": true,
            "readout_format": "d",
            "description_tooltip": null,
            "readout": true,
            "_model_module": "@jupyter-widgets/controls",
            "layout": "IPY_MODEL_820790639bd34ed59bbfe0a27c7726ed"
          }
        },
        "38fd91b7989847ffb4c84f342e02efa9": {
          "model_module": "@jupyter-widgets/controls",
          "model_name": "ButtonModel",
          "state": {
            "_view_name": "ButtonView",
            "style": "IPY_MODEL_78790248315547d2806345bdb0b0801a",
            "_dom_classes": [],
            "description": "Run Interact",
            "_model_name": "ButtonModel",
            "button_style": "",
            "_view_module": "@jupyter-widgets/controls",
            "_model_module_version": "1.5.0",
            "tooltip": "",
            "_view_count": null,
            "disabled": true,
            "_view_module_version": "1.5.0",
            "layout": "IPY_MODEL_5d63bdbb90054a88b32115241d2906ec",
            "_model_module": "@jupyter-widgets/controls",
            "icon": ""
          }
        },
        "5f539376b05c4c18835ce656c2303211": {
          "model_module": "@jupyter-widgets/output",
          "model_name": "OutputModel",
          "state": {
            "_view_name": "OutputView",
            "msg_id": "5921d3439fdf4480d1c5257e9cfa5a3e",
            "_dom_classes": [],
            "_model_name": "OutputModel",
            "outputs": [
              {
                "output_type": "display_data",
                "metadata": {
                  "tags": []
                },
                "application/vnd.jupyter.widget-view+json": {
                  "model_id": "f3bf87b95ce44784bca3ad2ddcb9ec0e",
                  "version_minor": 0,
                  "version_major": 2
                },
                "text/plain": "HBox(children=(FloatProgress(value=0.0, max=24.0), HTML(value='')))"
              }
            ],
            "_view_module": "@jupyter-widgets/output",
            "_model_module_version": "1.0.0",
            "_view_count": null,
            "_view_module_version": "1.0.0",
            "layout": "IPY_MODEL_635edbd99da8437ab8674f85f8806b84",
            "_model_module": "@jupyter-widgets/output"
          }
        },
        "73631965f673438aa2ef7d1b86e30047": {
          "model_module": "@jupyter-widgets/controls",
          "model_name": "DescriptionStyleModel",
          "state": {
            "_view_name": "StyleView",
            "_model_name": "DescriptionStyleModel",
            "description_width": "",
            "_view_module": "@jupyter-widgets/base",
            "_model_module_version": "1.5.0",
            "_view_count": null,
            "_view_module_version": "1.2.0",
            "_model_module": "@jupyter-widgets/controls"
          }
        },
        "68b5df4fcaa64ec0ab523229235fe9c9": {
          "model_module": "@jupyter-widgets/base",
          "model_name": "LayoutModel",
          "state": {
            "_view_name": "LayoutView",
            "grid_template_rows": null,
            "right": null,
            "justify_content": null,
            "_view_module": "@jupyter-widgets/base",
            "overflow": null,
            "_model_module_version": "1.2.0",
            "_view_count": null,
            "flex_flow": null,
            "width": null,
            "min_width": null,
            "border": null,
            "align_items": null,
            "bottom": null,
            "_model_module": "@jupyter-widgets/base",
            "top": null,
            "grid_column": null,
            "overflow_y": null,
            "overflow_x": null,
            "grid_auto_flow": null,
            "grid_area": null,
            "grid_template_columns": null,
            "flex": null,
            "_model_name": "LayoutModel",
            "justify_items": null,
            "grid_row": null,
            "max_height": null,
            "align_content": null,
            "visibility": null,
            "align_self": null,
            "height": null,
            "min_height": null,
            "padding": null,
            "grid_auto_rows": null,
            "grid_gap": null,
            "max_width": null,
            "order": null,
            "_view_module_version": "1.2.0",
            "grid_template_areas": null,
            "object_position": null,
            "object_fit": null,
            "grid_auto_columns": null,
            "margin": null,
            "display": null,
            "left": null
          }
        },
        "af0cf58e343f415bb0528aed08bb0a91": {
          "model_module": "@jupyter-widgets/controls",
          "model_name": "DescriptionStyleModel",
          "state": {
            "_view_name": "StyleView",
            "_model_name": "DescriptionStyleModel",
            "description_width": "",
            "_view_module": "@jupyter-widgets/base",
            "_model_module_version": "1.5.0",
            "_view_count": null,
            "_view_module_version": "1.2.0",
            "_model_module": "@jupyter-widgets/controls"
          }
        },
        "805a8c5000b04ff18736b9c71d51cc7a": {
          "model_module": "@jupyter-widgets/base",
          "model_name": "LayoutModel",
          "state": {
            "_view_name": "LayoutView",
            "grid_template_rows": null,
            "right": null,
            "justify_content": null,
            "_view_module": "@jupyter-widgets/base",
            "overflow": null,
            "_model_module_version": "1.2.0",
            "_view_count": null,
            "flex_flow": null,
            "width": null,
            "min_width": null,
            "border": null,
            "align_items": null,
            "bottom": null,
            "_model_module": "@jupyter-widgets/base",
            "top": null,
            "grid_column": null,
            "overflow_y": null,
            "overflow_x": null,
            "grid_auto_flow": null,
            "grid_area": null,
            "grid_template_columns": null,
            "flex": null,
            "_model_name": "LayoutModel",
            "justify_items": null,
            "grid_row": null,
            "max_height": null,
            "align_content": null,
            "visibility": null,
            "align_self": null,
            "height": null,
            "min_height": null,
            "padding": null,
            "grid_auto_rows": null,
            "grid_gap": null,
            "max_width": null,
            "order": null,
            "_view_module_version": "1.2.0",
            "grid_template_areas": null,
            "object_position": null,
            "object_fit": null,
            "grid_auto_columns": null,
            "margin": null,
            "display": null,
            "left": null
          }
        },
        "a13b6581c61a401484f9432543c27c7e": {
          "model_module": "@jupyter-widgets/controls",
          "model_name": "DescriptionStyleModel",
          "state": {
            "_view_name": "StyleView",
            "_model_name": "DescriptionStyleModel",
            "description_width": "",
            "_view_module": "@jupyter-widgets/base",
            "_model_module_version": "1.5.0",
            "_view_count": null,
            "_view_module_version": "1.2.0",
            "_model_module": "@jupyter-widgets/controls"
          }
        },
        "66179b548aa6485386dd149c1c70271d": {
          "model_module": "@jupyter-widgets/base",
          "model_name": "LayoutModel",
          "state": {
            "_view_name": "LayoutView",
            "grid_template_rows": null,
            "right": null,
            "justify_content": null,
            "_view_module": "@jupyter-widgets/base",
            "overflow": null,
            "_model_module_version": "1.2.0",
            "_view_count": null,
            "flex_flow": null,
            "width": null,
            "min_width": null,
            "border": null,
            "align_items": null,
            "bottom": null,
            "_model_module": "@jupyter-widgets/base",
            "top": null,
            "grid_column": null,
            "overflow_y": null,
            "overflow_x": null,
            "grid_auto_flow": null,
            "grid_area": null,
            "grid_template_columns": null,
            "flex": null,
            "_model_name": "LayoutModel",
            "justify_items": null,
            "grid_row": null,
            "max_height": null,
            "align_content": null,
            "visibility": null,
            "align_self": null,
            "height": null,
            "min_height": null,
            "padding": null,
            "grid_auto_rows": null,
            "grid_gap": null,
            "max_width": null,
            "order": null,
            "_view_module_version": "1.2.0",
            "grid_template_areas": null,
            "object_position": null,
            "object_fit": null,
            "grid_auto_columns": null,
            "margin": null,
            "display": null,
            "left": null
          }
        },
        "fb0398c6a9bc41cda804f9077af7fb9d": {
          "model_module": "@jupyter-widgets/controls",
          "model_name": "DescriptionStyleModel",
          "state": {
            "_view_name": "StyleView",
            "_model_name": "DescriptionStyleModel",
            "description_width": "",
            "_view_module": "@jupyter-widgets/base",
            "_model_module_version": "1.5.0",
            "_view_count": null,
            "_view_module_version": "1.2.0",
            "_model_module": "@jupyter-widgets/controls"
          }
        },
        "7d89e6e4decc41028adcf35142654938": {
          "model_module": "@jupyter-widgets/base",
          "model_name": "LayoutModel",
          "state": {
            "_view_name": "LayoutView",
            "grid_template_rows": null,
            "right": null,
            "justify_content": null,
            "_view_module": "@jupyter-widgets/base",
            "overflow": null,
            "_model_module_version": "1.2.0",
            "_view_count": null,
            "flex_flow": null,
            "width": null,
            "min_width": null,
            "border": null,
            "align_items": null,
            "bottom": null,
            "_model_module": "@jupyter-widgets/base",
            "top": null,
            "grid_column": null,
            "overflow_y": null,
            "overflow_x": null,
            "grid_auto_flow": null,
            "grid_area": null,
            "grid_template_columns": null,
            "flex": null,
            "_model_name": "LayoutModel",
            "justify_items": null,
            "grid_row": null,
            "max_height": null,
            "align_content": null,
            "visibility": null,
            "align_self": null,
            "height": null,
            "min_height": null,
            "padding": null,
            "grid_auto_rows": null,
            "grid_gap": null,
            "max_width": null,
            "order": null,
            "_view_module_version": "1.2.0",
            "grid_template_areas": null,
            "object_position": null,
            "object_fit": null,
            "grid_auto_columns": null,
            "margin": null,
            "display": null,
            "left": null
          }
        },
        "8de00d3d22354725b653009ac37cd249": {
          "model_module": "@jupyter-widgets/controls",
          "model_name": "DescriptionStyleModel",
          "state": {
            "_view_name": "StyleView",
            "_model_name": "DescriptionStyleModel",
            "description_width": "",
            "_view_module": "@jupyter-widgets/base",
            "_model_module_version": "1.5.0",
            "_view_count": null,
            "_view_module_version": "1.2.0",
            "_model_module": "@jupyter-widgets/controls"
          }
        },
        "81df32bc2eba46fe87345ecbc30832e9": {
          "model_module": "@jupyter-widgets/base",
          "model_name": "LayoutModel",
          "state": {
            "_view_name": "LayoutView",
            "grid_template_rows": null,
            "right": null,
            "justify_content": null,
            "_view_module": "@jupyter-widgets/base",
            "overflow": null,
            "_model_module_version": "1.2.0",
            "_view_count": null,
            "flex_flow": null,
            "width": null,
            "min_width": null,
            "border": null,
            "align_items": null,
            "bottom": null,
            "_model_module": "@jupyter-widgets/base",
            "top": null,
            "grid_column": null,
            "overflow_y": null,
            "overflow_x": null,
            "grid_auto_flow": null,
            "grid_area": null,
            "grid_template_columns": null,
            "flex": null,
            "_model_name": "LayoutModel",
            "justify_items": null,
            "grid_row": null,
            "max_height": null,
            "align_content": null,
            "visibility": null,
            "align_self": null,
            "height": null,
            "min_height": null,
            "padding": null,
            "grid_auto_rows": null,
            "grid_gap": null,
            "max_width": null,
            "order": null,
            "_view_module_version": "1.2.0",
            "grid_template_areas": null,
            "object_position": null,
            "object_fit": null,
            "grid_auto_columns": null,
            "margin": null,
            "display": null,
            "left": null
          }
        },
        "e37ed607ad9f4a8d9d40302f8261ec6f": {
          "model_module": "@jupyter-widgets/controls",
          "model_name": "SliderStyleModel",
          "state": {
            "_view_name": "StyleView",
            "handle_color": null,
            "_model_name": "SliderStyleModel",
            "description_width": "",
            "_view_module": "@jupyter-widgets/base",
            "_model_module_version": "1.5.0",
            "_view_count": null,
            "_view_module_version": "1.2.0",
            "_model_module": "@jupyter-widgets/controls"
          }
        },
        "c7d40703c184445687e84e005e97db54": {
          "model_module": "@jupyter-widgets/base",
          "model_name": "LayoutModel",
          "state": {
            "_view_name": "LayoutView",
            "grid_template_rows": null,
            "right": null,
            "justify_content": null,
            "_view_module": "@jupyter-widgets/base",
            "overflow": null,
            "_model_module_version": "1.2.0",
            "_view_count": null,
            "flex_flow": null,
            "width": null,
            "min_width": null,
            "border": null,
            "align_items": null,
            "bottom": null,
            "_model_module": "@jupyter-widgets/base",
            "top": null,
            "grid_column": null,
            "overflow_y": null,
            "overflow_x": null,
            "grid_auto_flow": null,
            "grid_area": null,
            "grid_template_columns": null,
            "flex": null,
            "_model_name": "LayoutModel",
            "justify_items": null,
            "grid_row": null,
            "max_height": null,
            "align_content": null,
            "visibility": null,
            "align_self": null,
            "height": null,
            "min_height": null,
            "padding": null,
            "grid_auto_rows": null,
            "grid_gap": null,
            "max_width": null,
            "order": null,
            "_view_module_version": "1.2.0",
            "grid_template_areas": null,
            "object_position": null,
            "object_fit": null,
            "grid_auto_columns": null,
            "margin": null,
            "display": null,
            "left": null
          }
        },
        "3173f7edb87547318a51845259a21bcc": {
          "model_module": "@jupyter-widgets/controls",
          "model_name": "SliderStyleModel",
          "state": {
            "_view_name": "StyleView",
            "handle_color": null,
            "_model_name": "SliderStyleModel",
            "description_width": "",
            "_view_module": "@jupyter-widgets/base",
            "_model_module_version": "1.5.0",
            "_view_count": null,
            "_view_module_version": "1.2.0",
            "_model_module": "@jupyter-widgets/controls"
          }
        },
        "b1c2579637e641f2a605ee29590bccce": {
          "model_module": "@jupyter-widgets/base",
          "model_name": "LayoutModel",
          "state": {
            "_view_name": "LayoutView",
            "grid_template_rows": null,
            "right": null,
            "justify_content": null,
            "_view_module": "@jupyter-widgets/base",
            "overflow": null,
            "_model_module_version": "1.2.0",
            "_view_count": null,
            "flex_flow": null,
            "width": null,
            "min_width": null,
            "border": null,
            "align_items": null,
            "bottom": null,
            "_model_module": "@jupyter-widgets/base",
            "top": null,
            "grid_column": null,
            "overflow_y": null,
            "overflow_x": null,
            "grid_auto_flow": null,
            "grid_area": null,
            "grid_template_columns": null,
            "flex": null,
            "_model_name": "LayoutModel",
            "justify_items": null,
            "grid_row": null,
            "max_height": null,
            "align_content": null,
            "visibility": null,
            "align_self": null,
            "height": null,
            "min_height": null,
            "padding": null,
            "grid_auto_rows": null,
            "grid_gap": null,
            "max_width": null,
            "order": null,
            "_view_module_version": "1.2.0",
            "grid_template_areas": null,
            "object_position": null,
            "object_fit": null,
            "grid_auto_columns": null,
            "margin": null,
            "display": null,
            "left": null
          }
        },
        "557cd366e9ab456c977acba879ddbc3d": {
          "model_module": "@jupyter-widgets/controls",
          "model_name": "SliderStyleModel",
          "state": {
            "_view_name": "StyleView",
            "handle_color": null,
            "_model_name": "SliderStyleModel",
            "description_width": "",
            "_view_module": "@jupyter-widgets/base",
            "_model_module_version": "1.5.0",
            "_view_count": null,
            "_view_module_version": "1.2.0",
            "_model_module": "@jupyter-widgets/controls"
          }
        },
        "780addd4e6a0453b9b37e63f68c2a81c": {
          "model_module": "@jupyter-widgets/base",
          "model_name": "LayoutModel",
          "state": {
            "_view_name": "LayoutView",
            "grid_template_rows": null,
            "right": null,
            "justify_content": null,
            "_view_module": "@jupyter-widgets/base",
            "overflow": null,
            "_model_module_version": "1.2.0",
            "_view_count": null,
            "flex_flow": null,
            "width": null,
            "min_width": null,
            "border": null,
            "align_items": null,
            "bottom": null,
            "_model_module": "@jupyter-widgets/base",
            "top": null,
            "grid_column": null,
            "overflow_y": null,
            "overflow_x": null,
            "grid_auto_flow": null,
            "grid_area": null,
            "grid_template_columns": null,
            "flex": null,
            "_model_name": "LayoutModel",
            "justify_items": null,
            "grid_row": null,
            "max_height": null,
            "align_content": null,
            "visibility": null,
            "align_self": null,
            "height": null,
            "min_height": null,
            "padding": null,
            "grid_auto_rows": null,
            "grid_gap": null,
            "max_width": null,
            "order": null,
            "_view_module_version": "1.2.0",
            "grid_template_areas": null,
            "object_position": null,
            "object_fit": null,
            "grid_auto_columns": null,
            "margin": null,
            "display": null,
            "left": null
          }
        },
        "900d71d9b72d41289eb39b305f45f18b": {
          "model_module": "@jupyter-widgets/controls",
          "model_name": "SliderStyleModel",
          "state": {
            "_view_name": "StyleView",
            "handle_color": null,
            "_model_name": "SliderStyleModel",
            "description_width": "",
            "_view_module": "@jupyter-widgets/base",
            "_model_module_version": "1.5.0",
            "_view_count": null,
            "_view_module_version": "1.2.0",
            "_model_module": "@jupyter-widgets/controls"
          }
        },
        "a40be90a608644828d939ce21ea31502": {
          "model_module": "@jupyter-widgets/base",
          "model_name": "LayoutModel",
          "state": {
            "_view_name": "LayoutView",
            "grid_template_rows": null,
            "right": null,
            "justify_content": null,
            "_view_module": "@jupyter-widgets/base",
            "overflow": null,
            "_model_module_version": "1.2.0",
            "_view_count": null,
            "flex_flow": null,
            "width": null,
            "min_width": null,
            "border": null,
            "align_items": null,
            "bottom": null,
            "_model_module": "@jupyter-widgets/base",
            "top": null,
            "grid_column": null,
            "overflow_y": null,
            "overflow_x": null,
            "grid_auto_flow": null,
            "grid_area": null,
            "grid_template_columns": null,
            "flex": null,
            "_model_name": "LayoutModel",
            "justify_items": null,
            "grid_row": null,
            "max_height": null,
            "align_content": null,
            "visibility": null,
            "align_self": null,
            "height": null,
            "min_height": null,
            "padding": null,
            "grid_auto_rows": null,
            "grid_gap": null,
            "max_width": null,
            "order": null,
            "_view_module_version": "1.2.0",
            "grid_template_areas": null,
            "object_position": null,
            "object_fit": null,
            "grid_auto_columns": null,
            "margin": null,
            "display": null,
            "left": null
          }
        },
        "64855a59ecc74f46a67ae1b1945f76aa": {
          "model_module": "@jupyter-widgets/controls",
          "model_name": "SliderStyleModel",
          "state": {
            "_view_name": "StyleView",
            "handle_color": null,
            "_model_name": "SliderStyleModel",
            "description_width": "",
            "_view_module": "@jupyter-widgets/base",
            "_model_module_version": "1.5.0",
            "_view_count": null,
            "_view_module_version": "1.2.0",
            "_model_module": "@jupyter-widgets/controls"
          }
        },
        "a61d0dfb59ef4acfbe66e59834b88fb1": {
          "model_module": "@jupyter-widgets/base",
          "model_name": "LayoutModel",
          "state": {
            "_view_name": "LayoutView",
            "grid_template_rows": null,
            "right": null,
            "justify_content": null,
            "_view_module": "@jupyter-widgets/base",
            "overflow": null,
            "_model_module_version": "1.2.0",
            "_view_count": null,
            "flex_flow": null,
            "width": null,
            "min_width": null,
            "border": null,
            "align_items": null,
            "bottom": null,
            "_model_module": "@jupyter-widgets/base",
            "top": null,
            "grid_column": null,
            "overflow_y": null,
            "overflow_x": null,
            "grid_auto_flow": null,
            "grid_area": null,
            "grid_template_columns": null,
            "flex": null,
            "_model_name": "LayoutModel",
            "justify_items": null,
            "grid_row": null,
            "max_height": null,
            "align_content": null,
            "visibility": null,
            "align_self": null,
            "height": null,
            "min_height": null,
            "padding": null,
            "grid_auto_rows": null,
            "grid_gap": null,
            "max_width": null,
            "order": null,
            "_view_module_version": "1.2.0",
            "grid_template_areas": null,
            "object_position": null,
            "object_fit": null,
            "grid_auto_columns": null,
            "margin": null,
            "display": null,
            "left": null
          }
        },
        "23d439af721346f48dfd28d4155e0a39": {
          "model_module": "@jupyter-widgets/controls",
          "model_name": "SliderStyleModel",
          "state": {
            "_view_name": "StyleView",
            "handle_color": null,
            "_model_name": "SliderStyleModel",
            "description_width": "",
            "_view_module": "@jupyter-widgets/base",
            "_model_module_version": "1.5.0",
            "_view_count": null,
            "_view_module_version": "1.2.0",
            "_model_module": "@jupyter-widgets/controls"
          }
        },
        "9ec78b83852a4043ba5034b3c78be42d": {
          "model_module": "@jupyter-widgets/base",
          "model_name": "LayoutModel",
          "state": {
            "_view_name": "LayoutView",
            "grid_template_rows": null,
            "right": null,
            "justify_content": null,
            "_view_module": "@jupyter-widgets/base",
            "overflow": null,
            "_model_module_version": "1.2.0",
            "_view_count": null,
            "flex_flow": null,
            "width": null,
            "min_width": null,
            "border": null,
            "align_items": null,
            "bottom": null,
            "_model_module": "@jupyter-widgets/base",
            "top": null,
            "grid_column": null,
            "overflow_y": null,
            "overflow_x": null,
            "grid_auto_flow": null,
            "grid_area": null,
            "grid_template_columns": null,
            "flex": null,
            "_model_name": "LayoutModel",
            "justify_items": null,
            "grid_row": null,
            "max_height": null,
            "align_content": null,
            "visibility": null,
            "align_self": null,
            "height": null,
            "min_height": null,
            "padding": null,
            "grid_auto_rows": null,
            "grid_gap": null,
            "max_width": null,
            "order": null,
            "_view_module_version": "1.2.0",
            "grid_template_areas": null,
            "object_position": null,
            "object_fit": null,
            "grid_auto_columns": null,
            "margin": null,
            "display": null,
            "left": null
          }
        },
        "62da18ca215c43e79a1f9cd6aba04daf": {
          "model_module": "@jupyter-widgets/controls",
          "model_name": "SliderStyleModel",
          "state": {
            "_view_name": "StyleView",
            "handle_color": null,
            "_model_name": "SliderStyleModel",
            "description_width": "",
            "_view_module": "@jupyter-widgets/base",
            "_model_module_version": "1.5.0",
            "_view_count": null,
            "_view_module_version": "1.2.0",
            "_model_module": "@jupyter-widgets/controls"
          }
        },
        "f280ea45067348fc985bd8bd23c8b5da": {
          "model_module": "@jupyter-widgets/base",
          "model_name": "LayoutModel",
          "state": {
            "_view_name": "LayoutView",
            "grid_template_rows": null,
            "right": null,
            "justify_content": null,
            "_view_module": "@jupyter-widgets/base",
            "overflow": null,
            "_model_module_version": "1.2.0",
            "_view_count": null,
            "flex_flow": null,
            "width": null,
            "min_width": null,
            "border": null,
            "align_items": null,
            "bottom": null,
            "_model_module": "@jupyter-widgets/base",
            "top": null,
            "grid_column": null,
            "overflow_y": null,
            "overflow_x": null,
            "grid_auto_flow": null,
            "grid_area": null,
            "grid_template_columns": null,
            "flex": null,
            "_model_name": "LayoutModel",
            "justify_items": null,
            "grid_row": null,
            "max_height": null,
            "align_content": null,
            "visibility": null,
            "align_self": null,
            "height": null,
            "min_height": null,
            "padding": null,
            "grid_auto_rows": null,
            "grid_gap": null,
            "max_width": null,
            "order": null,
            "_view_module_version": "1.2.0",
            "grid_template_areas": null,
            "object_position": null,
            "object_fit": null,
            "grid_auto_columns": null,
            "margin": null,
            "display": null,
            "left": null
          }
        },
        "51d37200bf344339a22a39ba7dc1712c": {
          "model_module": "@jupyter-widgets/controls",
          "model_name": "SliderStyleModel",
          "state": {
            "_view_name": "StyleView",
            "handle_color": null,
            "_model_name": "SliderStyleModel",
            "description_width": "",
            "_view_module": "@jupyter-widgets/base",
            "_model_module_version": "1.5.0",
            "_view_count": null,
            "_view_module_version": "1.2.0",
            "_model_module": "@jupyter-widgets/controls"
          }
        },
        "99a932aad75f4e439f299ccd85c98de1": {
          "model_module": "@jupyter-widgets/base",
          "model_name": "LayoutModel",
          "state": {
            "_view_name": "LayoutView",
            "grid_template_rows": null,
            "right": null,
            "justify_content": null,
            "_view_module": "@jupyter-widgets/base",
            "overflow": null,
            "_model_module_version": "1.2.0",
            "_view_count": null,
            "flex_flow": null,
            "width": null,
            "min_width": null,
            "border": null,
            "align_items": null,
            "bottom": null,
            "_model_module": "@jupyter-widgets/base",
            "top": null,
            "grid_column": null,
            "overflow_y": null,
            "overflow_x": null,
            "grid_auto_flow": null,
            "grid_area": null,
            "grid_template_columns": null,
            "flex": null,
            "_model_name": "LayoutModel",
            "justify_items": null,
            "grid_row": null,
            "max_height": null,
            "align_content": null,
            "visibility": null,
            "align_self": null,
            "height": null,
            "min_height": null,
            "padding": null,
            "grid_auto_rows": null,
            "grid_gap": null,
            "max_width": null,
            "order": null,
            "_view_module_version": "1.2.0",
            "grid_template_areas": null,
            "object_position": null,
            "object_fit": null,
            "grid_auto_columns": null,
            "margin": null,
            "display": null,
            "left": null
          }
        },
        "386a516d8d1942cbb06cd1458471e1b6": {
          "model_module": "@jupyter-widgets/controls",
          "model_name": "SliderStyleModel",
          "state": {
            "_view_name": "StyleView",
            "handle_color": null,
            "_model_name": "SliderStyleModel",
            "description_width": "",
            "_view_module": "@jupyter-widgets/base",
            "_model_module_version": "1.5.0",
            "_view_count": null,
            "_view_module_version": "1.2.0",
            "_model_module": "@jupyter-widgets/controls"
          }
        },
        "820790639bd34ed59bbfe0a27c7726ed": {
          "model_module": "@jupyter-widgets/base",
          "model_name": "LayoutModel",
          "state": {
            "_view_name": "LayoutView",
            "grid_template_rows": null,
            "right": null,
            "justify_content": null,
            "_view_module": "@jupyter-widgets/base",
            "overflow": null,
            "_model_module_version": "1.2.0",
            "_view_count": null,
            "flex_flow": null,
            "width": null,
            "min_width": null,
            "border": null,
            "align_items": null,
            "bottom": null,
            "_model_module": "@jupyter-widgets/base",
            "top": null,
            "grid_column": null,
            "overflow_y": null,
            "overflow_x": null,
            "grid_auto_flow": null,
            "grid_area": null,
            "grid_template_columns": null,
            "flex": null,
            "_model_name": "LayoutModel",
            "justify_items": null,
            "grid_row": null,
            "max_height": null,
            "align_content": null,
            "visibility": null,
            "align_self": null,
            "height": null,
            "min_height": null,
            "padding": null,
            "grid_auto_rows": null,
            "grid_gap": null,
            "max_width": null,
            "order": null,
            "_view_module_version": "1.2.0",
            "grid_template_areas": null,
            "object_position": null,
            "object_fit": null,
            "grid_auto_columns": null,
            "margin": null,
            "display": null,
            "left": null
          }
        },
        "78790248315547d2806345bdb0b0801a": {
          "model_module": "@jupyter-widgets/controls",
          "model_name": "ButtonStyleModel",
          "state": {
            "_view_name": "StyleView",
            "_model_name": "ButtonStyleModel",
            "_view_module": "@jupyter-widgets/base",
            "_model_module_version": "1.5.0",
            "_view_count": null,
            "button_color": null,
            "font_weight": "",
            "_view_module_version": "1.2.0",
            "_model_module": "@jupyter-widgets/controls"
          }
        },
        "5d63bdbb90054a88b32115241d2906ec": {
          "model_module": "@jupyter-widgets/base",
          "model_name": "LayoutModel",
          "state": {
            "_view_name": "LayoutView",
            "grid_template_rows": null,
            "right": null,
            "justify_content": null,
            "_view_module": "@jupyter-widgets/base",
            "overflow": null,
            "_model_module_version": "1.2.0",
            "_view_count": null,
            "flex_flow": null,
            "width": null,
            "min_width": null,
            "border": null,
            "align_items": null,
            "bottom": null,
            "_model_module": "@jupyter-widgets/base",
            "top": null,
            "grid_column": null,
            "overflow_y": null,
            "overflow_x": null,
            "grid_auto_flow": null,
            "grid_area": null,
            "grid_template_columns": null,
            "flex": null,
            "_model_name": "LayoutModel",
            "justify_items": null,
            "grid_row": null,
            "max_height": null,
            "align_content": null,
            "visibility": null,
            "align_self": null,
            "height": null,
            "min_height": null,
            "padding": null,
            "grid_auto_rows": null,
            "grid_gap": null,
            "max_width": null,
            "order": null,
            "_view_module_version": "1.2.0",
            "grid_template_areas": null,
            "object_position": null,
            "object_fit": null,
            "grid_auto_columns": null,
            "margin": null,
            "display": null,
            "left": null
          }
        },
        "635edbd99da8437ab8674f85f8806b84": {
          "model_module": "@jupyter-widgets/base",
          "model_name": "LayoutModel",
          "state": {
            "_view_name": "LayoutView",
            "grid_template_rows": null,
            "right": null,
            "justify_content": null,
            "_view_module": "@jupyter-widgets/base",
            "overflow": null,
            "_model_module_version": "1.2.0",
            "_view_count": null,
            "flex_flow": null,
            "width": null,
            "min_width": null,
            "border": null,
            "align_items": null,
            "bottom": null,
            "_model_module": "@jupyter-widgets/base",
            "top": null,
            "grid_column": null,
            "overflow_y": null,
            "overflow_x": null,
            "grid_auto_flow": null,
            "grid_area": null,
            "grid_template_columns": null,
            "flex": null,
            "_model_name": "LayoutModel",
            "justify_items": null,
            "grid_row": null,
            "max_height": null,
            "align_content": null,
            "visibility": null,
            "align_self": null,
            "height": null,
            "min_height": null,
            "padding": null,
            "grid_auto_rows": null,
            "grid_gap": null,
            "max_width": null,
            "order": null,
            "_view_module_version": "1.2.0",
            "grid_template_areas": null,
            "object_position": null,
            "object_fit": null,
            "grid_auto_columns": null,
            "margin": null,
            "display": null,
            "left": null
          }
        },
        "f3bf87b95ce44784bca3ad2ddcb9ec0e": {
          "model_module": "@jupyter-widgets/controls",
          "model_name": "HBoxModel",
          "state": {
            "_view_name": "HBoxView",
            "_dom_classes": [],
            "_model_name": "HBoxModel",
            "_view_module": "@jupyter-widgets/controls",
            "_model_module_version": "1.5.0",
            "_view_count": null,
            "_view_module_version": "1.5.0",
            "box_style": "",
            "layout": "IPY_MODEL_7891d5beabdc42e5ad8b63ae8a0f8c82",
            "_model_module": "@jupyter-widgets/controls",
            "children": [
              "IPY_MODEL_d9eb21d0c0e34d5d8a10d32bf49e1c68",
              "IPY_MODEL_049e272ebc71457394f0f632acc90849"
            ]
          }
        },
        "7891d5beabdc42e5ad8b63ae8a0f8c82": {
          "model_module": "@jupyter-widgets/base",
          "model_name": "LayoutModel",
          "state": {
            "_view_name": "LayoutView",
            "grid_template_rows": null,
            "right": null,
            "justify_content": null,
            "_view_module": "@jupyter-widgets/base",
            "overflow": null,
            "_model_module_version": "1.2.0",
            "_view_count": null,
            "flex_flow": null,
            "width": null,
            "min_width": null,
            "border": null,
            "align_items": null,
            "bottom": null,
            "_model_module": "@jupyter-widgets/base",
            "top": null,
            "grid_column": null,
            "overflow_y": null,
            "overflow_x": null,
            "grid_auto_flow": null,
            "grid_area": null,
            "grid_template_columns": null,
            "flex": null,
            "_model_name": "LayoutModel",
            "justify_items": null,
            "grid_row": null,
            "max_height": null,
            "align_content": null,
            "visibility": null,
            "align_self": null,
            "height": null,
            "min_height": null,
            "padding": null,
            "grid_auto_rows": null,
            "grid_gap": null,
            "max_width": null,
            "order": null,
            "_view_module_version": "1.2.0",
            "grid_template_areas": null,
            "object_position": null,
            "object_fit": null,
            "grid_auto_columns": null,
            "margin": null,
            "display": null,
            "left": null
          }
        },
        "d9eb21d0c0e34d5d8a10d32bf49e1c68": {
          "model_module": "@jupyter-widgets/controls",
          "model_name": "FloatProgressModel",
          "state": {
            "_view_name": "ProgressView",
            "style": "IPY_MODEL_7dba4d8da1e94ffda9b81c04fbc346da",
            "_dom_classes": [],
            "description": " 54%",
            "_model_name": "FloatProgressModel",
            "bar_style": "",
            "max": 24,
            "_view_module": "@jupyter-widgets/controls",
            "_model_module_version": "1.5.0",
            "value": 13,
            "_view_count": null,
            "_view_module_version": "1.5.0",
            "orientation": "horizontal",
            "min": 0,
            "description_tooltip": null,
            "_model_module": "@jupyter-widgets/controls",
            "layout": "IPY_MODEL_05c2e4d0854c4f9c8fbb07b094445bd2"
          }
        },
        "049e272ebc71457394f0f632acc90849": {
          "model_module": "@jupyter-widgets/controls",
          "model_name": "HTMLModel",
          "state": {
            "_view_name": "HTMLView",
            "style": "IPY_MODEL_5ac2f52a8768459ea8d6ad42617b4f90",
            "_dom_classes": [],
            "description": "",
            "_model_name": "HTMLModel",
            "placeholder": "​",
            "_view_module": "@jupyter-widgets/controls",
            "_model_module_version": "1.5.0",
            "value": " 13/24 [01:52&lt;01:45,  9.62s/it]",
            "_view_count": null,
            "_view_module_version": "1.5.0",
            "description_tooltip": null,
            "_model_module": "@jupyter-widgets/controls",
            "layout": "IPY_MODEL_1aad623187294dc087daaa3063572a80"
          }
        },
        "7dba4d8da1e94ffda9b81c04fbc346da": {
          "model_module": "@jupyter-widgets/controls",
          "model_name": "ProgressStyleModel",
          "state": {
            "_view_name": "StyleView",
            "_model_name": "ProgressStyleModel",
            "description_width": "initial",
            "_view_module": "@jupyter-widgets/base",
            "_model_module_version": "1.5.0",
            "_view_count": null,
            "_view_module_version": "1.2.0",
            "bar_color": null,
            "_model_module": "@jupyter-widgets/controls"
          }
        },
        "05c2e4d0854c4f9c8fbb07b094445bd2": {
          "model_module": "@jupyter-widgets/base",
          "model_name": "LayoutModel",
          "state": {
            "_view_name": "LayoutView",
            "grid_template_rows": null,
            "right": null,
            "justify_content": null,
            "_view_module": "@jupyter-widgets/base",
            "overflow": null,
            "_model_module_version": "1.2.0",
            "_view_count": null,
            "flex_flow": null,
            "width": null,
            "min_width": null,
            "border": null,
            "align_items": null,
            "bottom": null,
            "_model_module": "@jupyter-widgets/base",
            "top": null,
            "grid_column": null,
            "overflow_y": null,
            "overflow_x": null,
            "grid_auto_flow": null,
            "grid_area": null,
            "grid_template_columns": null,
            "flex": null,
            "_model_name": "LayoutModel",
            "justify_items": null,
            "grid_row": null,
            "max_height": null,
            "align_content": null,
            "visibility": null,
            "align_self": null,
            "height": null,
            "min_height": null,
            "padding": null,
            "grid_auto_rows": null,
            "grid_gap": null,
            "max_width": null,
            "order": null,
            "_view_module_version": "1.2.0",
            "grid_template_areas": null,
            "object_position": null,
            "object_fit": null,
            "grid_auto_columns": null,
            "margin": null,
            "display": null,
            "left": null
          }
        },
        "5ac2f52a8768459ea8d6ad42617b4f90": {
          "model_module": "@jupyter-widgets/controls",
          "model_name": "DescriptionStyleModel",
          "state": {
            "_view_name": "StyleView",
            "_model_name": "DescriptionStyleModel",
            "description_width": "",
            "_view_module": "@jupyter-widgets/base",
            "_model_module_version": "1.5.0",
            "_view_count": null,
            "_view_module_version": "1.2.0",
            "_model_module": "@jupyter-widgets/controls"
          }
        },
        "1aad623187294dc087daaa3063572a80": {
          "model_module": "@jupyter-widgets/base",
          "model_name": "LayoutModel",
          "state": {
            "_view_name": "LayoutView",
            "grid_template_rows": null,
            "right": null,
            "justify_content": null,
            "_view_module": "@jupyter-widgets/base",
            "overflow": null,
            "_model_module_version": "1.2.0",
            "_view_count": null,
            "flex_flow": null,
            "width": null,
            "min_width": null,
            "border": null,
            "align_items": null,
            "bottom": null,
            "_model_module": "@jupyter-widgets/base",
            "top": null,
            "grid_column": null,
            "overflow_y": null,
            "overflow_x": null,
            "grid_auto_flow": null,
            "grid_area": null,
            "grid_template_columns": null,
            "flex": null,
            "_model_name": "LayoutModel",
            "justify_items": null,
            "grid_row": null,
            "max_height": null,
            "align_content": null,
            "visibility": null,
            "align_self": null,
            "height": null,
            "min_height": null,
            "padding": null,
            "grid_auto_rows": null,
            "grid_gap": null,
            "max_width": null,
            "order": null,
            "_view_module_version": "1.2.0",
            "grid_template_areas": null,
            "object_position": null,
            "object_fit": null,
            "grid_auto_columns": null,
            "margin": null,
            "display": null,
            "left": null
          }
        },
        "697119c81d014b1abfedc46b9dfcc5d7": {
          "model_module": "@jupyter-widgets/controls",
          "model_name": "VBoxModel",
          "state": {
            "_view_name": "VBoxView",
            "_dom_classes": [
              "widget-interact"
            ],
            "_model_name": "VBoxModel",
            "_view_module": "@jupyter-widgets/controls",
            "_model_module_version": "1.5.0",
            "_view_count": null,
            "_view_module_version": "1.5.0",
            "box_style": "",
            "layout": "IPY_MODEL_98082a6aeba043df9c7ff7605a66f436",
            "_model_module": "@jupyter-widgets/controls",
            "children": [
              "IPY_MODEL_7af4637806904797b9b6b45e3d37b700",
              "IPY_MODEL_b16b90bd7fc24bfa8f35266f06a7e674",
              "IPY_MODEL_f74bc9372eb9483bae0a3e9ec106918f",
              "IPY_MODEL_26c30d7d553a4a638395ac4e1fe7084c",
              "IPY_MODEL_8d8e733249b84a469dd99ac333ce842a",
              "IPY_MODEL_81439c6b0dcc4c4da0cee97412b7d1a0",
              "IPY_MODEL_902b36f4297c409da1fd44c01e82a9fc",
              "IPY_MODEL_4edd365d86d44804833fdc7111e0cd98"
            ]
          }
        },
        "98082a6aeba043df9c7ff7605a66f436": {
          "model_module": "@jupyter-widgets/base",
          "model_name": "LayoutModel",
          "state": {
            "_view_name": "LayoutView",
            "grid_template_rows": null,
            "right": null,
            "justify_content": null,
            "_view_module": "@jupyter-widgets/base",
            "overflow": null,
            "_model_module_version": "1.2.0",
            "_view_count": null,
            "flex_flow": null,
            "width": null,
            "min_width": null,
            "border": null,
            "align_items": null,
            "bottom": null,
            "_model_module": "@jupyter-widgets/base",
            "top": null,
            "grid_column": null,
            "overflow_y": null,
            "overflow_x": null,
            "grid_auto_flow": null,
            "grid_area": null,
            "grid_template_columns": null,
            "flex": null,
            "_model_name": "LayoutModel",
            "justify_items": null,
            "grid_row": null,
            "max_height": null,
            "align_content": null,
            "visibility": null,
            "align_self": null,
            "height": null,
            "min_height": null,
            "padding": null,
            "grid_auto_rows": null,
            "grid_gap": null,
            "max_width": null,
            "order": null,
            "_view_module_version": "1.2.0",
            "grid_template_areas": null,
            "object_position": null,
            "object_fit": null,
            "grid_auto_columns": null,
            "margin": null,
            "display": null,
            "left": null
          }
        },
        "7af4637806904797b9b6b45e3d37b700": {
          "model_module": "@jupyter-widgets/controls",
          "model_name": "CheckboxModel",
          "state": {
            "_view_name": "CheckboxView",
            "style": "IPY_MODEL_a84772fcc91f4204833e977f3d42873c",
            "_dom_classes": [],
            "description": "Archivo",
            "_model_name": "CheckboxModel",
            "_view_module": "@jupyter-widgets/controls",
            "_model_module_version": "1.5.0",
            "value": true,
            "_view_count": null,
            "disabled": false,
            "_view_module_version": "1.5.0",
            "indent": true,
            "description_tooltip": null,
            "_model_module": "@jupyter-widgets/controls",
            "layout": "IPY_MODEL_e9e72d261910419e933030299f5b6d98"
          }
        },
        "b16b90bd7fc24bfa8f35266f06a7e674": {
          "model_module": "@jupyter-widgets/controls",
          "model_name": "DropdownModel",
          "state": {
            "_options_labels": [
              "1964",
              "1908",
              "1980",
              "1910",
              "1774"
            ],
            "_view_name": "DropdownView",
            "style": "IPY_MODEL_5f643c855df14da38772f19791508c44",
            "_dom_classes": [],
            "description": "Terminal",
            "_model_name": "DropdownModel",
            "index": 0,
            "_view_module": "@jupyter-widgets/controls",
            "_model_module_version": "1.5.0",
            "_view_count": null,
            "disabled": false,
            "_view_module_version": "1.5.0",
            "description_tooltip": null,
            "_model_module": "@jupyter-widgets/controls",
            "layout": "IPY_MODEL_459f493d60614aaf8915531ab07609c5"
          }
        },
        "f74bc9372eb9483bae0a3e9ec106918f": {
          "model_module": "@jupyter-widgets/controls",
          "model_name": "DropdownModel",
          "state": {
            "_options_labels": [
              "3",
              "0",
              "4",
              "1",
              "7"
            ],
            "_view_name": "DropdownView",
            "style": "IPY_MODEL_3fe05da8a31d45b3a31b7e417b663048",
            "_dom_classes": [],
            "description": "Operacion",
            "_model_name": "DropdownModel",
            "index": 0,
            "_view_module": "@jupyter-widgets/controls",
            "_model_module_version": "1.5.0",
            "_view_count": null,
            "disabled": false,
            "_view_module_version": "1.5.0",
            "description_tooltip": null,
            "_model_module": "@jupyter-widgets/controls",
            "layout": "IPY_MODEL_06934b00899f4e6a946af3d18e99c659"
          }
        },
        "26c30d7d553a4a638395ac4e1fe7084c": {
          "model_module": "@jupyter-widgets/controls",
          "model_name": "IntSliderModel",
          "state": {
            "_view_name": "IntSliderView",
            "style": "IPY_MODEL_4023137259fa4284aa1e8c31dcbe1d97",
            "_dom_classes": [],
            "description": "Input_features",
            "step": 1,
            "_model_name": "IntSliderModel",
            "orientation": "horizontal",
            "max": 30,
            "_view_module": "@jupyter-widgets/controls",
            "_model_module_version": "1.5.0",
            "value": 15,
            "_view_count": null,
            "disabled": false,
            "_view_module_version": "1.5.0",
            "min": 1,
            "continuous_update": true,
            "readout_format": "d",
            "description_tooltip": null,
            "readout": true,
            "_model_module": "@jupyter-widgets/controls",
            "layout": "IPY_MODEL_4a0747cb4aff46c29066dea4af99ae9a"
          }
        },
        "8d8e733249b84a469dd99ac333ce842a": {
          "model_module": "@jupyter-widgets/controls",
          "model_name": "IntSliderModel",
          "state": {
            "_view_name": "IntSliderView",
            "style": "IPY_MODEL_f571c45252e64193b4745b21be93dea8",
            "_dom_classes": [],
            "description": "batch_size",
            "step": 1,
            "_model_name": "IntSliderModel",
            "orientation": "horizontal",
            "max": 20,
            "_view_module": "@jupyter-widgets/controls",
            "_model_module_version": "1.5.0",
            "value": 10,
            "_view_count": null,
            "disabled": false,
            "_view_module_version": "1.5.0",
            "min": 1,
            "continuous_update": true,
            "readout_format": "d",
            "description_tooltip": null,
            "readout": true,
            "_model_module": "@jupyter-widgets/controls",
            "layout": "IPY_MODEL_dc830d314c0e4733814f2259210fc075"
          }
        },
        "81439c6b0dcc4c4da0cee97412b7d1a0": {
          "model_module": "@jupyter-widgets/controls",
          "model_name": "IntSliderModel",
          "state": {
            "_view_name": "IntSliderView",
            "style": "IPY_MODEL_61880e01c490446f9cfe75d39c2f6a96",
            "_dom_classes": [],
            "description": "dias_predecir",
            "step": 1,
            "_model_name": "IntSliderModel",
            "orientation": "horizontal",
            "max": 30,
            "_view_module": "@jupyter-widgets/controls",
            "_model_module_version": "1.5.0",
            "value": 15,
            "_view_count": null,
            "disabled": false,
            "_view_module_version": "1.5.0",
            "min": 1,
            "continuous_update": true,
            "readout_format": "d",
            "description_tooltip": null,
            "readout": true,
            "_model_module": "@jupyter-widgets/controls",
            "layout": "IPY_MODEL_569d66ca35dc407e8ecb512af93a76a0"
          }
        },
        "902b36f4297c409da1fd44c01e82a9fc": {
          "model_module": "@jupyter-widgets/controls",
          "model_name": "ButtonModel",
          "state": {
            "_view_name": "ButtonView",
            "style": "IPY_MODEL_c8c722cb56b8481a9109e3c4565e38b6",
            "_dom_classes": [],
            "description": "Run Interact",
            "_model_name": "ButtonModel",
            "button_style": "",
            "_view_module": "@jupyter-widgets/controls",
            "_model_module_version": "1.5.0",
            "tooltip": "",
            "_view_count": null,
            "disabled": false,
            "_view_module_version": "1.5.0",
            "layout": "IPY_MODEL_a12ff38acb4a4095a5e59a3d0d852ef5",
            "_model_module": "@jupyter-widgets/controls",
            "icon": ""
          }
        },
        "4edd365d86d44804833fdc7111e0cd98": {
          "model_module": "@jupyter-widgets/output",
          "model_name": "OutputModel",
          "state": {
            "_view_name": "OutputView",
            "msg_id": "",
            "_dom_classes": [],
            "_model_name": "OutputModel",
            "outputs": [],
            "_view_module": "@jupyter-widgets/output",
            "_model_module_version": "1.0.0",
            "_view_count": null,
            "_view_module_version": "1.0.0",
            "layout": "IPY_MODEL_5bb51d9db10d428cbae82b62f3726acf",
            "_model_module": "@jupyter-widgets/output"
          }
        },
        "a84772fcc91f4204833e977f3d42873c": {
          "model_module": "@jupyter-widgets/controls",
          "model_name": "DescriptionStyleModel",
          "state": {
            "_view_name": "StyleView",
            "_model_name": "DescriptionStyleModel",
            "description_width": "",
            "_view_module": "@jupyter-widgets/base",
            "_model_module_version": "1.5.0",
            "_view_count": null,
            "_view_module_version": "1.2.0",
            "_model_module": "@jupyter-widgets/controls"
          }
        },
        "e9e72d261910419e933030299f5b6d98": {
          "model_module": "@jupyter-widgets/base",
          "model_name": "LayoutModel",
          "state": {
            "_view_name": "LayoutView",
            "grid_template_rows": null,
            "right": null,
            "justify_content": null,
            "_view_module": "@jupyter-widgets/base",
            "overflow": null,
            "_model_module_version": "1.2.0",
            "_view_count": null,
            "flex_flow": null,
            "width": null,
            "min_width": null,
            "border": null,
            "align_items": null,
            "bottom": null,
            "_model_module": "@jupyter-widgets/base",
            "top": null,
            "grid_column": null,
            "overflow_y": null,
            "overflow_x": null,
            "grid_auto_flow": null,
            "grid_area": null,
            "grid_template_columns": null,
            "flex": null,
            "_model_name": "LayoutModel",
            "justify_items": null,
            "grid_row": null,
            "max_height": null,
            "align_content": null,
            "visibility": null,
            "align_self": null,
            "height": null,
            "min_height": null,
            "padding": null,
            "grid_auto_rows": null,
            "grid_gap": null,
            "max_width": null,
            "order": null,
            "_view_module_version": "1.2.0",
            "grid_template_areas": null,
            "object_position": null,
            "object_fit": null,
            "grid_auto_columns": null,
            "margin": null,
            "display": null,
            "left": null
          }
        },
        "5f643c855df14da38772f19791508c44": {
          "model_module": "@jupyter-widgets/controls",
          "model_name": "DescriptionStyleModel",
          "state": {
            "_view_name": "StyleView",
            "_model_name": "DescriptionStyleModel",
            "description_width": "",
            "_view_module": "@jupyter-widgets/base",
            "_model_module_version": "1.5.0",
            "_view_count": null,
            "_view_module_version": "1.2.0",
            "_model_module": "@jupyter-widgets/controls"
          }
        },
        "459f493d60614aaf8915531ab07609c5": {
          "model_module": "@jupyter-widgets/base",
          "model_name": "LayoutModel",
          "state": {
            "_view_name": "LayoutView",
            "grid_template_rows": null,
            "right": null,
            "justify_content": null,
            "_view_module": "@jupyter-widgets/base",
            "overflow": null,
            "_model_module_version": "1.2.0",
            "_view_count": null,
            "flex_flow": null,
            "width": null,
            "min_width": null,
            "border": null,
            "align_items": null,
            "bottom": null,
            "_model_module": "@jupyter-widgets/base",
            "top": null,
            "grid_column": null,
            "overflow_y": null,
            "overflow_x": null,
            "grid_auto_flow": null,
            "grid_area": null,
            "grid_template_columns": null,
            "flex": null,
            "_model_name": "LayoutModel",
            "justify_items": null,
            "grid_row": null,
            "max_height": null,
            "align_content": null,
            "visibility": null,
            "align_self": null,
            "height": null,
            "min_height": null,
            "padding": null,
            "grid_auto_rows": null,
            "grid_gap": null,
            "max_width": null,
            "order": null,
            "_view_module_version": "1.2.0",
            "grid_template_areas": null,
            "object_position": null,
            "object_fit": null,
            "grid_auto_columns": null,
            "margin": null,
            "display": null,
            "left": null
          }
        },
        "3fe05da8a31d45b3a31b7e417b663048": {
          "model_module": "@jupyter-widgets/controls",
          "model_name": "DescriptionStyleModel",
          "state": {
            "_view_name": "StyleView",
            "_model_name": "DescriptionStyleModel",
            "description_width": "",
            "_view_module": "@jupyter-widgets/base",
            "_model_module_version": "1.5.0",
            "_view_count": null,
            "_view_module_version": "1.2.0",
            "_model_module": "@jupyter-widgets/controls"
          }
        },
        "06934b00899f4e6a946af3d18e99c659": {
          "model_module": "@jupyter-widgets/base",
          "model_name": "LayoutModel",
          "state": {
            "_view_name": "LayoutView",
            "grid_template_rows": null,
            "right": null,
            "justify_content": null,
            "_view_module": "@jupyter-widgets/base",
            "overflow": null,
            "_model_module_version": "1.2.0",
            "_view_count": null,
            "flex_flow": null,
            "width": null,
            "min_width": null,
            "border": null,
            "align_items": null,
            "bottom": null,
            "_model_module": "@jupyter-widgets/base",
            "top": null,
            "grid_column": null,
            "overflow_y": null,
            "overflow_x": null,
            "grid_auto_flow": null,
            "grid_area": null,
            "grid_template_columns": null,
            "flex": null,
            "_model_name": "LayoutModel",
            "justify_items": null,
            "grid_row": null,
            "max_height": null,
            "align_content": null,
            "visibility": null,
            "align_self": null,
            "height": null,
            "min_height": null,
            "padding": null,
            "grid_auto_rows": null,
            "grid_gap": null,
            "max_width": null,
            "order": null,
            "_view_module_version": "1.2.0",
            "grid_template_areas": null,
            "object_position": null,
            "object_fit": null,
            "grid_auto_columns": null,
            "margin": null,
            "display": null,
            "left": null
          }
        },
        "4023137259fa4284aa1e8c31dcbe1d97": {
          "model_module": "@jupyter-widgets/controls",
          "model_name": "SliderStyleModel",
          "state": {
            "_view_name": "StyleView",
            "handle_color": null,
            "_model_name": "SliderStyleModel",
            "description_width": "",
            "_view_module": "@jupyter-widgets/base",
            "_model_module_version": "1.5.0",
            "_view_count": null,
            "_view_module_version": "1.2.0",
            "_model_module": "@jupyter-widgets/controls"
          }
        },
        "4a0747cb4aff46c29066dea4af99ae9a": {
          "model_module": "@jupyter-widgets/base",
          "model_name": "LayoutModel",
          "state": {
            "_view_name": "LayoutView",
            "grid_template_rows": null,
            "right": null,
            "justify_content": null,
            "_view_module": "@jupyter-widgets/base",
            "overflow": null,
            "_model_module_version": "1.2.0",
            "_view_count": null,
            "flex_flow": null,
            "width": null,
            "min_width": null,
            "border": null,
            "align_items": null,
            "bottom": null,
            "_model_module": "@jupyter-widgets/base",
            "top": null,
            "grid_column": null,
            "overflow_y": null,
            "overflow_x": null,
            "grid_auto_flow": null,
            "grid_area": null,
            "grid_template_columns": null,
            "flex": null,
            "_model_name": "LayoutModel",
            "justify_items": null,
            "grid_row": null,
            "max_height": null,
            "align_content": null,
            "visibility": null,
            "align_self": null,
            "height": null,
            "min_height": null,
            "padding": null,
            "grid_auto_rows": null,
            "grid_gap": null,
            "max_width": null,
            "order": null,
            "_view_module_version": "1.2.0",
            "grid_template_areas": null,
            "object_position": null,
            "object_fit": null,
            "grid_auto_columns": null,
            "margin": null,
            "display": null,
            "left": null
          }
        },
        "f571c45252e64193b4745b21be93dea8": {
          "model_module": "@jupyter-widgets/controls",
          "model_name": "SliderStyleModel",
          "state": {
            "_view_name": "StyleView",
            "handle_color": null,
            "_model_name": "SliderStyleModel",
            "description_width": "",
            "_view_module": "@jupyter-widgets/base",
            "_model_module_version": "1.5.0",
            "_view_count": null,
            "_view_module_version": "1.2.0",
            "_model_module": "@jupyter-widgets/controls"
          }
        },
        "dc830d314c0e4733814f2259210fc075": {
          "model_module": "@jupyter-widgets/base",
          "model_name": "LayoutModel",
          "state": {
            "_view_name": "LayoutView",
            "grid_template_rows": null,
            "right": null,
            "justify_content": null,
            "_view_module": "@jupyter-widgets/base",
            "overflow": null,
            "_model_module_version": "1.2.0",
            "_view_count": null,
            "flex_flow": null,
            "width": null,
            "min_width": null,
            "border": null,
            "align_items": null,
            "bottom": null,
            "_model_module": "@jupyter-widgets/base",
            "top": null,
            "grid_column": null,
            "overflow_y": null,
            "overflow_x": null,
            "grid_auto_flow": null,
            "grid_area": null,
            "grid_template_columns": null,
            "flex": null,
            "_model_name": "LayoutModel",
            "justify_items": null,
            "grid_row": null,
            "max_height": null,
            "align_content": null,
            "visibility": null,
            "align_self": null,
            "height": null,
            "min_height": null,
            "padding": null,
            "grid_auto_rows": null,
            "grid_gap": null,
            "max_width": null,
            "order": null,
            "_view_module_version": "1.2.0",
            "grid_template_areas": null,
            "object_position": null,
            "object_fit": null,
            "grid_auto_columns": null,
            "margin": null,
            "display": null,
            "left": null
          }
        },
        "61880e01c490446f9cfe75d39c2f6a96": {
          "model_module": "@jupyter-widgets/controls",
          "model_name": "SliderStyleModel",
          "state": {
            "_view_name": "StyleView",
            "handle_color": null,
            "_model_name": "SliderStyleModel",
            "description_width": "",
            "_view_module": "@jupyter-widgets/base",
            "_model_module_version": "1.5.0",
            "_view_count": null,
            "_view_module_version": "1.2.0",
            "_model_module": "@jupyter-widgets/controls"
          }
        },
        "569d66ca35dc407e8ecb512af93a76a0": {
          "model_module": "@jupyter-widgets/base",
          "model_name": "LayoutModel",
          "state": {
            "_view_name": "LayoutView",
            "grid_template_rows": null,
            "right": null,
            "justify_content": null,
            "_view_module": "@jupyter-widgets/base",
            "overflow": null,
            "_model_module_version": "1.2.0",
            "_view_count": null,
            "flex_flow": null,
            "width": null,
            "min_width": null,
            "border": null,
            "align_items": null,
            "bottom": null,
            "_model_module": "@jupyter-widgets/base",
            "top": null,
            "grid_column": null,
            "overflow_y": null,
            "overflow_x": null,
            "grid_auto_flow": null,
            "grid_area": null,
            "grid_template_columns": null,
            "flex": null,
            "_model_name": "LayoutModel",
            "justify_items": null,
            "grid_row": null,
            "max_height": null,
            "align_content": null,
            "visibility": null,
            "align_self": null,
            "height": null,
            "min_height": null,
            "padding": null,
            "grid_auto_rows": null,
            "grid_gap": null,
            "max_width": null,
            "order": null,
            "_view_module_version": "1.2.0",
            "grid_template_areas": null,
            "object_position": null,
            "object_fit": null,
            "grid_auto_columns": null,
            "margin": null,
            "display": null,
            "left": null
          }
        },
        "c8c722cb56b8481a9109e3c4565e38b6": {
          "model_module": "@jupyter-widgets/controls",
          "model_name": "ButtonStyleModel",
          "state": {
            "_view_name": "StyleView",
            "_model_name": "ButtonStyleModel",
            "_view_module": "@jupyter-widgets/base",
            "_model_module_version": "1.5.0",
            "_view_count": null,
            "button_color": null,
            "font_weight": "",
            "_view_module_version": "1.2.0",
            "_model_module": "@jupyter-widgets/controls"
          }
        },
        "a12ff38acb4a4095a5e59a3d0d852ef5": {
          "model_module": "@jupyter-widgets/base",
          "model_name": "LayoutModel",
          "state": {
            "_view_name": "LayoutView",
            "grid_template_rows": null,
            "right": null,
            "justify_content": null,
            "_view_module": "@jupyter-widgets/base",
            "overflow": null,
            "_model_module_version": "1.2.0",
            "_view_count": null,
            "flex_flow": null,
            "width": null,
            "min_width": null,
            "border": null,
            "align_items": null,
            "bottom": null,
            "_model_module": "@jupyter-widgets/base",
            "top": null,
            "grid_column": null,
            "overflow_y": null,
            "overflow_x": null,
            "grid_auto_flow": null,
            "grid_area": null,
            "grid_template_columns": null,
            "flex": null,
            "_model_name": "LayoutModel",
            "justify_items": null,
            "grid_row": null,
            "max_height": null,
            "align_content": null,
            "visibility": null,
            "align_self": null,
            "height": null,
            "min_height": null,
            "padding": null,
            "grid_auto_rows": null,
            "grid_gap": null,
            "max_width": null,
            "order": null,
            "_view_module_version": "1.2.0",
            "grid_template_areas": null,
            "object_position": null,
            "object_fit": null,
            "grid_auto_columns": null,
            "margin": null,
            "display": null,
            "left": null
          }
        },
        "5bb51d9db10d428cbae82b62f3726acf": {
          "model_module": "@jupyter-widgets/base",
          "model_name": "LayoutModel",
          "state": {
            "_view_name": "LayoutView",
            "grid_template_rows": null,
            "right": null,
            "justify_content": null,
            "_view_module": "@jupyter-widgets/base",
            "overflow": null,
            "_model_module_version": "1.2.0",
            "_view_count": null,
            "flex_flow": null,
            "width": null,
            "min_width": null,
            "border": null,
            "align_items": null,
            "bottom": null,
            "_model_module": "@jupyter-widgets/base",
            "top": null,
            "grid_column": null,
            "overflow_y": null,
            "overflow_x": null,
            "grid_auto_flow": null,
            "grid_area": null,
            "grid_template_columns": null,
            "flex": null,
            "_model_name": "LayoutModel",
            "justify_items": null,
            "grid_row": null,
            "max_height": null,
            "align_content": null,
            "visibility": null,
            "align_self": null,
            "height": null,
            "min_height": null,
            "padding": null,
            "grid_auto_rows": null,
            "grid_gap": null,
            "max_width": null,
            "order": null,
            "_view_module_version": "1.2.0",
            "grid_template_areas": null,
            "object_position": null,
            "object_fit": null,
            "grid_auto_columns": null,
            "margin": null,
            "display": null,
            "left": null
          }
        },
        "38c2c82d3d274b8ca778f3125db34e87": {
          "model_module": "@jupyter-widgets/controls",
          "model_name": "VBoxModel",
          "state": {
            "_view_name": "VBoxView",
            "_dom_classes": [
              "widget-interact"
            ],
            "_model_name": "VBoxModel",
            "_view_module": "@jupyter-widgets/controls",
            "_model_module_version": "1.5.0",
            "_view_count": null,
            "_view_module_version": "1.5.0",
            "box_style": "",
            "layout": "IPY_MODEL_c6d1d79d9dd64f2e823e657cac625f3f",
            "_model_module": "@jupyter-widgets/controls",
            "children": [
              "IPY_MODEL_bcdd93737a144bd9ac8ee180baaa6cc1",
              "IPY_MODEL_8752ddaa4e3c40c68774d3e63edc74e1",
              "IPY_MODEL_d1fac3a9418a4a2897af841e34f33d63",
              "IPY_MODEL_ed54e826c23944d7bb6edc46a6a00e69",
              "IPY_MODEL_7c333467b851459ea594761726c4a348",
              "IPY_MODEL_f7ef25dc0ce44592a1961acb1493ab6f",
              "IPY_MODEL_aa34686448f840c09bdc8fda04c83755"
            ]
          }
        },
        "c6d1d79d9dd64f2e823e657cac625f3f": {
          "model_module": "@jupyter-widgets/base",
          "model_name": "LayoutModel",
          "state": {
            "_view_name": "LayoutView",
            "grid_template_rows": null,
            "right": null,
            "justify_content": null,
            "_view_module": "@jupyter-widgets/base",
            "overflow": null,
            "_model_module_version": "1.2.0",
            "_view_count": null,
            "flex_flow": null,
            "width": null,
            "min_width": null,
            "border": null,
            "align_items": null,
            "bottom": null,
            "_model_module": "@jupyter-widgets/base",
            "top": null,
            "grid_column": null,
            "overflow_y": null,
            "overflow_x": null,
            "grid_auto_flow": null,
            "grid_area": null,
            "grid_template_columns": null,
            "flex": null,
            "_model_name": "LayoutModel",
            "justify_items": null,
            "grid_row": null,
            "max_height": null,
            "align_content": null,
            "visibility": null,
            "align_self": null,
            "height": null,
            "min_height": null,
            "padding": null,
            "grid_auto_rows": null,
            "grid_gap": null,
            "max_width": null,
            "order": null,
            "_view_module_version": "1.2.0",
            "grid_template_areas": null,
            "object_position": null,
            "object_fit": null,
            "grid_auto_columns": null,
            "margin": null,
            "display": null,
            "left": null
          }
        },
        "bcdd93737a144bd9ac8ee180baaa6cc1": {
          "model_module": "@jupyter-widgets/controls",
          "model_name": "CheckboxModel",
          "state": {
            "_view_name": "CheckboxView",
            "style": "IPY_MODEL_b8591769fec04e3fb745bc8f214e22df",
            "_dom_classes": [],
            "description": "Archivo",
            "_model_name": "CheckboxModel",
            "_view_module": "@jupyter-widgets/controls",
            "_model_module_version": "1.5.0",
            "value": true,
            "_view_count": null,
            "disabled": false,
            "_view_module_version": "1.5.0",
            "indent": true,
            "description_tooltip": null,
            "_model_module": "@jupyter-widgets/controls",
            "layout": "IPY_MODEL_3f1a4797763f41928896a627a90cd23b"
          }
        },
        "8752ddaa4e3c40c68774d3e63edc74e1": {
          "model_module": "@jupyter-widgets/controls",
          "model_name": "DropdownModel",
          "state": {
            "_options_labels": [
              "1964",
              "1908",
              "1980",
              "1910",
              "1774"
            ],
            "_view_name": "DropdownView",
            "style": "IPY_MODEL_e20094d6f08243c0b0c58433245a30fd",
            "_dom_classes": [],
            "description": "Terminal",
            "_model_name": "DropdownModel",
            "index": 0,
            "_view_module": "@jupyter-widgets/controls",
            "_model_module_version": "1.5.0",
            "_view_count": null,
            "disabled": false,
            "_view_module_version": "1.5.0",
            "description_tooltip": null,
            "_model_module": "@jupyter-widgets/controls",
            "layout": "IPY_MODEL_da08e3a9a84b4c4bb68fd1869fc8010e"
          }
        },
        "d1fac3a9418a4a2897af841e34f33d63": {
          "model_module": "@jupyter-widgets/controls",
          "model_name": "DropdownModel",
          "state": {
            "_options_labels": [
              "3",
              "0",
              "4",
              "1",
              "7"
            ],
            "_view_name": "DropdownView",
            "style": "IPY_MODEL_6cd58cf8a76f403ab2e7ce19b1729321",
            "_dom_classes": [],
            "description": "Operacion",
            "_model_name": "DropdownModel",
            "index": 0,
            "_view_module": "@jupyter-widgets/controls",
            "_model_module_version": "1.5.0",
            "_view_count": null,
            "disabled": false,
            "_view_module_version": "1.5.0",
            "description_tooltip": null,
            "_model_module": "@jupyter-widgets/controls",
            "layout": "IPY_MODEL_1880a5dfe9924e97b30b1df7c0be8e26"
          }
        },
        "ed54e826c23944d7bb6edc46a6a00e69": {
          "model_module": "@jupyter-widgets/controls",
          "model_name": "IntSliderModel",
          "state": {
            "_view_name": "IntSliderView",
            "style": "IPY_MODEL_b36b39f179324d1db53a3755436ebf90",
            "_dom_classes": [],
            "description": "Input_features",
            "step": 1,
            "_model_name": "IntSliderModel",
            "orientation": "horizontal",
            "max": 30,
            "_view_module": "@jupyter-widgets/controls",
            "_model_module_version": "1.5.0",
            "value": 15,
            "_view_count": null,
            "disabled": false,
            "_view_module_version": "1.5.0",
            "min": 1,
            "continuous_update": true,
            "readout_format": "d",
            "description_tooltip": null,
            "readout": true,
            "_model_module": "@jupyter-widgets/controls",
            "layout": "IPY_MODEL_9e0e27a9b24a44458653308c7dbf3afe"
          }
        },
        "7c333467b851459ea594761726c4a348": {
          "model_module": "@jupyter-widgets/controls",
          "model_name": "IntSliderModel",
          "state": {
            "_view_name": "IntSliderView",
            "style": "IPY_MODEL_963d22b891dc48bd80d423e987d85c99",
            "_dom_classes": [],
            "description": "dias_predecir",
            "step": 1,
            "_model_name": "IntSliderModel",
            "orientation": "horizontal",
            "max": 30,
            "_view_module": "@jupyter-widgets/controls",
            "_model_module_version": "1.5.0",
            "value": 15,
            "_view_count": null,
            "disabled": false,
            "_view_module_version": "1.5.0",
            "min": 1,
            "continuous_update": true,
            "readout_format": "d",
            "description_tooltip": null,
            "readout": true,
            "_model_module": "@jupyter-widgets/controls",
            "layout": "IPY_MODEL_68c271b70c95481a84b623fb208e0c95"
          }
        },
        "f7ef25dc0ce44592a1961acb1493ab6f": {
          "model_module": "@jupyter-widgets/controls",
          "model_name": "ButtonModel",
          "state": {
            "_view_name": "ButtonView",
            "style": "IPY_MODEL_eb50bed142de436bb9ebced9d716e2fe",
            "_dom_classes": [],
            "description": "Run Interact",
            "_model_name": "ButtonModel",
            "button_style": "",
            "_view_module": "@jupyter-widgets/controls",
            "_model_module_version": "1.5.0",
            "tooltip": "",
            "_view_count": null,
            "disabled": false,
            "_view_module_version": "1.5.0",
            "layout": "IPY_MODEL_9e8fe8a81ae7445987e4deb25171b81e",
            "_model_module": "@jupyter-widgets/controls",
            "icon": ""
          }
        },
        "aa34686448f840c09bdc8fda04c83755": {
          "model_module": "@jupyter-widgets/output",
          "model_name": "OutputModel",
          "state": {
            "_view_name": "OutputView",
            "msg_id": "",
            "_dom_classes": [],
            "_model_name": "OutputModel",
            "outputs": [],
            "_view_module": "@jupyter-widgets/output",
            "_model_module_version": "1.0.0",
            "_view_count": null,
            "_view_module_version": "1.0.0",
            "layout": "IPY_MODEL_8c1361a0bb7c49658e24ddbbe7caee64",
            "_model_module": "@jupyter-widgets/output"
          }
        },
        "b8591769fec04e3fb745bc8f214e22df": {
          "model_module": "@jupyter-widgets/controls",
          "model_name": "DescriptionStyleModel",
          "state": {
            "_view_name": "StyleView",
            "_model_name": "DescriptionStyleModel",
            "description_width": "",
            "_view_module": "@jupyter-widgets/base",
            "_model_module_version": "1.5.0",
            "_view_count": null,
            "_view_module_version": "1.2.0",
            "_model_module": "@jupyter-widgets/controls"
          }
        },
        "3f1a4797763f41928896a627a90cd23b": {
          "model_module": "@jupyter-widgets/base",
          "model_name": "LayoutModel",
          "state": {
            "_view_name": "LayoutView",
            "grid_template_rows": null,
            "right": null,
            "justify_content": null,
            "_view_module": "@jupyter-widgets/base",
            "overflow": null,
            "_model_module_version": "1.2.0",
            "_view_count": null,
            "flex_flow": null,
            "width": null,
            "min_width": null,
            "border": null,
            "align_items": null,
            "bottom": null,
            "_model_module": "@jupyter-widgets/base",
            "top": null,
            "grid_column": null,
            "overflow_y": null,
            "overflow_x": null,
            "grid_auto_flow": null,
            "grid_area": null,
            "grid_template_columns": null,
            "flex": null,
            "_model_name": "LayoutModel",
            "justify_items": null,
            "grid_row": null,
            "max_height": null,
            "align_content": null,
            "visibility": null,
            "align_self": null,
            "height": null,
            "min_height": null,
            "padding": null,
            "grid_auto_rows": null,
            "grid_gap": null,
            "max_width": null,
            "order": null,
            "_view_module_version": "1.2.0",
            "grid_template_areas": null,
            "object_position": null,
            "object_fit": null,
            "grid_auto_columns": null,
            "margin": null,
            "display": null,
            "left": null
          }
        },
        "e20094d6f08243c0b0c58433245a30fd": {
          "model_module": "@jupyter-widgets/controls",
          "model_name": "DescriptionStyleModel",
          "state": {
            "_view_name": "StyleView",
            "_model_name": "DescriptionStyleModel",
            "description_width": "",
            "_view_module": "@jupyter-widgets/base",
            "_model_module_version": "1.5.0",
            "_view_count": null,
            "_view_module_version": "1.2.0",
            "_model_module": "@jupyter-widgets/controls"
          }
        },
        "da08e3a9a84b4c4bb68fd1869fc8010e": {
          "model_module": "@jupyter-widgets/base",
          "model_name": "LayoutModel",
          "state": {
            "_view_name": "LayoutView",
            "grid_template_rows": null,
            "right": null,
            "justify_content": null,
            "_view_module": "@jupyter-widgets/base",
            "overflow": null,
            "_model_module_version": "1.2.0",
            "_view_count": null,
            "flex_flow": null,
            "width": null,
            "min_width": null,
            "border": null,
            "align_items": null,
            "bottom": null,
            "_model_module": "@jupyter-widgets/base",
            "top": null,
            "grid_column": null,
            "overflow_y": null,
            "overflow_x": null,
            "grid_auto_flow": null,
            "grid_area": null,
            "grid_template_columns": null,
            "flex": null,
            "_model_name": "LayoutModel",
            "justify_items": null,
            "grid_row": null,
            "max_height": null,
            "align_content": null,
            "visibility": null,
            "align_self": null,
            "height": null,
            "min_height": null,
            "padding": null,
            "grid_auto_rows": null,
            "grid_gap": null,
            "max_width": null,
            "order": null,
            "_view_module_version": "1.2.0",
            "grid_template_areas": null,
            "object_position": null,
            "object_fit": null,
            "grid_auto_columns": null,
            "margin": null,
            "display": null,
            "left": null
          }
        },
        "6cd58cf8a76f403ab2e7ce19b1729321": {
          "model_module": "@jupyter-widgets/controls",
          "model_name": "DescriptionStyleModel",
          "state": {
            "_view_name": "StyleView",
            "_model_name": "DescriptionStyleModel",
            "description_width": "",
            "_view_module": "@jupyter-widgets/base",
            "_model_module_version": "1.5.0",
            "_view_count": null,
            "_view_module_version": "1.2.0",
            "_model_module": "@jupyter-widgets/controls"
          }
        },
        "1880a5dfe9924e97b30b1df7c0be8e26": {
          "model_module": "@jupyter-widgets/base",
          "model_name": "LayoutModel",
          "state": {
            "_view_name": "LayoutView",
            "grid_template_rows": null,
            "right": null,
            "justify_content": null,
            "_view_module": "@jupyter-widgets/base",
            "overflow": null,
            "_model_module_version": "1.2.0",
            "_view_count": null,
            "flex_flow": null,
            "width": null,
            "min_width": null,
            "border": null,
            "align_items": null,
            "bottom": null,
            "_model_module": "@jupyter-widgets/base",
            "top": null,
            "grid_column": null,
            "overflow_y": null,
            "overflow_x": null,
            "grid_auto_flow": null,
            "grid_area": null,
            "grid_template_columns": null,
            "flex": null,
            "_model_name": "LayoutModel",
            "justify_items": null,
            "grid_row": null,
            "max_height": null,
            "align_content": null,
            "visibility": null,
            "align_self": null,
            "height": null,
            "min_height": null,
            "padding": null,
            "grid_auto_rows": null,
            "grid_gap": null,
            "max_width": null,
            "order": null,
            "_view_module_version": "1.2.0",
            "grid_template_areas": null,
            "object_position": null,
            "object_fit": null,
            "grid_auto_columns": null,
            "margin": null,
            "display": null,
            "left": null
          }
        },
        "b36b39f179324d1db53a3755436ebf90": {
          "model_module": "@jupyter-widgets/controls",
          "model_name": "SliderStyleModel",
          "state": {
            "_view_name": "StyleView",
            "handle_color": null,
            "_model_name": "SliderStyleModel",
            "description_width": "",
            "_view_module": "@jupyter-widgets/base",
            "_model_module_version": "1.5.0",
            "_view_count": null,
            "_view_module_version": "1.2.0",
            "_model_module": "@jupyter-widgets/controls"
          }
        },
        "9e0e27a9b24a44458653308c7dbf3afe": {
          "model_module": "@jupyter-widgets/base",
          "model_name": "LayoutModel",
          "state": {
            "_view_name": "LayoutView",
            "grid_template_rows": null,
            "right": null,
            "justify_content": null,
            "_view_module": "@jupyter-widgets/base",
            "overflow": null,
            "_model_module_version": "1.2.0",
            "_view_count": null,
            "flex_flow": null,
            "width": null,
            "min_width": null,
            "border": null,
            "align_items": null,
            "bottom": null,
            "_model_module": "@jupyter-widgets/base",
            "top": null,
            "grid_column": null,
            "overflow_y": null,
            "overflow_x": null,
            "grid_auto_flow": null,
            "grid_area": null,
            "grid_template_columns": null,
            "flex": null,
            "_model_name": "LayoutModel",
            "justify_items": null,
            "grid_row": null,
            "max_height": null,
            "align_content": null,
            "visibility": null,
            "align_self": null,
            "height": null,
            "min_height": null,
            "padding": null,
            "grid_auto_rows": null,
            "grid_gap": null,
            "max_width": null,
            "order": null,
            "_view_module_version": "1.2.0",
            "grid_template_areas": null,
            "object_position": null,
            "object_fit": null,
            "grid_auto_columns": null,
            "margin": null,
            "display": null,
            "left": null
          }
        },
        "963d22b891dc48bd80d423e987d85c99": {
          "model_module": "@jupyter-widgets/controls",
          "model_name": "SliderStyleModel",
          "state": {
            "_view_name": "StyleView",
            "handle_color": null,
            "_model_name": "SliderStyleModel",
            "description_width": "",
            "_view_module": "@jupyter-widgets/base",
            "_model_module_version": "1.5.0",
            "_view_count": null,
            "_view_module_version": "1.2.0",
            "_model_module": "@jupyter-widgets/controls"
          }
        },
        "68c271b70c95481a84b623fb208e0c95": {
          "model_module": "@jupyter-widgets/base",
          "model_name": "LayoutModel",
          "state": {
            "_view_name": "LayoutView",
            "grid_template_rows": null,
            "right": null,
            "justify_content": null,
            "_view_module": "@jupyter-widgets/base",
            "overflow": null,
            "_model_module_version": "1.2.0",
            "_view_count": null,
            "flex_flow": null,
            "width": null,
            "min_width": null,
            "border": null,
            "align_items": null,
            "bottom": null,
            "_model_module": "@jupyter-widgets/base",
            "top": null,
            "grid_column": null,
            "overflow_y": null,
            "overflow_x": null,
            "grid_auto_flow": null,
            "grid_area": null,
            "grid_template_columns": null,
            "flex": null,
            "_model_name": "LayoutModel",
            "justify_items": null,
            "grid_row": null,
            "max_height": null,
            "align_content": null,
            "visibility": null,
            "align_self": null,
            "height": null,
            "min_height": null,
            "padding": null,
            "grid_auto_rows": null,
            "grid_gap": null,
            "max_width": null,
            "order": null,
            "_view_module_version": "1.2.0",
            "grid_template_areas": null,
            "object_position": null,
            "object_fit": null,
            "grid_auto_columns": null,
            "margin": null,
            "display": null,
            "left": null
          }
        },
        "eb50bed142de436bb9ebced9d716e2fe": {
          "model_module": "@jupyter-widgets/controls",
          "model_name": "ButtonStyleModel",
          "state": {
            "_view_name": "StyleView",
            "_model_name": "ButtonStyleModel",
            "_view_module": "@jupyter-widgets/base",
            "_model_module_version": "1.5.0",
            "_view_count": null,
            "button_color": null,
            "font_weight": "",
            "_view_module_version": "1.2.0",
            "_model_module": "@jupyter-widgets/controls"
          }
        },
        "9e8fe8a81ae7445987e4deb25171b81e": {
          "model_module": "@jupyter-widgets/base",
          "model_name": "LayoutModel",
          "state": {
            "_view_name": "LayoutView",
            "grid_template_rows": null,
            "right": null,
            "justify_content": null,
            "_view_module": "@jupyter-widgets/base",
            "overflow": null,
            "_model_module_version": "1.2.0",
            "_view_count": null,
            "flex_flow": null,
            "width": null,
            "min_width": null,
            "border": null,
            "align_items": null,
            "bottom": null,
            "_model_module": "@jupyter-widgets/base",
            "top": null,
            "grid_column": null,
            "overflow_y": null,
            "overflow_x": null,
            "grid_auto_flow": null,
            "grid_area": null,
            "grid_template_columns": null,
            "flex": null,
            "_model_name": "LayoutModel",
            "justify_items": null,
            "grid_row": null,
            "max_height": null,
            "align_content": null,
            "visibility": null,
            "align_self": null,
            "height": null,
            "min_height": null,
            "padding": null,
            "grid_auto_rows": null,
            "grid_gap": null,
            "max_width": null,
            "order": null,
            "_view_module_version": "1.2.0",
            "grid_template_areas": null,
            "object_position": null,
            "object_fit": null,
            "grid_auto_columns": null,
            "margin": null,
            "display": null,
            "left": null
          }
        },
        "8c1361a0bb7c49658e24ddbbe7caee64": {
          "model_module": "@jupyter-widgets/base",
          "model_name": "LayoutModel",
          "state": {
            "_view_name": "LayoutView",
            "grid_template_rows": null,
            "right": null,
            "justify_content": null,
            "_view_module": "@jupyter-widgets/base",
            "overflow": null,
            "_model_module_version": "1.2.0",
            "_view_count": null,
            "flex_flow": null,
            "width": null,
            "min_width": null,
            "border": null,
            "align_items": null,
            "bottom": null,
            "_model_module": "@jupyter-widgets/base",
            "top": null,
            "grid_column": null,
            "overflow_y": null,
            "overflow_x": null,
            "grid_auto_flow": null,
            "grid_area": null,
            "grid_template_columns": null,
            "flex": null,
            "_model_name": "LayoutModel",
            "justify_items": null,
            "grid_row": null,
            "max_height": null,
            "align_content": null,
            "visibility": null,
            "align_self": null,
            "height": null,
            "min_height": null,
            "padding": null,
            "grid_auto_rows": null,
            "grid_gap": null,
            "max_width": null,
            "order": null,
            "_view_module_version": "1.2.0",
            "grid_template_areas": null,
            "object_position": null,
            "object_fit": null,
            "grid_auto_columns": null,
            "margin": null,
            "display": null,
            "left": null
          }
        },
        "8d5b864b3f7843af94df5b7de2ce76de": {
          "model_module": "@jupyter-widgets/controls",
          "model_name": "VBoxModel",
          "state": {
            "_view_name": "VBoxView",
            "_dom_classes": [
              "widget-interact"
            ],
            "_model_name": "VBoxModel",
            "_view_module": "@jupyter-widgets/controls",
            "_model_module_version": "1.5.0",
            "_view_count": null,
            "_view_module_version": "1.5.0",
            "box_style": "",
            "layout": "IPY_MODEL_4474f1dc6042426ea725569d05fbcc48",
            "_model_module": "@jupyter-widgets/controls",
            "children": [
              "IPY_MODEL_6893bb7ec29948b69475e9aaac7e985f",
              "IPY_MODEL_829c780a5abc440a894fd98b9c077730",
              "IPY_MODEL_d885f06467424e01a4f36203b70c1d67",
              "IPY_MODEL_d840862ef868445aae715f099061b8c8",
              "IPY_MODEL_1a678de1e81040dbbdb47c622bbf3be2"
            ]
          }
        },
        "4474f1dc6042426ea725569d05fbcc48": {
          "model_module": "@jupyter-widgets/base",
          "model_name": "LayoutModel",
          "state": {
            "_view_name": "LayoutView",
            "grid_template_rows": null,
            "right": null,
            "justify_content": null,
            "_view_module": "@jupyter-widgets/base",
            "overflow": null,
            "_model_module_version": "1.2.0",
            "_view_count": null,
            "flex_flow": null,
            "width": null,
            "min_width": null,
            "border": null,
            "align_items": null,
            "bottom": null,
            "_model_module": "@jupyter-widgets/base",
            "top": null,
            "grid_column": null,
            "overflow_y": null,
            "overflow_x": null,
            "grid_auto_flow": null,
            "grid_area": null,
            "grid_template_columns": null,
            "flex": null,
            "_model_name": "LayoutModel",
            "justify_items": null,
            "grid_row": null,
            "max_height": null,
            "align_content": null,
            "visibility": null,
            "align_self": null,
            "height": null,
            "min_height": null,
            "padding": null,
            "grid_auto_rows": null,
            "grid_gap": null,
            "max_width": null,
            "order": null,
            "_view_module_version": "1.2.0",
            "grid_template_areas": null,
            "object_position": null,
            "object_fit": null,
            "grid_auto_columns": null,
            "margin": null,
            "display": null,
            "left": null
          }
        },
        "6893bb7ec29948b69475e9aaac7e985f": {
          "model_module": "@jupyter-widgets/controls",
          "model_name": "CheckboxModel",
          "state": {
            "_view_name": "CheckboxView",
            "style": "IPY_MODEL_83d6fd1a832b455abcf226830f8a034c",
            "_dom_classes": [],
            "description": "Archivo",
            "_model_name": "CheckboxModel",
            "_view_module": "@jupyter-widgets/controls",
            "_model_module_version": "1.5.0",
            "value": true,
            "_view_count": null,
            "disabled": false,
            "_view_module_version": "1.5.0",
            "indent": true,
            "description_tooltip": null,
            "_model_module": "@jupyter-widgets/controls",
            "layout": "IPY_MODEL_5c94cdea50a54c0ca2e6f733b1cd924d"
          }
        },
        "829c780a5abc440a894fd98b9c077730": {
          "model_module": "@jupyter-widgets/controls",
          "model_name": "IntSliderModel",
          "state": {
            "_view_name": "IntSliderView",
            "style": "IPY_MODEL_0f3a5f090c3b4c7e931cccca7015ec52",
            "_dom_classes": [],
            "description": "Input_features",
            "step": 1,
            "_model_name": "IntSliderModel",
            "orientation": "horizontal",
            "max": 30,
            "_view_module": "@jupyter-widgets/controls",
            "_model_module_version": "1.5.0",
            "value": 15,
            "_view_count": null,
            "disabled": false,
            "_view_module_version": "1.5.0",
            "min": 1,
            "continuous_update": true,
            "readout_format": "d",
            "description_tooltip": null,
            "readout": true,
            "_model_module": "@jupyter-widgets/controls",
            "layout": "IPY_MODEL_00532e4d420b44eea9282ab0eaef6595"
          }
        },
        "d885f06467424e01a4f36203b70c1d67": {
          "model_module": "@jupyter-widgets/controls",
          "model_name": "IntSliderModel",
          "state": {
            "_view_name": "IntSliderView",
            "style": "IPY_MODEL_b784f84d8da84729bb65ef0d8d2a8caf",
            "_dom_classes": [],
            "description": "dias_predecir",
            "step": 1,
            "_model_name": "IntSliderModel",
            "orientation": "horizontal",
            "max": 30,
            "_view_module": "@jupyter-widgets/controls",
            "_model_module_version": "1.5.0",
            "value": 15,
            "_view_count": null,
            "disabled": false,
            "_view_module_version": "1.5.0",
            "min": 1,
            "continuous_update": true,
            "readout_format": "d",
            "description_tooltip": null,
            "readout": true,
            "_model_module": "@jupyter-widgets/controls",
            "layout": "IPY_MODEL_3ea0978159db43338e8eb1c0e09531c7"
          }
        },
        "d840862ef868445aae715f099061b8c8": {
          "model_module": "@jupyter-widgets/controls",
          "model_name": "ButtonModel",
          "state": {
            "_view_name": "ButtonView",
            "style": "IPY_MODEL_a1544f4478604234ace4d4d944ca401a",
            "_dom_classes": [],
            "description": "Run Interact",
            "_model_name": "ButtonModel",
            "button_style": "",
            "_view_module": "@jupyter-widgets/controls",
            "_model_module_version": "1.5.0",
            "tooltip": "",
            "_view_count": null,
            "disabled": false,
            "_view_module_version": "1.5.0",
            "layout": "IPY_MODEL_9931db81b8714c938a0b74abb5947ff7",
            "_model_module": "@jupyter-widgets/controls",
            "icon": ""
          }
        },
        "1a678de1e81040dbbdb47c622bbf3be2": {
          "model_module": "@jupyter-widgets/output",
          "model_name": "OutputModel",
          "state": {
            "_view_name": "OutputView",
            "msg_id": "",
            "_dom_classes": [],
            "_model_name": "OutputModel",
            "outputs": [],
            "_view_module": "@jupyter-widgets/output",
            "_model_module_version": "1.0.0",
            "_view_count": null,
            "_view_module_version": "1.0.0",
            "layout": "IPY_MODEL_4348a01ec3db42699932b7419999bfef",
            "_model_module": "@jupyter-widgets/output"
          }
        },
        "83d6fd1a832b455abcf226830f8a034c": {
          "model_module": "@jupyter-widgets/controls",
          "model_name": "DescriptionStyleModel",
          "state": {
            "_view_name": "StyleView",
            "_model_name": "DescriptionStyleModel",
            "description_width": "",
            "_view_module": "@jupyter-widgets/base",
            "_model_module_version": "1.5.0",
            "_view_count": null,
            "_view_module_version": "1.2.0",
            "_model_module": "@jupyter-widgets/controls"
          }
        },
        "5c94cdea50a54c0ca2e6f733b1cd924d": {
          "model_module": "@jupyter-widgets/base",
          "model_name": "LayoutModel",
          "state": {
            "_view_name": "LayoutView",
            "grid_template_rows": null,
            "right": null,
            "justify_content": null,
            "_view_module": "@jupyter-widgets/base",
            "overflow": null,
            "_model_module_version": "1.2.0",
            "_view_count": null,
            "flex_flow": null,
            "width": null,
            "min_width": null,
            "border": null,
            "align_items": null,
            "bottom": null,
            "_model_module": "@jupyter-widgets/base",
            "top": null,
            "grid_column": null,
            "overflow_y": null,
            "overflow_x": null,
            "grid_auto_flow": null,
            "grid_area": null,
            "grid_template_columns": null,
            "flex": null,
            "_model_name": "LayoutModel",
            "justify_items": null,
            "grid_row": null,
            "max_height": null,
            "align_content": null,
            "visibility": null,
            "align_self": null,
            "height": null,
            "min_height": null,
            "padding": null,
            "grid_auto_rows": null,
            "grid_gap": null,
            "max_width": null,
            "order": null,
            "_view_module_version": "1.2.0",
            "grid_template_areas": null,
            "object_position": null,
            "object_fit": null,
            "grid_auto_columns": null,
            "margin": null,
            "display": null,
            "left": null
          }
        },
        "0f3a5f090c3b4c7e931cccca7015ec52": {
          "model_module": "@jupyter-widgets/controls",
          "model_name": "SliderStyleModel",
          "state": {
            "_view_name": "StyleView",
            "handle_color": null,
            "_model_name": "SliderStyleModel",
            "description_width": "",
            "_view_module": "@jupyter-widgets/base",
            "_model_module_version": "1.5.0",
            "_view_count": null,
            "_view_module_version": "1.2.0",
            "_model_module": "@jupyter-widgets/controls"
          }
        },
        "00532e4d420b44eea9282ab0eaef6595": {
          "model_module": "@jupyter-widgets/base",
          "model_name": "LayoutModel",
          "state": {
            "_view_name": "LayoutView",
            "grid_template_rows": null,
            "right": null,
            "justify_content": null,
            "_view_module": "@jupyter-widgets/base",
            "overflow": null,
            "_model_module_version": "1.2.0",
            "_view_count": null,
            "flex_flow": null,
            "width": null,
            "min_width": null,
            "border": null,
            "align_items": null,
            "bottom": null,
            "_model_module": "@jupyter-widgets/base",
            "top": null,
            "grid_column": null,
            "overflow_y": null,
            "overflow_x": null,
            "grid_auto_flow": null,
            "grid_area": null,
            "grid_template_columns": null,
            "flex": null,
            "_model_name": "LayoutModel",
            "justify_items": null,
            "grid_row": null,
            "max_height": null,
            "align_content": null,
            "visibility": null,
            "align_self": null,
            "height": null,
            "min_height": null,
            "padding": null,
            "grid_auto_rows": null,
            "grid_gap": null,
            "max_width": null,
            "order": null,
            "_view_module_version": "1.2.0",
            "grid_template_areas": null,
            "object_position": null,
            "object_fit": null,
            "grid_auto_columns": null,
            "margin": null,
            "display": null,
            "left": null
          }
        },
        "b784f84d8da84729bb65ef0d8d2a8caf": {
          "model_module": "@jupyter-widgets/controls",
          "model_name": "SliderStyleModel",
          "state": {
            "_view_name": "StyleView",
            "handle_color": null,
            "_model_name": "SliderStyleModel",
            "description_width": "",
            "_view_module": "@jupyter-widgets/base",
            "_model_module_version": "1.5.0",
            "_view_count": null,
            "_view_module_version": "1.2.0",
            "_model_module": "@jupyter-widgets/controls"
          }
        },
        "3ea0978159db43338e8eb1c0e09531c7": {
          "model_module": "@jupyter-widgets/base",
          "model_name": "LayoutModel",
          "state": {
            "_view_name": "LayoutView",
            "grid_template_rows": null,
            "right": null,
            "justify_content": null,
            "_view_module": "@jupyter-widgets/base",
            "overflow": null,
            "_model_module_version": "1.2.0",
            "_view_count": null,
            "flex_flow": null,
            "width": null,
            "min_width": null,
            "border": null,
            "align_items": null,
            "bottom": null,
            "_model_module": "@jupyter-widgets/base",
            "top": null,
            "grid_column": null,
            "overflow_y": null,
            "overflow_x": null,
            "grid_auto_flow": null,
            "grid_area": null,
            "grid_template_columns": null,
            "flex": null,
            "_model_name": "LayoutModel",
            "justify_items": null,
            "grid_row": null,
            "max_height": null,
            "align_content": null,
            "visibility": null,
            "align_self": null,
            "height": null,
            "min_height": null,
            "padding": null,
            "grid_auto_rows": null,
            "grid_gap": null,
            "max_width": null,
            "order": null,
            "_view_module_version": "1.2.0",
            "grid_template_areas": null,
            "object_position": null,
            "object_fit": null,
            "grid_auto_columns": null,
            "margin": null,
            "display": null,
            "left": null
          }
        },
        "a1544f4478604234ace4d4d944ca401a": {
          "model_module": "@jupyter-widgets/controls",
          "model_name": "ButtonStyleModel",
          "state": {
            "_view_name": "StyleView",
            "_model_name": "ButtonStyleModel",
            "_view_module": "@jupyter-widgets/base",
            "_model_module_version": "1.5.0",
            "_view_count": null,
            "button_color": null,
            "font_weight": "",
            "_view_module_version": "1.2.0",
            "_model_module": "@jupyter-widgets/controls"
          }
        },
        "9931db81b8714c938a0b74abb5947ff7": {
          "model_module": "@jupyter-widgets/base",
          "model_name": "LayoutModel",
          "state": {
            "_view_name": "LayoutView",
            "grid_template_rows": null,
            "right": null,
            "justify_content": null,
            "_view_module": "@jupyter-widgets/base",
            "overflow": null,
            "_model_module_version": "1.2.0",
            "_view_count": null,
            "flex_flow": null,
            "width": null,
            "min_width": null,
            "border": null,
            "align_items": null,
            "bottom": null,
            "_model_module": "@jupyter-widgets/base",
            "top": null,
            "grid_column": null,
            "overflow_y": null,
            "overflow_x": null,
            "grid_auto_flow": null,
            "grid_area": null,
            "grid_template_columns": null,
            "flex": null,
            "_model_name": "LayoutModel",
            "justify_items": null,
            "grid_row": null,
            "max_height": null,
            "align_content": null,
            "visibility": null,
            "align_self": null,
            "height": null,
            "min_height": null,
            "padding": null,
            "grid_auto_rows": null,
            "grid_gap": null,
            "max_width": null,
            "order": null,
            "_view_module_version": "1.2.0",
            "grid_template_areas": null,
            "object_position": null,
            "object_fit": null,
            "grid_auto_columns": null,
            "margin": null,
            "display": null,
            "left": null
          }
        },
        "4348a01ec3db42699932b7419999bfef": {
          "model_module": "@jupyter-widgets/base",
          "model_name": "LayoutModel",
          "state": {
            "_view_name": "LayoutView",
            "grid_template_rows": null,
            "right": null,
            "justify_content": null,
            "_view_module": "@jupyter-widgets/base",
            "overflow": null,
            "_model_module_version": "1.2.0",
            "_view_count": null,
            "flex_flow": null,
            "width": null,
            "min_width": null,
            "border": null,
            "align_items": null,
            "bottom": null,
            "_model_module": "@jupyter-widgets/base",
            "top": null,
            "grid_column": null,
            "overflow_y": null,
            "overflow_x": null,
            "grid_auto_flow": null,
            "grid_area": null,
            "grid_template_columns": null,
            "flex": null,
            "_model_name": "LayoutModel",
            "justify_items": null,
            "grid_row": null,
            "max_height": null,
            "align_content": null,
            "visibility": null,
            "align_self": null,
            "height": null,
            "min_height": null,
            "padding": null,
            "grid_auto_rows": null,
            "grid_gap": null,
            "max_width": null,
            "order": null,
            "_view_module_version": "1.2.0",
            "grid_template_areas": null,
            "object_position": null,
            "object_fit": null,
            "grid_auto_columns": null,
            "margin": null,
            "display": null,
            "left": null
          }
        }
      }
    }
  },
  "cells": [
    {
      "cell_type": "markdown",
      "metadata": {
        "id": "view-in-github",
        "colab_type": "text"
      },
      "source": [
        "<a href=\"https://colab.research.google.com/github/aortizavila/Prueba/blob/main/TransaccionesTerminales.ipynb\" target=\"_parent\"><img src=\"https://colab.research.google.com/assets/colab-badge.svg\" alt=\"Open In Colab\"/></a>"
      ]
    },
    {
      "cell_type": "markdown",
      "metadata": {
        "id": "crwJbM_b4_45"
      },
      "source": [
        "<h1><center>Predicción volumen transaccional Entidad Bancaría.</center></h1>\n",
        "\n",
        "<p style=\"text-align: justify;\">Una entidad bancaria desea anticipar el volumen de transacciones por operación que ocurrirán en\n",
        "una ventana de tiempo de 15 días. Para llevar esta tarea a cabo se cuenta con la información de las\n",
        "operaciones realizadas en las diferentes terminales por un periodo de 4 meses.  \n",
        "El objetivo es utilizar estos datos para proporcionar a la entidad un entendimiento del\n",
        "comportamiento del volumen de transacciones por operación y por terminal, y generar\n",
        "recomendaciones que permitan soportar decisiones que optimicen la utilización de los terminales.</p>\n",
        "\n",
        "## Se realizaran los siguientes pasos:\n",
        "\n",
        "1. Exploración de datos.\n",
        "    \n",
        "    \n",
        "2. Selección de las 5 terminales y los 5 tipos de opearación.\n",
        "    \n",
        "\n",
        "3. Análisis de series temporales.\n",
        "    - Tendendia.\n",
        "    - Estacionalidad.\n",
        "    - Anomalías en la serie. \n",
        "\n",
        "\n",
        "4. Construcción de modelos de series temporales.\n",
        "    - Modelos Clásicos.\n",
        "    - Modelos supervisados:  \n",
        "        -Red Neuronal Monocapa.  \n",
        "        -XGBoots.  \n",
        "        -Series de tiempo multivariadas con Redes Neuronales.\n",
        "\n",
        "## Objetivo:\n",
        "\n",
        "<p style=\"text-align: justify;\">Construir un modelo predictivo que pueda ser utilizado para estimar la demanda diaria por\n",
        "operación en cada terminal para una ventana de tiempo de 15 días siguientes a la última\n",
        "fecha reportada en la base de información.</p>"
      ]
    },
    {
      "cell_type": "markdown",
      "metadata": {
        "id": "iZU8ZdJm4_45"
      },
      "source": [
        "# Importando datos y librerias."
      ]
    },
    {
      "cell_type": "code",
      "metadata": {
        "colab": {
          "base_uri": "https://localhost:8080/"
        },
        "id": "UuwvulJH4_45",
        "outputId": "7947e153-71de-4de8-fd18-7beb5cff0d22"
      },
      "source": [
        "import pandas as pd\n",
        "import seaborn as sns\n",
        "import ipywidgets as widgets\n",
        "import numpy as np\n",
        "from ipywidgets import interact, interact_manual\n",
        "import matplotlib.pyplot as plt\n",
        "from matplotlib.ticker import PercentFormatter\n",
        "from sklearn.metrics import mean_absolute_error\n",
        "from sklearn.metrics import mean_squared_error\n",
        "from sklearn.preprocessing import StandardScaler\n",
        "import statsmodels.formula.api as smf  \n",
        "import statsmodels.tsa.api as smt\n",
        "import statsmodels.api as sm\n",
        "import scipy.stats as scs\n",
        "from itertools import product  \n",
        "from tqdm import tqdm_notebook\n",
        "import warnings\n",
        "warnings.filterwarnings(\"ignore\")\n",
        "from tensorflow.keras.models import Sequential\n",
        "from tensorflow.keras.layers import Dense, LSTM, Dropout, RepeatVector, TimeDistributed \n",
        "import tensorflow as tf\n",
        "from sklearn.preprocessing import MinMaxScaler\n",
        "import math\n",
        "import xgboost as xg\n",
        "import json"
      ],
      "execution_count": 1,
      "outputs": [
        {
          "output_type": "stream",
          "text": [
            "/usr/local/lib/python3.6/dist-packages/statsmodels/tools/_testing.py:19: FutureWarning: pandas.util.testing is deprecated. Use the functions in the public API at pandas.testing instead.\n",
            "  import pandas.util.testing as tm\n"
          ],
          "name": "stderr"
        }
      ]
    },
    {
      "cell_type": "code",
      "metadata": {
        "colab": {
          "base_uri": "https://localhost:8080/"
        },
        "id": "CIBvqs9D57U4",
        "outputId": "af0bc743-1ec4-48c3-e336-82fbbe64ee13"
      },
      "source": [
        "from google.colab import drive\n",
        "drive.mount('/content/drive/')\n"
      ],
      "execution_count": 2,
      "outputs": [
        {
          "output_type": "stream",
          "text": [
            "Drive already mounted at /content/drive/; to attempt to forcibly remount, call drive.mount(\"/content/drive/\", force_remount=True).\n"
          ],
          "name": "stdout"
        }
      ]
    },
    {
      "cell_type": "code",
      "metadata": {
        "id": "lALxIji44_45"
      },
      "source": [
        "data=pd.read_csv('/content/drive/My Drive/Colab Notebooks/data_01.txt',sep='\\t')"
      ],
      "execution_count": 3,
      "outputs": []
    },
    {
      "cell_type": "code",
      "metadata": {
        "colab": {
          "base_uri": "https://localhost:8080/",
          "height": 204
        },
        "id": "kk_xv0OE4_45",
        "outputId": "2763be92-f784-48ce-b09b-ce4b35677724"
      },
      "source": [
        "data.head()"
      ],
      "execution_count": 4,
      "outputs": [
        {
          "output_type": "execute_result",
          "data": {
            "text/html": [
              "<div>\n",
              "<style scoped>\n",
              "    .dataframe tbody tr th:only-of-type {\n",
              "        vertical-align: middle;\n",
              "    }\n",
              "\n",
              "    .dataframe tbody tr th {\n",
              "        vertical-align: top;\n",
              "    }\n",
              "\n",
              "    .dataframe thead th {\n",
              "        text-align: right;\n",
              "    }\n",
              "</style>\n",
              "<table border=\"1\" class=\"dataframe\">\n",
              "  <thead>\n",
              "    <tr style=\"text-align: right;\">\n",
              "      <th></th>\n",
              "      <th>fecha</th>\n",
              "      <th>idTerminal</th>\n",
              "      <th>oper</th>\n",
              "    </tr>\n",
              "  </thead>\n",
              "  <tbody>\n",
              "    <tr>\n",
              "      <th>0</th>\n",
              "      <td>2017-01-31 08:19:33.000</td>\n",
              "      <td>1828</td>\n",
              "      <td>0</td>\n",
              "    </tr>\n",
              "    <tr>\n",
              "      <th>1</th>\n",
              "      <td>2017-01-31 08:47:16.000</td>\n",
              "      <td>1828</td>\n",
              "      <td>1</td>\n",
              "    </tr>\n",
              "    <tr>\n",
              "      <th>2</th>\n",
              "      <td>2017-01-31 08:48:07.000</td>\n",
              "      <td>1828</td>\n",
              "      <td>1</td>\n",
              "    </tr>\n",
              "    <tr>\n",
              "      <th>3</th>\n",
              "      <td>2017-01-31 08:48:58.000</td>\n",
              "      <td>1828</td>\n",
              "      <td>1</td>\n",
              "    </tr>\n",
              "    <tr>\n",
              "      <th>4</th>\n",
              "      <td>2017-01-31 08:49:53.000</td>\n",
              "      <td>1828</td>\n",
              "      <td>1</td>\n",
              "    </tr>\n",
              "  </tbody>\n",
              "</table>\n",
              "</div>"
            ],
            "text/plain": [
              "                     fecha  idTerminal  oper\n",
              "0  2017-01-31 08:19:33.000        1828     0\n",
              "1  2017-01-31 08:47:16.000        1828     1\n",
              "2  2017-01-31 08:48:07.000        1828     1\n",
              "3  2017-01-31 08:48:58.000        1828     1\n",
              "4  2017-01-31 08:49:53.000        1828     1"
            ]
          },
          "metadata": {
            "tags": []
          },
          "execution_count": 4
        }
      ]
    },
    {
      "cell_type": "code",
      "metadata": {
        "colab": {
          "base_uri": "https://localhost:8080/"
        },
        "id": "9fZkoGab4_46",
        "outputId": "c4624ba2-c62b-4412-f58c-25dbe60dac68"
      },
      "source": [
        "data.dtypes"
      ],
      "execution_count": 5,
      "outputs": [
        {
          "output_type": "execute_result",
          "data": {
            "text/plain": [
              "fecha         object\n",
              "idTerminal     int64\n",
              "oper           int64\n",
              "dtype: object"
            ]
          },
          "metadata": {
            "tags": []
          },
          "execution_count": 5
        }
      ]
    },
    {
      "cell_type": "markdown",
      "metadata": {
        "id": "6ZOsUsKQ4_46"
      },
      "source": [
        "#### Se procede a hacer un ajuste en los tipos de datos y a crear variables de interes para realizar los respectivos análisis."
      ]
    },
    {
      "cell_type": "code",
      "metadata": {
        "id": "G18cm1ZU4_46"
      },
      "source": [
        "data['fecha']= pd.to_datetime(data['fecha'])\n",
        "data['idTerminal']=data['idTerminal'].astype('str')\n",
        "data['oper']=data['oper'].astype('str')\n",
        "data['YYMMDD']=pd.to_datetime(data['fecha'].dt.strftime('%Y-%m-%d'))\n",
        "data['dia_semana']=data['fecha'].dt.day_name()"
      ],
      "execution_count": 6,
      "outputs": []
    },
    {
      "cell_type": "code",
      "metadata": {
        "colab": {
          "base_uri": "https://localhost:8080/"
        },
        "id": "b_NxkkFp4_46",
        "outputId": "4f5aca24-d7d2-459d-cdd0-1a6536110d20"
      },
      "source": [
        "data.dtypes"
      ],
      "execution_count": 7,
      "outputs": [
        {
          "output_type": "execute_result",
          "data": {
            "text/plain": [
              "fecha         datetime64[ns]\n",
              "idTerminal            object\n",
              "oper                  object\n",
              "YYMMDD        datetime64[ns]\n",
              "dia_semana            object\n",
              "dtype: object"
            ]
          },
          "metadata": {
            "tags": []
          },
          "execution_count": 7
        }
      ]
    },
    {
      "cell_type": "code",
      "metadata": {
        "colab": {
          "base_uri": "https://localhost:8080/",
          "height": 204
        },
        "id": "tujin0GV4_46",
        "outputId": "3f227e46-3cac-427f-e28f-1aa748a380b9"
      },
      "source": [
        "data.head()"
      ],
      "execution_count": 8,
      "outputs": [
        {
          "output_type": "execute_result",
          "data": {
            "text/html": [
              "<div>\n",
              "<style scoped>\n",
              "    .dataframe tbody tr th:only-of-type {\n",
              "        vertical-align: middle;\n",
              "    }\n",
              "\n",
              "    .dataframe tbody tr th {\n",
              "        vertical-align: top;\n",
              "    }\n",
              "\n",
              "    .dataframe thead th {\n",
              "        text-align: right;\n",
              "    }\n",
              "</style>\n",
              "<table border=\"1\" class=\"dataframe\">\n",
              "  <thead>\n",
              "    <tr style=\"text-align: right;\">\n",
              "      <th></th>\n",
              "      <th>fecha</th>\n",
              "      <th>idTerminal</th>\n",
              "      <th>oper</th>\n",
              "      <th>YYMMDD</th>\n",
              "      <th>dia_semana</th>\n",
              "    </tr>\n",
              "  </thead>\n",
              "  <tbody>\n",
              "    <tr>\n",
              "      <th>0</th>\n",
              "      <td>2017-01-31 08:19:33</td>\n",
              "      <td>1828</td>\n",
              "      <td>0</td>\n",
              "      <td>2017-01-31</td>\n",
              "      <td>Tuesday</td>\n",
              "    </tr>\n",
              "    <tr>\n",
              "      <th>1</th>\n",
              "      <td>2017-01-31 08:47:16</td>\n",
              "      <td>1828</td>\n",
              "      <td>1</td>\n",
              "      <td>2017-01-31</td>\n",
              "      <td>Tuesday</td>\n",
              "    </tr>\n",
              "    <tr>\n",
              "      <th>2</th>\n",
              "      <td>2017-01-31 08:48:07</td>\n",
              "      <td>1828</td>\n",
              "      <td>1</td>\n",
              "      <td>2017-01-31</td>\n",
              "      <td>Tuesday</td>\n",
              "    </tr>\n",
              "    <tr>\n",
              "      <th>3</th>\n",
              "      <td>2017-01-31 08:48:58</td>\n",
              "      <td>1828</td>\n",
              "      <td>1</td>\n",
              "      <td>2017-01-31</td>\n",
              "      <td>Tuesday</td>\n",
              "    </tr>\n",
              "    <tr>\n",
              "      <th>4</th>\n",
              "      <td>2017-01-31 08:49:53</td>\n",
              "      <td>1828</td>\n",
              "      <td>1</td>\n",
              "      <td>2017-01-31</td>\n",
              "      <td>Tuesday</td>\n",
              "    </tr>\n",
              "  </tbody>\n",
              "</table>\n",
              "</div>"
            ],
            "text/plain": [
              "                fecha idTerminal oper     YYMMDD dia_semana\n",
              "0 2017-01-31 08:19:33       1828    0 2017-01-31    Tuesday\n",
              "1 2017-01-31 08:47:16       1828    1 2017-01-31    Tuesday\n",
              "2 2017-01-31 08:48:07       1828    1 2017-01-31    Tuesday\n",
              "3 2017-01-31 08:48:58       1828    1 2017-01-31    Tuesday\n",
              "4 2017-01-31 08:49:53       1828    1 2017-01-31    Tuesday"
            ]
          },
          "metadata": {
            "tags": []
          },
          "execution_count": 8
        }
      ]
    },
    {
      "cell_type": "markdown",
      "metadata": {
        "id": "cVpTFpKc4_47"
      },
      "source": [
        "# Supuestos:\n",
        "\n",
        "- El volumen de transacciones por día: Corresponde al conteo de registros agrupados por día.\n",
        "- El volumen de transacciones por día y por terminal: Corresponde al conteo de registros agrupados por día y por terminal.\n",
        "- El volumen de transacciones por día y por tipo de operación: Corresponde al conteo de registros agrupados por día y por tipo de operación.\n",
        "- El volumen de transacciones por día, por terminal y por tipo de operación: Corresponde al conteo de registros agrupados por día, por terminal y por tipo de operación.\n",
        "- Missing value: Día en que no se realizó ningún tipo de transacción. El valor de volumen de transacciones para días perdidos es 0."
      ]
    },
    {
      "cell_type": "markdown",
      "metadata": {
        "id": "pNXORVcT4_47"
      },
      "source": [
        "# 1. Exploración de datos."
      ]
    },
    {
      "cell_type": "markdown",
      "metadata": {
        "id": "lUqzYO5j4_47"
      },
      "source": [
        "En este paso se va a vericar los valores que se tienen en los datos y si por diferentes agrupaciones de interes se tienen missing values."
      ]
    },
    {
      "cell_type": "markdown",
      "metadata": {
        "id": "0udTIjBy4_47"
      },
      "source": [
        "## Missing values de forma general "
      ]
    },
    {
      "cell_type": "code",
      "metadata": {
        "colab": {
          "base_uri": "https://localhost:8080/"
        },
        "id": "cy4K2A8I4_47",
        "outputId": "59f76bfa-1c0c-4802-b157-e92c6d836a08"
      },
      "source": [
        "data.info()"
      ],
      "execution_count": 9,
      "outputs": [
        {
          "output_type": "stream",
          "text": [
            "<class 'pandas.core.frame.DataFrame'>\n",
            "RangeIndex: 775466 entries, 0 to 775465\n",
            "Data columns (total 5 columns):\n",
            " #   Column      Non-Null Count   Dtype         \n",
            "---  ------      --------------   -----         \n",
            " 0   fecha       775466 non-null  datetime64[ns]\n",
            " 1   idTerminal  775466 non-null  object        \n",
            " 2   oper        775466 non-null  object        \n",
            " 3   YYMMDD      775466 non-null  datetime64[ns]\n",
            " 4   dia_semana  775466 non-null  object        \n",
            "dtypes: datetime64[ns](2), object(3)\n",
            "memory usage: 29.6+ MB\n"
          ],
          "name": "stdout"
        }
      ]
    },
    {
      "cell_type": "markdown",
      "metadata": {
        "id": "Pcq_NQus4_47"
      },
      "source": [
        "#### La información de manera general no tiene valores null en ninguno de sus campos. Se debe verificar para diferentes agrupaciónes de la información."
      ]
    },
    {
      "cell_type": "markdown",
      "metadata": {
        "id": "rtY_sup54_47"
      },
      "source": [
        "## Missing values agrupados por día y por tipo de operación."
      ]
    },
    {
      "cell_type": "code",
      "metadata": {
        "colab": {
          "base_uri": "https://localhost:8080/"
        },
        "id": "zs4OAmGo4_47",
        "outputId": "0d66c0eb-f5eb-425a-fdfd-e9e2167a40de"
      },
      "source": [
        "pivot_table = pd.pivot_table(data,values='idTerminal',index='YYMMDD',columns='oper', aggfunc='count')\n",
        "pivot_table.reset_index(inplace=True)\n",
        "pivot_table=pivot_table.sort_values(by='YYMMDD', ascending=True)\n",
        "pivot_table.info()"
      ],
      "execution_count": 10,
      "outputs": [
        {
          "output_type": "stream",
          "text": [
            "<class 'pandas.core.frame.DataFrame'>\n",
            "Int64Index: 121 entries, 0 to 120\n",
            "Data columns (total 47 columns):\n",
            " #   Column  Non-Null Count  Dtype         \n",
            "---  ------  --------------  -----         \n",
            " 0   YYMMDD  121 non-null    datetime64[ns]\n",
            " 1   0       121 non-null    float64       \n",
            " 2   1       121 non-null    float64       \n",
            " 3   10      121 non-null    float64       \n",
            " 4   11      82 non-null     float64       \n",
            " 5   12      121 non-null    float64       \n",
            " 6   13      116 non-null    float64       \n",
            " 7   14      121 non-null    float64       \n",
            " 8   15      92 non-null     float64       \n",
            " 9   16      92 non-null     float64       \n",
            " 10  17      21 non-null     float64       \n",
            " 11  18      84 non-null     float64       \n",
            " 12  19      116 non-null    float64       \n",
            " 13  2       121 non-null    float64       \n",
            " 14  20      59 non-null     float64       \n",
            " 15  21      117 non-null    float64       \n",
            " 16  22      25 non-null     float64       \n",
            " 17  23      99 non-null     float64       \n",
            " 18  24      53 non-null     float64       \n",
            " 19  25      95 non-null     float64       \n",
            " 20  26      109 non-null    float64       \n",
            " 21  27      11 non-null     float64       \n",
            " 22  28      65 non-null     float64       \n",
            " 23  29      20 non-null     float64       \n",
            " 24  3       121 non-null    float64       \n",
            " 25  30      3 non-null      float64       \n",
            " 26  31      43 non-null     float64       \n",
            " 27  32      18 non-null     float64       \n",
            " 28  33      1 non-null      float64       \n",
            " 29  34      21 non-null     float64       \n",
            " 30  35      15 non-null     float64       \n",
            " 31  36      22 non-null     float64       \n",
            " 32  37      5 non-null      float64       \n",
            " 33  38      13 non-null     float64       \n",
            " 34  39      18 non-null     float64       \n",
            " 35  4       121 non-null    float64       \n",
            " 36  40      5 non-null      float64       \n",
            " 37  41      14 non-null     float64       \n",
            " 38  42      5 non-null      float64       \n",
            " 39  43      2 non-null      float64       \n",
            " 40  44      3 non-null      float64       \n",
            " 41  45      1 non-null      float64       \n",
            " 42  5       121 non-null    float64       \n",
            " 43  6       121 non-null    float64       \n",
            " 44  7       121 non-null    float64       \n",
            " 45  8       121 non-null    float64       \n",
            " 46  9       121 non-null    float64       \n",
            "dtypes: datetime64[ns](1), float64(46)\n",
            "memory usage: 45.4 KB\n"
          ],
          "name": "stdout"
        }
      ]
    },
    {
      "cell_type": "markdown",
      "metadata": {
        "id": "XGI1OVb24_47"
      },
      "source": [
        "#### En este caso se puede observar que hay tipos de operación que no se realizan todos los días. Podemos generar una lista dinámica que permita filtrar por terminal aquellos tipos de operaciones que no realizan transacciones todos los días."
      ]
    },
    {
      "cell_type": "code",
      "metadata": {
        "colab": {
          "base_uri": "https://localhost:8080/",
          "height": 559,
          "referenced_widgets": [
            "554143c817b44b29b8718ea111e08094",
            "9252015ea0264a77bd91ec5034fae3fd",
            "5ad13f754ca4466aa19e00e4747a65e9",
            "8e09d5b829e64196becc1330f02f1f54",
            "8ff06f7cea0d4484bcee6cc0941976e7",
            "66c78ab4ce08415f85f5b129af99eb74",
            "f82cdf772a864ff4a0a55265f1f2f1df"
          ]
        },
        "id": "bBoaUz-D4_47",
        "outputId": "c0ca0ab1-b0fa-4401-be54-125a6dc0edd8"
      },
      "source": [
        "@interact\n",
        "def missin_values(idTerminal=data['idTerminal'].unique()):\n",
        "    info = data[data['idTerminal']==idTerminal]\n",
        "    pivot_table = pd.pivot_table(info,values='idTerminal',index='YYMMDD',columns='oper', aggfunc='count')\n",
        "    pivot_table.reset_index(inplace=True)\n",
        "    pivot_table=pivot_table.sort_values(by='YYMMDD', ascending=True)\n",
        "    return 'El tipo de operación ' + pivot_table.columns[pivot_table.isnull().any()]+' tienen missing values'\n",
        "\n"
      ],
      "execution_count": 11,
      "outputs": [
        {
          "output_type": "display_data",
          "data": {
            "application/vnd.jupyter.widget-view+json": {
              "model_id": "554143c817b44b29b8718ea111e08094",
              "version_minor": 0,
              "version_major": 2
            },
            "text/plain": [
              "interactive(children=(Dropdown(description='idTerminal', options=('1828', '1593', '1746', '1759', '1882', '191…"
            ]
          },
          "metadata": {
            "tags": []
          }
        }
      ]
    },
    {
      "cell_type": "markdown",
      "metadata": {
        "id": "_L3tTOdb4_47"
      },
      "source": [
        "## Missing values agrupados por día y por terminal."
      ]
    },
    {
      "cell_type": "code",
      "metadata": {
        "colab": {
          "base_uri": "https://localhost:8080/"
        },
        "id": "4fPoTOf24_48",
        "outputId": "3761dfd3-13ca-485f-968b-806a66020b2d"
      },
      "source": [
        "pivot_table = pd.pivot_table(data,values='oper',index='YYMMDD',columns='idTerminal', aggfunc='count')\n",
        "pivot_table.reset_index(inplace=True)\n",
        "pivot_table=pivot_table.sort_values(by='YYMMDD', ascending=True)\n",
        "pivot_table.info()"
      ],
      "execution_count": 12,
      "outputs": [
        {
          "output_type": "stream",
          "text": [
            "<class 'pandas.core.frame.DataFrame'>\n",
            "Int64Index: 121 entries, 0 to 120\n",
            "Data columns (total 48 columns):\n",
            " #   Column  Non-Null Count  Dtype         \n",
            "---  ------  --------------  -----         \n",
            " 0   YYMMDD  121 non-null    datetime64[ns]\n",
            " 1   1507    121 non-null    float64       \n",
            " 2   1515    46 non-null     float64       \n",
            " 3   1537    120 non-null    float64       \n",
            " 4   1574    121 non-null    float64       \n",
            " 5   1575    121 non-null    float64       \n",
            " 6   1577    120 non-null    float64       \n",
            " 7   1582    121 non-null    float64       \n",
            " 8   1593    121 non-null    float64       \n",
            " 9   1594    119 non-null    float64       \n",
            " 10  1597    104 non-null    float64       \n",
            " 11  1741    121 non-null    float64       \n",
            " 12  1746    121 non-null    float64       \n",
            " 13  1759    120 non-null    float64       \n",
            " 14  1772    121 non-null    float64       \n",
            " 15  1774    121 non-null    float64       \n",
            " 16  1805    121 non-null    float64       \n",
            " 17  1816    120 non-null    float64       \n",
            " 18  1824    121 non-null    float64       \n",
            " 19  1827    121 non-null    float64       \n",
            " 20  1828    109 non-null    float64       \n",
            " 21  1864    120 non-null    float64       \n",
            " 22  1875    120 non-null    float64       \n",
            " 23  1882    121 non-null    float64       \n",
            " 24  1896    116 non-null    float64       \n",
            " 25  1908    121 non-null    float64       \n",
            " 26  1910    121 non-null    float64       \n",
            " 27  1919    121 non-null    float64       \n",
            " 28  1922    120 non-null    float64       \n",
            " 29  1928    121 non-null    float64       \n",
            " 30  1929    120 non-null    float64       \n",
            " 31  1944    121 non-null    float64       \n",
            " 32  1946    121 non-null    float64       \n",
            " 33  1953    119 non-null    float64       \n",
            " 34  1963    67 non-null     float64       \n",
            " 35  1964    120 non-null    float64       \n",
            " 36  1971    120 non-null    float64       \n",
            " 37  1973    120 non-null    float64       \n",
            " 38  1980    121 non-null    float64       \n",
            " 39  1981    121 non-null    float64       \n",
            " 40  1986    117 non-null    float64       \n",
            " 41  1987    121 non-null    float64       \n",
            " 42  1991    119 non-null    float64       \n",
            " 43  1993    121 non-null    float64       \n",
            " 44  1994    116 non-null    float64       \n",
            " 45  1995    121 non-null    float64       \n",
            " 46  1996    121 non-null    float64       \n",
            " 47  1997    121 non-null    float64       \n",
            "dtypes: datetime64[ns](1), float64(47)\n",
            "memory usage: 46.3 KB\n"
          ],
          "name": "stdout"
        }
      ]
    },
    {
      "cell_type": "markdown",
      "metadata": {
        "id": "CbfoOq_T4_48"
      },
      "source": [
        "#### En este caso se puede observar que hay terminales que no realizan transacciones todos los días. Podemos generar una lista dinámica que permita filtrar por tipo de operación aquellas terminales que no realizan transacciones todos los días."
      ]
    },
    {
      "cell_type": "code",
      "metadata": {
        "colab": {
          "base_uri": "https://localhost:8080/",
          "height": 474,
          "referenced_widgets": [
            "281ca707eeba4ad1894a2f6f74a5daeb",
            "665778dff7724c049fd3135a4ed82d28",
            "0b1daa927c0d4859a8e35dabb36048e2",
            "a413e9e7f69b46b3b3c9f3c83b270e59",
            "74d5f7d92be94f7c89b9f21a11c8b2b2",
            "ca08cefdac2249f184c82c1c75288374",
            "f72f426572414323b612a30e4e9ac323"
          ]
        },
        "id": "GLZdxUM_4_48",
        "outputId": "e8569434-ec10-460d-b712-95f82c26200a"
      },
      "source": [
        "@interact\n",
        "def missing_values_(Tipo_Operacion=data['oper'].unique()):\n",
        "    info = data[data['oper']==Tipo_Operacion]\n",
        "    pivot_table = pd.pivot_table(info,values='oper',index='YYMMDD',columns='idTerminal', aggfunc='count')\n",
        "    pivot_table.reset_index(inplace=True)\n",
        "    pivot_table=pivot_table.sort_values(by='YYMMDD', ascending=True)\n",
        "    return 'La terminal ' + pivot_table.columns[pivot_table.isnull().any()]+' tienen missing values'\n"
      ],
      "execution_count": 13,
      "outputs": [
        {
          "output_type": "display_data",
          "data": {
            "application/vnd.jupyter.widget-view+json": {
              "model_id": "281ca707eeba4ad1894a2f6f74a5daeb",
              "version_minor": 0,
              "version_major": 2
            },
            "text/plain": [
              "interactive(children=(Dropdown(description='Tipo_Operacion', options=('0', '1', '2', '3', '4', '5', '6', '7', …"
            ]
          },
          "metadata": {
            "tags": []
          }
        }
      ]
    },
    {
      "cell_type": "markdown",
      "metadata": {
        "id": "6N6U3m9I4_48"
      },
      "source": [
        "#### De acuerdo a la información anterior concluimos que no todas las terminales hacen transacciones todos los días y que no todos los tipos de operación se realican todos los días. Esto sugiere que podemos realizar una matriz de terminales vs tipos de operación, para identificar el comportamiento díario de los tipos de operación por terminal y mirar cuales son las que más días tiene faltantes o que las transacciones son 0."
      ]
    },
    {
      "cell_type": "markdown",
      "metadata": {
        "id": "hgJrvz4b4_48"
      },
      "source": [
        "# 2. Selección de las 5 terminales y los 5 tipos de opearación."
      ]
    },
    {
      "cell_type": "markdown",
      "metadata": {
        "id": "SViF3lMX4_48"
      },
      "source": [
        "## Construcción matriz de terminales versus tipos de operación, contando días faltantes (días en que el volumen de transacciones es 0)."
      ]
    },
    {
      "cell_type": "code",
      "metadata": {
        "colab": {
          "base_uri": "https://localhost:8080/",
          "height": 847
        },
        "id": "IXfSQ3xn4_48",
        "outputId": "f080eeac-35b6-4067-ce55-ed4efb73e189"
      },
      "source": [
        "sns.set(rc={'figure.figsize':(18,15)})\n",
        "pivot_table_ = pd.pivot_table(data,values='dia_semana',index=['YYMMDD','idTerminal'],columns='oper', aggfunc='count')\n",
        "pivot_table_[pivot_table_>0]=0\n",
        "pivot_table_.fillna(1,inplace=True)\n",
        "pivot_table_.reset_index(inplace=True)\n",
        "pivot_table_.drop(columns=['YYMMDD'],inplace=True)\n",
        "dicts = {}\n",
        "keys = pivot_table_.columns[1:]\n",
        "values=['sum' for a in range(1,len(pivot_table_.columns[1:]))]\n",
        "for i in keys:\n",
        "    for x in values:\n",
        "        dicts[i] = x\n",
        "pivot_table_=pivot_table_.groupby('idTerminal').agg(dicts)\n",
        "ax = sns.heatmap(pivot_table_, annot=False,cbar_kws={'label': 'Días Faltantes'})\n",
        "plt.title('Días Faltantes por Terminal y por Tipo de Operación', fontsize = 20)\n",
        "plt.xlabel('Tipo de Operación', fontsize = 15)\n",
        "plt.ylabel('idTerminal', fontsize = 15)\n",
        "plt.show()\n"
      ],
      "execution_count": 14,
      "outputs": [
        {
          "output_type": "display_data",
          "data": {
            "image/png": "[encoded data removed]",
            "text/plain": [
              "<Figure size 1296x1080 with 2 Axes>"
            ]
          },
          "metadata": {
            "tags": []
          }
        }
      ]
    },
    {
      "cell_type": "markdown",
      "metadata": {
        "id": "bnMYVaTq4_48"
      },
      "source": [
        "#### La matriz indica que son pocos los tipos de operación que realmente se realizan casi de manera diaria. Al contrarío de las terminales que realizan transacciones de manera similar todos los días por tipo de operación, aunque hay 4 terminales (1515, 1597, 1828, 1963) que tienen menos días faltantes (días en que la cantidad de transacciones es 0 por tipo de operación). Esta matríz se puede reforzar con unos gráficos de pareto para verificar si hay tipos de transacción que concentren mas cantidad de transacciones al igual que si hay terminales que concentren más transacciones que otras. Antes de realizar los gráficos se mirará la relación del tipo de operación por cantidad de transacciones."
      ]
    },
    {
      "cell_type": "markdown",
      "metadata": {
        "id": "kOYgl7CO4_48"
      },
      "source": [
        "## Relación de la cantidad de transacciones con el tipo de operación. Validación de la distribución de los datos por tipo de operación y si cada una tiene outliers"
      ]
    },
    {
      "cell_type": "code",
      "metadata": {
        "colab": {
          "base_uri": "https://localhost:8080/",
          "height": 204
        },
        "id": "iuHbORst4_48",
        "outputId": "bfa00b1a-80af-4bbb-8211-d8481071ba24"
      },
      "source": [
        "tabla = data.groupby(['YYMMDD','oper']).agg({'idTerminal':'count'})\n",
        "tabla.rename(columns={'idTerminal':'Cantidad Transacciones'},inplace=True)\n",
        "tabla.reset_index(inplace=True)\n",
        "tabla.head()"
      ],
      "execution_count": 15,
      "outputs": [
        {
          "output_type": "execute_result",
          "data": {
            "text/html": [
              "<div>\n",
              "<style scoped>\n",
              "    .dataframe tbody tr th:only-of-type {\n",
              "        vertical-align: middle;\n",
              "    }\n",
              "\n",
              "    .dataframe tbody tr th {\n",
              "        vertical-align: top;\n",
              "    }\n",
              "\n",
              "    .dataframe thead th {\n",
              "        text-align: right;\n",
              "    }\n",
              "</style>\n",
              "<table border=\"1\" class=\"dataframe\">\n",
              "  <thead>\n",
              "    <tr style=\"text-align: right;\">\n",
              "      <th></th>\n",
              "      <th>YYMMDD</th>\n",
              "      <th>oper</th>\n",
              "      <th>Cantidad Transacciones</th>\n",
              "    </tr>\n",
              "  </thead>\n",
              "  <tbody>\n",
              "    <tr>\n",
              "      <th>0</th>\n",
              "      <td>2017-01-31</td>\n",
              "      <td>0</td>\n",
              "      <td>3329</td>\n",
              "    </tr>\n",
              "    <tr>\n",
              "      <th>1</th>\n",
              "      <td>2017-01-31</td>\n",
              "      <td>1</td>\n",
              "      <td>700</td>\n",
              "    </tr>\n",
              "    <tr>\n",
              "      <th>2</th>\n",
              "      <td>2017-01-31</td>\n",
              "      <td>10</td>\n",
              "      <td>46</td>\n",
              "    </tr>\n",
              "    <tr>\n",
              "      <th>3</th>\n",
              "      <td>2017-01-31</td>\n",
              "      <td>11</td>\n",
              "      <td>1</td>\n",
              "    </tr>\n",
              "    <tr>\n",
              "      <th>4</th>\n",
              "      <td>2017-01-31</td>\n",
              "      <td>12</td>\n",
              "      <td>8</td>\n",
              "    </tr>\n",
              "  </tbody>\n",
              "</table>\n",
              "</div>"
            ],
            "text/plain": [
              "      YYMMDD oper  Cantidad Transacciones\n",
              "0 2017-01-31    0                    3329\n",
              "1 2017-01-31    1                     700\n",
              "2 2017-01-31   10                      46\n",
              "3 2017-01-31   11                       1\n",
              "4 2017-01-31   12                       8"
            ]
          },
          "metadata": {
            "tags": []
          },
          "execution_count": 15
        }
      ]
    },
    {
      "cell_type": "code",
      "metadata": {
        "colab": {
          "base_uri": "https://localhost:8080/",
          "height": 816
        },
        "id": "OEX8XprO4_48",
        "outputId": "02ebb6f1-f961-4a10-ee35-a60c94a2207b"
      },
      "source": [
        "sns.boxplot(x='oper', y='Cantidad Transacciones',data=tabla)\n",
        "plt.xlabel('Tipo de Operación', fontsize = 15)\n",
        "plt.ylabel('Cantidad de Transacciones', fontsize = 15)\n",
        "plt.title('Boxplot Cantidad de transacciones Tipo de Operación', fontsize = 20)"
      ],
      "execution_count": 16,
      "outputs": [
        {
          "output_type": "execute_result",
          "data": {
            "text/plain": [
              "Text(0.5, 1.0, 'Boxplot Cantidad de transacciones Tipo de Operación')"
            ]
          },
          "metadata": {
            "tags": []
          },
          "execution_count": 16
        },
        {
          "output_type": "display_data",
          "data": {
            "image/png": "[encoded data removed]",
            "text/plain": [
              "<Figure size 1296x1080 with 1 Axes>"
            ]
          },
          "metadata": {
            "tags": []
          }
        }
      ]
    },
    {
      "cell_type": "markdown",
      "metadata": {
        "id": "mRZLNLOi4_48"
      },
      "source": [
        "#### Se identifica una concentración de valumen de transacciones en 6 o 7 tipos de operación. También se identifican que son pocos los valores atípicos por tipo de operación, es decir son pocos los días que salen del comportamiento normal de la serie de tiempo."
      ]
    },
    {
      "cell_type": "markdown",
      "metadata": {
        "id": "QlSfpLDd4_48"
      },
      "source": [
        "# Construcción de gráficas de pareto para terminales y tipo de operaciones."
      ]
    },
    {
      "cell_type": "code",
      "metadata": {
        "id": "k8JbVKqt4_48"
      },
      "source": [
        "data1 = data.groupby('oper').agg({'idTerminal':'count'})\n",
        "data2 = data.groupby('idTerminal').agg({'oper':'count'})\n",
        "data1.rename(columns={'idTerminal':'Cantidad de Transacciones'},inplace=True)\n",
        "data2.rename(columns={'oper':'Cantidad de Transacciones'},inplace=True)"
      ],
      "execution_count": 17,
      "outputs": []
    },
    {
      "cell_type": "code",
      "metadata": {
        "colab": {
          "base_uri": "https://localhost:8080/",
          "height": 750
        },
        "id": "AGzckHzw4_48",
        "outputId": "cb0e7994-f482-4a60-aada-64bdfdc66d39"
      },
      "source": [
        "data1 = data1.sort_values(by='Cantidad de Transacciones',ascending=False)\n",
        "data1[\"Porcentaje\"] = data1[\"Cantidad de Transacciones\"].cumsum()/data1[\"Cantidad de Transacciones\"].sum()*100\n",
        "\n",
        "fig, ax = plt.subplots()\n",
        "ax.bar(data1.index, data1[\"Cantidad de Transacciones\"], color=\"C0\")\n",
        "ax2 = ax.twinx()\n",
        "ax2.plot(data1.index, data1[\"Porcentaje\"], color=\"C1\", marker=\"D\", ms=7)\n",
        "ax2.yaxis.set_major_formatter(PercentFormatter())\n",
        "\n",
        "ax.tick_params(axis=\"y\", colors=\"C0\")\n",
        "ax2.tick_params(axis=\"y\", colors=\"C1\")\n",
        "plt.title('Pareto de Cantidad de Transacciones por Tipo de Operación',fontsize = 20)\n",
        "plt.show()"
      ],
      "execution_count": 18,
      "outputs": [
        {
          "output_type": "display_data",
          "data": {
            "image/png": "[encoded data removed]",
            "text/plain": [
              "<Figure size 1296x1080 with 2 Axes>"
            ]
          },
          "metadata": {
            "tags": []
          }
        }
      ]
    },
    {
      "cell_type": "code",
      "metadata": {
        "colab": {
          "base_uri": "https://localhost:8080/",
          "height": 763
        },
        "id": "ypr-d7844_48",
        "outputId": "43097fa9-f14b-43f7-fde4-346973cd41dd"
      },
      "source": [
        "data2 = data2.sort_values(by='Cantidad de Transacciones',ascending=False)\n",
        "data2[\"Porcentaje\"] = data2[\"Cantidad de Transacciones\"].cumsum()/data2[\"Cantidad de Transacciones\"].sum()*100\n",
        "\n",
        "fig, ax = plt.subplots()\n",
        "ax.bar(data2.index, data2[\"Cantidad de Transacciones\"], color=\"C0\")\n",
        "plt.xticks(rotation='vertical')\n",
        "ax2 = ax.twinx()\n",
        "ax2.plot(data2.index, data2[\"Porcentaje\"], color=\"C1\", marker=\"D\", ms=7)\n",
        "ax2.yaxis.set_major_formatter(PercentFormatter())\n",
        "\n",
        "ax.tick_params(axis=\"y\", colors=\"C0\")\n",
        "ax2.tick_params(axis=\"y\", colors=\"C1\")\n",
        "plt.title('Pareto de Cantidad de Transacciones por Terminal',fontsize = 20)\n",
        "plt.ylabel('Cantidad de Transacciones', fontsize = 15)\n",
        "plt.show()"
      ],
      "execution_count": 19,
      "outputs": [
        {
          "output_type": "display_data",
          "data": {
            "image/png": "[encoded data removed]",
            "text/plain": [
              "<Figure size 1296x1080 with 2 Axes>"
            ]
          },
          "metadata": {
            "tags": []
          }
        }
      ]
    },
    {
      "cell_type": "markdown",
      "metadata": {
        "id": "6w6kcMXA4_49"
      },
      "source": [
        "#### Selección de terminales y tipos de operación.\n",
        "\n",
        "La selección de los tipos de operación se hace basado en que solo son 6 las terminales con las que se logra el 90% del volumen transaccional de la entidad bancaria. Por lo tanto al elegir los 5 primeros tipos de operación de la gráfica de pareto 1, estamos asegurando trabajar o predecir el 90% del volumen transaccional. \n",
        "\n",
        "La selección de las terminales no es tan diciente como en el gráfico de pareto por tipo de operación, pero al igual que este, se van a tomas los 5 más representativos en volumen transacional."
      ]
    },
    {
      "cell_type": "markdown",
      "metadata": {
        "id": "zT67jR2S4_49"
      },
      "source": [
        "# 3. Analisis de series de tiempo elegidas"
      ]
    },
    {
      "cell_type": "markdown",
      "metadata": {
        "id": "ZcVwqRVe4_49"
      },
      "source": [
        "En este paso se analizaran las 10 series de tiempo elegidas, para identificar sus caracteríscticas y que sirvan como insumo para la constraucción de diferentes modelos."
      ]
    },
    {
      "cell_type": "code",
      "metadata": {
        "id": "XdGODFnv4_49"
      },
      "source": [
        "data_series = data.copy()"
      ],
      "execution_count": 20,
      "outputs": []
    },
    {
      "cell_type": "markdown",
      "metadata": {
        "id": "BXYeXdhS4_49"
      },
      "source": [
        "Filtrando por las 5 terminales elegidas y los 5 tipos de operación elegidos."
      ]
    },
    {
      "cell_type": "code",
      "metadata": {
        "id": "ukQbA8YV4_49"
      },
      "source": [
        "operaciones=[a for a in data1.index[0:5].values]\n",
        "terminales=[a for a in data2.index[0:5].values]"
      ],
      "execution_count": 21,
      "outputs": []
    },
    {
      "cell_type": "code",
      "metadata": {
        "id": "tp3nhJ6T4_49"
      },
      "source": [
        "data_series = data_series[(data_series['oper'].isin(operaciones))&(data_series['idTerminal'].isin(terminales))]\n",
        "data_series.reset_index(inplace=True,drop=True)"
      ],
      "execution_count": 22,
      "outputs": []
    },
    {
      "cell_type": "markdown",
      "metadata": {
        "id": "z3ekrgUh4_49"
      },
      "source": [
        "Se construyen 4 funciones con el siguiente objetivo:\n",
        "\n",
        "- Gráfica de promedios móviles: Permitirá identificar tendencia de la seríe. También se incluye una variación de la ventada temporal que ayudará a identificar posibles comportamientos estacioneales.\n",
        "- Gráficas de auto correlación y autocorrelación parcial: Permitiran ver la relación de la serie temporal con diferentes corrimientos en el tiempo, o desfases temporales e identificar valores pico de autocorrelación.\n",
        "- Grafica de descomposición: Permitirá descomponer o caractarizar la serie de tiempo, como herramienta visual para ver tendencia, estacionalidad, ruido.\n",
        "- Se realiza una prueba de Dickey-Fuller para con un grado de certeza del 95% decir si la serie tiene raiz unitaria y definir si tiene o no estacionalidad y de esta forma usar un modelo ARIMA o SARIMA."
      ]
    },
    {
      "cell_type": "code",
      "metadata": {
        "id": "zLtD8D4S4_49"
      },
      "source": [
        "def plotPromedioMovil(series, window, plot_intervals=False, scale=1.96, \n",
        "                      plot_anomalies=False):\n",
        "\n",
        "    rolling_mean = series.rolling(window=window).mean()\n",
        "\n",
        "    plt.figure(figsize=(15,5))\n",
        "    plt.title(\"Media Movil\\n Tamaño de la ventana = {}\".format(window))\n",
        "    plt.plot(rolling_mean, \"g\", label=\"Tendencia Media Móvil\")\n",
        "\n",
        "    if plot_intervals:\n",
        "        mae = mean_absolute_error(series[window:], rolling_mean[window:])\n",
        "        deviation = np.std(series[window:] - rolling_mean[window:])\n",
        "        lower_bond = rolling_mean - (mae + scale * deviation)\n",
        "        upper_bond = rolling_mean + (mae + scale * deviation)\n",
        "        plt.plot(upper_bond, \"r--\", label=\"Límite Superior / Límite Inferior\")\n",
        "        plt.plot(lower_bond, \"r--\")\n",
        "        \n",
        "        if plot_anomalies:\n",
        "            anomalies = pd.DataFrame(index=series.index, columns=series.columns)\n",
        "            anomalies[series<lower_bond] = series[series<lower_bond]\n",
        "            anomalies[series>upper_bond] = series[series>upper_bond]\n",
        "            plt.plot(anomalies, \"ro\", markersize=10)\n",
        "        \n",
        "    plt.plot(series[window:], label=\"Valores Actuales\")\n",
        "    plt.legend(loc=\"upper left\")\n",
        "    plt.grid(True)"
      ],
      "execution_count": 23,
      "outputs": []
    },
    {
      "cell_type": "code",
      "metadata": {
        "id": "zumc2qm14_49"
      },
      "source": [
        "def tsplot(y, lags=None, figsize=(13, 5), style='bmh'):\n",
        "    if not isinstance(y, pd.Series):\n",
        "        y = pd.Series(y)\n",
        "        \n",
        "    with plt.style.context(style):    \n",
        "        fig = plt.figure(figsize=figsize)\n",
        "        layout = (2, 2)\n",
        "        acf_ax = plt.subplot2grid(layout, (1, 0))\n",
        "        pacf_ax = plt.subplot2grid(layout, (1, 1))\n",
        "        smt.graphics.plot_acf(y, lags=lags, ax=acf_ax)\n",
        "        smt.graphics.plot_pacf(y, lags=lags, ax=pacf_ax)\n",
        "        plt.tight_layout()"
      ],
      "execution_count": 24,
      "outputs": []
    },
    {
      "cell_type": "code",
      "metadata": {
        "id": "Umx2RNQA4_49"
      },
      "source": [
        "def tsplot_(y, lags=None, figsize=(13, 5), style='bmh'):\n",
        "    if not isinstance(y, pd.Series):\n",
        "        y = pd.Series(y)\n",
        "        \n",
        "    with plt.style.context(style):    \n",
        "        fig = plt.figure(figsize=figsize)\n",
        "        layout = (2, 2)\n",
        "        ts_ax = plt.subplot2grid(layout, (0, 0), colspan=2)\n",
        "        acf_ax = plt.subplot2grid(layout, (1, 0))\n",
        "        pacf_ax = plt.subplot2grid(layout, (1, 1))\n",
        "        \n",
        "        y.plot(ax=ts_ax)\n",
        "        p_value = sm.tsa.stattools.adfuller(y)[1]\n",
        "        ts_ax.set_title('Tunning Serie de Tiempo\\n Dickey-Fuller: p={0:.5f}'.format(p_value))\n",
        "        smt.graphics.plot_acf(y, lags=lags, ax=acf_ax)\n",
        "        smt.graphics.plot_pacf(y, lags=lags, ax=pacf_ax)\n",
        "        plt.tight_layout()"
      ],
      "execution_count": 25,
      "outputs": []
    },
    {
      "cell_type": "code",
      "metadata": {
        "colab": {
          "base_uri": "https://localhost:8080/",
          "height": 1000,
          "referenced_widgets": [
            "1836801afa6a40c9b74a37a09eadff1d",
            "512c4ab3024d46ce93c901b8f19740a8",
            "470ac7c80a8346ae917dc5ecbc4be957",
            "2655cb255f504914aa64b84ae3f31c4d",
            "8cccc6ebddba4bd79a1bac039168d1b3",
            "45b12c1fed474a19aee0dd0aa360e2fa",
            "bef38d345f2a4e689973be110b474070",
            "34266b5b33bc4eb19e75ca1a0f80ada1",
            "d611ddbf5f0245cb94f8b071a16a413d",
            "fec429bc974d44489c7b2126784a93ca",
            "8d9cac37f898416a8bd880e0a3fe1a80",
            "d410d6c2b5914f0bb3b58c3a80c997b6",
            "73812c6467074c168f2ee7c052266b3c"
          ]
        },
        "id": "bZ3ZkLh54_49",
        "outputId": "b901cffd-18c6-4700-bf11-7201a39f7009"
      },
      "source": [
        "@interact\n",
        "def series_analisis(Terminal=data_series['idTerminal'].unique(),Operacion=data_series['oper'].unique(),window=(1, 30, 1)):\n",
        "    info = data_series[(data_series['idTerminal']==Terminal)&(data_series['oper']==Operacion)]\n",
        "    tabla = info.groupby(['YYMMDD','idTerminal','oper']).agg({'dia_semana':'count'}).reset_index()\n",
        "    tabla.rename(columns={'dia_semana':'Cantidad Transacciones'},inplace=True)\n",
        "    pivot_table = pd.pivot_table(tabla,values='Cantidad Transacciones',index='YYMMDD',columns='oper', aggfunc=np.sum)\n",
        "    pivot_table.rename(columns={Operacion:'Cantidad Transacciones'},inplace=True)\n",
        "    idx = pd.date_range(pivot_table.index.min(), pivot_table.index.max())\n",
        "    pivot_table=pivot_table.reindex(idx, fill_value=0)\n",
        "    X = pivot_table['Cantidad Transacciones'].values\n",
        "    result = sm.tsa.stattools.adfuller(X)\n",
        "    if result[1]<0.05: \n",
        "        rta='Rechazo H0. La serie de tiempo No tiene una raíz unitaria, entonces es estacionaria'\n",
        "    else:\n",
        "        rta='No Rechazo Ho. La serie de tiempo tiene una raíz unitaria, entonces no es estacionaria'\n",
        "    print('')\n",
        "    print('Prueba de Dickey-Fuller test')\n",
        "    print('ADF Statistic: %f' % result[0])\n",
        "    print('p-value: %f' % result[1])\n",
        "    print(rta)\n",
        "    descomposicion = sm.tsa.seasonal_decompose(pivot_table['Cantidad Transacciones'],model='additive')  \n",
        " \n",
        "    return plotPromedioMovil(pivot_table,window,plot_intervals=True, plot_anomalies=True),tsplot(pivot_table['Cantidad Transacciones'], lags=59),descomposicion.plot()\n"
      ],
      "execution_count": 40,
      "outputs": [
        {
          "output_type": "display_data",
          "data": {
            "application/vnd.jupyter.widget-view+json": {
              "model_id": "1836801afa6a40c9b74a37a09eadff1d",
              "version_minor": 0,
              "version_major": 2
            },
            "text/plain": [
              "interactive(children=(Dropdown(description='Terminal', options=('1964', '1908', '1980', '1910', '1774'), value…"
            ]
          },
          "metadata": {
            "tags": []
          }
        }
      ]
    },
    {
      "cell_type": "markdown",
      "metadata": {
        "id": "6x2XcsxC4_49"
      },
      "source": [
        "Analisis (Terminal, Tipo Operacion):\n",
        "\n",
        "\n",
        "1964-3 : No se identifica una tendencia marcada, tal vez algo decreciente en los últimos dos meses de la serie. La prueba de hipotesis indica que la serie tiene un componente estacional. Visualmente se identifica estacionalidad quincenal que en los dos últimos meses se va perdiendo. Se identifica un valor atípico el 2017-03-01. Existe una correlación significativa en el desfase 1 seguida de correlaciones que no son significativas hasta el desfase 14 y 28. Este patrón indica un término autorregresivo de orden 1.\n",
        "\n",
        "\n",
        "1964-0 : No se identifica una tendencia marcada, tal vez algo decreciente en los últimos dos meses de la serie. La prueba de hipotesis indica que la serie tiene un componente estacional. Visualmente se identifica estacionalidad quincenal que en los dos últimos meses se va perdiendo. Se identifica un valor atípico a finales de marzo. Existe una correlación significativa en el desfase 1 seguida de correlaciones que no son significativas hasta el desfase 14 y 28. Este patrón indica un término autorregresivo de orden 1.\n",
        "\n",
        "\n",
        "1964-4 : No se identifica una tendencia marcada, tal vez algo decreciente en los últimos dos meses de la serie. La prueba de hipotesis indica que la serie tiene un componente estacional. Visualmente se identifica estacionalidad quincenal que apartir de inicios de abril se va perdiendo. Existe una correlación significativa en el desfase 1 seguida de correlaciones que no son significativas hasta el desfase 14 y 28. Este patrón indica un término autorregresivo de orden 1.\n",
        "\n",
        "1964-1 : Se comporta parecido a la serie anterior.\n",
        "\n",
        "1964-7 : No se identifica una tendencia marcada, tal vez algo decreciente en los últimos dos meses de la serie. La prueba de hipotesis indica que la serie tiene un componente estacional. Visualmente se identifica no se identifica estacionalidad. Existe una correlación algo significativa en el desfase 5 seguida de correlaciones que no son significativas. Este patrón indica un término autorregresivo de orden 5."
      ]
    },
    {
      "cell_type": "markdown",
      "metadata": {
        "id": "X2hLivmp4_49"
      },
      "source": [
        "## Se genera una función de tunning que permita eliminar los diferentes componentes a través de diferencia de desfases."
      ]
    },
    {
      "cell_type": "code",
      "metadata": {
        "colab": {
          "base_uri": "https://localhost:8080/",
          "height": 461,
          "referenced_widgets": [
            "7a129e0f1a7a46759fda622aff08b9a0",
            "fe28650aa1694b609401586706ba7eaf",
            "8f4b187ba2bc40eab57f45b91127a02e",
            "a7f3414679d84daca30eff8a3594cdd1",
            "5f7fb6a040a7405daebba0e010ea384d",
            "57f3bffc86544956b0e07264f74a036d",
            "47e1c5de3dd5468c8366c4d1008ddaad",
            "58c751b605634b7da6b5a3ec67e1ebfc",
            "0b64186d2d2c4d72b57011f225b2eff7",
            "b78266a8c609469f9de74806473bdbd0",
            "c0ba564b6a454a4ebb86368f4329491d",
            "1a730b9b255e4c8ca8279e5874fa09bd",
            "09deec62ee414933a0653b6bbcf6e968"
          ]
        },
        "id": "WLLb_1ld4_49",
        "outputId": "70c81568-37fb-429b-d348-1c70c3546d45"
      },
      "source": [
        "@interact\n",
        "def series_tunning(Terminal=data_series['idTerminal'].unique(),Operacion=data_series['oper'].unique(),PeriodoEstacional=(1, 30, 1)):\n",
        "    info = data_series[(data_series['idTerminal']==Terminal)&(data_series['oper']==Operacion)]\n",
        "    tabla = info.groupby(['YYMMDD','idTerminal','oper']).agg({'dia_semana':'count'}).reset_index()\n",
        "    tabla.rename(columns={'dia_semana':'Cantidad Transacciones'},inplace=True)\n",
        "    pivot_table = pd.pivot_table(tabla,values='Cantidad Transacciones',index='YYMMDD',columns='oper', aggfunc=np.sum)\n",
        "    pivot_table.rename(columns={Operacion:'Cantidad Transacciones'},inplace=True)\n",
        "    idx = pd.date_range(pivot_table.index.min(), pivot_table.index.max())\n",
        "    pivot_table=pivot_table.reindex(idx, fill_value=0)\n",
        "    serie_diff = pivot_table['Cantidad Transacciones'] - pivot_table['Cantidad Transacciones'].shift(PeriodoEstacional)\n",
        "    return tsplot_(serie_diff[PeriodoEstacional:], lags=50)\n"
      ],
      "execution_count": 41,
      "outputs": [
        {
          "output_type": "display_data",
          "data": {
            "application/vnd.jupyter.widget-view+json": {
              "model_id": "7a129e0f1a7a46759fda622aff08b9a0",
              "version_minor": 0,
              "version_major": 2
            },
            "text/plain": [
              "interactive(children=(Dropdown(description='Terminal', options=('1964', '1908', '1980', '1910', '1774'), value…"
            ]
          },
          "metadata": {
            "tags": []
          }
        }
      ]
    },
    {
      "cell_type": "markdown",
      "metadata": {
        "id": "HulATS8h4_49"
      },
      "source": [
        "#### Se debe generar un proceso iterativo para elegir de manera automatica los mejores modelos ya que elegir los componentes manualmente toma bastante tiempo. Para elegir entre un modelo ARIMA o SARIMA, se tomará como referencia la prueba de Dickey-Fuller."
      ]
    },
    {
      "cell_type": "markdown",
      "metadata": {
        "id": "DCX30fH04_49"
      },
      "source": [
        "# 4. Construcción de Modelos."
      ]
    },
    {
      "cell_type": "markdown",
      "metadata": {
        "id": "VgTRBvpu4_49"
      },
      "source": [
        "En la construcción de los modelos se realiza una partición de 80 % de datos para training y 20 % para test, con el fín del validar la precisión del modelo."
      ]
    },
    {
      "cell_type": "markdown",
      "metadata": {
        "id": "AO_siotJ4_49"
      },
      "source": [
        "# Construcción de modelos con series clasicas ARIMA y SARIMA"
      ]
    },
    {
      "cell_type": "markdown",
      "metadata": {
        "id": "cS-l7b4O4_49"
      },
      "source": [
        "En este paso se construiran modelos clasicos de series temporales. "
      ]
    },
    {
      "cell_type": "code",
      "metadata": {
        "id": "xEryN43v4_49"
      },
      "source": [
        "def percentage_error(actual, predicted):\n",
        "    res = np.empty(actual.shape)\n",
        "    for j in range(actual.shape[0]):\n",
        "        if actual[j] != 0:\n",
        "            res[j] = (actual[j] - predicted[j]) / actual[j]\n",
        "        else:\n",
        "            res[j] = predicted[j] / np.mean(actual)\n",
        "    return res\n",
        "\n",
        "def mean_absolute_percentage_error(y_true, y_pred):\n",
        "    return np.mean(np.abs(percentage_error(np.asarray(y_true), np.asarray(y_pred)))) * 100"
      ],
      "execution_count": 28,
      "outputs": []
    },
    {
      "cell_type": "code",
      "metadata": {
        "id": "CDmfIwpK4_49"
      },
      "source": [
        "def optimizeSARIMA(serie,parameters_list, d, D, s):\n",
        "    \n",
        "    results = []\n",
        "    best_error = float(\"inf\")\n",
        "\n",
        "    for param in tqdm_notebook(parameters_list):\n",
        "        try:\n",
        "            model=sm.tsa.statespace.SARIMAX(serie, order=(param[0], d, param[1]), \n",
        "                                            seasonal_order=(param[2], D, param[3], s)).fit(disp=-1)\n",
        "            \n",
        "        except:\n",
        "            continue\n",
        "        data = serie.copy()\n",
        "        data.columns = ['actual']\n",
        "        data['sarima_model'] = model.fittedvalues\n",
        "        data['sarima_model'][:s+d] = np.NaN\n",
        "        forecast = model.predict(start = data.shape[0], end = data.shape[0]+15)\n",
        "        forecast = data.sarima_model.append(forecast)\n",
        "        error = mean_absolute_percentage_error(data['actual'][s+d:], data['sarima_model'][s+d:])\n",
        "        if error < best_error:\n",
        "            best_model = model\n",
        "            best_error = error\n",
        "            best_param = param\n",
        "        results.append([param, error])\n",
        "\n",
        "    result_table = pd.DataFrame(results)\n",
        "    result_table.columns = ['parameters', 'error']\n",
        "    result_table = result_table.sort_values(by='error', ascending=True).reset_index(drop=True)\n",
        "    \n",
        "    return result_table"
      ],
      "execution_count": 29,
      "outputs": []
    },
    {
      "cell_type": "code",
      "metadata": {
        "id": "VCyIxAPK4_49"
      },
      "source": [
        "def plotSARIMA(series, model, n_steps,s,d):\n",
        "    # adding model values\n",
        "    data = series.copy()\n",
        "    data.columns = ['actual']\n",
        "    data['sarima_model'] = model.fittedvalues\n",
        "    data['sarima_model'][:s+d] = np.NaN\n",
        "    \n",
        "    # Pronostico de n periodos de tiempo\n",
        "    forecast = model.predict(start = data.shape[0], end = data.shape[0]+n_steps)\n",
        "    forecast = data.sarima_model.append(forecast)\n",
        "    # Calculando error.\n",
        "    error = mean_absolute_percentage_error(data['actual'][s+d:], data['sarima_model'][s+d:])\n",
        "    plt.figure(figsize=(15, 7))\n",
        "    plt.title(\"Mean Absolute Percentage Error: {0:.2f}%\".format(error))\n",
        "    plt.plot(forecast, color='r', label=\"model\")\n",
        "    plt.axvspan(data.index[-1], forecast.index[-1], alpha=0.5, color='lightgrey')\n",
        "    plt.plot(data.actual, label=\"actual\")\n",
        "    plt.legend()\n",
        "    plt.grid(True);"
      ],
      "execution_count": 30,
      "outputs": []
    },
    {
      "cell_type": "code",
      "metadata": {
        "colab": {
          "base_uri": "https://localhost:8080/",
          "height": 529,
          "referenced_widgets": [
            "972a3627aa884894b14f22f97de05acc",
            "8e646cca553f42cc9819009cae813d48",
            "2cb3659c86ca4d09a0a61c5d42922654",
            "73f558c0e8f84aecba0f03b7557c6dc5",
            "a4bf8c027aca4d1688750819c70f00f7",
            "0e72d762b532455e8380f89e1614fe75",
            "ede93bb355ce4ec4ad3512b47b801dc1",
            "80f6093105d54e85b99ed0a24c177f22",
            "43cbed141b7341c3adad260cc32b4cf4",
            "9f8eda6392b5488bbca0d59839ce579f",
            "e809aaaad2c3456480d16d8774d7e7a5",
            "918b5251e6b948148a797d17718470ab",
            "57ade56664f94db08f5ee8db89667fef",
            "140b29e8036c47b9a0c6c4832a3ba76d",
            "235862c643444fc2a2314f3537a2ca88",
            "c79eb0824bb84996b29b5f55cc134ff8",
            "38fd91b7989847ffb4c84f342e02efa9",
            "5f539376b05c4c18835ce656c2303211",
            "73631965f673438aa2ef7d1b86e30047",
            "68b5df4fcaa64ec0ab523229235fe9c9",
            "af0cf58e343f415bb0528aed08bb0a91",
            "805a8c5000b04ff18736b9c71d51cc7a",
            "a13b6581c61a401484f9432543c27c7e",
            "66179b548aa6485386dd149c1c70271d",
            "fb0398c6a9bc41cda804f9077af7fb9d",
            "7d89e6e4decc41028adcf35142654938",
            "8de00d3d22354725b653009ac37cd249",
            "81df32bc2eba46fe87345ecbc30832e9",
            "e37ed607ad9f4a8d9d40302f8261ec6f",
            "c7d40703c184445687e84e005e97db54",
            "3173f7edb87547318a51845259a21bcc",
            "b1c2579637e641f2a605ee29590bccce",
            "557cd366e9ab456c977acba879ddbc3d",
            "780addd4e6a0453b9b37e63f68c2a81c",
            "900d71d9b72d41289eb39b305f45f18b",
            "a40be90a608644828d939ce21ea31502",
            "64855a59ecc74f46a67ae1b1945f76aa",
            "a61d0dfb59ef4acfbe66e59834b88fb1",
            "23d439af721346f48dfd28d4155e0a39",
            "9ec78b83852a4043ba5034b3c78be42d",
            "62da18ca215c43e79a1f9cd6aba04daf",
            "f280ea45067348fc985bd8bd23c8b5da",
            "51d37200bf344339a22a39ba7dc1712c",
            "99a932aad75f4e439f299ccd85c98de1",
            "386a516d8d1942cbb06cd1458471e1b6",
            "820790639bd34ed59bbfe0a27c7726ed",
            "78790248315547d2806345bdb0b0801a",
            "5d63bdbb90054a88b32115241d2906ec",
            "635edbd99da8437ab8674f85f8806b84",
            "f3bf87b95ce44784bca3ad2ddcb9ec0e",
            "7891d5beabdc42e5ad8b63ae8a0f8c82",
            "d9eb21d0c0e34d5d8a10d32bf49e1c68",
            "049e272ebc71457394f0f632acc90849",
            "7dba4d8da1e94ffda9b81c04fbc346da",
            "05c2e4d0854c4f9c8fbb07b094445bd2",
            "5ac2f52a8768459ea8d6ad42617b4f90",
            "1aad623187294dc087daaa3063572a80"
          ]
        },
        "id": "bArNongD4_49",
        "outputId": "f6786171-35e0-4586-82ea-8d8689fa58dc"
      },
      "source": [
        "@interact_manual\n",
        "def training_model(Arima=False,Sarima=True,Archivo=True,Terminal=data_series['idTerminal'].unique(),Operacion=data_series['oper'].unique(),ps=(1,15,1),d=(0,2,1),qs=(1,15,1),Ps=(1,15,1) ,D=(0,2,1),Qs=(1,15,1),s=(1,30,1),dias_predecir=(1,30,1),gap_range=2):\n",
        "\n",
        "    ps_ = range(1 if ps-3<1 else ps-3, ps) #Ultimo valor significativo PAFC\n",
        "    d_=abs(d) \n",
        "    qs_ = range(1 if qs-3<1 else qs-3, qs) #Ultimo valor significativo AFC\n",
        "    Ps_ = range(1 if Ps-3<1 else Ps-3, Ps) #Periodos estacionales significativos\n",
        "    D_=D\n",
        "    Qs_ = range(1 if Qs-3<1 else Qs-3, Qs)\n",
        "    s_ = s # estacionalidad\n",
        "\n",
        "    #creando lista con las combinación de parametros\n",
        "    parameters = product(ps_, qs_, Ps_, Qs_)\n",
        "    parameters_list = list(parameters)\n",
        "    serie=data_series[(data_series['idTerminal']==Terminal)&(data_series['oper']==Operacion)].groupby('YYMMDD').agg({'dia_semana':'count'})\n",
        "    serie.rename(columns={'dia_semana':'Cantidad TRX'},inplace=True)\n",
        "    idx = pd.date_range(serie.index.min(), serie.index.max())\n",
        "    serie=serie.reindex(idx, fill_value=0)\n",
        "    serie=serie.reset_index()\n",
        "    serie=serie.set_index('index').asfreq('d')\n",
        "    serie['Cantidad TRX']=serie['Cantidad TRX'].astype('int')\n",
        "    result_table = optimizeSARIMA(serie,parameters_list, d_, D, s_)\n",
        "    p, q, P, Q = result_table.parameters[0]\n",
        "\n",
        "    best_model=sm.tsa.statespace.SARIMAX(serie['Cantidad TRX'], order=(p, d_, q), \n",
        "                                            seasonal_order=(P, D, Q, s_)).fit(disp=-1)\n",
        "    \n",
        "#    dict_resul={'Serie':str(Terminal)+'-'+str(Operacion),'Modelo':'Sarima','MAPE':result_table['error']}\n",
        "#    with open('resultados.json', 'w') as file:\n",
        "#        file.write(json.dumps(mydict, ensure_ascii=False))\n",
        "    return best_model.summary(),tsplot_(best_model.resid[dias_predecir+1:], lags=50),plotSARIMA(serie, best_model, dias_predecir,s_,d_)"
      ],
      "execution_count": 31,
      "outputs": [
        {
          "output_type": "display_data",
          "data": {
            "application/vnd.jupyter.widget-view+json": {
              "model_id": "972a3627aa884894b14f22f97de05acc",
              "version_minor": 0,
              "version_major": 2
            },
            "text/plain": [
              "interactive(children=(Checkbox(value=False, description='Arima'), Checkbox(value=True, description='Sarima'), …"
            ]
          },
          "metadata": {
            "tags": []
          }
        }
      ]
    },
    {
      "cell_type": "markdown",
      "metadata": {
        "id": "BemtWeiu4_49"
      },
      "source": [
        "# Entrenando una red neuronal monocapa"
      ]
    },
    {
      "cell_type": "markdown",
      "metadata": {
        "id": "h5_KfEzT4_49"
      },
      "source": [
        "Se construye una red nueronal monocapa con conexión densa y se entrenan con los hiperparametros por defecto para ver el comportamiento. La construcción de esta red se hace como si fuera un modelo supervisado, donde la y esta determinada por y-t periodos anteriores. Por ejemplo se puede crear un modelo supervisado donde el valor de dia 7 esta determinado por los 6 días anteriores, o el día 15 esta determinado por los 14 días anteriores. Esta ventana de tiempo es movil.\n",
        "\n",
        "El número de neuronas asignadas esta en función de las variables. Se agrega un call de parada temprana, donde se monitorea la función de perdida del conjunto de validación, con el fin de evitar overfitting en el entrenamiento. Como valor de selección del mejor modelo se utilizará el MAPE."
      ]
    },
    {
      "cell_type": "code",
      "metadata": {
        "id": "yHv2BxkG4_4-"
      },
      "source": [
        "#Función para construir la matriz del modelo supervisado\n",
        "def serie_supervisada(data, n_in=1, n_out=1, dropnan=True):\n",
        "    n_vars = 1 if type(data) is list else data.shape[1]\n",
        "    df = pd.DataFrame(data)\n",
        "    cols, names = list(), list()\n",
        "    for i in range(n_in, 0, -1):\n",
        "        cols.append(df.shift(i))\n",
        "        names += [('y%d(t-%d)' % (j+1, i)) for j in range(n_vars)]\n",
        "    for i in range(0, n_out):\n",
        "        cols.append(df.shift(-i))\n",
        "        if i == 0:\n",
        "            names += [('y%d(t)' % (j+1)) for j in range(n_vars)]\n",
        "        else:\n",
        "            names += [('y%d(t+%d)' % (j+1, i)) for j in range(n_vars)]\n",
        "    agg = pd.concat(cols, axis=1)\n",
        "    agg.columns = names\n",
        "    if dropnan:\n",
        "        agg.dropna(inplace=True)\n",
        "    return agg"
      ],
      "execution_count": 32,
      "outputs": []
    },
    {
      "cell_type": "code",
      "metadata": {
        "id": "S4pE53yo4_4-"
      },
      "source": [
        "# Función de predicción\n",
        "def agregarNuevoValor(x_test,newVal):\n",
        "    arr=[]\n",
        "    for i in x_test[0][0][1:x_test.shape[2]]:\n",
        "        arr.append(i)\n",
        "    arr.append(newVal[0][0])\n",
        "    arr=pd.DataFrame(arr).values\n",
        "    arr=np.array([arr])\n",
        "    arr=arr.reshape((arr.shape[0], 1, arr.shape[1]))\n",
        "    x_test=arr\n",
        "    return x_test"
      ],
      "execution_count": 33,
      "outputs": []
    },
    {
      "cell_type": "code",
      "metadata": {
        "colab": {
          "base_uri": "https://localhost:8080/",
          "height": 241,
          "referenced_widgets": [
            "697119c81d014b1abfedc46b9dfcc5d7",
            "98082a6aeba043df9c7ff7605a66f436",
            "7af4637806904797b9b6b45e3d37b700",
            "b16b90bd7fc24bfa8f35266f06a7e674",
            "f74bc9372eb9483bae0a3e9ec106918f",
            "26c30d7d553a4a638395ac4e1fe7084c",
            "8d8e733249b84a469dd99ac333ce842a",
            "81439c6b0dcc4c4da0cee97412b7d1a0",
            "902b36f4297c409da1fd44c01e82a9fc",
            "4edd365d86d44804833fdc7111e0cd98",
            "a84772fcc91f4204833e977f3d42873c",
            "e9e72d261910419e933030299f5b6d98",
            "5f643c855df14da38772f19791508c44",
            "459f493d60614aaf8915531ab07609c5",
            "3fe05da8a31d45b3a31b7e417b663048",
            "06934b00899f4e6a946af3d18e99c659",
            "4023137259fa4284aa1e8c31dcbe1d97",
            "4a0747cb4aff46c29066dea4af99ae9a",
            "f571c45252e64193b4745b21be93dea8",
            "dc830d314c0e4733814f2259210fc075",
            "61880e01c490446f9cfe75d39c2f6a96",
            "569d66ca35dc407e8ecb512af93a76a0",
            "c8c722cb56b8481a9109e3c4565e38b6",
            "a12ff38acb4a4095a5e59a3d0d852ef5",
            "5bb51d9db10d428cbae82b62f3726acf"
          ]
        },
        "id": "cVJoP0JE4_4-",
        "outputId": "9149d0f4-c51c-413a-92f2-178cc9194bfc"
      },
      "source": [
        "@interact_manual\n",
        "def construccion_RN(Archivo=True,Terminal=data_series['idTerminal'].unique(),Operacion=data_series['oper'].unique(),Input_features=(1,30,1),batch_size=(1,20,1),dias_predecir=(1,30,1)):\n",
        "    serie=data_series[(data_series['idTerminal']==Terminal)&(data_series['oper']==Operacion)].groupby('YYMMDD').agg({'dia_semana':'count'})\n",
        "    serie.rename(columns={'dia_semana':'Cantidad TRX'},inplace=True)\n",
        "    idx = pd.date_range(serie.index.min(), serie.index.max())\n",
        "    idx_ = pd.date_range(data_series['YYMMDD'].min(), data_series['YYMMDD'].max()+np.timedelta64(dias_predecir,'D'))\n",
        "    serie=serie.reindex(idx, fill_value=0)\n",
        "    serie=serie.reset_index()\n",
        "    serie=serie.set_index('index').asfreq('d')\n",
        "    serie['Cantidad TRX']=serie['Cantidad TRX'].astype('float32')\n",
        "    values = serie['Cantidad TRX'].values\n",
        "    values = values.astype('float32')\n",
        "    scaler = MinMaxScaler(feature_range=(-1, 1))\n",
        "    values=values.reshape(-1, 1) \n",
        "    scaled = scaler.fit_transform(values)\n",
        "    reframed = serie_supervisada(scaled, Input_features, 1)  \n",
        "    train_size=len(reframed)*0.8\n",
        "    values = reframed.values\n",
        "    train,test  = values[:int(train_size), :],values[int(train_size):, :]\n",
        "    x_train, y_train = train[:, :-1], train[:, -1]\n",
        "    x_test, y_test = test[:, :-1], test[:, -1]\n",
        "    x_train = x_train.reshape((x_train.shape[0], 1, x_train.shape[1]))\n",
        "    x_test = x_test.reshape((x_test.shape[0], 1, x_test.shape[1]))\n",
        "    tf.keras.optimizers.Adam(\n",
        "    learning_rate=0.01, beta_1=0.9, beta_2=0.999, epsilon=1e-07, amsgrad=False,\n",
        "    name='Adam'\n",
        ")\n",
        "    \n",
        "    model=Sequential()\n",
        "    model.add(Dense(Input_features,input_shape=(1,Input_features), activation='linear'))\n",
        "    model.add(Dense(1, activation='linear'))\n",
        "    model.compile(loss='mae',optimizer='adam',metrics=['mse'])\n",
        "    \n",
        "    es = tf.keras.callbacks.EarlyStopping(monitor='val_loss',patience=3,mode='min')\n",
        "\n",
        "\n",
        "    history=model.fit(x_train,y_train,\n",
        "                     epochs=100,\n",
        "                     batch_size=batch_size,\n",
        "                     validation_split=0.1,\n",
        "                     callbacks=[es],\n",
        "                     shuffle=False, verbose=0)\n",
        "    plt.plot(history.history['loss'],label='Training Loss')\n",
        "    plt.plot(history.history['val_loss'],label='Validation Loss')\n",
        "    plt.title('Validación Función de Perdida', fontsize=20)\n",
        "    plt.xlabel('Epochs', fontsize=20)\n",
        "    plt.ylabel('Loss Value', fontsize=20)\n",
        "    plt.legend(fontsize=10)\n",
        "    plt.show()\n",
        "    testPredict = model.predict(x_test)\n",
        "    testPredict=[a[0][0] for a in testPredict]\n",
        "    testPredict = scaler.inverse_transform(np.array(testPredict).reshape(1, -1))\n",
        "    trainPredict = model.predict(x_train)\n",
        "    trainPredict=[a[0][0] for a in trainPredict]\n",
        "    trainPredict = scaler.inverse_transform(np.array(trainPredict).reshape(1, -1))\n",
        "    y_train = scaler.inverse_transform([y_train])\n",
        "    y_test = scaler.inverse_transform([y_test])\n",
        "    serie.reset_index(inplace=True)\n",
        "    \n",
        "    predicciones_train=pd.DataFrame(trainPredict[0])\n",
        "    valores_train=pd.DataFrame(y_train[0])\n",
        "    predicciones_train.set_index(serie['index'].iloc[:x_train.shape[0]],inplace=True)\n",
        "    valores_train.set_index(serie['index'].iloc[:x_train.shape[0]],inplace=True)\n",
        "    \n",
        "    predicciones_test=pd.DataFrame(testPredict[0])\n",
        "    valores_test=pd.DataFrame(y_test[0])\n",
        "    predicciones_test.set_index(serie['index'].iloc[x_train.shape[0]+Input_features:],inplace=True)\n",
        "    valores_test.set_index(serie['index'].iloc[x_train.shape[0]+Input_features:],inplace=True)\n",
        "    error = mean_absolute_percentage_error(valores_test, predicciones_test)\n",
        "    \n",
        "    results=[]\n",
        "    incio=x_test[-1:]\n",
        "    for i in range(dias_predecir):\n",
        "        parcial=model.predict(incio)\n",
        "        parcial_=scaler.inverse_transform(parcial[0])\n",
        "        results.append(parcial_[0][0])\n",
        "        incio=agregarNuevoValor(incio,parcial[0])\n",
        "    result=pd.DataFrame(results)[0]\n",
        "\n",
        "    \n",
        "    plt.plot(idx.values,serie['Cantidad TRX'],c='b', label='Serie Original')\n",
        "    plt.plot(idx_[len(x_train)+Input_features:len(serie)].values,testPredict[0],c='r', label='Predicción Test')\n",
        "    plt.plot(idx_[:len(x_train)].values,trainPredict[0],c='y', label='Predicción Train')\n",
        "    plt.plot(idx_[len(serie):len(idx_)].values,result,c='m', label='Predicción 15 Dias')\n",
        "    plt.xticks(rotation=90)\n",
        "    plt.legend(fontsize=10)\n",
        "    plt.title('Resultados del Modelo', fontsize=20)\n",
        "    plt.title(\"Mean Absolute Percentage Error: {0:.2f}%\".format(error), fontsize=20)\n",
        "    plt.xlabel('Días', fontsize=20)\n",
        "    plt.ylabel('Cantidad de Transacciones', fontsize=20)\n",
        "    plt.show()"
      ],
      "execution_count": 34,
      "outputs": [
        {
          "output_type": "display_data",
          "data": {
            "application/vnd.jupyter.widget-view+json": {
              "model_id": "697119c81d014b1abfedc46b9dfcc5d7",
              "version_minor": 0,
              "version_major": 2
            },
            "text/plain": [
              "interactive(children=(Checkbox(value=True, description='Archivo'), Dropdown(description='Terminal', options=('…"
            ]
          },
          "metadata": {
            "tags": []
          }
        }
      ]
    },
    {
      "cell_type": "markdown",
      "metadata": {
        "id": "TH0a2CWu4_4-"
      },
      "source": [
        "# Entrenando un modelo de regresión con XGBoots"
      ]
    },
    {
      "cell_type": "code",
      "metadata": {
        "colab": {
          "base_uri": "https://localhost:8080/",
          "height": 209,
          "referenced_widgets": [
            "38c2c82d3d274b8ca778f3125db34e87",
            "c6d1d79d9dd64f2e823e657cac625f3f",
            "bcdd93737a144bd9ac8ee180baaa6cc1",
            "8752ddaa4e3c40c68774d3e63edc74e1",
            "d1fac3a9418a4a2897af841e34f33d63",
            "ed54e826c23944d7bb6edc46a6a00e69",
            "7c333467b851459ea594761726c4a348",
            "f7ef25dc0ce44592a1961acb1493ab6f",
            "aa34686448f840c09bdc8fda04c83755",
            "b8591769fec04e3fb745bc8f214e22df",
            "3f1a4797763f41928896a627a90cd23b",
            "e20094d6f08243c0b0c58433245a30fd",
            "da08e3a9a84b4c4bb68fd1869fc8010e",
            "6cd58cf8a76f403ab2e7ce19b1729321",
            "1880a5dfe9924e97b30b1df7c0be8e26",
            "b36b39f179324d1db53a3755436ebf90",
            "9e0e27a9b24a44458653308c7dbf3afe",
            "963d22b891dc48bd80d423e987d85c99",
            "68c271b70c95481a84b623fb208e0c95",
            "eb50bed142de436bb9ebced9d716e2fe",
            "9e8fe8a81ae7445987e4deb25171b81e",
            "8c1361a0bb7c49658e24ddbbe7caee64"
          ]
        },
        "id": "mUB_Asgm4_4-",
        "outputId": "0aa0b65b-00c7-46cf-a6d9-4e997de4e3bc"
      },
      "source": [
        "@interact_manual\n",
        "def construccion_XGBoots(Archivo=True,Terminal=data_series['idTerminal'].unique(),Operacion=data_series['oper'].unique(),Input_features=(1,30,1),dias_predecir=(1,30,1)):\n",
        "    serie=data_series[(data_series['idTerminal']==Terminal)&(data_series['oper']==Operacion)].groupby('YYMMDD').agg({'dia_semana':'count'})\n",
        "    serie.rename(columns={'dia_semana':'Cantidad TRX'},inplace=True)\n",
        "    idx = pd.date_range(serie.index.min(), serie.index.max())\n",
        "    idx_ = pd.date_range(data_series['YYMMDD'].min(), data_series['YYMMDD'].max()+np.timedelta64(dias_predecir,'D'))\n",
        "    serie=serie.reindex(idx, fill_value=0)\n",
        "    serie=serie.reset_index()\n",
        "    serie=serie.set_index('index').asfreq('d')\n",
        "    serie['Cantidad TRX']=serie['Cantidad TRX'].astype('float32')\n",
        "    values = serie['Cantidad TRX'].values\n",
        "    values = values.astype('float32')\n",
        "    scaler = MinMaxScaler(feature_range=(-1, 1))\n",
        "    values=values.reshape(-1, 1) \n",
        "    scaled = scaler.fit_transform(values)\n",
        "    reframed = serie_supervisada(scaled, Input_features, 1)  \n",
        "    train_size=len(reframed)*0.8\n",
        "    values = reframed.values\n",
        "    train,test  = values[:int(train_size), :],values[int(train_size):, :]\n",
        "    x_train, y_train = train[:, :-1], train[:, -1]\n",
        "    x_test, y_test = test[:, :-1], test[:, -1]\n",
        "    x_train = x_train.reshape((x_train.shape[0], x_train.shape[1]))\n",
        "    x_test = x_test.reshape((x_test.shape[0], x_test.shape[1]))\n",
        "    model = xg.XGBRegressor(objective='reg:squarederror', learning_rate=0.002, max_depth=10, n_estimators=1000)\n",
        "    model.fit(x_train, y_train)\n",
        "    testPredict=model.predict(x_test)           \n",
        "    trainPredict = model.predict(x_train)\n",
        "    testPredict=[a for a in testPredict]\n",
        "    testPredict = scaler.inverse_transform(np.array(testPredict).reshape(1, -1))\n",
        "    trainPredict=[a for a in trainPredict]\n",
        "    trainPredict = scaler.inverse_transform(np.array(trainPredict).reshape(1, -1))\n",
        "    y_train = scaler.inverse_transform([y_train])\n",
        "    y_test = scaler.inverse_transform([y_test])\n",
        "\n",
        "    error = mean_absolute_percentage_error(y_test[0], testPredict[0])\n",
        "    \n",
        "    results=[]\n",
        "    incio=x_test[-1:].reshape(1, 1, x_test.shape[1])\n",
        "    for i in range(dias_predecir):\n",
        "        parcial=model.predict(incio[0])\n",
        "        parcial_=scaler.inverse_transform(parcial.reshape(-1, 1))\n",
        "        results.append(parcial_[0][0])\n",
        "        incio=agregarNuevoValor(incio,parcial.reshape(-1, 1))\n",
        "    result=pd.DataFrame(results)[0]\n",
        "\n",
        "    plt.plot(idx.values,serie['Cantidad TRX'],c='b', label='Serie Original')\n",
        "    plt.plot(idx_[len(x_train)+Input_features:len(serie)].values,testPredict[0],c='r', label='Predicción Test')\n",
        "    plt.plot(idx_[:len(x_train)].values,trainPredict[0],c='y', label='Predicción Train')\n",
        "    plt.plot(idx_[len(serie):len(idx_)].values,result,c='m', label='Predicción 15 Dias')\n",
        "    plt.xticks(rotation=90)\n",
        "    plt.legend(fontsize=10)\n",
        "    plt.title('Resultados del Modelo', fontsize=20)\n",
        "    plt.title(\"Mean Absolute Percentage Error: {0:.2f}%\".format(error), fontsize=20)\n",
        "    plt.xlabel('Días', fontsize=20)\n",
        "    plt.ylabel('Cantidad de Transacciones', fontsize=20)\n",
        "    plt.show()\n",
        "     \n",
        "    \n",
        "    return reframed.head()"
      ],
      "execution_count": 35,
      "outputs": [
        {
          "output_type": "display_data",
          "data": {
            "application/vnd.jupyter.widget-view+json": {
              "model_id": "38c2c82d3d274b8ca778f3125db34e87",
              "version_minor": 0,
              "version_major": 2
            },
            "text/plain": [
              "interactive(children=(Checkbox(value=True, description='Archivo'), Dropdown(description='Terminal', options=('…"
            ]
          },
          "metadata": {
            "tags": []
          }
        }
      ]
    },
    {
      "cell_type": "markdown",
      "metadata": {
        "id": "nQq0JfRI4_4-"
      },
      "source": [
        "# Series multivariadas con redes neuronales"
      ]
    },
    {
      "cell_type": "markdown",
      "metadata": {
        "id": "Bk8JjnFg4_4-"
      },
      "source": [
        "Es este caso se construirá un modelo de predicción que tendrá como inputs las series temporales de las terminales y tipos de operación elegidos. Estos nos ayudaran para predecir el total de transacciones (suma de estas series temporales), para los próximos 15 días."
      ]
    },
    {
      "cell_type": "code",
      "metadata": {
        "id": "dZwFxtZF4_4-"
      },
      "source": [
        "def series_seq(x,y, n_steps):\n",
        "    X_, y_ = list(), list()\n",
        "    for i in range(len(x)):\n",
        "        end_ix = i + n_steps\n",
        "        if end_ix > len(x):\n",
        "             break\n",
        "        seq_x, seq_y = x[i:end_ix], y[end_ix-1]\n",
        "        X_.append(seq_x)\n",
        "        y_.append(seq_y)\n",
        "    return np.array(X_), np.array(y_)"
      ],
      "execution_count": 36,
      "outputs": []
    },
    {
      "cell_type": "code",
      "metadata": {
        "colab": {
          "base_uri": "https://localhost:8080/",
          "height": 450
        },
        "id": "kqv6r-uP4_4-",
        "outputId": "e84bad2e-4362-4164-a9b9-9aa2046c8dba"
      },
      "source": [
        "tabla_multi=data_series.groupby(['YYMMDD','idTerminal','oper']).agg({'dia_semana':'count'})\n",
        "tabla_multi=tabla_multi.unstack().fillna(0)\n",
        "tabla_multi=tabla_multi.unstack(1).fillna(0)\n",
        "tabla_multi=tabla_multi.stack()\n",
        "tabla_multi=tabla_multi.stack()\n",
        "tabla_multi"
      ],
      "execution_count": 37,
      "outputs": [
        {
          "output_type": "execute_result",
          "data": {
            "text/html": [
              "<div>\n",
              "<style scoped>\n",
              "    .dataframe tbody tr th:only-of-type {\n",
              "        vertical-align: middle;\n",
              "    }\n",
              "\n",
              "    .dataframe tbody tr th {\n",
              "        vertical-align: top;\n",
              "    }\n",
              "\n",
              "    .dataframe thead th {\n",
              "        text-align: right;\n",
              "    }\n",
              "</style>\n",
              "<table border=\"1\" class=\"dataframe\">\n",
              "  <thead>\n",
              "    <tr style=\"text-align: right;\">\n",
              "      <th></th>\n",
              "      <th></th>\n",
              "      <th></th>\n",
              "      <th>dia_semana</th>\n",
              "    </tr>\n",
              "    <tr>\n",
              "      <th>YYMMDD</th>\n",
              "      <th>idTerminal</th>\n",
              "      <th>oper</th>\n",
              "      <th></th>\n",
              "    </tr>\n",
              "  </thead>\n",
              "  <tbody>\n",
              "    <tr>\n",
              "      <th rowspan=\"5\" valign=\"top\">2017-01-31</th>\n",
              "      <th rowspan=\"5\" valign=\"top\">1774</th>\n",
              "      <th>0</th>\n",
              "      <td>6.0</td>\n",
              "    </tr>\n",
              "    <tr>\n",
              "      <th>1</th>\n",
              "      <td>5.0</td>\n",
              "    </tr>\n",
              "    <tr>\n",
              "      <th>3</th>\n",
              "      <td>5.0</td>\n",
              "    </tr>\n",
              "    <tr>\n",
              "      <th>4</th>\n",
              "      <td>0.0</td>\n",
              "    </tr>\n",
              "    <tr>\n",
              "      <th>7</th>\n",
              "      <td>0.0</td>\n",
              "    </tr>\n",
              "    <tr>\n",
              "      <th>...</th>\n",
              "      <th>...</th>\n",
              "      <th>...</th>\n",
              "      <td>...</td>\n",
              "    </tr>\n",
              "    <tr>\n",
              "      <th rowspan=\"5\" valign=\"top\">2017-05-31</th>\n",
              "      <th rowspan=\"5\" valign=\"top\">1980</th>\n",
              "      <th>0</th>\n",
              "      <td>248.0</td>\n",
              "    </tr>\n",
              "    <tr>\n",
              "      <th>1</th>\n",
              "      <td>69.0</td>\n",
              "    </tr>\n",
              "    <tr>\n",
              "      <th>3</th>\n",
              "      <td>85.0</td>\n",
              "    </tr>\n",
              "    <tr>\n",
              "      <th>4</th>\n",
              "      <td>17.0</td>\n",
              "    </tr>\n",
              "    <tr>\n",
              "      <th>7</th>\n",
              "      <td>26.0</td>\n",
              "    </tr>\n",
              "  </tbody>\n",
              "</table>\n",
              "<p>3025 rows × 1 columns</p>\n",
              "</div>"
            ],
            "text/plain": [
              "                            dia_semana\n",
              "YYMMDD     idTerminal oper            \n",
              "2017-01-31 1774       0            6.0\n",
              "                      1            5.0\n",
              "                      3            5.0\n",
              "                      4            0.0\n",
              "                      7            0.0\n",
              "...                                ...\n",
              "2017-05-31 1980       0          248.0\n",
              "                      1           69.0\n",
              "                      3           85.0\n",
              "                      4           17.0\n",
              "                      7           26.0\n",
              "\n",
              "[3025 rows x 1 columns]"
            ]
          },
          "metadata": {
            "tags": []
          },
          "execution_count": 37
        }
      ]
    },
    {
      "cell_type": "code",
      "metadata": {
        "colab": {
          "base_uri": "https://localhost:8080/",
          "height": 145,
          "referenced_widgets": [
            "8d5b864b3f7843af94df5b7de2ce76de",
            "4474f1dc6042426ea725569d05fbcc48",
            "6893bb7ec29948b69475e9aaac7e985f",
            "829c780a5abc440a894fd98b9c077730",
            "d885f06467424e01a4f36203b70c1d67",
            "d840862ef868445aae715f099061b8c8",
            "1a678de1e81040dbbdb47c622bbf3be2",
            "83d6fd1a832b455abcf226830f8a034c",
            "5c94cdea50a54c0ca2e6f733b1cd924d",
            "0f3a5f090c3b4c7e931cccca7015ec52",
            "00532e4d420b44eea9282ab0eaef6595",
            "b784f84d8da84729bb65ef0d8d2a8caf",
            "3ea0978159db43338e8eb1c0e09531c7",
            "a1544f4478604234ace4d4d944ca401a",
            "9931db81b8714c938a0b74abb5947ff7",
            "4348a01ec3db42699932b7419999bfef"
          ]
        },
        "id": "VgVDryAR4_4-",
        "outputId": "5ad4b8a8-a55e-4b93-a384-c230dcb10988"
      },
      "source": [
        "@interact_manual\n",
        "def construccion_RN_Multi(Archivo=True,Input_features=(1,30,1),dias_predecir=(1,30,1)):\n",
        "    idx = pd.date_range(data_series['YYMMDD'].min(), data_series['YYMMDD'].max())\n",
        "    idx_ = pd.date_range(data_series['YYMMDD'].min(), data_series['YYMMDD'].max()+np.timedelta64(dias_predecir,'D'))\n",
        "\n",
        "    data=[]\n",
        "    for a in idx:\n",
        "        data.append(np.array([a[0] for a in tabla_multi[tabla_multi.index.get_level_values(0)==str(a)[0:10]].values]).reshape(1,25)[0])\n",
        "    suma=[[a.sum()] for a in data]\n",
        "    scaler = MinMaxScaler(feature_range=(-1, 1))\n",
        "    data_scaled = scaler.fit_transform(data)\n",
        "    suma_scaled = scaler.fit_transform(suma)\n",
        "    X, y =series_seq(data_scaled,suma_scaled,Input_features)\n",
        "    train_size=len(X)*0.8\n",
        "    x_train,x_test  = X[:int(train_size), :],X[int(train_size):, :]\n",
        "    y_train,y_test  = y[:int(train_size), :],y[int(train_size):, :]\n",
        "    n_input_tra = x_train.shape[1] * x_train.shape[2]\n",
        "    x_train = x_train.reshape((x_train.shape[0], n_input_tra))\n",
        "    n_input_tes = x_test.shape[1] * x_test.shape[2]\n",
        "    x_test = x_test.reshape((x_test.shape[0], n_input_tes))\n",
        "    es = tf.keras.callbacks.EarlyStopping(monitor='val_loss',patience=3,mode='min')\n",
        "    model = Sequential()\n",
        "    model.add(Dense(100, activation='relu', input_dim=n_input_tra))\n",
        "    model.add(Dense(1))\n",
        "    model.compile(optimizer='adam', loss='mse')\n",
        "    history=model.fit(x_train, y_train, epochs=100, verbose=0,validation_split=0.1,callbacks=[es])\n",
        "    plt.plot(history.history['loss'],label='Training Loss')\n",
        "    plt.plot(history.history['val_loss'],label='Validation Loss')\n",
        "    plt.title('Validación Función de Perdida', fontsize=20)\n",
        "    plt.xlabel('Epochs', fontsize=20)\n",
        "    plt.ylabel('Loss Value', fontsize=20)\n",
        "    plt.legend(fontsize=10)\n",
        "    plt.show()\n",
        "\n",
        "    y_pred=model.predict(x_test)\n",
        "    y_pred_train=model.predict(x_train)\n",
        "    error = mean_absolute_percentage_error(scaler.inverse_transform(y_test), scaler.inverse_transform(y_pred))\n",
        "    results=[]\n",
        "    incio=x_test[-1:].reshape(1, 1, x_test.shape[1])\n",
        "    for i in range(dias_predecir):\n",
        "        parcial=model.predict(incio[0])\n",
        "        parcial_=scaler.inverse_transform(parcial.reshape(-1, 1))\n",
        "        results.append(parcial_[0][0])\n",
        "        incio=agregarNuevoValor(incio,parcial.reshape(-1, 1))\n",
        "    result=pd.DataFrame(results)[0]\n",
        "    for a in tabla_multi.index.get_level_values(1).unique():\n",
        "        for b in tabla_multi.index.get_level_values(2).unique():\n",
        "            plt.plot(idx.values,tabla_multi[(tabla_multi.index.get_level_values(1)==a)&(tabla_multi.index.get_level_values(2)==b)].values,c='k')\n",
        "    plt.plot(idx_[:len(X)+Input_features-1].values,suma,c='b', label='Suma de las series de tiempo escogidas')\n",
        "    plt.plot(idx_[len(x_train)+Input_features-1:len(X)+Input_features-1].values,scaler.inverse_transform(y_pred),c='r', label='Predicción Test')\n",
        "    plt.plot(idx_[:len(x_train)].values,scaler.inverse_transform(y_pred_train),c='y', label='Predicción Train')\n",
        "    plt.plot(idx_[len(X)+Input_features-1:len(idx_)].values,result,c='m', label='Predicción 15 Dias')\n",
        "    plt.xticks(rotation=90)\n",
        "    plt.legend(fontsize=10)\n",
        "    plt.title('Resultados del Modelo', fontsize=20)\n",
        "    plt.title(\"Mean Absolute Percentage Error: {0:.2f}%\".format(error), fontsize=20)\n",
        "    plt.xlabel('Días', fontsize=20)\n",
        "    plt.ylabel('Cantidad de Transacciones', fontsize=20)\n",
        "    plt.show()\n",
        "    "
      ],
      "execution_count": 38,
      "outputs": [
        {
          "output_type": "display_data",
          "data": {
            "application/vnd.jupyter.widget-view+json": {
              "model_id": "8d5b864b3f7843af94df5b7de2ce76de",
              "version_minor": 0,
              "version_major": 2
            },
            "text/plain": [
              "interactive(children=(Checkbox(value=True, description='Archivo'), IntSlider(value=15, description='Input_feat…"
            ]
          },
          "metadata": {
            "tags": []
          }
        }
      ]
    },
    {
      "cell_type": "code",
      "metadata": {
        "id": "bNuM_jSE4_4-"
      },
      "source": [
        ""
      ],
      "execution_count": 38,
      "outputs": []
    }
  ]
}